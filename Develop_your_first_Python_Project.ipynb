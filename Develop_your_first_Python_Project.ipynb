{
  "cells": [
    {
      "cell_type": "markdown",
      "metadata": {
        "id": "view-in-github",
        "colab_type": "text"
      },
      "source": [
        "<a href=\"https://colab.research.google.com/github/ustab/GUIDED_PROJECTS_STUDIES/blob/main/Develop_your_first_Python_Project.ipynb\" target=\"_parent\"><img src=\"https://colab.research.google.com/assets/colab-badge.svg\" alt=\"Open In Colab\"/></a>"
      ]
    },
    {
      "cell_type": "markdown",
      "source": [],
      "metadata": {
        "id": "GYxyk40QOzwR"
      }
    },
    {
      "cell_type": "markdown",
      "source": [
        "This hands on project has been applied  under the guidance of the instructer, *Ryan is a Stanford Certified Project Manager (SCPM), certified Professional Engineer (P.Eng.) in Ontario, a member of the Society of Automotive Engineers (SAE), and a member of the Institute of Electrical and Electronics Engineers (IEEE). He is also the program Co-Chair at the 2017 IEEE Transportation and Electrification Conference (iTEC’17) in Chicago, IL, USA.*\n",
        "please click the link for verifying my certificate on this project:\n"
      ],
      "metadata": {
        "id": "16qVeWuvO0yu"
      }
    },
    {
      "cell_type": "markdown",
      "source": [
        "https://coursera.org/verify/WTBM595SHAPQ"
      ],
      "metadata": {
        "id": "GKyoPYX2SHBJ"
      }
    },
    {
      "cell_type": "markdown",
      "metadata": {
        "id": "lsCfJJEkkqGQ"
      },
      "source": [
        "# TASK #2: PERFORM MATH OPERATIONS IN PYTHON"
      ]
    },
    {
      "cell_type": "code",
      "execution_count": 4,
      "metadata": {
        "id": "vxspxvj2qTrx"
      },
      "outputs": [],
      "source": [
        "# Define a variable named i and initialize it with 20 \n",
        "# Let's assume that we want to increment the value by 4 \n",
        "i=20\n",
        "i=i+4"
      ]
    },
    {
      "cell_type": "code",
      "source": [
        "i"
      ],
      "metadata": {
        "colab": {
          "base_uri": "https://localhost:8080/"
        },
        "id": "pWOi8epLsQc8",
        "outputId": "4ecdf6a4-5707-4eda-aaf2-795d13eb04d1"
      },
      "execution_count": 5,
      "outputs": [
        {
          "output_type": "execute_result",
          "data": {
            "text/plain": [
              "24"
            ]
          },
          "metadata": {},
          "execution_count": 5
        }
      ]
    },
    {
      "cell_type": "code",
      "execution_count": 6,
      "metadata": {
        "id": "zkO001-qcZc3"
      },
      "outputs": [],
      "source": [
        "# Let's assume that you own a little grocery store \n",
        "# The price of 1 bottle of milk is $3 and we currently have 50 bottles\n",
        "# We can calculate the total dollar value of our inventory as follows:\n",
        "count=50\n",
        "price=3\n",
        "inventory=count*price"
      ]
    },
    {
      "cell_type": "code",
      "source": [
        "inventory"
      ],
      "metadata": {
        "colab": {
          "base_uri": "https://localhost:8080/"
        },
        "id": "PorRz4GHs4Nd",
        "outputId": "88984edf-7945-4920-91e4-4d8c0de62ef0"
      },
      "execution_count": 7,
      "outputs": [
        {
          "output_type": "execute_result",
          "data": {
            "text/plain": [
              "150"
            ]
          },
          "metadata": {},
          "execution_count": 7
        }
      ]
    },
    {
      "cell_type": "markdown",
      "metadata": {
        "id": "8UaT7FRdNnCQ"
      },
      "source": [
        "MINI CHALLENGE #2:\n",
        "- Write a code that takes in APPLE (AAPL) stock prices at two days and calculate the return:\n",
        "  - AAPL price on day 1 = \\$135\n",
        "  - AAPL price on day 2 = \\$150\n"
      ]
    },
    {
      "cell_type": "code",
      "execution_count": 11,
      "metadata": {
        "colab": {
          "base_uri": "https://localhost:8080/"
        },
        "id": "j-A7DoV0miAU",
        "outputId": "0255993c-2bd2-496b-bc4c-531e361e7b21"
      },
      "outputs": [
        {
          "output_type": "execute_result",
          "data": {
            "text/plain": [
              "11.11111111111111"
            ]
          },
          "metadata": {},
          "execution_count": 11
        }
      ],
      "source": [
        "AAPL_price_1 = 135\n",
        "AAPL_price_2 = 150\n",
        "\n",
        "price_diff = AAPL_price_2 - AAPL_price_1\n",
        "percentage_change = price_diff / AAPL_price_1 * 100\n",
        "\n",
        "percentage_change"
      ]
    },
    {
      "cell_type": "markdown",
      "metadata": {
        "id": "7zzJ2pPPkE-b"
      },
      "source": [
        "# TASK #3: UNDERSTAND PRINT AND INPUT OPERATIONS"
      ]
    },
    {
      "cell_type": "markdown",
      "metadata": {
        "id": "dhgUBfvAmiAW"
      },
      "source": [
        "MINI CHALLENGE #3:\n",
        "- Write a code that takes in the name of the stock, price at which it is selling, the number of stocks that you want to own and prints out the total funds required to buy this stock. Find a sample expected output below:\n",
        "  - Enter the price of the stock you want to buy: 3000  \n",
        "  - Enter the number of stocks that you want to buy: 5\n",
        "  - Enter the name of the stock that you want to buy: AMZN\n",
        "  - The total funds required to buy 5 number of AMZN stocks at 3000 is: 15000\n"
      ]
    },
    {
      "cell_type": "code",
      "execution_count": 12,
      "metadata": {
        "colab": {
          "base_uri": "https://localhost:8080/"
        },
        "id": "Ii43MEUQmiAW",
        "outputId": "44c4135a-239e-456e-c171-83714cc0b0b2"
      },
      "outputs": [
        {
          "output_type": "stream",
          "name": "stdout",
          "text": [
            "Enter the price of the stock you want to buy: 67\n",
            "Enter the number of stocks that you want to buy: 90\n",
            "Enter the name of the stock that you want to buy: 67\n",
            "The total funds required to buy 90 number of 67 stocks at 67 is 6030\n"
          ]
        }
      ],
      "source": [
        "x = input(\"Enter the price of the stock you want to buy: \")\n",
        "x = int(x)\n",
        "y = input(\"Enter the number of stocks that you want to buy: \")\n",
        "y = int(y)\n",
        "z = input(\"Enter the name of the stock that you want to buy: \")\n",
        "print('The total funds required to buy {} number of {} stocks at {} is {}'.format(y,z,x, x*y)) \n"
      ]
    },
    {
      "cell_type": "markdown",
      "metadata": {
        "id": "jRpAjk79miAW"
      },
      "source": [
        "# TASK #4: UNDERSTAND LISTS DATA TYPES"
      ]
    },
    {
      "cell_type": "markdown",
      "metadata": {
        "id": "YEWoMJWimiAW"
      },
      "source": [
        "MINI CHALLENGE #4:\n",
        "- Print the first, second and last element in the list below\n",
        "\n",
        "```\n",
        "grocery_list = ['milk', 'rice', 'eggs', 'bread', 'oranges', 'water']\n",
        "\n",
        "```\n",
        "\n"
      ]
    },
    {
      "cell_type": "code",
      "execution_count": 13,
      "metadata": {
        "colab": {
          "base_uri": "https://localhost:8080/"
        },
        "id": "eEAox0upmiAW",
        "outputId": "a73e2380-78c8-4780-cac9-9a9ebf28d8d1"
      },
      "outputs": [
        {
          "output_type": "stream",
          "name": "stdout",
          "text": [
            "milk\n",
            "rice\n",
            "water\n"
          ]
        }
      ],
      "source": [
        "grocery_list = ['milk', 'rice', 'eggs', 'bread', 'oranges', 'water']\n",
        "print(grocery_list[0])\n",
        "print(grocery_list[1])\n",
        "print(grocery_list[-1])"
      ]
    },
    {
      "cell_type": "markdown",
      "metadata": {
        "id": "bYeYv-u0miAX"
      },
      "source": [
        "# TASK #5: UNDERSTAND COMPARISON OPERATORS AND CONDITIONAL STATEMENTS"
      ]
    },
    {
      "cell_type": "markdown",
      "metadata": {
        "id": "Fpfr9tdtmiAX"
      },
      "source": [
        "- A simple if-else statement is written in Python as follows:\n",
        "\n",
        "```\n",
        "if condition:\n",
        "  statement #1\n",
        "else:\n",
        "  statement #2\n",
        "```\n",
        "\n",
        "- If the condition is true, execute the first indented statement\n",
        "- if the condition is not true, then execute the else indented statements. \n",
        "- Note that Python uses indentation (whitespace) to indicate code sections and scope."
      ]
    },
    {
      "cell_type": "code",
      "execution_count": null,
      "metadata": {
        "id": "aVU9hxchmiAX"
      },
      "outputs": [],
      "source": [
        "# Let's take an input from the user and grant or deny access accordingly\n"
      ]
    },
    {
      "cell_type": "markdown",
      "metadata": {
        "id": "8t7MD8scmiAX"
      },
      "source": [
        "MINI CHALLENGE #5:\n",
        "- Write a code that takes a number from the user and indicates if it's positive or negative"
      ]
    },
    {
      "cell_type": "code",
      "source": [
        "x = int(input(\"Please enter an integer: \"))\n",
        "\n",
        "if x < 0:\n",
        "    print('Number is Negative')\n",
        "elif x > 0:\n",
        "    print('Number is Positive')\n",
        "else:    \n",
        "    print ('Number is zero')"
      ],
      "metadata": {
        "colab": {
          "base_uri": "https://localhost:8080/"
        },
        "id": "_jIMm4mAwNvM",
        "outputId": "d2b3833c-6c70-4cf7-f518-a5a6aeeb546d"
      },
      "execution_count": 14,
      "outputs": [
        {
          "output_type": "stream",
          "name": "stdout",
          "text": [
            "Please enter an integer: 12\n",
            "Number is Positive\n"
          ]
        }
      ]
    },
    {
      "cell_type": "markdown",
      "metadata": {
        "id": "oSE-r_igmiAX"
      },
      "source": [
        "# TASK #6: DEVELOP FUNCTIONS IN PYTHON"
      ]
    },
    {
      "cell_type": "code",
      "execution_count": null,
      "metadata": {
        "id": "BqHg68UcmiAX"
      },
      "outputs": [],
      "source": [
        "# Define a function that takes in two argument x and y and returns their multiplication \n"
      ]
    },
    {
      "cell_type": "code",
      "execution_count": null,
      "metadata": {
        "id": "yNPEIgX3miAY"
      },
      "outputs": [],
      "source": [
        "# Call the function\n"
      ]
    },
    {
      "cell_type": "markdown",
      "metadata": {
        "id": "O05t8Fn8miAY"
      },
      "source": [
        "MINI CHALLENGE #6:\n",
        "- Write a code that takes in three inputs from the user and calculate their sum"
      ]
    },
    {
      "cell_type": "code",
      "execution_count": 20,
      "metadata": {
        "colab": {
          "base_uri": "https://localhost:8080/"
        },
        "id": "RgL0K51AmiAY",
        "outputId": "0d3f21fa-7545-4c6c-8e8b-4703694ba69a"
      },
      "outputs": [
        {
          "output_type": "stream",
          "name": "stdout",
          "text": [
            "I own 400 shares of amazon\n"
          ]
        }
      ],
      "source": [
        "company_name='amazon'\n",
        "shares=400\n",
        "print('I own {} shares of {}'. format(shares, company_name))"
      ]
    },
    {
      "cell_type": "code",
      "source": [
        "company_name='amazon'\n",
        "shares='400'\n",
        "alma='cinema 789'\n",
        "print(' {}  {} {}'. format(shares, company_name, alma))"
      ],
      "metadata": {
        "colab": {
          "base_uri": "https://localhost:8080/"
        },
        "id": "g9yMZhiazjPB",
        "outputId": "efca04ea-3da2-44db-c7c2-5dbd88cd10bb"
      },
      "execution_count": 29,
      "outputs": [
        {
          "output_type": "stream",
          "name": "stdout",
          "text": [
            " 400  amazon cinema 789\n"
          ]
        }
      ]
    },
    {
      "cell_type": "markdown",
      "metadata": {
        "id": "CnDeg7ROmiAY"
      },
      "source": [
        "# TASK #8: CAPSTONE PROJECT"
      ]
    },
    {
      "cell_type": "markdown",
      "metadata": {
        "id": "E2WPLckgmiAY"
      },
      "source": [
        "Develop a guessing game that performs the following: \n",
        "- The system will automatically generate a random number between 1 and 100. \n",
        "- Users can insert any number between 1 and 100\n",
        "- The program shall be able to compare the number generated by the system and the number that has been entered by the user. The program shall print out one of the following options to help the user improve their next guess:\n",
        "    - You are right, great job!\n",
        "    - Your guess is low, try again!\n",
        "    - your guess is high, try again!\n",
        "\n",
        "- The program exits when the user guess matches the number generated by the system\n",
        "\n"
      ]
    },
    {
      "cell_type": "code",
      "execution_count": 1,
      "metadata": {
        "id": "YenbWOHnmiAY"
      },
      "outputs": [],
      "source": [
        "import random"
      ]
    },
    {
      "cell_type": "code",
      "execution_count": 2,
      "metadata": {
        "colab": {
          "base_uri": "https://localhost:8080/"
        },
        "id": "HUne87e6miAZ",
        "outputId": "4d29f243-bd32-4334-83a1-7cbabeebdcfe"
      },
      "outputs": [
        {
          "output_type": "execute_result",
          "data": {
            "text/plain": [
              "13"
            ]
          },
          "metadata": {},
          "execution_count": 2
        }
      ],
      "source": [
        "t_number=random.randint(1,100)\n",
        "t_number"
      ]
    },
    {
      "cell_type": "code",
      "execution_count": 3,
      "metadata": {
        "colab": {
          "base_uri": "https://localhost:8080/"
        },
        "id": "oDqTNnL6miAZ",
        "outputId": "f472e06b-0ccd-422c-9da4-f7ed16ba21b4"
      },
      "outputs": [
        {
          "name": "stdout",
          "output_type": "stream",
          "text": [
            "enter your guess between 1 and 100:11\n"
          ]
        },
        {
          "output_type": "execute_result",
          "data": {
            "text/plain": [
              "11"
            ]
          },
          "metadata": {},
          "execution_count": 3
        }
      ],
      "source": [
        "gues_num=int(input('enter your guess between 1 and 100:'))\n",
        "gues_num"
      ]
    },
    {
      "cell_type": "code",
      "source": [
        "while True:\n",
        "    if gues_num==t_number:\n",
        "       print('you are right')\n",
        "       break\n",
        "    elif gues_num < t_number:\n",
        "       print('your guess is low, try again')\n",
        "       gues_num=int(input('enter your guess between 1 and 100:'))\n",
        "    if gues_num > t_number:\n",
        "       print('your guess is high, try again')\n",
        "       gues_num=int(input('enter your guess between 1 and 100:'))"
      ],
      "metadata": {
        "colab": {
          "base_uri": "https://localhost:8080/"
        },
        "id": "ZEbfJqZCGEKO",
        "outputId": "706fe203-0dc5-4160-b634-5a84092b6a5f"
      },
      "execution_count": 4,
      "outputs": [
        {
          "output_type": "stream",
          "name": "stdout",
          "text": [
            "your guess is low, try again\n",
            "enter your guess between 1 and 100:13\n",
            "you are right\n"
          ]
        }
      ]
    },
    {
      "cell_type": "markdown",
      "metadata": {
        "id": "Jm-0XhPntGtK"
      },
      "source": [
        "# EXCELLENT JOB"
      ]
    },
    {
      "cell_type": "markdown",
      "metadata": {
        "id": "_wuaDbzWm-i8"
      },
      "source": [
        "# MINI CHALLENGES SOLUTIONS"
      ]
    },
    {
      "cell_type": "markdown",
      "metadata": {
        "id": "Xq-Y8OW0nG8O"
      },
      "source": [
        "MINI CHALLENGE #1 SOLUTION:\n",
        "- We defined a variable x and we assigned these 4 values listed below to it. Without executing any code cells, what will these lines of code generate?\n",
        "- Verify your answer by executing the code cells\n",
        "\n",
        "```\n",
        "z = 1000\n",
        "z = 2000\n",
        "z = 5000\n",
        "z = 6000\n",
        "z\n",
        "```"
      ]
    },
    {
      "cell_type": "code",
      "execution_count": null,
      "metadata": {
        "id": "R_CHNPWbnAf0"
      },
      "outputs": [],
      "source": [
        "# The output of this code is 5000\n",
        "# Initially we put 1000 in z, then we overwrite it by placing 2000 in z, and then 5000 in z & finally 6000 in z\n",
        "z = 1000\n",
        "z = 2000\n",
        "z = 5000\n",
        "z = 6000\n",
        "z"
      ]
    },
    {
      "cell_type": "markdown",
      "metadata": {
        "id": "kfyhdekfaUnr"
      },
      "source": [
        "MINI CHALLENGE #2 SOLUTION:\n",
        "- Write a code that takes in APPLE (AAPL) stock prices at two days and calculate the return:\n",
        "  - AAPL price on day 1 = \\$135\n",
        "  - AAPL price on day 2 = \\$150\n"
      ]
    },
    {
      "cell_type": "code",
      "execution_count": null,
      "metadata": {
        "id": "SUdMEr51Y0cR"
      },
      "outputs": [],
      "source": [
        "AAPL_price_1 = 135\n",
        "AAPL_price_2 = 150\n",
        "\n",
        "price_diff = AAPL_price_2 - AAPL_price_1\n",
        "percentage_change = price_diff / AAPL_price_1 * 100\n",
        "\n",
        "percentage_change"
      ]
    },
    {
      "cell_type": "markdown",
      "metadata": {
        "id": "IRwqQTStmiAZ"
      },
      "source": [
        "MINI CHALLENGE #3 SOLUTION:\n",
        "- Write a code that takes in the name of the stock, price at which it is selling, the number of stocks that you want to own and prints out the total funds required to buy this stock. Find a sample expected output below:\n",
        "  - Enter the price of the stock you want to buy: 3000  \n",
        "  - Enter the number of stocks that you want to buy: 5\n",
        "  - Enter the name of the stock that you want to buy: AMZN\n",
        "  - The total funds required to buy 5 number of AMZN stocks at 3000 is: 15000"
      ]
    },
    {
      "cell_type": "code",
      "execution_count": 8,
      "metadata": {
        "colab": {
          "base_uri": "https://localhost:8080/"
        },
        "id": "BptfBusrmiAZ",
        "outputId": "3c0f4a1d-e008-4dab-d117-fa116de19b2a"
      },
      "outputs": [
        {
          "output_type": "stream",
          "name": "stdout",
          "text": [
            "Enter the price of the stock you want to buy: 10\n",
            "Enter the number of stocks that you want to buy: 20\n",
            "Enter the name of the stock that you want to buy: 30\n",
            "The total funds required to buy 20 number of 30 stocks at 10 is 200\n"
          ]
        }
      ],
      "source": [
        "x = input(\"Enter the price of the stock you want to buy: \")\n",
        "x = int(x)\n",
        "y = input(\"Enter the number of stocks that you want to buy: \")\n",
        "y = int(y)\n",
        "z = input(\"Enter the name of the stock that you want to buy: \")\n",
        "print('The total funds required to buy {} number of {} stocks at {} is {}'.format(y,z,x, x*y)) "
      ]
    },
    {
      "cell_type": "markdown",
      "metadata": {
        "id": "84KTZlm5miAZ"
      },
      "source": [
        "MINI CHALLENGE #4 SOLUTION:\n",
        "- Print the first, second and last element in the list below\n",
        "\n",
        "```\n",
        "grocery_list = ['milk', 'rice', 'eggs', 'bread', 'oranges', 'water']\n",
        "\n",
        "```\n"
      ]
    },
    {
      "cell_type": "code",
      "execution_count": 9,
      "metadata": {
        "colab": {
          "base_uri": "https://localhost:8080/"
        },
        "id": "MUnEHbjPmiAa",
        "outputId": "64054a65-e0da-4d5e-ffa2-02a08de12040"
      },
      "outputs": [
        {
          "output_type": "stream",
          "name": "stdout",
          "text": [
            "milk\n",
            "rice\n",
            "water\n"
          ]
        }
      ],
      "source": [
        "grocery_list = ['milk', 'rice', 'eggs', 'bread', 'oranges', 'water']\n",
        "print(grocery_list[0])\n",
        "print(grocery_list[1])\n",
        "print(grocery_list[-1])"
      ]
    },
    {
      "cell_type": "markdown",
      "metadata": {
        "id": "KXadiMZgmiAa"
      },
      "source": [
        "MINI CHALLENGE #5 SOLUTION:\n",
        "- Write a code that takes a number from the user and indicates if it's positive or negative"
      ]
    },
    {
      "cell_type": "code",
      "execution_count": 10,
      "metadata": {
        "colab": {
          "base_uri": "https://localhost:8080/"
        },
        "id": "R4qImq4RmiAa",
        "outputId": "dabc58f0-1122-4bbf-852c-b1c4c1ca7329"
      },
      "outputs": [
        {
          "output_type": "stream",
          "name": "stdout",
          "text": [
            "Please enter an integer: 45\n",
            "Number is Positive\n"
          ]
        }
      ],
      "source": [
        "x = int(input(\"Please enter an integer: \"))\n",
        "\n",
        "if x < 0:\n",
        "    print('Number is Negative')\n",
        "elif x > 0:\n",
        "    print('Number is Positive')\n",
        "else:    \n",
        "    print ('Number is zero')"
      ]
    },
    {
      "cell_type": "markdown",
      "metadata": {
        "id": "f3AnyZCmmiAa"
      },
      "source": [
        "MINI CHALLENGE #6 SOLUTION:\n",
        "- Write a code that takes in three inputs from the user and calculate their sum"
      ]
    },
    {
      "cell_type": "code",
      "execution_count": null,
      "metadata": {
        "id": "tVrBttwjmiAa"
      },
      "outputs": [],
      "source": [
        "def summation(x, y, z):\n",
        "    return x + y + z"
      ]
    },
    {
      "cell_type": "code",
      "execution_count": null,
      "metadata": {
        "id": "ohrInrvymiAa"
      },
      "outputs": [],
      "source": [
        "num1 = int(input(\"Enter the first number: \"))\n",
        "num2 = int(input(\"Enter the second number: \"))\n",
        "num3 = int(input(\"Enter the third number: \"))\n",
        "\n",
        "total = summation(num1, num2, num3)\n",
        "\n",
        "print('Total balance = {}'.format(total))"
      ]
    },
    {
      "cell_type": "markdown",
      "metadata": {
        "id": "h7Lc5HNtmiAa"
      },
      "source": [
        "MINI CHALLENGE #7 SOLUTION:\n",
        "- Write a code that displays numbers from 1 to 10 using for and while loops"
      ]
    },
    {
      "cell_type": "code",
      "execution_count": null,
      "metadata": {
        "id": "xpjCS7xumiAa"
      },
      "outputs": [],
      "source": [
        "i = 1\n",
        "while (i < 11):\n",
        "  print (i)\n",
        "  i = i+1"
      ]
    },
    {
      "cell_type": "code",
      "execution_count": null,
      "metadata": {
        "id": "rRc-BSblmiAa"
      },
      "outputs": [],
      "source": [
        "for i in range(1, 11):\n",
        "    print(i)"
      ]
    },
    {
      "cell_type": "code",
      "execution_count": null,
      "metadata": {
        "id": "sWviA9zHmiAa"
      },
      "outputs": [],
      "source": []
    }
  ],
  "metadata": {
    "colab": {
      "collapsed_sections": [],
      "provenance": [],
      "include_colab_link": true
    },
    "kernelspec": {
      "display_name": "Python 3",
      "language": "python",
      "name": "python3"
    },
    "language_info": {
      "codemirror_mode": {
        "name": "ipython",
        "version": 3
      },
      "file_extension": ".py",
      "mimetype": "text/x-python",
      "name": "python",
      "nbconvert_exporter": "python",
      "pygments_lexer": "ipython3",
      "version": "3.7.0"
    }
  },
  "nbformat": 4,
  "nbformat_minor": 0
}