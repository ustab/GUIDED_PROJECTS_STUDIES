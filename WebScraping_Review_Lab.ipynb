{
  "cells": [
    {
      "cell_type": "markdown",
      "metadata": {
        "id": "sJ30kaOL-4lw"
      },
      "source": [
        "<p style=\"text-align:center\">\n",
        "    <a href=\"https://skills.network/?utm_medium=Exinfluencer&utm_source=Exinfluencer&utm_content=000026UJ&utm_term=10006555&utm_id=NA-SkillsNetwork-Channel-SkillsNetworkCoursesIBMDeveloperSkillsNetworkPY0220ENSkillsNetwork23455606-2022-01-01\" target=\"_blank\">\n",
        "    <img src=\"https://cf-courses-data.s3.us.cloud-object-storage.appdomain.cloud/assets/logos/SN_web_lightmode.png\" width=\"200\" alt=\"Skills Network Logo\"  />\n",
        "    </a>\n",
        "</p>\n"
      ]
    },
    {
      "cell_type": "markdown",
      "metadata": {
        "id": "5S_jy72K-4l2"
      },
      "source": [
        "# **Web Scraping Lab**\n"
      ]
    },
    {
      "cell_type": "markdown",
      "metadata": {
        "id": "7F1THemt-4l2"
      },
      "source": [
        "Estimated time needed: **30** minutes\n"
      ]
    },
    {
      "cell_type": "markdown",
      "metadata": {
        "id": "xaiQ5h08-4l2"
      },
      "source": [
        "## Objectives\n"
      ]
    },
    {
      "cell_type": "markdown",
      "metadata": {
        "id": "sqTaqV7X-4l3"
      },
      "source": [
        "After completing this lab you will be able to:\n"
      ]
    },
    {
      "cell_type": "markdown",
      "metadata": {
        "id": "YiKzCN1t-4l3"
      },
      "source": [
        "<h2>Table of Contents</h2>\n",
        "<div class=\"alert alert-block alert-info\" style=\"margin-top: 20px\">\n",
        "    <ul>\n",
        "        <li>\n",
        "            <a href=\"https://bso/?utm_medium=Exinfluencer&utm_source=Exinfluencer&utm_content=000026UJ&utm_term=10006555&utm_id=NA-SkillsNetwork-Channel-SkillsNetworkCoursesIBMDeveloperSkillsNetworkPY0220ENSkillsNetwork23455606-2021-01-01\">Beautiful Soup Object</a>\n",
        "            <ul>\n",
        "                <li>Tag</li>\n",
        "                <li>Children, Parents, and Siblings</li>\n",
        "                <li>HTML Attributes</li>\n",
        "                <li>Navigable String</li>\n",
        "            </ul>\n",
        "        </li>\n",
        "     </ul>\n",
        "    <ul>\n",
        "        <li>\n",
        "            <a href=\"https://filter/?utm_medium=Exinfluencer&utm_source=Exinfluencer&utm_content=000026UJ&utm_term=10006555&utm_id=NA-SkillsNetwork-Channel-SkillsNetworkCoursesIBMDeveloperSkillsNetworkPY0220ENSkillsNetwork23455606-2021-01-01\">Filter</a>\n",
        "            <ul>\n",
        "                <li>find All</li>\n",
        "                <li>find </li>\n",
        "                <li>HTML Attributes</li>\n",
        "                <li>Navigable String</li>\n",
        "            </ul>\n",
        "        </li>\n",
        "     </ul>\n",
        "     <ul>\n",
        "        <li>\n",
        "            <a href=\"https://dscw/?utm_medium=Exinfluencer&utm_source=Exinfluencer&utm_content=000026UJ&utm_term=10006555&utm_id=NA-SkillsNetwork-Channel-SkillsNetworkCoursesIBMDeveloperSkillsNetworkPY0220ENSkillsNetwork23455606-2021-01-01\">Downloading And Scraping The Contents Of A Web</a>\n",
        "    </li>\n",
        "         </ul>\n",
        "    <p>\n",
        "        Estimated time needed: <strong>25 min</strong>\n",
        "    </p>\n",
        "\n",
        "</div>\n",
        "\n",
        "<hr>\n"
      ]
    },
    {
      "cell_type": "markdown",
      "metadata": {
        "id": "SzbA9Vjq-4l4"
      },
      "source": [
        "For this lab, we are going to be using Python and several Python libraries. Some of these libraries might be installed in your lab environment or in SN Labs. Others may need to be installed by you. The cells below will install these libraries when executed.\n"
      ]
    },
    {
      "cell_type": "code",
      "execution_count": 1,
      "metadata": {
        "colab": {
          "base_uri": "https://localhost:8080/"
        },
        "id": "qCgUl9PV-4l4",
        "outputId": "43ce1638-783e-40aa-ce6c-41ee62be82b7"
      },
      "outputs": [
        {
          "output_type": "stream",
          "name": "stdout",
          "text": [
            "/bin/bash: mamba: command not found\n",
            "Looking in indexes: https://pypi.org/simple, https://us-python.pkg.dev/colab-wheels/public/simple/\n",
            "Collecting lxml==4.6.4\n",
            "  Downloading lxml-4.6.4-cp37-cp37m-manylinux_2_17_x86_64.manylinux2014_x86_64.manylinux_2_24_x86_64.whl (6.3 MB)\n",
            "\u001b[K     |████████████████████████████████| 6.3 MB 4.7 MB/s \n",
            "\u001b[?25hInstalling collected packages: lxml\n",
            "  Attempting uninstall: lxml\n",
            "    Found existing installation: lxml 4.9.1\n",
            "    Uninstalling lxml-4.9.1:\n",
            "      Successfully uninstalled lxml-4.9.1\n",
            "Successfully installed lxml-4.6.4\n",
            "/bin/bash: mamba: command not found\n"
          ]
        }
      ],
      "source": [
        "!mamba install bs4==4.10.0 -y\n",
        "!pip install lxml==4.6.4\n",
        "!mamba install html5lib==1.1 -y\n",
        "# !pip install requests==2.26.0"
      ]
    },
    {
      "cell_type": "markdown",
      "metadata": {
        "id": "CZfunDxp-4l5"
      },
      "source": [
        "Import the required modules and functions\n"
      ]
    },
    {
      "cell_type": "code",
      "execution_count": 2,
      "metadata": {
        "id": "ru1_J9bs-4l5"
      },
      "outputs": [],
      "source": [
        "from bs4 import BeautifulSoup # this module helps in web scrapping.\n",
        "import requests  # this module helps us to download a web page"
      ]
    },
    {
      "cell_type": "markdown",
      "metadata": {
        "id": "l8NcXMVG-4l5"
      },
      "source": [
        "<h2 id=\"BSO\">Beautiful Soup Objects</h2>\n"
      ]
    },
    {
      "cell_type": "markdown",
      "metadata": {
        "id": "CeZOlC0N-4l6"
      },
      "source": [
        "Beautiful Soup is a Python library for pulling data out of HTML and XML files, we will focus on HTML files. This is accomplished by representing the HTML as a set of objects with methods used to parse the HTML.  We can navigate the HTML as a tree and/or filter out what we are looking for.\n",
        "\n",
        "Consider the following HTML:\n"
      ]
    },
    {
      "cell_type": "code",
      "execution_count": 4,
      "metadata": {
        "colab": {
          "base_uri": "https://localhost:8080/",
          "height": 203
        },
        "id": "bOVvGK2T-4l6",
        "outputId": "e26b6b2d-735b-4875-92b4-b858e20dd495"
      },
      "outputs": [
        {
          "output_type": "display_data",
          "data": {
            "text/plain": [
              "<IPython.core.display.HTML object>"
            ],
            "text/html": [
              "<!DOCTYPE html>\n",
              "<html>\n",
              "<head>\n",
              "<title>NIZAMIYE HOSPITAL STAFF SALARY LIST</title>\n",
              "</head>\n",
              "<body>\n",
              "<h3><b id='boldest'>Burhanettin Usta</b></h3>\n",
              "<p> Salary: $ 92,000,000 </p>\n",
              "<h3> Lokman Cam</h3>\n",
              "<p> Salary: $85,000, 000 </p>\n",
              "<h3> Kevin Durant </h3>\n",
              "<p> Salary: $73,200, 000</p>\n",
              "</body>\n",
              "</html>"
            ]
          },
          "metadata": {}
        }
      ],
      "source": [
        "%%html\n",
        "<!DOCTYPE html>\n",
        "<html>\n",
        "<head>\n",
        "<title>NIZAMIYE HOSPITAL STAFF SALARY LIST</title>\n",
        "</head>\n",
        "<body>\n",
        "<h3><b id='boldest'>Burhanettin Usta</b></h3>\n",
        "<p> Salary: $ 92,000,000 </p>\n",
        "<h3> Lokman Cam</h3>\n",
        "<p> Salary: $85,000, 000 </p>\n",
        "<h3> Kevin Durant </h3>\n",
        "<p> Salary: $73,200, 000</p>\n",
        "</body>\n",
        "</html>"
      ]
    },
    {
      "cell_type": "markdown",
      "metadata": {
        "id": "ukqsxAe6-4l6"
      },
      "source": [
        "We can store it as a string in the variable HTML:\n"
      ]
    },
    {
      "cell_type": "code",
      "execution_count": 5,
      "metadata": {
        "id": "LAT0LhLp-4l6"
      },
      "outputs": [],
      "source": [
        "html=\"<!DOCTYPE html><html><head><title>Page Title</title></head><body><h3><b id='boldest'>BURHANETTIN USTA</b></h3><p> Salary: $ 92,000,000 </p><h3> LOKMAN CAM </h3><p> Salary: $85,000, 000 </p><h3> Kevin Durant </h3><p> Salary: $73,200, 000</p></body></html>\""
      ]
    },
    {
      "cell_type": "markdown",
      "metadata": {
        "id": "QMen2gYE-4l7"
      },
      "source": [
        "To parse a document, pass it into the <code>BeautifulSoup</code> constructor, the <code>BeautifulSoup</code> object, which represents the document as a nested data structure:\n"
      ]
    },
    {
      "cell_type": "code",
      "execution_count": 6,
      "metadata": {
        "id": "pwtLtaRn-4l7"
      },
      "outputs": [],
      "source": [
        "soup = BeautifulSoup(html, \"html.parser\")"
      ]
    },
    {
      "cell_type": "markdown",
      "metadata": {
        "id": "lkz28iLM-4l7"
      },
      "source": [
        "First, the document is converted to Unicode, (similar to ASCII),  and HTML entities are converted to Unicode characters. Beautiful Soup transforms a complex HTML document into a complex tree of Python objects. The <code>BeautifulSoup</code> object can create other types of objects. In this lab, we will cover <code>BeautifulSoup</code> and <code>Tag</code> objects that for the purposes of this lab are identical, and <code>NavigableString</code> objects.\n"
      ]
    },
    {
      "cell_type": "markdown",
      "metadata": {
        "id": "dlXe_T7e-4l7"
      },
      "source": [
        "We can use the method <code>prettify()</code> to display the HTML in the nested structure:\n"
      ]
    },
    {
      "cell_type": "code",
      "execution_count": 7,
      "metadata": {
        "colab": {
          "base_uri": "https://localhost:8080/"
        },
        "id": "sL4KAJuV-4l7",
        "outputId": "705551d5-a358-4549-9238-b51404c7b3d2"
      },
      "outputs": [
        {
          "output_type": "stream",
          "name": "stdout",
          "text": [
            "<!DOCTYPE html>\n",
            "<html>\n",
            " <head>\n",
            "  <title>\n",
            "   Page Title\n",
            "  </title>\n",
            " </head>\n",
            " <body>\n",
            "  <h3>\n",
            "   <b id=\"boldest\">\n",
            "    BURHANETTIN USTA\n",
            "   </b>\n",
            "  </h3>\n",
            "  <p>\n",
            "   Salary: $ 92,000,000\n",
            "  </p>\n",
            "  <h3>\n",
            "   LOKMAN CAM\n",
            "  </h3>\n",
            "  <p>\n",
            "   Salary: $85,000, 000\n",
            "  </p>\n",
            "  <h3>\n",
            "   Kevin Durant\n",
            "  </h3>\n",
            "  <p>\n",
            "   Salary: $73,200, 000\n",
            "  </p>\n",
            " </body>\n",
            "</html>\n"
          ]
        }
      ],
      "source": [
        "print(soup.prettify())"
      ]
    },
    {
      "cell_type": "markdown",
      "metadata": {
        "id": "RV3qmR3T-4l7"
      },
      "source": [
        "## Tags\n"
      ]
    },
    {
      "cell_type": "markdown",
      "metadata": {
        "id": "bDcILIJU-4l7"
      },
      "source": [
        "Let's say we want the  title of the page and the name of the top paid player we can use the <code>Tag</code>. The <code>Tag</code> object corresponds to an HTML tag in the original document, for example, the tag title.\n"
      ]
    },
    {
      "cell_type": "markdown",
      "source": [
        ""
      ],
      "metadata": {
        "id": "KlgMB7sbAi84"
      }
    },
    {
      "cell_type": "code",
      "execution_count": 13,
      "metadata": {
        "colab": {
          "base_uri": "https://localhost:8080/"
        },
        "id": "WQTOgSi3-4l7",
        "outputId": "8cd5801d-8a68-4b34-cdba-1b223b3fae64"
      },
      "outputs": [
        {
          "output_type": "stream",
          "name": "stdout",
          "text": [
            "tag object: <title>Page Title</title>\n"
          ]
        }
      ],
      "source": [
        "tag_object=soup.title\n",
        "print(\"tag object:\",tag_object)"
      ]
    },
    {
      "cell_type": "code",
      "source": [
        "tag_object"
      ],
      "metadata": {
        "colab": {
          "base_uri": "https://localhost:8080/"
        },
        "id": "4X8ilzgoAI1-",
        "outputId": "bc013e73-5d64-4192-e101-d9aea98526c7"
      },
      "execution_count": 9,
      "outputs": [
        {
          "output_type": "execute_result",
          "data": {
            "text/plain": [
              "<title>Page Title</title>"
            ]
          },
          "metadata": {},
          "execution_count": 9
        }
      ]
    },
    {
      "cell_type": "markdown",
      "metadata": {
        "id": "G5vrsP8p-4l8"
      },
      "source": [
        "we can see the tag type <code>bs4.element.Tag</code>\n"
      ]
    },
    {
      "cell_type": "code",
      "execution_count": 14,
      "metadata": {
        "colab": {
          "base_uri": "https://localhost:8080/"
        },
        "id": "kAQ43d0h-4l8",
        "outputId": "7aec36c4-108e-4217-babc-58d789669646"
      },
      "outputs": [
        {
          "output_type": "stream",
          "name": "stdout",
          "text": [
            "tag object type: <class 'bs4.element.Tag'>\n"
          ]
        }
      ],
      "source": [
        "print(\"tag object type:\",type(tag_object))"
      ]
    },
    {
      "cell_type": "markdown",
      "metadata": {
        "id": "Fdfmft88-4l8"
      },
      "source": [
        "If there is more than one <code>Tag</code>  with the same name, the first element with that <code>Tag</code> name is called, this corresponds to the most paid player:\n"
      ]
    },
    {
      "cell_type": "code",
      "execution_count": 19,
      "metadata": {
        "colab": {
          "base_uri": "https://localhost:8080/"
        },
        "id": "FUVRfP13-4l8",
        "outputId": "b30430aa-b982-49e9-89a8-2e9db7321e6d"
      },
      "outputs": [
        {
          "output_type": "execute_result",
          "data": {
            "text/plain": [
              "<h3><b id=\"boldest\">BURHANETTIN USTA</b></h3>"
            ]
          },
          "metadata": {},
          "execution_count": 19
        }
      ],
      "source": [
        "tag_object=soup.h3\n",
        "tag_object"
      ]
    },
    {
      "cell_type": "markdown",
      "metadata": {
        "id": "PPyG36m0-4l8"
      },
      "source": [
        "Enclosed in the bold attribute <code>b</code>, it helps to use the tree representation. We can navigate down the tree using the child attribute to get the name.\n"
      ]
    },
    {
      "cell_type": "markdown",
      "metadata": {
        "id": "ZlNW0UQ4-4l8"
      },
      "source": [
        "### Children, Parents, and Siblings\n"
      ]
    },
    {
      "cell_type": "markdown",
      "metadata": {
        "id": "Ei_tvFbI-4l8"
      },
      "source": [
        "As stated above the <code>Tag</code> object is a tree of objects we can access the child of the tag or navigate down the branch as follows:\n"
      ]
    },
    {
      "cell_type": "code",
      "execution_count": 20,
      "metadata": {
        "colab": {
          "base_uri": "https://localhost:8080/"
        },
        "id": "gfFZXKjf-4l8",
        "outputId": "c80c01fd-3f5f-492c-f98f-0383b9fe502d"
      },
      "outputs": [
        {
          "output_type": "execute_result",
          "data": {
            "text/plain": [
              "<b id=\"boldest\">BURHANETTIN USTA</b>"
            ]
          },
          "metadata": {},
          "execution_count": 20
        }
      ],
      "source": [
        "tag_child =tag_object.b\n",
        "tag_child"
      ]
    },
    {
      "cell_type": "markdown",
      "metadata": {
        "id": "3fqEtqNw-4l8"
      },
      "source": [
        "You can access the parent with the <code> parent</code>\n"
      ]
    },
    {
      "cell_type": "code",
      "execution_count": 21,
      "metadata": {
        "colab": {
          "base_uri": "https://localhost:8080/"
        },
        "id": "HActatoo-4l9",
        "outputId": "bb361405-127a-482f-f0b6-846d73cf6691"
      },
      "outputs": [
        {
          "output_type": "execute_result",
          "data": {
            "text/plain": [
              "<h3><b id=\"boldest\">BURHANETTIN USTA</b></h3>"
            ]
          },
          "metadata": {},
          "execution_count": 21
        }
      ],
      "source": [
        "parent_tag=tag_child.parent\n",
        "parent_tag"
      ]
    },
    {
      "cell_type": "markdown",
      "metadata": {
        "id": "O81WevMs-4l9"
      },
      "source": [
        "this is identical to\n"
      ]
    },
    {
      "cell_type": "code",
      "execution_count": 22,
      "metadata": {
        "colab": {
          "base_uri": "https://localhost:8080/"
        },
        "id": "bAfJxfOj-4l9",
        "outputId": "d851f38b-c2f2-4752-e309-0bc12c5eea66"
      },
      "outputs": [
        {
          "output_type": "execute_result",
          "data": {
            "text/plain": [
              "<h3><b id=\"boldest\">BURHANETTIN USTA</b></h3>"
            ]
          },
          "metadata": {},
          "execution_count": 22
        }
      ],
      "source": [
        "tag_object"
      ]
    },
    {
      "cell_type": "markdown",
      "metadata": {
        "id": "CRpXaUgx-4l9"
      },
      "source": [
        "<code>tag_object</code> parent is the <code>body</code> element.\n"
      ]
    },
    {
      "cell_type": "code",
      "execution_count": 23,
      "metadata": {
        "colab": {
          "base_uri": "https://localhost:8080/"
        },
        "id": "71qaJ9F1-4l9",
        "outputId": "6b9cd648-ab42-4f2c-d08d-b88f0a6bf312"
      },
      "outputs": [
        {
          "output_type": "execute_result",
          "data": {
            "text/plain": [
              "<body><h3><b id=\"boldest\">BURHANETTIN USTA</b></h3><p> Salary: $ 92,000,000 </p><h3> LOKMAN CAM </h3><p> Salary: $85,000, 000 </p><h3> Kevin Durant </h3><p> Salary: $73,200, 000</p></body>"
            ]
          },
          "metadata": {},
          "execution_count": 23
        }
      ],
      "source": [
        "tag_object.parent"
      ]
    },
    {
      "cell_type": "markdown",
      "metadata": {
        "id": "UGO5V_4V-4l9"
      },
      "source": [
        "<code>tag_object</code> sibling is the <code>paragraph</code> element\n"
      ]
    },
    {
      "cell_type": "code",
      "execution_count": 24,
      "metadata": {
        "colab": {
          "base_uri": "https://localhost:8080/"
        },
        "id": "0I-6V3DQ-4l9",
        "outputId": "e76cd658-e67b-4bdf-a985-47dc6d41e7ca"
      },
      "outputs": [
        {
          "output_type": "execute_result",
          "data": {
            "text/plain": [
              "<p> Salary: $ 92,000,000 </p>"
            ]
          },
          "metadata": {},
          "execution_count": 24
        }
      ],
      "source": [
        "sibling_1=tag_object.next_sibling\n",
        "sibling_1"
      ]
    },
    {
      "cell_type": "markdown",
      "metadata": {
        "id": "lJLRmeH2-4l9"
      },
      "source": [
        "`sibling_2` is the `header` element which is also a sibling of both `sibling_1` and `tag_object`\n"
      ]
    },
    {
      "cell_type": "code",
      "execution_count": 25,
      "metadata": {
        "colab": {
          "base_uri": "https://localhost:8080/"
        },
        "id": "0LURy-V2-4l9",
        "outputId": "bb96b984-e423-4ce7-aa47-517263fd4121"
      },
      "outputs": [
        {
          "output_type": "execute_result",
          "data": {
            "text/plain": [
              "<h3> LOKMAN CAM </h3>"
            ]
          },
          "metadata": {},
          "execution_count": 25
        }
      ],
      "source": [
        "sibling_2=sibling_1.next_sibling\n",
        "sibling_2"
      ]
    },
    {
      "cell_type": "markdown",
      "metadata": {
        "id": "agO0vEx--4l-"
      },
      "source": [
        "<h3 id=\"first_question\">Exercise: <code>next_sibling</code></h3>\n"
      ]
    },
    {
      "cell_type": "markdown",
      "metadata": {
        "id": "Ffp3upjO-4l-"
      },
      "source": [
        "Using the object <code>sibling\\_2</code> and the property <code>next_sibling</code> to find the salary of Stephen Curry:\n"
      ]
    },
    {
      "cell_type": "code",
      "execution_count": 27,
      "metadata": {
        "colab": {
          "base_uri": "https://localhost:8080/"
        },
        "id": "nwVhQMU7-4l-",
        "outputId": "b4db3950-c5cb-484e-fa0a-4255a8dc4601"
      },
      "outputs": [
        {
          "output_type": "execute_result",
          "data": {
            "text/plain": [
              "<p> Salary: $85,000, 000 </p>"
            ]
          },
          "metadata": {},
          "execution_count": 27
        }
      ],
      "source": [
        "sibling_3=sibling_2.next_sibling \n",
        "sibling_3"
      ]
    },
    {
      "cell_type": "code",
      "source": [
        "#@title Default title text\n",
        "sibling_4=sibling_3.next_sibling \n",
        "sibling_4"
      ],
      "metadata": {
        "colab": {
          "base_uri": "https://localhost:8080/"
        },
        "id": "L-f4nh-KCI4C",
        "outputId": "a45f9d64-3cc5-4e59-ede1-c130de31e9a3"
      },
      "execution_count": 29,
      "outputs": [
        {
          "output_type": "execute_result",
          "data": {
            "text/plain": [
              "<h3> Kevin Durant </h3>"
            ]
          },
          "metadata": {},
          "execution_count": 29
        }
      ]
    },
    {
      "cell_type": "code",
      "source": [
        "sibling_5=sibling_4.next_sibling\n",
        "sibling_5"
      ],
      "metadata": {
        "colab": {
          "base_uri": "https://localhost:8080/"
        },
        "id": "N6v8sqsLCIvf",
        "outputId": "311c87c8-3656-4226-98fc-6a3b588f62b1"
      },
      "execution_count": 31,
      "outputs": [
        {
          "output_type": "execute_result",
          "data": {
            "text/plain": [
              "<p> Salary: $73,200, 000</p>"
            ]
          },
          "metadata": {},
          "execution_count": 31
        }
      ]
    },
    {
      "cell_type": "markdown",
      "metadata": {
        "id": "SxiB7zIW-4l-"
      },
      "source": [
        "<details><summary>Click here for the solution</summary>\n",
        "\n",
        "```\n",
        "sibling_2.next_sibling\n",
        "\n",
        "```\n",
        "\n",
        "</details>\n"
      ]
    },
    {
      "cell_type": "markdown",
      "metadata": {
        "id": "AcGv3MGt-4l-"
      },
      "source": [
        "### HTML Attributes\n"
      ]
    },
    {
      "cell_type": "markdown",
      "metadata": {
        "id": "mMoKBweC-4l-"
      },
      "source": [
        "If the tag has attributes, the tag <code>id=\"boldest\"</code> has an attribute <code>id</code> whose value is <code>boldest</code>. You can access a tag’s attributes by treating the tag like a dictionary:\n"
      ]
    },
    {
      "cell_type": "code",
      "execution_count": 36,
      "metadata": {
        "colab": {
          "base_uri": "https://localhost:8080/",
          "height": 36
        },
        "id": "PpQT086Z-4l-",
        "outputId": "9f9f81fb-103c-4ba5-bea0-6732c21dfd5f"
      },
      "outputs": [
        {
          "output_type": "execute_result",
          "data": {
            "text/plain": [
              "'boldest'"
            ],
            "application/vnd.google.colaboratory.intrinsic+json": {
              "type": "string"
            }
          },
          "metadata": {},
          "execution_count": 36
        }
      ],
      "source": [
        "tag_child['id']"
      ]
    },
    {
      "cell_type": "markdown",
      "metadata": {
        "id": "3zV_1j98-4l-"
      },
      "source": [
        "You can access that dictionary directly as <code>attrs</code>:\n"
      ]
    },
    {
      "cell_type": "code",
      "execution_count": 37,
      "metadata": {
        "colab": {
          "base_uri": "https://localhost:8080/"
        },
        "id": "u-R1QOm_-4l-",
        "outputId": "196c3461-f33e-44f6-9ccd-f17a609ef5ab"
      },
      "outputs": [
        {
          "output_type": "execute_result",
          "data": {
            "text/plain": [
              "{'id': 'boldest'}"
            ]
          },
          "metadata": {},
          "execution_count": 37
        }
      ],
      "source": [
        "tag_child.attrs"
      ]
    },
    {
      "cell_type": "markdown",
      "metadata": {
        "id": "yQVHr6xz-4l-"
      },
      "source": [
        "You can also work with Multi-valued attribute check out <a href=\"https://www.crummy.com/software/BeautifulSoup/bs4/doc/?utm_medium=Exinfluencer&utm_source=Exinfluencer&utm_content=000026UJ&utm_term=10006555&utm_id=NA-SkillsNetwork-Channel-SkillsNetworkCoursesIBMDeveloperSkillsNetworkPY0220ENSkillsNetwork23455606-2021-01-01\">\\[1]</a> for more.\n"
      ]
    },
    {
      "cell_type": "markdown",
      "metadata": {
        "id": "EyYVN4Sl-4l-"
      },
      "source": [
        "We can also obtain the content if the attribute of the <code>tag</code> using the Python <code>get()</code> method.\n"
      ]
    },
    {
      "cell_type": "code",
      "execution_count": 38,
      "metadata": {
        "colab": {
          "base_uri": "https://localhost:8080/",
          "height": 36
        },
        "id": "NOE_BTjg-4l-",
        "outputId": "1eb1c758-4748-49bd-c37b-89d19e4c0c51"
      },
      "outputs": [
        {
          "output_type": "execute_result",
          "data": {
            "text/plain": [
              "'boldest'"
            ],
            "application/vnd.google.colaboratory.intrinsic+json": {
              "type": "string"
            }
          },
          "metadata": {},
          "execution_count": 38
        }
      ],
      "source": [
        "tag_child.get('id')"
      ]
    },
    {
      "cell_type": "markdown",
      "metadata": {
        "id": "dHNHxZWL-4l_"
      },
      "source": [
        "### Navigable String\n"
      ]
    },
    {
      "cell_type": "markdown",
      "metadata": {
        "id": "NOr1Cx6D-4l_"
      },
      "source": [
        "A string corresponds to a bit of text or content within a tag. Beautiful Soup uses the <code>NavigableString</code> class to contain this text. In our HTML we can obtain the name of the first player by extracting the sting of the <code>Tag</code> object <code>tag_child</code> as follows:\n"
      ]
    },
    {
      "cell_type": "code",
      "execution_count": 39,
      "metadata": {
        "colab": {
          "base_uri": "https://localhost:8080/",
          "height": 36
        },
        "id": "1ct1JGjf-4l_",
        "outputId": "c120fbf8-3f80-4c2d-f71f-a931eeae2125"
      },
      "outputs": [
        {
          "output_type": "execute_result",
          "data": {
            "text/plain": [
              "'BURHANETTIN USTA'"
            ],
            "application/vnd.google.colaboratory.intrinsic+json": {
              "type": "string"
            }
          },
          "metadata": {},
          "execution_count": 39
        }
      ],
      "source": [
        "tag_string=tag_child.string\n",
        "tag_string"
      ]
    },
    {
      "cell_type": "markdown",
      "metadata": {
        "id": "jkCo-52D-4l_"
      },
      "source": [
        "we can verify the type is Navigable String\n"
      ]
    },
    {
      "cell_type": "code",
      "execution_count": 40,
      "metadata": {
        "colab": {
          "base_uri": "https://localhost:8080/"
        },
        "id": "ctMLMmTR-4l_",
        "outputId": "2143db6f-cb14-49c7-9a5b-f481f0baaa58"
      },
      "outputs": [
        {
          "output_type": "execute_result",
          "data": {
            "text/plain": [
              "bs4.element.NavigableString"
            ]
          },
          "metadata": {},
          "execution_count": 40
        }
      ],
      "source": [
        "type(tag_string)"
      ]
    },
    {
      "cell_type": "markdown",
      "metadata": {
        "id": "abVCO_2U-4l_"
      },
      "source": [
        "A NavigableString is just like a Python string or Unicode string, to be more precise. The main difference is that it also supports some  <code>BeautifulSoup</code> features. We can covert it to sting object in Python:\n"
      ]
    },
    {
      "cell_type": "code",
      "execution_count": 42,
      "metadata": {
        "colab": {
          "base_uri": "https://localhost:8080/",
          "height": 36
        },
        "id": "v-E0SjAA-4l_",
        "outputId": "6b0fd8b9-f982-4f20-b737-0f932ec4b889"
      },
      "outputs": [
        {
          "output_type": "execute_result",
          "data": {
            "text/plain": [
              "'BURHANETTIN USTA'"
            ],
            "application/vnd.google.colaboratory.intrinsic+json": {
              "type": "string"
            }
          },
          "metadata": {},
          "execution_count": 42
        }
      ],
      "source": [
        "unicode_string = str(tag_string)\n",
        "unicode_string"
      ]
    },
    {
      "cell_type": "markdown",
      "metadata": {
        "id": "nsMLgJJw-4l_"
      },
      "source": [
        "<h2 id=\"filter\">Filter</h2>\n"
      ]
    },
    {
      "cell_type": "markdown",
      "metadata": {
        "id": "-Wdn7sTe-4l_"
      },
      "source": [
        "Filters allow you to find complex patterns, the simplest filter is a string. In this section we will pass a string to a different filter method and Beautiful Soup will perform a match against that exact string.  Consider the following HTML of rocket launchs:\n"
      ]
    },
    {
      "cell_type": "code",
      "execution_count": 45,
      "metadata": {
        "colab": {
          "base_uri": "https://localhost:8080/",
          "height": 103
        },
        "id": "8Lt1BVof-4l_",
        "outputId": "150513bf-37a6-4818-fc38-d0e17eab20f8"
      },
      "outputs": [
        {
          "output_type": "display_data",
          "data": {
            "text/plain": [
              "<IPython.core.display.HTML object>"
            ],
            "text/html": [
              "<table>\n",
              "  <tr>\n",
              "    <td id='UCUSLAR' >UCUS No</td>\n",
              "    <td>UCUS YERI</td> \n",
              "    <td>BAGAJ HADDI</td>\n",
              "   </tr>\n",
              "  <tr> \n",
              "    <td>1</td>\n",
              "    <td><a href='https://en.wikipedia.org/wiki/Florida'>ANKARA</a></td>\n",
              "    <td>300 kg</td>\n",
              "  </tr>\n",
              "  <tr>\n",
              "    <td>2</td>\n",
              "    <td><a href='https://en.wikipedia.org/wiki/Texas'>ISTANBUL</a></td>\n",
              "    <td>94 kg</td>\n",
              "  </tr>\n",
              "  <tr>\n",
              "    <td>3</td>\n",
              "    <td><a href='https://en.wikipedia.org/wiki/Florida'>ANKARA<a> </td>\n",
              "    <td>80 kg</td>\n",
              "  </tr>\n",
              "</table>"
            ]
          },
          "metadata": {}
        }
      ],
      "source": [
        "%%html\n",
        "<table>\n",
        "  <tr>\n",
        "    <td id='UCUSLAR' >UCUS No</td>\n",
        "    <td>UCUS YERI</td> \n",
        "    <td>BAGAJ HADDI</td>\n",
        "   </tr>\n",
        "  <tr> \n",
        "    <td>1</td>\n",
        "    <td><a href='https://en.wikipedia.org/wiki/Florida'>ANKARA</a></td>\n",
        "    <td>300 kg</td>\n",
        "  </tr>\n",
        "  <tr>\n",
        "    <td>2</td>\n",
        "    <td><a href='https://en.wikipedia.org/wiki/Texas'>ISTANBUL</a></td>\n",
        "    <td>94 kg</td>\n",
        "  </tr>\n",
        "  <tr>\n",
        "    <td>3</td>\n",
        "    <td><a href='https://en.wikipedia.org/wiki/Florida'>ANKARA<a> </td>\n",
        "    <td>80 kg</td>\n",
        "  </tr>\n",
        "</table>"
      ]
    },
    {
      "cell_type": "markdown",
      "metadata": {
        "id": "qoe0FvF_-4l_"
      },
      "source": [
        "We can store it as a string in the variable <code>table</code>:\n"
      ]
    },
    {
      "cell_type": "code",
      "execution_count": 52,
      "metadata": {
        "id": "q3sZuspL-4mA"
      },
      "outputs": [],
      "source": [
        "table=\"<table><tr><td id='UCUS'>UCUS No</td><td>KALKIS YERI</td> <td>BAGAJ HADDI</td></tr><tr> <td>1</td><td><a href='https://en.wikipedia.org/wiki/ISTANBUL'>ISTANBUL<a></td><td>300 kg</td></tr><tr><td>2</td><td><a href='https://en.wikipedia.org/wiki/ANKARA'>ANKARA</a></td><td>94 kg</td></tr><tr><td>3</td><td><a href='https://en.wikipedia.org/wiki/ISTANBUL'>ISTANBUL<a> </td><td>80 kg</td></tr></table>\""
      ]
    },
    {
      "cell_type": "code",
      "execution_count": 53,
      "metadata": {
        "colab": {
          "base_uri": "https://localhost:8080/"
        },
        "id": "P6bXhrVM-4mA",
        "outputId": "d8c088f1-e037-47cf-f32e-f09f69fea799"
      },
      "outputs": [
        {
          "output_type": "execute_result",
          "data": {
            "text/plain": [
              "<table><tr><td id=\"UCUS\">UCUS No</td><td>KALKIS YERI</td> <td>BAGAJ HADDI</td></tr><tr> <td>1</td><td><a href=\"https://en.wikipedia.org/wiki/ISTANBUL\">ISTANBUL<a></a></a></td><td>300 kg</td></tr><tr><td>2</td><td><a href=\"https://en.wikipedia.org/wiki/ANKARA\">ANKARA</a></td><td>94 kg</td></tr><tr><td>3</td><td><a href=\"https://en.wikipedia.org/wiki/ISTANBUL\">ISTANBUL<a> </a></a></td><td>80 kg</td></tr></table>"
            ]
          },
          "metadata": {},
          "execution_count": 53
        }
      ],
      "source": [
        "table_bs = BeautifulSoup(table, \"html.parser\")\n",
        "table_bs"
      ]
    },
    {
      "cell_type": "markdown",
      "metadata": {
        "id": "AIM17TPJ-4mA"
      },
      "source": [
        "## find All\n"
      ]
    },
    {
      "cell_type": "markdown",
      "metadata": {
        "id": "OJTh1K5T-4mA"
      },
      "source": [
        "The <code>find_all()</code> method looks through a tag’s descendants and retrieves all descendants that match your filters.\n",
        "\n",
        "<p>\n",
        "The Method signature for <code>find_all(name, attrs, recursive, string, limit, **kwargs)<c/ode>\n",
        "</p>\n"
      ]
    },
    {
      "cell_type": "markdown",
      "metadata": {
        "id": "n0NXudAN-4mA"
      },
      "source": [
        "### Name\n"
      ]
    },
    {
      "cell_type": "markdown",
      "metadata": {
        "id": "vhkhTeXM-4mA"
      },
      "source": [
        "When we set the <code>name</code> parameter to a tag name, the method will extract all the tags with that name and its children.\n"
      ]
    },
    {
      "cell_type": "code",
      "execution_count": 54,
      "metadata": {
        "colab": {
          "base_uri": "https://localhost:8080/"
        },
        "id": "LwpKW7aI-4mA",
        "outputId": "441be508-96c7-4359-f906-ea552f1366da"
      },
      "outputs": [
        {
          "output_type": "execute_result",
          "data": {
            "text/plain": [
              "[<tr><td id=\"UCUS\">UCUS No</td><td>KALKIS YERI</td> <td>BAGAJ HADDI</td></tr>,\n",
              " <tr> <td>1</td><td><a href=\"https://en.wikipedia.org/wiki/ISTANBUL\">ISTANBUL<a></a></a></td><td>300 kg</td></tr>,\n",
              " <tr><td>2</td><td><a href=\"https://en.wikipedia.org/wiki/ANKARA\">ANKARA</a></td><td>94 kg</td></tr>,\n",
              " <tr><td>3</td><td><a href=\"https://en.wikipedia.org/wiki/ISTANBUL\">ISTANBUL<a> </a></a></td><td>80 kg</td></tr>]"
            ]
          },
          "metadata": {},
          "execution_count": 54
        }
      ],
      "source": [
        "table_rows=table_bs.find_all('tr')\n",
        "table_rows"
      ]
    },
    {
      "cell_type": "markdown",
      "metadata": {
        "id": "5zGBRtiv-4mA"
      },
      "source": [
        "The result is a Python Iterable just like a list, each element is a <code>tag</code> object:\n"
      ]
    },
    {
      "cell_type": "code",
      "execution_count": 55,
      "metadata": {
        "colab": {
          "base_uri": "https://localhost:8080/"
        },
        "id": "xOq6wuaS-4mA",
        "outputId": "a28fa4ff-8eb7-49f4-b1f8-2194e1d95835"
      },
      "outputs": [
        {
          "output_type": "execute_result",
          "data": {
            "text/plain": [
              "<tr><td id=\"UCUS\">UCUS No</td><td>KALKIS YERI</td> <td>BAGAJ HADDI</td></tr>"
            ]
          },
          "metadata": {},
          "execution_count": 55
        }
      ],
      "source": [
        "first_row =table_rows[0]\n",
        "first_row"
      ]
    },
    {
      "cell_type": "markdown",
      "metadata": {
        "id": "mqrcCOu2-4mA"
      },
      "source": [
        "The type is <code>tag</code>\n"
      ]
    },
    {
      "cell_type": "code",
      "execution_count": 56,
      "metadata": {
        "colab": {
          "base_uri": "https://localhost:8080/"
        },
        "id": "X9qbhXk9-4mA",
        "outputId": "d3f4fd4f-127a-4b01-e4ac-01d21f178e9a"
      },
      "outputs": [
        {
          "output_type": "stream",
          "name": "stdout",
          "text": [
            "<class 'bs4.element.Tag'>\n"
          ]
        }
      ],
      "source": [
        "print(type(first_row))"
      ]
    },
    {
      "cell_type": "markdown",
      "metadata": {
        "id": "if0pJTfT-4mA"
      },
      "source": [
        "we can obtain the child\n"
      ]
    },
    {
      "cell_type": "code",
      "execution_count": 57,
      "metadata": {
        "colab": {
          "base_uri": "https://localhost:8080/"
        },
        "id": "YtgCBDNW-4mB",
        "outputId": "fba954bb-b799-4ca1-de28-918e9485a5fc"
      },
      "outputs": [
        {
          "output_type": "execute_result",
          "data": {
            "text/plain": [
              "<td id=\"UCUS\">UCUS No</td>"
            ]
          },
          "metadata": {},
          "execution_count": 57
        }
      ],
      "source": [
        "first_row.td"
      ]
    },
    {
      "cell_type": "markdown",
      "metadata": {
        "id": "SSTS2vHw-4mB"
      },
      "source": [
        "If we iterate through the list, each element corresponds to a row in the table:\n"
      ]
    },
    {
      "cell_type": "code",
      "execution_count": 58,
      "metadata": {
        "colab": {
          "base_uri": "https://localhost:8080/"
        },
        "id": "h8qo6UGl-4mB",
        "outputId": "7710f6c0-be25-4332-926c-b307fb68de1f"
      },
      "outputs": [
        {
          "output_type": "stream",
          "name": "stdout",
          "text": [
            "row 0 is <tr><td id=\"UCUS\">UCUS No</td><td>KALKIS YERI</td> <td>BAGAJ HADDI</td></tr>\n",
            "row 1 is <tr> <td>1</td><td><a href=\"https://en.wikipedia.org/wiki/ISTANBUL\">ISTANBUL<a></a></a></td><td>300 kg</td></tr>\n",
            "row 2 is <tr><td>2</td><td><a href=\"https://en.wikipedia.org/wiki/ANKARA\">ANKARA</a></td><td>94 kg</td></tr>\n",
            "row 3 is <tr><td>3</td><td><a href=\"https://en.wikipedia.org/wiki/ISTANBUL\">ISTANBUL<a> </a></a></td><td>80 kg</td></tr>\n"
          ]
        }
      ],
      "source": [
        "for i,row in enumerate(table_rows):\n",
        "    print(\"row\",i,\"is\",row)\n",
        "    "
      ]
    },
    {
      "cell_type": "markdown",
      "metadata": {
        "id": "1t2LgUqs-4mB"
      },
      "source": [
        "As <code>row</code> is a <code>cell</code> object, we can apply the method <code>find_all</code> to it and extract table cells in the object <code>cells</code> using the tag <code>td</code>, this is all the children with the name <code>td</code>. The result is a list, each element corresponds to a cell and is a <code>Tag</code> object, we can iterate through this list as well. We can extract the content using the <code>string</code>  attribute.\n"
      ]
    },
    {
      "cell_type": "code",
      "execution_count": 60,
      "metadata": {
        "colab": {
          "base_uri": "https://localhost:8080/"
        },
        "id": "AYYXCPUt-4mB",
        "outputId": "b0ce6aee-77be-4aea-cf11-3ceb1d395bb6"
      },
      "outputs": [
        {
          "output_type": "stream",
          "name": "stdout",
          "text": [
            "row 0\n",
            "colunm 0 cell <td id=\"UCUS\">UCUS No</td>\n",
            "colunm 1 cell <td>KALKIS YERI</td>\n",
            "colunm 2 cell <td>BAGAJ HADDI</td>\n",
            "row 1\n",
            "colunm 0 cell <td>1</td>\n",
            "colunm 1 cell <td><a href=\"https://en.wikipedia.org/wiki/ISTANBUL\">ISTANBUL<a></a></a></td>\n",
            "colunm 2 cell <td>300 kg</td>\n",
            "row 2\n",
            "colunm 0 cell <td>2</td>\n",
            "colunm 1 cell <td><a href=\"https://en.wikipedia.org/wiki/ANKARA\">ANKARA</a></td>\n",
            "colunm 2 cell <td>94 kg</td>\n",
            "row 3\n",
            "colunm 0 cell <td>3</td>\n",
            "colunm 1 cell <td><a href=\"https://en.wikipedia.org/wiki/ISTANBUL\">ISTANBUL<a> </a></a></td>\n",
            "colunm 2 cell <td>80 kg</td>\n"
          ]
        }
      ],
      "source": [
        "for i,row in enumerate(table_rows):\n",
        "    print(\"row\",i)\n",
        "    cells=row.find_all('td')\n",
        "    for j,cell in enumerate(cells):\n",
        "        print('colunm',j,\"cell\",cell)"
      ]
    },
    {
      "cell_type": "markdown",
      "metadata": {
        "id": "yuZSOiyu-4mB"
      },
      "source": [
        "If we use a list we can match against any item in that list.\n"
      ]
    },
    {
      "cell_type": "code",
      "execution_count": 61,
      "metadata": {
        "colab": {
          "base_uri": "https://localhost:8080/"
        },
        "id": "crstuPPx-4mB",
        "outputId": "e2952989-2938-4cdf-c943-186b74a95ef2"
      },
      "outputs": [
        {
          "output_type": "execute_result",
          "data": {
            "text/plain": [
              "[<tr><td id=\"UCUS\">UCUS No</td><td>KALKIS YERI</td> <td>BAGAJ HADDI</td></tr>,\n",
              " <td id=\"UCUS\">UCUS No</td>,\n",
              " <td>KALKIS YERI</td>,\n",
              " <td>BAGAJ HADDI</td>,\n",
              " <tr> <td>1</td><td><a href=\"https://en.wikipedia.org/wiki/ISTANBUL\">ISTANBUL<a></a></a></td><td>300 kg</td></tr>,\n",
              " <td>1</td>,\n",
              " <td><a href=\"https://en.wikipedia.org/wiki/ISTANBUL\">ISTANBUL<a></a></a></td>,\n",
              " <td>300 kg</td>,\n",
              " <tr><td>2</td><td><a href=\"https://en.wikipedia.org/wiki/ANKARA\">ANKARA</a></td><td>94 kg</td></tr>,\n",
              " <td>2</td>,\n",
              " <td><a href=\"https://en.wikipedia.org/wiki/ANKARA\">ANKARA</a></td>,\n",
              " <td>94 kg</td>,\n",
              " <tr><td>3</td><td><a href=\"https://en.wikipedia.org/wiki/ISTANBUL\">ISTANBUL<a> </a></a></td><td>80 kg</td></tr>,\n",
              " <td>3</td>,\n",
              " <td><a href=\"https://en.wikipedia.org/wiki/ISTANBUL\">ISTANBUL<a> </a></a></td>,\n",
              " <td>80 kg</td>]"
            ]
          },
          "metadata": {},
          "execution_count": 61
        }
      ],
      "source": [
        "list_input=table_bs .find_all(name=[\"tr\", \"td\"])\n",
        "list_input"
      ]
    },
    {
      "cell_type": "markdown",
      "metadata": {
        "id": "3yhfUMBn-4mB"
      },
      "source": [
        "## Attributes\n"
      ]
    },
    {
      "cell_type": "markdown",
      "metadata": {
        "id": "AL2JXohs-4mB"
      },
      "source": [
        "If the argument is not recognized it will be turned into a filter on the tag’s attributes. For example the <code>id</code>  argument, Beautiful Soup will filter against each tag’s <code>id</code> attribute. For example, the first <code>td</code> elements have a value of <code>id</code> of <code>flight</code>, therefore we can filter based on that <code>id</code> value.\n"
      ]
    },
    {
      "cell_type": "code",
      "execution_count": 145,
      "metadata": {
        "colab": {
          "base_uri": "https://localhost:8080/"
        },
        "id": "gDmxLqbW-4mB",
        "outputId": "930270b2-47a6-4026-b7c2-8aeaca8cebc2"
      },
      "outputs": [
        {
          "output_type": "execute_result",
          "data": {
            "text/plain": [
              "[<td id=\"UCUS\">UCUS No</td>]"
            ]
          },
          "metadata": {},
          "execution_count": 145
        }
      ],
      "source": [
        "table_bs.find_all(id=\"UCUS\")"
      ]
    },
    {
      "cell_type": "markdown",
      "metadata": {
        "id": "fIbh8keC-4mB"
      },
      "source": [
        "We can find all the elements that have links to the Florida Wikipedia page:\n"
      ]
    },
    {
      "cell_type": "code",
      "execution_count": 146,
      "metadata": {
        "colab": {
          "base_uri": "https://localhost:8080/"
        },
        "id": "vyK-cJ1W-4mB",
        "outputId": "171df206-b4ff-44d4-c1bb-c03ad3816721"
      },
      "outputs": [
        {
          "output_type": "execute_result",
          "data": {
            "text/plain": [
              "[<a href=\"https://en.wikipedia.org/wiki/ISTANBUL\">ISTANBUL<a></a></a>,\n",
              " <a href=\"https://en.wikipedia.org/wiki/ISTANBUL\">ISTANBUL<a> </a></a>]"
            ]
          },
          "metadata": {},
          "execution_count": 146
        }
      ],
      "source": [
        "list_input=table_bs.find_all(href=\"https://en.wikipedia.org/wiki/ISTANBUL\")\n",
        "list_input"
      ]
    },
    {
      "cell_type": "markdown",
      "metadata": {
        "id": "ZvBzjJyT-4mC"
      },
      "source": [
        "If we set the  <code>href</code> attribute to True, regardless of what the value is, the code finds all tags with <code>href</code> value:\n"
      ]
    },
    {
      "cell_type": "code",
      "execution_count": 64,
      "metadata": {
        "colab": {
          "base_uri": "https://localhost:8080/"
        },
        "id": "F_C4cXH0-4mC",
        "outputId": "ffb99bce-39d3-4d67-9a79-decf5780660a"
      },
      "outputs": [
        {
          "output_type": "execute_result",
          "data": {
            "text/plain": [
              "[<a href=\"https://en.wikipedia.org/wiki/ISTANBUL\">ISTANBUL<a></a></a>,\n",
              " <a href=\"https://en.wikipedia.org/wiki/ANKARA\">ANKARA</a>,\n",
              " <a href=\"https://en.wikipedia.org/wiki/ISTANBUL\">ISTANBUL<a> </a></a>]"
            ]
          },
          "metadata": {},
          "execution_count": 64
        }
      ],
      "source": [
        "table_bs.find_all(href=True)"
      ]
    },
    {
      "cell_type": "markdown",
      "metadata": {
        "id": "zYtkCGgU-4mC"
      },
      "source": [
        "There are other methods for dealing with attributes and other related methods; Check out the following <a href='https://www.crummy.com/software/BeautifulSoup/bs4/doc/?utm_medium=Exinfluencer&utm_source=Exinfluencer&utm_content=000026UJ&utm_term=10006555&utm_id=NA-SkillsNetwork-Channel-SkillsNetworkCoursesIBMDeveloperSkillsNetworkPY0220ENSkillsNetwork23455606-2021-01-01#css-selectors'>link</a>\n"
      ]
    },
    {
      "cell_type": "markdown",
      "metadata": {
        "id": "UfTKZsv0-4mC"
      },
      "source": [
        "<h3 id=\"exer_type\">Exercise: <code>find_all</code></h3>\n"
      ]
    },
    {
      "cell_type": "markdown",
      "metadata": {
        "id": "_cJqDGIh-4mC"
      },
      "source": [
        "Using the logic above, find all the elements without <code>href</code> value\n"
      ]
    },
    {
      "cell_type": "code",
      "execution_count": 69,
      "metadata": {
        "colab": {
          "base_uri": "https://localhost:8080/"
        },
        "id": "f5IxMI50-4mC",
        "outputId": "6470b0f0-2b69-44b8-fbf0-5589c8044c7c"
      },
      "outputs": [
        {
          "output_type": "execute_result",
          "data": {
            "text/plain": [
              "[<tr><td id=\"UCUS\">UCUS No</td><td>KALKIS YERI</td> <td>BAGAJ HADDI</td></tr>,\n",
              " <tr> <td>1</td><td><a href=\"https://en.wikipedia.org/wiki/ISTANBUL\">ISTANBUL<a></a></a></td><td>300 kg</td></tr>,\n",
              " <tr><td>2</td><td><a href=\"https://en.wikipedia.org/wiki/ANKARA\">ANKARA</a></td><td>94 kg</td></tr>,\n",
              " <tr><td>3</td><td><a href=\"https://en.wikipedia.org/wiki/ISTANBUL\">ISTANBUL<a> </a></a></td><td>80 kg</td></tr>]"
            ]
          },
          "metadata": {},
          "execution_count": 69
        }
      ],
      "source": [
        "table_rows=table_bs.find_all('tr', href=False)\n",
        "table_rows"
      ]
    },
    {
      "cell_type": "markdown",
      "metadata": {
        "id": "yU3G0ej2-4mC"
      },
      "source": [
        "<details><summary>Click here for the solution</summary>\n",
        "\n",
        "```\n",
        "table_bs.find_all(href=False)\n",
        "\n",
        "```\n",
        "\n",
        "</details>\n"
      ]
    },
    {
      "cell_type": "markdown",
      "metadata": {
        "id": "BFHiEkA0-4mC"
      },
      "source": [
        "Using the soup object <code>soup</code>, find the element with the <code>id</code> attribute content set to <code>\"boldest\"</code>.\n"
      ]
    },
    {
      "cell_type": "code",
      "execution_count": 70,
      "metadata": {
        "colab": {
          "base_uri": "https://localhost:8080/"
        },
        "id": "GKOihcRi-4mC",
        "outputId": "340b400e-087f-46b8-ad97-e18fdc468059"
      },
      "outputs": [
        {
          "output_type": "execute_result",
          "data": {
            "text/plain": [
              "[<b id=\"boldest\">BURHANETTIN USTA</b>]"
            ]
          },
          "metadata": {},
          "execution_count": 70
        }
      ],
      "source": [
        "soup.find_all(id=\"boldest\")"
      ]
    },
    {
      "cell_type": "markdown",
      "metadata": {
        "id": "TWpFr2mW-4mC"
      },
      "source": [
        "<details><summary>Click here for the solution</summary>\n",
        "\n",
        "```\n",
        "soup.find_all(id=\"boldest\")\n",
        "\n",
        "```\n",
        "\n",
        "</details>\n"
      ]
    },
    {
      "cell_type": "markdown",
      "metadata": {
        "id": "e5LOB0nV-4mC"
      },
      "source": [
        "### string\n"
      ]
    },
    {
      "cell_type": "markdown",
      "metadata": {
        "id": "ceTClFpg-4mC"
      },
      "source": [
        "With string you can search for strings instead of tags, where we find all the elments with ISTANBUL:\n"
      ]
    },
    {
      "cell_type": "code",
      "execution_count": 71,
      "metadata": {
        "colab": {
          "base_uri": "https://localhost:8080/"
        },
        "id": "NaY0JYP9-4mC",
        "outputId": "9ead31e8-1ac6-45b1-8d6a-f0dbb4248bf2"
      },
      "outputs": [
        {
          "output_type": "execute_result",
          "data": {
            "text/plain": [
              "['ISTANBUL', 'ISTANBUL']"
            ]
          },
          "metadata": {},
          "execution_count": 71
        }
      ],
      "source": [
        "table_bs.find_all(string=\"ISTANBUL\")"
      ]
    },
    {
      "cell_type": "markdown",
      "metadata": {
        "id": "c06byAAb-4mC"
      },
      "source": [
        "## find\n"
      ]
    },
    {
      "cell_type": "markdown",
      "metadata": {
        "id": "3AENxULI-4mD"
      },
      "source": [
        "The <code>find_all()</code> method scans the entire document looking for results, it’s if you are looking for one element you can use the <code>find()</code> method to find the first element in the document. Consider the following two table:\n"
      ]
    },
    {
      "cell_type": "code",
      "execution_count": 73,
      "metadata": {
        "colab": {
          "base_uri": "https://localhost:8080/",
          "height": 273
        },
        "id": "a_xewfIt-4mD",
        "outputId": "044913c8-a025-4155-983e-c4652349b21c"
      },
      "outputs": [
        {
          "output_type": "display_data",
          "data": {
            "text/plain": [
              "<IPython.core.display.HTML object>"
            ],
            "text/html": [
              "<h3>ROKET KALKISI </h3>\n",
              "\n",
              "<p>\n",
              "<table class='roket'>\n",
              "  <tr>\n",
              "    <td>UCUS No</td>\n",
              "    <td>KALKIS YERI</td> \n",
              "    <td>BAGAJ HADDI</td>\n",
              "  </tr>\n",
              "  <tr>\n",
              "    <td>1</td>\n",
              "    <td>ISTANBUL</td>\n",
              "    <td>300 kg</td>\n",
              "  </tr>\n",
              "  <tr>\n",
              "    <td>2</td>\n",
              "    <td>ANKARA</td>\n",
              "    <td>94 kg</td>\n",
              "  </tr>\n",
              "  <tr>\n",
              "    <td>3</td>\n",
              "    <td>ISTANBUL</td>\n",
              "    <td>80 kg</td>\n",
              "  </tr>\n",
              "</table>\n",
              "</p>\n",
              "<p>\n",
              "\n",
              "<h3>PIZZA PARTISI</h3>\n",
              "  \n",
              "    \n",
              "<table class='pizza'>\n",
              "  <tr>\n",
              "    <td>Pizza YERI</td>\n",
              "    <td>Orders</td> \n",
              "    <td>Slices </td>\n",
              "   </tr>\n",
              "  <tr>\n",
              "    <td>Domino's Pizza</td>\n",
              "    <td>10</td>\n",
              "    <td>100</td>\n",
              "  </tr>\n",
              "  <tr>\n",
              "    <td>Little Caesars</td>\n",
              "    <td>12</td>\n",
              "    <td >144 </td>\n",
              "  </tr>\n",
              "  <tr>\n",
              "    <td>Papa John's </td>\n",
              "    <td>15 </td>\n",
              "    <td>165</td>\n",
              "  </tr>"
            ]
          },
          "metadata": {}
        }
      ],
      "source": [
        "%%html\n",
        "<h3>ROKET KALKISI </h3>\n",
        "\n",
        "<p>\n",
        "<table class='roket'>\n",
        "  <tr>\n",
        "    <td>UCUS No</td>\n",
        "    <td>KALKIS YERI</td> \n",
        "    <td>BAGAJ HADDI</td>\n",
        "  </tr>\n",
        "  <tr>\n",
        "    <td>1</td>\n",
        "    <td>ISTANBUL</td>\n",
        "    <td>300 kg</td>\n",
        "  </tr>\n",
        "  <tr>\n",
        "    <td>2</td>\n",
        "    <td>ANKARA</td>\n",
        "    <td>94 kg</td>\n",
        "  </tr>\n",
        "  <tr>\n",
        "    <td>3</td>\n",
        "    <td>ISTANBUL</td>\n",
        "    <td>80 kg</td>\n",
        "  </tr>\n",
        "</table>\n",
        "</p>\n",
        "<p>\n",
        "\n",
        "<h3>PIZZA PARTISI</h3>\n",
        "  \n",
        "    \n",
        "<table class='pizza'>\n",
        "  <tr>\n",
        "    <td>Pizza YERI</td>\n",
        "    <td>Orders</td> \n",
        "    <td>Slices </td>\n",
        "   </tr>\n",
        "  <tr>\n",
        "    <td>Domino's Pizza</td>\n",
        "    <td>10</td>\n",
        "    <td>100</td>\n",
        "  </tr>\n",
        "  <tr>\n",
        "    <td>Little Caesars</td>\n",
        "    <td>12</td>\n",
        "    <td >144 </td>\n",
        "  </tr>\n",
        "  <tr>\n",
        "    <td>Papa John's </td>\n",
        "    <td>15 </td>\n",
        "    <td>165</td>\n",
        "  </tr>\n"
      ]
    },
    {
      "cell_type": "markdown",
      "metadata": {
        "id": "09S-ulxC-4mD"
      },
      "source": [
        "We store the HTML as a Python string and assign <code>two_tables</code>:\n"
      ]
    },
    {
      "cell_type": "code",
      "execution_count": 74,
      "metadata": {
        "id": "zhe9vo3C-4mD"
      },
      "outputs": [],
      "source": [
        "two_tables=\"<h3>ROKET KALKISI </h3><p><table class='roket'><tr><td>UCUS No</td><td>KALKIS YERI</td> <td>BAGAJ HADDI</td></tr><tr><td>1</td><td>ISTANBUL</td><td>300 kg</td></tr><tr><td>2</td><td>ANKARA</td><td>94 kg</td></tr><tr><td>3</td><td>ISTANBUL </td><td>80 kg</td></tr></table></p><p><h3>PiZZA PARTISI  </h3><table class='pizza'><tr><td>Pizza YERI</td><td>Orders</td> <td>Slices </td></tr><tr><td>Domino's Pizza</td><td>10</td><td>100</td></tr><tr><td>Little Caesars</td><td>12</td><td >144 </td></tr><tr><td>Papa John's </td><td>15 </td><td>165</td></tr>\""
      ]
    },
    {
      "cell_type": "markdown",
      "metadata": {
        "id": "w7YnnYTN-4mD"
      },
      "source": [
        "We create a <code>BeautifulSoup</code> object  <code>two_tables_bs</code>\n"
      ]
    },
    {
      "cell_type": "code",
      "execution_count": 76,
      "metadata": {
        "colab": {
          "base_uri": "https://localhost:8080/",
          "height": 91
        },
        "id": "L9x4yVUh-4mD",
        "outputId": "857da3fa-6a7f-4aa1-ff9b-6d06a723b1d6"
      },
      "outputs": [
        {
          "output_type": "execute_result",
          "data": {
            "text/plain": [
              "\"<h3>ROKET KALKISI </h3><p><table class='roket'><tr><td>UCUS No</td><td>KALKIS YERI</td> <td>BAGAJ HADDI</td></tr><tr><td>1</td><td>ISTANBUL</td><td>300 kg</td></tr><tr><td>2</td><td>ANKARA</td><td>94 kg</td></tr><tr><td>3</td><td>ISTANBUL </td><td>80 kg</td></tr></table></p><p><h3>PiZZA PARTISI  </h3><table class='pizza'><tr><td>Pizza YERI</td><td>Orders</td> <td>Slices </td></tr><tr><td>Domino's Pizza</td><td>10</td><td>100</td></tr><tr><td>Little Caesars</td><td>12</td><td >144 </td></tr><tr><td>Papa John's </td><td>15 </td><td>165</td></tr>\""
            ],
            "application/vnd.google.colaboratory.intrinsic+json": {
              "type": "string"
            }
          },
          "metadata": {},
          "execution_count": 76
        }
      ],
      "source": [
        "two_tables_bs= BeautifulSoup(two_tables, 'html.parser')\n",
        "two_tables"
      ]
    },
    {
      "cell_type": "markdown",
      "metadata": {
        "id": "1LrdVpqM-4mD"
      },
      "source": [
        "We can find the first table using the tag name table\n"
      ]
    },
    {
      "cell_type": "code",
      "execution_count": 77,
      "metadata": {
        "colab": {
          "base_uri": "https://localhost:8080/"
        },
        "id": "b4cSLNP8-4mD",
        "outputId": "02e93184-fe99-40b3-d924-67a0eb504539"
      },
      "outputs": [
        {
          "output_type": "execute_result",
          "data": {
            "text/plain": [
              "<table class=\"roket\"><tr><td>UCUS No</td><td>KALKIS YERI</td> <td>BAGAJ HADDI</td></tr><tr><td>1</td><td>ISTANBUL</td><td>300 kg</td></tr><tr><td>2</td><td>ANKARA</td><td>94 kg</td></tr><tr><td>3</td><td>ISTANBUL </td><td>80 kg</td></tr></table>"
            ]
          },
          "metadata": {},
          "execution_count": 77
        }
      ],
      "source": [
        "two_tables_bs.find(\"table\")"
      ]
    },
    {
      "cell_type": "markdown",
      "metadata": {
        "id": "s8q6Rtyx-4mD"
      },
      "source": [
        "We can filter on the class attribute to find the second table, but because class is a keyword in Python, we add an underscore.\n"
      ]
    },
    {
      "cell_type": "code",
      "execution_count": 78,
      "metadata": {
        "colab": {
          "base_uri": "https://localhost:8080/"
        },
        "id": "7qA7vNOJ-4mD",
        "outputId": "f68f3368-362a-4963-bdf8-5ad791fdb0ea"
      },
      "outputs": [
        {
          "output_type": "execute_result",
          "data": {
            "text/plain": [
              "<table class=\"pizza\"><tr><td>Pizza YERI</td><td>Orders</td> <td>Slices </td></tr><tr><td>Domino's Pizza</td><td>10</td><td>100</td></tr><tr><td>Little Caesars</td><td>12</td><td>144 </td></tr><tr><td>Papa John's </td><td>15 </td><td>165</td></tr></table>"
            ]
          },
          "metadata": {},
          "execution_count": 78
        }
      ],
      "source": [
        "two_tables_bs.find(\"table\",class_='pizza')"
      ]
    },
    {
      "cell_type": "markdown",
      "metadata": {
        "id": "G1iur8aD-4mD"
      },
      "source": [
        "<h2 id=\"DSCW\">Downloading And Scraping The Contents Of A Web Page</h2> \n"
      ]
    },
    {
      "cell_type": "markdown",
      "metadata": {
        "id": "swVUJTDX-4mE"
      },
      "source": [
        "We Download the contents of the web page:\n"
      ]
    },
    {
      "cell_type": "code",
      "execution_count": 150,
      "metadata": {
        "id": "_fXSYCCB-4mE"
      },
      "outputs": [],
      "source": [
        "url = \"https://www.skysports.com/football/tables\"\n",
        "\n",
        "#my_dict = DictWithPWL(\"en_US\", pwl=\"terms.dict\")\n",
        "#chkr = SpellChecker(lang=my_dict)\n",
        "#result = []"
      ]
    },
    {
      "cell_type": "markdown",
      "metadata": {
        "id": "dLWEkQn_-4mE"
      },
      "source": [
        "We use <code>get</code> to download the contents of the webpage in text format and store in a variable called <code>data</code>:\n"
      ]
    },
    {
      "cell_type": "code",
      "execution_count": 152,
      "metadata": {
        "colab": {
          "base_uri": "https://localhost:8080/",
          "height": 145
        },
        "id": "aLrIhuxs-4mE",
        "outputId": "471293a9-f8e9-4187-f547-e14e06349474"
      },
      "outputs": [
        {
          "output_type": "execute_result",
          "data": {
            "text/plain": [
              "'<!doctype html>\\n<html lang=\"en\" class=\"no-js\">\\n<head>\\n\\n    <meta charset=\"utf-8\">\\n    <title>Football League Tables & Standings | Sky Sports</title>\\n    <meta name=\"robots\" content=\"INDEX,FOLLOW,max-snippet:-1,max-image-preview:large,max-video-preview:-1\" /> \\n    <meta name=\"description\" content=\"Latest Football league tables - Sky Sports\"/>\\n    <meta name=\"keywords\" content=\"Sky, Sports, football, news, live, scores, video, breaking, fixtures, results, team, line, ups, preview, review, competitions, premier, UEFA, champions, league, transfer, Arsenal, Liverpool, Manchester, United, City, Utd, Man, Chelsea, Spurs, Everton, Villa, Wenger, Fabregas, Benitez, Torres, Gerrard, Rooney, Ancelotti, Drogba, Adebayor, Mancini, Redknapp, \"/>\\n    <meta http-equiv=\"X-UA-Compatible\" content=\"IE=edge,chrome=1\"><script type=\"text/javascript\">(window.NREUM||(NREUM={})).init={ajax:{deny_list:[\"bam.nr-data.net\"]}};(window.NREUM||(NREUM={})).loader_config={licenseKey:\"517f0b291f\",applicationID:\"545304393\"};window.NREUM||(NREUM={}),__nr_require=function(t,e,n){function r(n){if(!e[n]){var i=e[n]={exports:{}};t[n][0].call(i.exports,function(e){var i=t[n][1][e];return r(i||e)},i,i.exports)}return e[n].exports}if(\"function\"==typeof __nr_require)return __nr_require;for(var i=0;i<n.length;i++)r(n[i]);return r}({1:[function(t,e,n){function r(){}function i(t,e,n,r){return function(){return s.recordSupportability(\"API/\"+e+\"/called\"),o(t+e,[u.now()].concat(c(arguments)),n?null:this,r),n?void 0:this}}var o=t(\"handle\"),a=t(9),c=t(10),f=t(\"ee\").get(\"tracer\"),u=t(\"loader\"),s=t(4),d=NREUM;\"undefined\"==typeof window.newrelic&&(newrelic=d);var p=[\"setPageViewName\",\"setCustomAttribute\",\"setErrorHandler\",\"finished\",\"addToTrace\",\"inlineHit\",\"addRelease\"],l=\"api-\",v=l+\"ixn-\";a(p,function(t,e){d[e]=i(l,e,!0,\"api\")}),d.addPageAction=i(l,\"addPageAction\",!0),d.setCurrentRouteName=i(l,\"routeName\",!0),e.exports=newrelic,d.interaction=function(){return(new r).get()};var m=r.prototype={createTracer:function(t,e){var n={},r=this,i=\"function\"==typeof e;return o(v+\"tracer\",[u.now(),t,n],r),function(){if(f.emit((i?\"\":\"no-\")+\"fn-start\",[u.now(),r,i],n),i)try{return e.apply(this,arguments)}catch(t){throw f.emit(\"fn-err\",[arguments,this,t],n),t}finally{f.emit(\"fn-end\",[u.now()],n)}}}};a(\"actionText,setName,setAttribute,save,ignore,onEnd,getContext,end,get\".split(\",\"),function(t,e){m[e]=i(v,e)}),newrelic.noticeError=function(t,e){\"string\"==typeof t&&(t=new Error(t)),s.recordSupportability(\"API/noticeError/called\"),o(\"err\",[t,u.now(),!1,e])}},{}],2:[function(t,e,n){function r(t){if(NREUM.init){for(var e=NREUM.init,n=t.split(\".\"),r=0;r<n.length-1;r++)if(e=e[n[r]],\"object\"!=typeof e)return;return e=e[n[n.length-1]]}}e.exports={getConfiguration:r}},{}],3:[function(t,e,n){var r=!1;try{var i=Object.defineProperty({},\"passive\",{get:function(){r=!0}});window.addEventListener(\"testPassive\",null,i),window.removeEventListener(\"testPassive\",null,i)}catch(o){}e.exports=function(t){return r?{passive:!0,capture:!!t}:!!t}},{}],4:[function(t,e,n){function r(t,e){var n=[a,t,{name:t},e];return o(\"storeMetric\",n,null,\"api\"),n}function i(t,e){var n=[c,t,{name:t},e];return o(\"storeEventMetrics\",n,null,\"api\"),n}var o=t(\"handle\"),a=\"sm\",c=\"cm\";e.exports={constants:{SUPPORTABILITY_METRIC:a,CUSTOM_METRIC:c},recordSupportability:r,recordCustom:i}},{}],5:[function(t,e,n){function r(){return c.exists&&performance.now?Math.round(performance.now()):(o=Math.max((new Date).getTime(),o))-a}function i(){return o}var o=(new Date).getTime(),a=o,c=t(11);e.exports=r,e.exports.offset=a,e.exports.getLastTimestamp=i},{}],6:[function(t,e,n){function r(t,e){var n=t.getEntries();n.forEach(function(t){\"first-paint\"===t.name?l(\"timing\",[\"fp\",Math.floor(t.startTime)]):\"first-contentful-paint\"===t.name&&l(\"timing\",[\"fcp\",Math.floor(t.startTime)])})}function i(t,e){var n=t.getEntries();if(n.length>0){var r=n[n.length-1];if(u&&u<r.startTime)return;var i=[r],o=a({});o&&i.push(o),l(\"lcp\",i)}}function o(t){t.getEntries().forEach(function(t){t.hadRecentInput||l(\"cls\",[t])})}function a(t){var e=navigator.connection||navigator.mozConnection||navigator.webkitConnection;if(e)return e.type&&(t[\"net-type\"]=e.type),e.effectiveType&&(t[\"net-etype\"]=e.effectiveType),e.rtt&&(t[\"net-rtt\"]=e.rtt),e.downlink&&(t[\"net-dlink\"]=e.downlink),t}function c(t){if(t instanceof y&&!w){var e=Math.round(t.timeStamp),n={type:t.type};a(n),e<=v.now()?n.fid=v.now()-e:e>v.offset&&e<=Date.now()?(e-=v.offset,n.fid=v.now()-e):e=v.now(),w=!0,l(\"timing\",[\"fi\",e,n])}}function f(t){\"hidden\"===t&&(u=v.now(),l(\"pageHide\",[u]))}if(!(\"init\"in NREUM&&\"page_view_timing\"in NREUM.init&&\"enabled\"in NREUM.init.page_view_timing&&NREUM.init.page_view_timing.enabled===!1)){var u,s,d,p,l=t(\"handle\"),v=t(\"loader\"),m=t(8),g=t(3),y=NREUM.o.EV;if(\"PerformanceObserver\"in window&&\"function\"==typeof window.PerformanceObserver){s=new PerformanceObserver(r);try{s.observe({entryTypes:[\"paint\"]})}catch(h){}d=new PerformanceObserver(i);try{d.observe({entryTypes:[\"largest-contentful-paint\"]})}catch(h){}p=new PerformanceObserver(o);try{p.observe({type:\"layout-shift\",buffered:!0})}catch(h){}}if(\"addEventListener\"in document){var w=!1,b=[\"click\",\"keydown\",\"mousedown\",\"pointerdown\",\"touchstart\"];b.forEach(function(t){document.addEventListener(t,c,g(!1))})}m(f)}},{}],7:[function(t,e,n){function r(t,e){if(!i)return!1;if(t!==i)return!1;if(!e)return!0;if(!o)return!1;for(var n=o.split(\".\"),r=e.split(\".\"),a=0;a<r.length;a++)if(r[a]!==n[a])return!1;return!0}var i=null,o=null,a=/Version\\\\/(\\\\S+)\\\\s+Safari/;if(navigator.userAgent){var c=navigator.userAgent,f=c.match(a);f&&c.indexOf(\"Chrome\")===-1&&c.indexOf(\"Chromium\")===-1&&(i=\"Safari\",o=f[1])}e.exports={agent:i,version:o,match:r}},{}],8:[function(t,e,n){function r(t){function e(){t(c&&document[c]?document[c]:document[o]?\"hidden\":\"visible\")}\"addEventListener\"in document&&a&&document.addEventListener(a,e,i(!1))}var i=t(3);e.exports=r;var o,a,c;\"undefined\"!=typeof document.hidden?(o=\"hidden\",a=\"visibilitychange\",c=\"visibilityState\"):\"undefined\"!=typeof document.msHidden?(o=\"msHidden\",a=\"msvisibilitychange\"):\"undefined\"!=typeof document.webkitHidden&&(o=\"webkitHidden\",a=\"webkitvisibilitychange\",c=\"webkitVisibilityState\")},{}],9:[function(t,e,n){function r(t,e){var n=[],r=\"\",o=0;for(r in t)i.call(t,r)&&(n[o]=e(r,t[r]),o+=1);return n}var i=Object.prototype.hasOwnProperty;e.exports=r},{}],10:[function(t,e,n){function r(t,e,n){e||(e=0),\"undefined\"==typeof n&&(n=t?t.length:0);for(var r=-1,i=n-e||0,o=Array(i<0?0:i);++r<i;)o[r]=t[e+r];return o}e.exports=r},{}],11:[function(t,e,n){e.exports={exists:\"undefined\"!=typeof window.performance&&window.performance.timing&&\"undefined\"!=typeof window.performance.timing.navigationStart}},{}],ee:[function(t,e,n){function r(){}function i(t){function e(t){return t&&t instanceof r?t:t?u(t,f,a):a()}function n(n,r,i,o,a){if(a!==!1&&(a=!0),!l.aborted||o){t&&a&&t(n,r,i);for(var c=e(i),f=m(n),u=f.length,s=0;s<u;s++)f[s].apply(c,r);var p=d[w[n]];return p&&p.push([b,n,r,c]),c}}function o(t,e){h[t]=m(t).concat(e)}function v(t,e){var n=h[t];if(n)for(var r=0;r<n.length;r++)n[r]===e&&n.splice(r,1)}function m(t){return h[t]||[]}function g(t){return p[t]=p[t]||i(n)}function y(t,e){l.aborted||s(t,function(t,n){e=e||\"feature\",w[n]=e,e in d||(d[e]=[])})}var h={},w={},b={on:o,addEventListener:o,removeEventListener:v,emit:n,get:g,listeners:m,context:e,buffer:y,abort:c,aborted:!1};return b}function o(t){return u(t,f,a)}function a(){return new r}function c(){(d.api||d.feature)&&(l.aborted=!0,d=l.backlog={})}var f=\"nr@context\",u=t(\"gos\"),s=t(9),d={},p={},l=e.exports=i();e.exports.getOrSetContext=o,l.backlog=d},{}],gos:[function(t,e,n){function r(t,e,n){if(i.call(t,e))return t[e];var r=n();if(Object.defineProperty&&Object.keys)try{return Object.defineProperty(t,e,{value:r,writable:!0,enumerable:!1}),r}catch(o){}return t[e]=r,r}var i=Object.prototype.hasOwnProperty;e.exports=r},{}],handle:[function(t,e,n){function r(t,e,n,r){i.buffer([t],r),i.emit(t,e,n)}var i=t(\"ee\").get(\"handle\");e.exports=r,r.ee=i},{}],id:[function(t,e,n){function r(t){var e=typeof t;return!t||\"object\"!==e&&\"function\"!==e?-1:t===window?0:a(t,o,function(){return i++})}var i=1,o=\"nr@id\",a=t(\"gos\");e.exports=r},{}],loader:[function(t,e,n){function r(){if(!M++){var t=T.info=NREUM.info,e=m.getElementsByTagName(\"script\")[0];if(setTimeout(u.abort,3e4),!(t&&t.licenseKey&&t.applicationID&&e))return u.abort();f(x,function(e,n){t[e]||(t[e]=n)});var n=a();c(\"mark\",[\"onload\",n+T.offset],null,\"api\"),c(\"timing\",[\"load\",n]);var r=m.createElement(\"script\");0===t.agent.indexOf(\"http://\")||0===t.agent.indexOf(\"https://\")?r.src=t.agent:r.src=l+\"://\"+t.agent,e.parentNode.insertBefore(r,e)}}function i(){\"complete\"===m.readyState&&o()}function o(){c(\"mark\",[\"domContent\",a()+T.offset],null,\"api\")}var a=t(5),c=t(\"handle\"),f=t(9),u=t(\"ee\"),s=t(7),d=t(2),p=t(3),l=d.getConfiguration(\"ssl\")===!1?\"http\":\"https\",v=window,m=v.document,g=\"addEventListener\",y=\"attachEvent\",h=v.XMLHttpRequest,w=h&&h.prototype,b=!1;NREUM.o={ST:setTimeout,SI:v.setImmediate,CT:clearTimeout,XHR:h,REQ:v.Request,EV:v.Event,PR:v.Promise,MO:v.MutationObserver};var E=\"\"+location,x={beacon:\"bam.nr-data.net\",errorBeacon:\"bam.nr-data.net\",agent:\"js-agent.newrelic.com/nr-1216.min.js\"},O=h&&w&&w[g]&&!/CriOS/.test(navigator.userAgent),T=e.exports={offset:a.getLastTimestamp(),now:a,origin:E,features:{},xhrWrappable:O,userAgent:s,disabled:b};if(!b){t(1),t(6),m[g]?(m[g](\"DOMContentLoaded\",o,p(!1)),v[g](\"load\",r,p(!1))):(m[y](\"onreadystatechange\",i),v[y](\"onload\",r)),c(\"mark\",[\"firstbyte\",a.getLastTimestamp()],null,\"api\");var M=0}},{}],\"wrap-function\":[function(t,e,n){function r(t,e){function n(e,n,r,f,u){function nrWrapper(){var o,a,s,p;try{a=this,o=d(arguments),s=\"function\"==typeof r?r(o,a):r||{}}catch(l){i([l,\"\",[o,a,f],s],t)}c(n+\"start\",[o,a,f],s,u);try{return p=e.apply(a,o)}catch(v){throw c(n+\"err\",[o,a,v],s,u),v}finally{c(n+\"end\",[o,a,p],s,u)}}return a(e)?e:(n||(n=\"\"),nrWrapper[p]=e,o(e,nrWrapper,t),nrWrapper)}function r(t,e,r,i,o){r||(r=\"\");var c,f,u,s=\"-\"===r.charAt(0);for(u=0;u<e.length;u++)f=e[u],c=t[f],a(c)||(t[f]=n(c,s?f+r:r,i,f,o))}function c(n,r,o,a){if(!v||e){var c=v;v=!0;try{t.emit(n,r,o,e,a)}catch(f){i([f,n,r,o],t)}v=c}}return t||(t=s),n.inPlace=r,n.flag=p,n}function i(t,e){e||(e=s);try{e.emit(\"internal-error\",t)}catch(n){}}function o(t,e,n){if(Object.defineProperty&&Object.keys)try{var r=Object.keys(t);return r.forEach(function(n){Object.defineProperty(e,n,{get:function(){return t[n]},set:function(e){return t[n]=e,e}})}),e}catch(o){i([o],n)}for(var a in t)l.call(t,a)&&(e[a]=t[a]);return e}function a(t){return!(t&&t instanceof Function&&t.apply&&!t[p])}function c(t,e){var n=e(t);return n[p]=t,o(t,n,s),n}function f(t,e,n){var r=t[e];t[e]=c(r,n)}function u(){for(var t=arguments.length,e=new Array(t),n=0;n<t;++n)e[n]=arguments[n];return e}var s=t(\"ee\"),d=t(10),p=\"nr@original\",l=Object.prototype.hasOwnProperty,v=!1;e.exports=r,e.exports.wrapFunction=c,e.exports.wrapInPlace=f,e.exports.argsToArray=u},{}]},{},[\"loader\"]);</script>\\n\\n        <link rel=\"dns-prefetch\" href=\"//e0.365dm.com\">\\n        <link rel=\"dns-prefetch\" href=\"//e1.365dm.com\">\\n        <link rel=\"dns-prefetch\" href=\"//e2.365dm.com\">\\n        <link rel=\"dns-prefetch\" href=\"//fresh8.co\">\\n        <link rel=\"dns-prefetch\" href=\"//annex.fresh8.co\">\\n        <link rel=\"dns-prefetch\" href=\"//cdn-gs.fresh8.co\">\\n        <link rel=\"dns-prefetch\" href=\"//static.chartbeat.com\">\\n        <link rel=\"dns-prefetch\" href=\"//assets.adobedtm.com\">\\n        <link rel=\"dns-prefetch\" href=\"//img.skysports.com\">\\n        <link rel=\"dns-prefetch\" href=\"//video.skysports.com\">\\n        <link rel=\"dns-prefetch\" href=\"//cdn.livefyre.com\">\\n        <link rel=\"dns-prefetch\" href=\"//app-cdn.spot.im\">\\n        <link rel=\"dns-prefetch\" href=\"//cdn.teads.tv\">\\n        <link rel=\"dns-prefetch\" href=\"//services.babator.com\">\\n        <link rel=\"dns-prefetch\" href=\"//eu-services.babator.com\">\\n        <link rel=\"dns-prefetch\" href=\"//widgets.oddschecker.com\">\\n        <link rel=\"dns-prefetch\" href=\"//pagead2.googlesyndication.com\">\\n        <link rel=\"dns-prefetch\" href=\"//metrics-api.librato.com\">\\n        <link rel=\"dns-prefetch\" href=\"//cloud-static.storage.googleapis.com\">\\n    \\n    <meta name=\"apple-mobile-web-app-capable\" content=\"yes\">\\n    <meta name=\"apple-mobile-web-app-title\" content=\"Sky Sports\">\\n    <meta name=\"application-name\" content=\"SkySports\">\\n    <meta name=\"viewport\" id=\"viewport\" content=\"width=device-width,maximum-scale=1,minimum-scale=1,minimal-ui\">\\n    <meta name=\"apple-mobile-web-app-status-bar-style\" content=\"black\">\\n    <meta name=\"format-detection\" content=\"telephone=no\">\\n    <meta name=\"google-site-verification\" content=\"GeOj3ib0hXB5Iewz4HWUfve0FidZUHpPXlBi6oPOTjU\" />\\n    <meta property=\"fb:pages\" content=\"10911153761\" /><meta property=\"fb:admins\" content=\"509247152,100000206570823\" />\\n<meta property=\"og:title\" content=\"Football (Sky Sports)\" />\\n<meta property=\"og:url\" content=\"https://www.skysports.com/football/tables\" />\\n<meta property=\"og:description\" content=\"Sky Sports Football - Live games, scores, latest football news, transfers, results, fixtures and team news from the Premier to the Champions League.\" />\\n<meta property=\"og:site_name\" content=\"SkySports\" />\\n\\n<script>\\nif ((/iPad|iPhone|iPod/).test(navigator.userAgent)) {\\n    var headNode = document.getElementsByTagName(\\'head\\')[0];\\n    var sbNode = document.createElement(\\'meta\\');\\n    sbNode.name = \\'apple-itunes-app\\';\\n    sbNode.content = \\'app-id=500102120\\';\\n    headNode.appendChild(sbNode);\\n}\\n</script>\\n\\n    \\n    <link rel=\"shortcut icon\" href=\"/favicon.ico\" type=\"image/x-icon\" />\\n<link rel=\"apple-touch-icon-precomposed\" href=\"/apple-touch-icon-precomposed.png\" />\\n\\n        <style data-webfont-src=\"/core/css/fonts/skytext-reg.css\"></style>\\n    <style data-webfont-src=\"/core/css/fonts/skytext-med.css\"></style>\\n    <style data-webfont-src=\"/core/css/fonts/skycons.css\"></style>\\n\\n            <link rel=\"stylesheet\" href=\"/core/css/skysports-digrev.css\" type=\"text/css\" media=\"all\" title=\"default\" />\\n\\n    <!--[if IE 8]>\\n        <link rel=\"stylesheet\" type=\"text/css\" href=\"/core/css/skysports-digrev-ie8.css\">\\n    <![endif]-->\\n\\n    <script id=\"script-polyfills\" data-grade-b-src=\"/core/js/head-grade-b.js\" data-grade-c-src=\"/core/js/head-grade-c.js\"></script>\\n    <script>// google ads set up\\n        var googletag = googletag || {};\\n        googletag.cmd = googletag.cmd || [];\\n        googletag.adSlots = {};</script>\\n          <script type=\"text/javascript\">\\n      var _sf_async_config = _sf_async_config || {};\\n      _sf_async_config.uid = \\'43610\\';\\n      _sf_async_config.domain = \\'skysports.com\\';\\n      _sf_async_config.flickerControl = false;\\n      _sf_async_config.useCanonical = true;\\n  </script>\\n\\n\\n    <script>window.sdc = window.sdc || {}, window.sdc.checkConsent = function(t, i) {\\n    t && (t.dataset.consent && \"true\" === t.dataset.consent.toString() ? i() : new MutationObserver(function(t, e) {\\n        for (var n in t) \"attributes\" === (n = t[n]).type && \"data-consent\" === n.attributeName && n.target.attributes.getNamedItem(n.attributeName).value && (i(), \\n        e.disconnect());\\n    }).observe(t, {\\n        attributes: !0\\n    }));\\n}, window.SKY_SPORTS = window.SKY_SPORTS || {\\n    deferedFunctionsCalled: !1,\\n    deferredArray: [],\\n    deferred: function(t) {\\n        this.deferredArray.push(t);\\n    },\\n    callDeferredFunctions: function() {\\n        if (!this.deferedFunctionsCalled) {\\n            for (var t = -1; ++t < this.deferredArray.length; ) this.deferredArray[t] && this.deferredArray[t].call();\\n            this.deferedFunctionsCalled = !0;\\n        }\\n    },\\n    initIframeWidget: function(e) {\\n        window.addEventListener(\"message\", function(t) {\\n            e.style.height = t.data + \"px\";\\n        });\\n    }\\n}, function() {\\n    for (var a = 0, t = [ \"moz\", \"webkit\" ], e = 0; e < t.length && !window.requestAnimationFrame; ++e) window.requestAnimationFrame = window[t[e] + \"RequestAnimationFrame\"], \\n    window.cancelAnimationFrame = window[t[e] + \"CancelAnimationFrame\"] || window[t[e] + \"CancelRequestAnimationFrame\"];\\n    window.requestAnimationFrame || (window.requestAnimationFrame = function(t) {\\n        var e = new Date().getTime(), n = Math.max(0, 16 - (e - a)), i = window.setTimeout(function() {\\n            t(e + n);\\n        }, n);\\n        return a = e + n, i;\\n    }), window.cancelAnimationFrame || (window.cancelAnimationFrame = function(t) {\\n        clearTimeout(t);\\n    });\\n}(), function() {\\n    var t = document.createElement(\"div\");\\n    t.setAttribute(\"data-a\", \"b\"), t.className = \"a\";\\n    var e = document.getElementById(\"script-polyfills\");\\n    e && (\"addEventListener\" in window && Function.prototype.bind && String.prototype.trim && \"textContent\" in t && Array.prototype.indexOf || document.write(\"<script src=\\'\" + e.getAttribute(\"data-grade-c-src\") + \"\\'><\\\\/script>\"), \\n    \"classList\" in t && \"dataset\" in t || document.write(\"<script src=\\'\" + e.getAttribute(\"data-grade-b-src\") + \"\\'><\\\\/script>\"));\\n}(), SKY_SPORTS.getUa = function(e) {\\n    function t(t) {\\n        return !!e.match(t) && parseFloat(e.match(t)[1].replace(\"_\", \".\"));\\n    }\\n    var n = !1;\\n    null !== new RegExp(\"MSIE ([0-9]{1,}[.0-9]{0,})\").exec(e) && (n = parseFloat(RegExp.$1));\\n    var i = e.match(/iPad/), a = e.match(/iP/), o = e.match(/android/i), r = e.match(/windows phone/i), s = navigator.platform.match(/mac|win/i), c = {\\n        classList: \"\"\\n    };\\n    return r && ((c = {\\n        mobile: !0,\\n        windowsphone: !0,\\n        name: \"windowsphone\",\\n        version: t(/os ([0-9]\\\\.[0-9])/i) || t(/windows phone ([0-9]\\\\.[0-9])/i)\\n    }).classList = [ c.name, c.name + c.version, \"mobile\" ].join(\" \")), n && ((c = {\\n        msie: !0,\\n        name: \"msie\",\\n        version: n\\n    }).classList = [ c.name, c.name + c.version ].join(\" \")), (i || a) && ((c = {\\n        ios: !0,\\n        name: i ? \"ipad\" : \"iphone\",\\n        mobile: !0,\\n        version: t(/os ([1-9]\\\\_[0-9])/i)\\n    }).classList = [ c.name, c.name + c.version, c.device, \"ios\", \"ios\" + c.version, \"mobile\" ].join(\" \")), \\n    o && ((c = {\\n        android: !0,\\n        name: \"android\",\\n        mobile: !0,\\n        version: t(/android ([1-9]\\\\.[0-9])/i)\\n    }).classList = [ c.name, c.name + c.version, \"mobile\" ].join(\" \")), s && (c.desktop = !0, \\n    c.classList += \" desktop\"), c;\\n}, SKY_SPORTS.getFeatures = function(n, t) {\\n    function e(t, e) {\\n        return n.classList += e ? \" \" + t : \" no-\" + t, e;\\n    }\\n    t.style.cssText = \"-webkit-animation-name:shim;animation-name:shim;-moz-animation-name:shim;width:10vw\", \\n    n.hasTouch = e(\"touch\", \"ontouchstart\" in window || \"DocumentTouch\" in window && document instanceof window.DocumentTouch), \\n    n.hasSvg = e(\"svg\", !!document.implementation.hasFeature(\"http://www.w3.org/TR/SVG11/feature#BasicStructure\", \"1.1\")), \\n    n.hasCssAnimations = e(\"cssanimations\", !!(t.style.animationName || t.style.webkitAnimationName || t.style.mozAnimationName)), \\n    n.hasVpUnits = e(\"vpunits\", !!t.style.width), n.hasWebWorkers = e(\"web-workers\", !!window.Worker);\\n    var i = {\\n        webkitAnimation: \"webkitAnimationStart\",\\n        mozAnimation: \"mozAnimationStart\",\\n        animation: \"animationstart\",\\n        msAnimation: \"MSAnimationStart\"\\n    };\\n    for (var a in i) a in t.style && (n.animationEventName = i[a]);\\n    return n;\\n}, SKY_SPORTS.device = SKY_SPORTS.getUa(navigator.userAgent), SKY_SPORTS.getFeatures(SKY_SPORTS.device, document.createElement(\"div\")), \\ndocument.documentElement.className = \"js \" + SKY_SPORTS.device.classList, function(e, t) {\\n    e.SKY_SPORTS = e.SKY_SPORTS || {}, localStorage.removeItem(\"jscss\");\\n    var n = t.createElement(\"style\"), i = \"ss.js.styles\", a = {}, o = e.localStorage.getItem(i);\\n    function r() {\\n        var t = function() {\\n            var t = \"\";\\n            for (var e in a) t += a[e];\\n            return t;\\n        }();\\n        n.styleSheet ? n.styleSheet.cssText = t : n.textContent = t, e.localStorage.setItem(i, JSON.stringify(a));\\n    }\\n    n.id = i, t.getElementsByTagName(\"head\")[0].appendChild(n), o && (a = JSON.parse(o)), \\n    r(), e.SKY_SPORTS.addCss = function(t) {\\n        t.id in a != 0 && a[t.id] === t.css || (a[t.id] = t.css), r();\\n    }, e.SKY_SPORTS.removeCss = function(t) {\\n        t in a && delete a[t], r();\\n    };\\n}(window, document), function(r) {\\n    function s(t, e) {\\n        e.match(\"font-family: \\'SkyTextMed\\'\") && (e += e.replace(\"font-family: \\'SkyTextMed\\'\", \"font-weight: 600; font-family: \\'skytext\\'\")), \\n        e.match(\"font-family: \\'SkyTextReg\\'\") && (e += e.replace(\"font-family: \\'SkyTextReg\\'\", \"font-weight: 400; font-family: \\'skytext\\'\")), \\n        t.styleSheet ? t.styleSheet.cssText = e : t.textContent = e;\\n    }\\n    SKY_SPORTS.getFont = function(e, t) {\\n        if (\"keys\" in Object != !1) {\\n            var n, i;\\n            n = t.split(\"/\").pop(), (i = n.split(\"-\")).splice(-1), i = i.join(\"-\");\\n            var a = r.localStorage.getItem(n);\\n            if (a) s(e, a); else {\\n                Object.keys(r.localStorage).forEach(function(t) {\\n                    t.match(i) && r.localStorage.removeItem(t);\\n                });\\n                var o = new XMLHttpRequest();\\n                o.onreadystatechange = function() {\\n                    if (4 === this.readyState && 200 === this.status) {\\n                        var t = this.responseText;\\n                        s(e, t), r.localStorage.setItem(n, t);\\n                    }\\n                }, o.open(\"GET\", t, !0), o.send();\\n            }\\n        }\\n    };\\n    for (var t = document.querySelectorAll(\"style[data-webfont-src]\"), e = -1; ++e < t.length; ) SKY_SPORTS.getFont(t[e], t[e].getAttribute(\"data-webfont-src\"));\\n}(window), function(e, n) {\\n    \"use strict\";\\n    if (n.currentBreakPoint = 10, n.currentAdvertBreakPoint = \"display\", n.getBreakPoint = function() {\\n        var t = e.getComputedStyle(n.body, \":after\").getPropertyValue(\"content\");\\n        return t = parseInt(t.replace(/[\\'\"]/g, \"\"), 10);\\n    }, n.getAdvertBreakPoint = function() {\\n        return e.getComputedStyle(n.body, \":before\").getPropertyValue(\"content\").replace(/[\\'\"]/g, \"\");\\n    }, Function.prototype.debounce = function(t) {\\n        var e = this;\\n        return function() {\\n            e.args = arguments, e.timeout_id && clearTimeout(e.timeout_id), e.timeout_id = setTimeout(function() {\\n                return e.apply(e, e.args);\\n            }, t);\\n        };\\n    }, n.createEvent) {\\n        var i = n.createEvent(\"Event\");\\n        i.initEvent(\"breakPointChange\", !0, !0);\\n        var a = n.createEvent(\"Event\");\\n        a.initEvent(\"advertChange\", !0, !0), e.addEventListener(\"DOMContentLoaded\", function() {\\n            n.currentBreakPoint = n.getBreakPoint(), n.currentAdvertBreakPoint = n.getAdvertBreakPoint();\\n        }, !1), e.addEventListener(\"resize\", function() {\\n            var t = n.getBreakPoint(), e = n.getAdvertBreakPoint();\\n            t !== n.currentBreakPoint && (n.currentBreakPoint = t, n.dispatchEvent(i)), e !== n.currentAdvertBreakPoint && (n.currentAdvertBreakPoint = e, \\n            n.dispatchEvent(a));\\n        }.debounce(300), !1);\\n    }\\n}(window, document), function() {\\n    function s(t) {\\n        for (var e = document.cookie.split(\";\"), n = -1; ++n < e.length; ) {\\n            var i = e[n].split(\"=\");\\n            if (i[0].match(t)) return decodeURIComponent(i[1]);\\n        }\\n        return \"\";\\n    }\\n    function c() {\\n        var t = window.SKY_SPORTS.user;\\n        return t.isLoggedIn ? t.isSkySports ? 1 : t.isWholesale ? 3 : 4 : 2;\\n    }\\n    window.SKY_SPORTS = window.SKY_SPORTS || {}, function t() {\\n        var e, n, i = s(\"interactive\"), a = i ? JSON.parse(i) : {}, o = s(\"skySportsSSO\"), r = {\\n            isLoggedIn: (e = o, !!e),\\n            getType: c,\\n            set: t\\n        };\\n        r.isLoggedIn && (r.name = a.f || \"\", r.isSkyHD = 1 === a.hd, r.isSky = 1 === a.st, \\n        r.isSkySports = 2 === a.st, r.isNowTV = 3 === a.st, r.isWholesale = !(!(n = o) || !n.match(/^WIG/))), \\n        window.SKY_SPORTS.user = r, function(t) {\\n            var e = t.getType(), n = 1 === e || 3 === e ? \\'.item[data-role=\"nosub\"]{display:none!important}.item[data-role=\"sub\"]{display:inline-block!important}\\' : \\'.item[data-role=\"sub\"] {display:none!important}\\';\\n            n += 1 !== e || t.isWholesale ? \"\" : \".remote-record-link.-hdn {display:block!important}\";\\n            var i = t.isWholesale ? \"[data-not-for-wholesale]{display:none!important}\" : \"\";\\n            window.SKY_SPORTS.addCss({\\n                id: \"userTypeButton\",\\n                css: \\'.button[data-role=\"subscriber-promo-button\"]:after{content:attr(data-usertype\\' + e + \")}\" + n + i\\n            }), window.SKY_SPORTS.addCss({\\n                id: \"userLabel\",\\n                css: \".user-label:after{content:attr(data-label-type\" + e + \")}\"\\n            });\\n        }(window.SKY_SPORTS.user);\\n    }();\\n}(), SKY_SPORTS.postpone = {\\n    funcs: {},\\n    init: function() {\\n        this.items = document.getElementsByClassName(\"postpone\"), this.addFunc(\"removeclass\", function() {\\n            var t = this.getAttribute(\"data-postpone-removeclass\");\\n            t && this.classList.remove(t), this.classList.remove(\"postpone\");\\n        }), this.scan();\\n    },\\n    addFunc: function(t, e) {\\n        this.funcs[t] = e;\\n    },\\n    scan: function() {\\n        for (var t = -1; ++t < this.items.length; ) {\\n            var e, n = this.items[t];\\n            n.whenVisible || (e = n.getAttribute(\"data-postpone-call\")) && this.funcs[e] && (n.whenVisible = this.funcs[e], \\n            n.setAttribute(\"data-postpone-class\", this.className), n.detach = this.detach), \\n            this.isInViewPort(n) && n.whenVisible();\\n        }\\n        var i = this;\\n        setTimeout(function() {\\n            window.requestAnimationFrame(i.scan.bind(i));\\n        }, 50);\\n    },\\n    isInViewPort: function(t) {\\n        var e = t.getBoundingClientRect();\\n        return 0 !== e.width && (!(e.bottom < 0) && !(window.innerHeight - e.top < 0));\\n    }\\n}, SKY_SPORTS.postpone.init();</script>\\n    \\n          <script src=\"//assets.adobedtm.com/launch-ENd3e4df0dfde7473d823092cac7cd0611.min.js\"></script>\\n        <script type=\"text/javascript\"> \\n        !function () { var e = function () { var e, t = \"__tcfapiLocator\", a = [], n = window; for (; n;) { try { if (n.frames[t]) { e = n; break } } catch (e) { } if (n === window.top) break; n = n.parent } e || (!function e() { var a = n.document, r = !!n.frames[t]; if (!r) if (a.body) { var i = a.createElement(\"iframe\"); i.style.cssText = \"display:none\", i.name = t, a.body.insertAdjacentElement(\\'afterbegin\\', i) } else setTimeout(e, 5); return !r }(), n.__tcfapi = function () { for (var e, t = arguments.length, n = new Array(t), r = 0; r < t; r++)n[r] = arguments[r]; if (!n.length) return a; if (\"setGdprApplies\" === n[0]) n.length > 3 && 2 === parseInt(n[1], 10) && \"boolean\" == typeof n[3] && (e = n[3], \"function\" == typeof n[2] && n[2](\"set\", !0)); else if (\"ping\" === n[0]) { var i = { gdprApplies: e, cmpLoaded: !1, cmpStatus: \"stub\" }; \"function\" == typeof n[2] && n[2](i) } else a.push(n) }, n.addEventListener(\"message\", (function (e) { var t = \"string\" == typeof e.data, a = {}; try { a = t ? JSON.parse(e.data) : e.data } catch (e) { } var n = a.__tcfapiCall; n && window.__tcfapi(n.command, n.version, (function (a, r) { var i = { __tcfapiReturn: { returnValue: a, success: r, callId: n.callId } }; t && (i = JSON.stringify(i)), e.source.postMessage(i, \"*\") }), n.parameter) }), !1)) }; \"undefined\" != typeof module ? module.exports = e : e() }();\\n    </script>\\n    <script>\\n        window._sp_ = {\\n            config: {\\n                accountId: 630,\\n                propertyId: 2370,\\n                wrapperAPIOrigin: \"https://wrapper-api.sp-prod.net/tcfv2\",\\n                mmsDomain: \"https://message630.sp-prod.net\",\\n                \\n                \\n                \\n            }\\n        }\\n    </script>\\n    <script src=\"https://gdpr-tcfv2.sp-prod.net/wrapperMessagingWithoutDetection.js\"></script>\\n    <script>\\n        __tcfapi(\\'addEventListener\\', 2, function(tcData, success) {\\n            if (success) {\\n                if (tcData.eventStatus === \\'useractioncomplete\\') {\\n                   __tcfapi(\\'getCustomVendorConsents\\', 2, function(vendorConsents, success) {\\n                       if (success) {\\n                           const consentedVendors = vendorConsents.consentedVendors || [];\\n                           const grants = vendorConsents.grants;\\n                           const mappedVendors = consentedVendors\\n                               .filter(vendor => grants[vendor._id].vendorGrant)\\n                               .map(vendor => vendor._id)\\n                               .map(id => {\\n                                   return window.sdc.consentIdMapping.find(\\n                                           vendorRecord => vendorRecord.sourcepointId === id\\n                                   );\\n                               })\\n                               .filter(record => !!record);\\n                           const consentString = \":\" + mappedVendors.map(vendor => vendor.gdpId).join(\\':\\') + \":\";\\n                           let expiryDate = new Date();\\n                           expiryDate.setMonth(expiryDate.getMonth() + 3);\\n                           document.cookie = \\'consents=\\' + consentString +\\'; expires=\\' + expiryDate + \\'; path=/\\';\\n                           mappedVendors\\n                               .filter(vendor => vendor.active)\\n                               .forEach(vendor => {\\n                                   document.querySelectorAll(`[data-vendor-name=\"${vendor.vendorName.toLowerCase()}\"]`).forEach((e) => e.dataset.consent = true);\\n                               });\\n                           const pendingVendors = document.querySelectorAll(\\'[data-consent=\"pending\"]\\');\\n                           if (pendingVendors.length){\\n                               pendingVendors.forEach(vendor => {\\n                                   vendor.dataset.consent = false;\\n                               });\\n                           }\\n                       }\\n                   })\\n                }\\n            }\\n        });\\n    </script>\\n\\n    <script type=\"text/javascript\" id=\"google-tag-manager-init\" data-consent=\"false\" data-vendor-name=\"google-tag-manager\">\\n        //<![CDATA[\\n        var init = function () {\\n            var googleAdsJs = document.createElement(\\'script\\');\\n            googleAdsJs.type = \\'text/javascript\\';\\n            googleAdsJs.async = true;\\n            googleAdsJs.charset = \\'utf-8\\';\\n            googleAdsJs.src = \\'https://www.googletagservices.com/tag/js/gpt.js\\';\\n            var s = document.getElementsByTagName(\\'script\\')[0];\\n            s.parentNode.insertBefore(googleAdsJs, s);\\n        };\\n        (function () {\\n            if (!window.sdc || !window.sdc.checkConsent) {\\n                init();\\n                return;\\n            }\\n            window.sdc.checkConsent(document.currentScript, init);\\n        })();\\n        //]]>\\n    </script>\\n\\n    <script type=\"text/javascript\">\\n/* <![CDATA[ */\\n(function() {\\n    window.dm = window.dm ||{ AjaxData:[]};\\n    window.dm.AjaxEvent = function(et, d, ssid, ad){\\n        dm.AjaxData.push({ et: et,d: d,ssid: ssid,ad: ad});\\n        if(typeof window.DotMetricsObj != \\'undefined\\') {DotMetricsObj.onAjaxDataUpdate();}\\n    };\\n    var d = document,\\n    h = d.getElementsByTagName(\\'head\\')[0],\\n    s = d.createElement(\\'script\\');\\n    s.type = \\'text/javascript\\';\\n    s.async = true;\\n        s.src = \\'https://uk-script.dotmetrics.net/door.js?id=11726\\';\\n    h.appendChild(s);\\n} ());\\n/* ]]> */\\n</script>\\n</head>\\n<body  >\\n    \\n<div class=\"site-header\">\\n\\n    <div class=\"site-header__body\">\\n\\n        <div class=\"site-header__col site-header__col1\">\\n            <a href=\"https://www.skysports.com\" class=\"svg-logo site-header__logo\">\\n                <img class=\"svg-logo__image\" src=\"/core/img/channels/Sky-Sports-Logo-transparent.svg\" onerror=\"this.onerror=null;this.src=\\'/core/img/channels/Sky-Sports-Logo.png\\'\" alt=\"Sky Sports Channel Logo\">\\n            </a>\\n        </div>\\n\\n                <div class=\"site-header__col site-header__col2\">\\n        <div class=\"site-login callfn\" data-fn=\"skyid-login\" data-lite=\"true\">\\n            <script type=\"text/template\" class=\"login-text\" data-role=\"default\">\\n                <!--default-->\\n                <ul class=\"site-login__links\">\\n                    <li class=\"site-login__item site-login__item--promo\"><a href=\"https://www.skysports.com/watch/get-sky\" class=\"site-login__link\">Get Sky Sports</a></li>\\n                    <li class=\"site-login__item\"><a class=\"site-login__link site-login__link--user callfn\" href=\"https://skyid.sky.com/signin/sports?successUrl=https%3A%2F%2Fwww.skysports.com%2Ffootball%2Ftables\" data-mobile-url=\"/sso/signin/mobile\" data-desktop-url=\"/sso/signin/desktop\" data-lite=\"true\" >Log In</a></li>\\n                </ul>\\n            </script>\\n            <script type=\"text/template\" class=\"login-text\" data-role=\"isSkySports\">\\n                <!-- sky sports user logged in -->\\n                <ul class=\"site-login__links\">\\n                    <li class=\"site-login__item\"><span class=\"site-login__link site-login__link--user\">#{name}</span></li>\\n                    <li class=\"site-login__item\"><a href=\"https://www.skysports.com/signout?url=https://www.skysports.com%2Ffootball%2Ftables\" class=\"site-login__link site-login__link--signout\">Log Out</a></li>\\n                </ul>\\n            </script>\\n            <script type=\"text/template\" class=\"login-text\" data-role=\"isSky\">\\n                <!-- sky sports user logged in -->\\n                <ul class=\"site-login__links\">\\n                    <li class=\"site-login__item site-login__item--promo\">\\n                        <a href=\"/watch/get-sky\" class=\"site-login__link\">Upgrade</a>\\n                    </li>\\n                    <li class=\"site-login__item\"><span class=\"site-login__link site-login__link--user\">#{name}</span></li>\\n                    <li class=\"site-login__item\"><a href=\"https://www.skysports.com/signout?url=https://www.skysports.com%2Ffootball%2Ftables\" class=\"site-login__link site-login__link--signout\">Log Out</a></li>\\n                </ul>\\n            </script>\\n            <script type=\"text/template\" class=\"login-text\" data-role=\"isNowTv\">\\n                <!-- now tv customer -->\\n                <ul class=\"site-login__links\">\\n                    <li class=\"site-login__item site-login__item--promo\"><a href=\"https://www.skysports.com/watch/get-sky\" class=\"site-login__link\">Get Sky Sports</a></li>\\n                    <li class=\"site-login__item\"><span class=\"site-login__link site-login__link--user\">#{name}</span></li>\\n                    <li class=\"site-login__item\"><a href=\"https://www.skysports.com/signout?url=https://www.skysports.com%2Ffootball%2Ftables\" class=\"site-login__link site-login__link--signout\">Log Out</a></li>\\n                </ul>\\n            </script>\\n            <script type=\"text/template\" class=\"login-text\" data-role=\"isLoggedIn\">\\n                <!-- just a sky id login -->\\n                <ul class=\"site-login__links\">\\n                    <li class=\"site-login__item site-login__item--promo\"><a href=\"https://www.skysports.com/watch/get-sky\" class=\"site-login__link\">Get Sky Sports</a></li>\\n                    <li class=\"site-login__item\"><span class=\"site-login__link site-login__link--user\">#{name}</span></li>\\n                    <li class=\"site-login__item\"><a href=\"https://www.skysports.com/signout?url=https://www.skysports.com%2Ffootball%2Ftables\" class=\"site-login__link site-login__link--signout\">Log Out</a></li>\\n                </ul>\\n            </script>\\n            <script type=\"text/template\" class=\"login-text\" data-role=\"isWholesale\">\\n                <!-- wholesale customer -->\\n                <ul class=\"site-login__links\">\\n                    <li class=\"site-login__item\"><span class=\"site-login__link site-login__link--user\"></span></li>\\n                    <li class=\"site-login__item\"><a href=\"https://www.skysports.com/signout?url=https://www.skysports.com%2Ffootball%2Ftables\" class=\"site-login__link site-login__link--signout\">Log Out</a></li>\\n                </ul>\\n            </script>\\n        </div>\\n    </div>\\n\\n    <div class=\"site-header__col site-header__col3\">\\n\\n        <form action=\"https://www.skysports.com/search\" method=\"GET\" class=\"site-search\">\\n            <input type=\"text\" name=\"q\" placeholder=\"Search Sky Sports\" accesskey=\"q\" autocomplete=\"off\" autocorrect=\"off\" autocapitalize=\"off\" class=\"site-search__input\">\\n            <input type=\"hidden\" value=\"the site\" name=\"searchtype\">\\n            <input type=\"hidden\" name=\"v\" value=\"2\">\\n            <button class=\"site-search__button\" aria-label=\"Search\">\\n                <span class=\"site-search__button-label\">Search</span>\\n            </button>\\n        </form>\\n\\n    </div>\\n\\n    <a class=\"site-header__col site-header__col4 site-header__nav-button-hit-area\" data-role=\"open-left-hand-nav\" href=\"#no-js-nav\" tabindex=\"1\">\\n        <svg version=\"1.1\" xmlns=\"http://www.w3.org/2000/svg\" xmlns:xlink=\"http://www.w3.org/1999/xlink\" viewBox=\"0 0 2048 2048\" xml:space=\"preserve\" class=\"site-header__nav-button\">\\n            <rect y=\"384\" width=\"2048\" height=\"256\"></rect>\\n            <rect y=\"896\" width=\"2048\" height=\"256\"></rect>\\n            <rect y=\"1408\" width=\"2048\" height=\"256\"></rect>\\n        </svg>\\n    </a>\\n\\n    </div>\\n\\n    <!-- desktop nav -->\\n<div class=\"site-nav-desktop__wrap adaptive-content callfn\" data-fn=\"adaptive-content\" data-lite=\"true\" aria-hidden=\"true\">\\n<script type=\"text/template\">\\n<div class=\"site-nav-desktop callfn\" role=\"navigation\" data-fn=\"site-nav-desktop\" data-lite=\"true\">\\n<ul class=\"site-nav-desktop__body\">\\n<li class=\"site-nav-desktop__item\">\\n<a href=\"/\" class=\"site-nav-desktop__item-link\">\\nHome</a>\\n</li>\\n<li class=\"site-nav-desktop__item\">\\n<a href=\"#site-nav-desktop-sports-more-nav\" class=\"site-nav-desktop__item-link site-nav-desktop__item-link--more\" aria-controls=\"site-nav-desktop-sports-more-nav\" id=\"site-nav-desktop-sports-more\">\\nSports</a>\\n<div class=\"site-nav-desktop__menu\" aria-labelledby=\"site-nav-desktop-sports-more\" id=\"site-nav-desktop-sports-more-nav\">\\n<div class=\"site-nav-desktop__menu-body\">\\n<ul class=\"site-nav-desktop__menu-links\">\\n<li class=\"site-nav-desktop__menu-item\">\\n<a class=\"site-nav-desktop__menu-link\" href=\"/football\">\\nFootball</a>\\n</li>\\n<li class=\"site-nav-desktop__menu-item\">\\n<a class=\"site-nav-desktop__menu-link\" href=\"/f1\">\\nF1</a>\\n</li>\\n<li class=\"site-nav-desktop__menu-item\">\\n<a class=\"site-nav-desktop__menu-link\" href=\"/cricket\">\\nCricket</a>\\n</li>\\n<li class=\"site-nav-desktop__menu-item\">\\n<a class=\"site-nav-desktop__menu-link\" href=\"/rugby-union\">\\nRugby Union</a>\\n</li>\\n<li class=\"site-nav-desktop__menu-item\">\\n<a class=\"site-nav-desktop__menu-link\" href=\"/rugby-league\">\\nRugby League</a>\\n</li>\\n<li class=\"site-nav-desktop__menu-item\">\\n<a class=\"site-nav-desktop__menu-link\" href=\"/golf\">\\nGolf</a>\\n</li>\\n<li class=\"site-nav-desktop__menu-item\">\\n<a class=\"site-nav-desktop__menu-link\" href=\"/boxing\">\\nBoxing</a>\\n</li>\\n<li class=\"site-nav-desktop__menu-item\">\\n<a class=\"site-nav-desktop__menu-link\" href=\"/nfl\">\\nNFL</a>\\n</li>\\n<li class=\"site-nav-desktop__menu-item\">\\n<a class=\"site-nav-desktop__menu-link\" href=\"/tennis\">\\nTennis</a>\\n</li>\\n<li class=\"site-nav-desktop__menu-item\">\\n<a class=\"site-nav-desktop__menu-link\" href=\"/racing\">\\nRacing</a>\\n</li>\\n<li class=\"site-nav-desktop__menu-item\">\\n<a class=\"site-nav-desktop__menu-link\" href=\"/darts\">\\nDarts</a>\\n</li>\\n<li class=\"site-nav-desktop__menu-item\">\\n<a class=\"site-nav-desktop__menu-link\" href=\"/nba\">\\nNBA</a>\\n</li>\\n<li class=\"site-nav-desktop__menu-item\">\\n<a class=\"site-nav-desktop__menu-link\" href=\"/netball\">\\nNetball</a>\\n</li>\\n<li class=\"site-nav-desktop__menu-item\">\\n<a class=\"site-nav-desktop__menu-link\" href=\"/gaa\">\\nGAA</a>\\n</li>\\n<li class=\"site-nav-desktop__menu-item\">\\n<a class=\"site-nav-desktop__menu-link\" href=\"/mma\">\\nMMA</a>\\n</li>\\n<li class=\"site-nav-desktop__menu-item\">\\n<a class=\"site-nav-desktop__menu-link\" href=\"/more-sports\">\\nMore Sports</a>\\n</li>\\n</ul>\\n</div>\\n</div>\\n</li>\\n<li class=\"site-nav-desktop__item\">\\n<a href=\"/live-scores\" class=\"site-nav-desktop__item-link\">\\nScores</a>\\n</li>\\n<li class=\"site-nav-desktop__item\">\\n<a href=\"/watch/video\" class=\"site-nav-desktop__item-link\">\\nVideo</a>\\n</li>\\n<li class=\"site-nav-desktop__item\">\\n<a href=\"/watch\" class=\"site-nav-desktop__item-link\">\\nTV</a>\\n</li>\\n<li class=\"site-nav-desktop__item\">\\n<a href=\"https://www.skybet.com?aff=9749&dcmp=ss_main_nav\" class=\"site-nav-desktop__item-link\" target=\"_blank\">\\nSky Bet</a>\\n</li>\\n<li class=\"site-nav-desktop__item\">\\n<a href=\"/games\" class=\"site-nav-desktop__item-link\">\\nGames</a>\\n</li>\\n<li class=\"site-nav-desktop__item\">\\n<a href=\"#site-nav-desktop-more-more-nav\" class=\"site-nav-desktop__item-link site-nav-desktop__item-link--more\" aria-controls=\"site-nav-desktop-more-more-nav\" id=\"site-nav-desktop-more-more\">\\nMore</a>\\n<div class=\"site-nav-desktop__menu site-nav-desktop__menu--right\" aria-labelledby=\"site-nav-desktop-more-more\" id=\"site-nav-desktop-more-more-nav\">\\n<div class=\"site-nav-desktop__menu-body\">\\n<ul class=\"site-nav-desktop__menu-links\">\\n<li class=\"site-nav-desktop__menu-item\">\\n<a class=\"site-nav-desktop__menu-link\" href=\"/transfer-centre\">\\nTransfer Centre</a>\\n</li>\\n<li class=\"site-nav-desktop__menu-item\">\\n<a class=\"site-nav-desktop__menu-link\" href=\"/watch/sport-on-sky\">\\nLive on Sky</a>\\n</li>\\n<li class=\"site-nav-desktop__menu-item\">\\n<a class=\"site-nav-desktop__menu-link\" href=\"/get-sky?dcmp=gss_more_dropdown\">\\nGet Sky Sports</a>\\n</li>\\n<li class=\"site-nav-desktop__menu-item\">\\n<a class=\"site-nav-desktop__menu-link\" href=\"/watch/tv-shows\">\\nTV Shows</a>\\n</li>\\n<li class=\"site-nav-desktop__menu-item\">\\n<a class=\"site-nav-desktop__menu-link\" href=\"/watch/tv-guide\">\\nTV Guide</a>\\n</li>\\n<li class=\"site-nav-desktop__menu-item\">\\n<a class=\"site-nav-desktop__menu-link\" href=\"https://www.sky.com/shop/tv/sky-go/?dcmp=skygo_ss.com_more\" target=\"_blank\">\\nSky Go</a>\\n</li>\\n<li class=\"site-nav-desktop__menu-item\">\\n<a class=\"site-nav-desktop__menu-link\" href=\"http://www.nowtv.com/promo/sky-sports?dcmp=ilc_SSNTV_skysports_hardcode_moredropdownlink\" target=\"_blank\">\\nNow TV</a>\\n</li>\\n<li class=\"site-nav-desktop__menu-item\">\\n<a class=\"site-nav-desktop__menu-link\" href=\"https://www.kickitout.org/forms/online-reporting-form\" target=\"_blank\">\\nKick It Out</a>\\n</li>\\n<li class=\"site-nav-desktop__menu-item\">\\n<a class=\"site-nav-desktop__menu-link\" href=\"/football/news/topic/8724/black-lives-matter\">\\nBlack Lives Matter</a>\\n</li>\\n<li class=\"site-nav-desktop__menu-item\">\\n<a class=\"site-nav-desktop__menu-link\" href=\"/sky-zero\">\\nSky Zero</a>\\n</li>\\n<li class=\"site-nav-desktop__menu-item\">\\n<a class=\"site-nav-desktop__menu-link\" href=\"/podcasts\">\\nPodcasts</a>\\n</li>\\n<li class=\"site-nav-desktop__menu-item\">\\n<a class=\"site-nav-desktop__menu-link\" href=\"/mobile\">\\nMobile</a>\\n</li>\\n<li class=\"site-nav-desktop__menu-item\">\\n<a class=\"site-nav-desktop__menu-link\" href=\"https://twitter.com/SkySports\" target=\"_blank\">\\nTwitter</a>\\n</li>\\n<li class=\"site-nav-desktop__menu-item\">\\n<a class=\"site-nav-desktop__menu-link\" href=\"https://www.facebook.com/SkySports\" target=\"_blank\">\\nFacebook</a>\\n</li>\\n<li class=\"site-nav-desktop__menu-item\">\\n<a class=\"site-nav-desktop__menu-link\" href=\"/contact-us\">\\nContact Us</a>\\n</li>\\n<li class=\"site-nav-desktop__menu-item\">\\n<a class=\"site-nav-desktop__menu-link\" href=\"/workatskysports\">\\nWork @ Sky Sports</a>\\n</li>\\n<li class=\"site-nav-desktop__menu-item\">\\n<a class=\"site-nav-desktop__menu-link\" href=\"https://www.sky.com/help/articles/skycom-terms-and-conditions\" target=\"_blank\">\\nTerms &amp; Conditions</a>\\n</li>\\n</ul>\\n</div>\\n</div>\\n</li>\\n</ul>\\n<a href=\"https://www.skysports.com/watch\" class=\"site-nav-desktop__watch-button no-default-hover no-default-active\"><span class=\"site-nav-desktop__watch-button__label\">Watch Sky Sports</span></a>\\n</div>\\n</script>\\n</div>\\n</div>\\n<div id=\"mobile-bet-basket\"></div>    <div class=\"advert--banner-wrap-ghost\">\\n        <div class=\"advert--banner-wrap\">\\n                    <div class=\"block advert advert--banner\">\\n            <div class=\"advert__container\" id=\"leaderboard\">\\n            </div>\\n        </div>\\n        </div>\\n    </div>\\n\\n<div class=\"site-wrapper \">\\n    <div class=\"grid site-layout-primary callfn\" data-fn=\"site-layout-primary\" data-lite=\"true\">\\n        <div class=\"grid__col site-layout-primary__col1 \"  >\\n    <div class=\"promotion-panel\">\\n        <a class=\"promotion-panel__inner-wrap\" href=\"http://www.skysports.com/football/news/11095/12370963/subscribe-to-the-essential-football-podcast-from-sky-sports\">\\n            <div class=\"promotion-panel__inner\">\\n\\n            <div class=\"promotion-panel__body\">\\n\\n                  <picture>\\n    <source media=\"(min-width:481px)\"\\n            srcset=\"https://e3.365dm.com/22/08/768x432/skysports-jesus-ronaldo-graphic_5865099.jpg?20220815082422\" />\\n    <source media=\"(max-width:480px)\"\\n            srcset=\"https://e3.365dm.com/22/08/384x512/skysports-jesus-ronaldo-graphic_5865099.jpg?20220815082422\"/>\\n    <img src=\"https://e3.365dm.com/22/08/1024x768/skysports-jesus-ronaldo-graphic_5865099.jpg?20220815082422\"\\n         class=\"promotion-panel__image\"\\n         alt=\"Essential Football: Man Utd\\'s malaise and chaos at the Bridge\">\\n </picture>\\n\\n                <div class=\"promotion-panel__body-inner\">\\n\\n                    <div class=\"promotion-panel__content\">\\n                        <h1 class=\"promotion-panel__title\">\\n                            Essential Football: Man Utd\\'s malaise and chaos at the Bridge                        </h1>\\n                        <h2 class=\"promotion-panel__abstract\">\\n                            Listen and subscribe to Sky Sports\\' brand new Essential Football podcast, with analysis of Man Utd\\'s capitulation, drama between Chelsea and Spurs, plus much more....                        </h2>\\n                    </div>\\n\\n                </div>\\n            </div>\\n\\n        </div>\\n        </a>\\n    </div>\\n<!-- page title -->\\n<div class=\"page-header \">\\n    <ul class=\"page-header__breadcrumb\">\\n                    </ul>\\n\\n    \\n    <h1 class=\"page-header__title\">\\n        <a href=\"/football\" class=\"page-header__title-link\">\\n            <abbr class=\"swap-text--bp30\" title=\"Football\">\\n                <span class=\"swap-text__target\">Football</span>\\n            </abbr>\\n        </a>\\n                                    <span class=\"page-header__title-subitem\">Tables</span>\\n                        </h1>\\n\\n            <div class=\"block page-header__sponsor\">\\n            <div class=\"advert__container\" id=\"sponsor-position\">\\n            </div>\\n        </div>\\n</div>\\n<div class=\"page-nav callfn\" data-fn=\"page-nav\" data-lite=\"true\">\\n            <a class=\"page-nav__head\" href=\"#page-nav\" aria-controls=\"page-nav-control\" id=\"page-nav-control\" >\\n            <h3 class=\"page-nav__title\">Home</h3>\\n            <div class=\"page-nav__title-more\"></div>\\n        </a>\\n        <div class=\"page-nav__frame\">\\n            <div class=\"page-nav__body\" id=\"page-nav\" aria-labelledby=\"page-nav\" style=\" visibility: hidden;\">\\n                <ul class=\"page-nav__item-group\">\\n                                                                                                                                                                                                                                                    <li class=\"page-nav__item\">\\n                                        <a href=\"/football/news\" class=\"page-nav__link\" >News</a>\\n                                    </li>\\n                                                                                                                                                <li class=\"page-nav__item page-nav__item--select\">\\n    <select class=\"page-nav__select callfn\"\\n            tabindex=\"-1\"\\n            aria-label=\"Select a team\"\\n            data-fn=\"implicit-personalisation-display\"\\n            data-lite=\"true\"\\n            data-key=\"football.team\"\\n            data-name=\"skysports-implicit-personalisation\"\\n            data-label=\"Your most viewed\"\\n            onchange=\"location.href=this.options[selectedIndex].value\">\\n        <option disabled selected=\"selected\">Select a team</option>\\n                                                <option\\n                         id=\"all-teams\"                         class=\"page-nav__select-option\"\\n                        value=\"/football/teams\">All Teams</option>\\n                                                                <optgroup label=\"Premier League\">\\n                                                    <option\\n                                class=\"page-nav__select-option\"\\n                                data-itemid=\"413\"\\n                                value=\"/arsenal\">Arsenal</option>\\n                                                    <option\\n                                class=\"page-nav__select-option\"\\n                                data-itemid=\"238\"\\n                                value=\"/aston-villa\">Aston Villa</option>\\n                                                    <option\\n                                class=\"page-nav__select-option\"\\n                                data-itemid=\"333\"\\n                                value=\"/bournemouth\">Bournemouth</option>\\n                                                    <option\\n                                class=\"page-nav__select-option\"\\n                                data-itemid=\"194\"\\n                                value=\"/brentford\">Brentford</option>\\n                                                    <option\\n                                class=\"page-nav__select-option\"\\n                                data-itemid=\"212\"\\n                                value=\"/brighton-and-hove-albion\">Brighton</option>\\n                                                    <option\\n                                class=\"page-nav__select-option\"\\n                                data-itemid=\"524\"\\n                                value=\"/chelsea\">Chelsea</option>\\n                                                    <option\\n                                class=\"page-nav__select-option\"\\n                                data-itemid=\"234\"\\n                                value=\"/crystal-palace\">Crystal Palace</option>\\n                                                    <option\\n                                class=\"page-nav__select-option\"\\n                                data-itemid=\"229\"\\n                                value=\"/everton\">Everton</option>\\n                                                    <option\\n                                class=\"page-nav__select-option\"\\n                                data-itemid=\"407\"\\n                                value=\"/fulham\">Fulham</option>\\n                                                    <option\\n                                class=\"page-nav__select-option\"\\n                                data-itemid=\"183\"\\n                                value=\"/leeds-united\">Leeds United</option>\\n                                                    <option\\n                                class=\"page-nav__select-option\"\\n                                data-itemid=\"152\"\\n                                value=\"/leicester-city\">Leicester City</option>\\n                                                    <option\\n                                class=\"page-nav__select-option\"\\n                                data-itemid=\"155\"\\n                                value=\"/liverpool\">Liverpool</option>\\n                                                    <option\\n                                class=\"page-nav__select-option\"\\n                                data-itemid=\"345\"\\n                                value=\"/manchester-city\">Manchester City</option>\\n                                                    <option\\n                                class=\"page-nav__select-option\"\\n                                data-itemid=\"210\"\\n                                value=\"/manchester-united\">Manchester United</option>\\n                                                    <option\\n                                class=\"page-nav__select-option\"\\n                                data-itemid=\"409\"\\n                                value=\"/newcastle-united\">Newcastle United</option>\\n                                                    <option\\n                                class=\"page-nav__select-option\"\\n                                data-itemid=\"522\"\\n                                value=\"/nottingham-forest\">Nottingham Forest</option>\\n                                                    <option\\n                                class=\"page-nav__select-option\"\\n                                data-itemid=\"392\"\\n                                value=\"/southampton\">Southampton</option>\\n                                                    <option\\n                                class=\"page-nav__select-option\"\\n                                data-itemid=\"608\"\\n                                value=\"/tottenham-hotspur\">Tottenham Hotspur</option>\\n                                                    <option\\n                                class=\"page-nav__select-option\"\\n                                data-itemid=\"367\"\\n                                value=\"/west-ham-united\">West Ham United</option>\\n                                                    <option\\n                                class=\"page-nav__select-option\"\\n                                data-itemid=\"206\"\\n                                value=\"/wolverhampton-wanderers\">Wolverhampton</option>\\n                                            </optgroup>\\n                                                                <optgroup label=\"Women\\'s Super League\">\\n                                                    <option\\n                                class=\"page-nav__select-option\"\\n                                data-itemid=\"3746\"\\n                                value=\"/arsenal-women\">Arsenal Women</option>\\n                                                    <option\\n                                class=\"page-nav__select-option\"\\n                                data-itemid=\"5062\"\\n                                value=\"/aston-villa-women\">Aston Villa Women</option>\\n                                                    <option\\n                                class=\"page-nav__select-option\"\\n                                data-itemid=\"6906\"\\n                                value=\"/brighton-and-hove-albion-women\">Brighton and Hove Albion Women</option>\\n                                                    <option\\n                                class=\"page-nav__select-option\"\\n                                data-itemid=\"3749\"\\n                                value=\"/chelsea-women\">Chelsea Women</option>\\n                                                    <option\\n                                class=\"page-nav__select-option\"\\n                                data-itemid=\"3747\"\\n                                value=\"/everton-women\">Everton Women</option>\\n                                                    <option\\n                                class=\"page-nav__select-option\"\\n                                data-itemid=\"6854\"\\n                                value=\"/leicester-city-women\">Leicester City Women</option>\\n                                                    <option\\n                                class=\"page-nav__select-option\"\\n                                data-itemid=\"3744\"\\n                                value=\"/liverpool-women\">Liverpool Women</option>\\n                                                    <option\\n                                class=\"page-nav__select-option\"\\n                                data-itemid=\"5404\"\\n                                value=\"/manchester-city-women\">Manchester City Women</option>\\n                                                    <option\\n                                class=\"page-nav__select-option\"\\n                                data-itemid=\"7132\"\\n                                value=\"/manchester-united-women\">Manchester United Women</option>\\n                                                    <option\\n                                class=\"page-nav__select-option\"\\n                                data-itemid=\"5061\"\\n                                value=\"/reading-women\">Reading Women</option>\\n                                                    <option\\n                                class=\"page-nav__select-option\"\\n                                data-itemid=\"6874\"\\n                                value=\"/tottenham-hotspur-women\">Tottenham Hotspur Women</option>\\n                                                    <option\\n                                class=\"page-nav__select-option\"\\n                                data-itemid=\"6905\"\\n                                value=\"/west-ham-united-women\">West Ham United Women</option>\\n                                            </optgroup>\\n                                                                <optgroup label=\"Championship\">\\n                                                    <option\\n                                class=\"page-nav__select-option\"\\n                                data-itemid=\"247\"\\n                                value=\"/birmingham-city\">Birmingham City</option>\\n                                                    <option\\n                                class=\"page-nav__select-option\"\\n                                data-itemid=\"262\"\\n                                value=\"/blackburn-rovers\">Blackburn Rovers</option>\\n                                                    <option\\n                                class=\"page-nav__select-option\"\\n                                data-itemid=\"231\"\\n                                value=\"/blackpool\">Blackpool</option>\\n                                                    <option\\n                                class=\"page-nav__select-option\"\\n                                data-itemid=\"236\"\\n                                value=\"/bristol-city\">Bristol City</option>\\n                                                    <option\\n                                class=\"page-nav__select-option\"\\n                                data-itemid=\"160\"\\n                                value=\"/burnley\">Burnley</option>\\n                                                    <option\\n                                class=\"page-nav__select-option\"\\n                                data-itemid=\"202\"\\n                                value=\"/cardiff-city\">Cardiff City</option>\\n                                                    <option\\n                                class=\"page-nav__select-option\"\\n                                data-itemid=\"571\"\\n                                value=\"/coventry-city\">Coventry City</option>\\n                                                    <option\\n                                class=\"page-nav__select-option\"\\n                                data-itemid=\"422\"\\n                                value=\"/huddersfield-town\">Huddersfield Town</option>\\n                                                    <option\\n                                class=\"page-nav__select-option\"\\n                                data-itemid=\"253\"\\n                                value=\"/hull-city\">Hull City</option>\\n                                                    <option\\n                                class=\"page-nav__select-option\"\\n                                data-itemid=\"226\"\\n                                value=\"/luton-town\">Luton Town</option>\\n                                                    <option\\n                                class=\"page-nav__select-option\"\\n                                data-itemid=\"389\"\\n                                value=\"/middlesbrough\">Middlesbrough</option>\\n                                                    <option\\n                                class=\"page-nav__select-option\"\\n                                data-itemid=\"704\"\\n                                value=\"/millwall\">Millwall</option>\\n                                                    <option\\n                                class=\"page-nav__select-option\"\\n                                data-itemid=\"290\"\\n                                value=\"/norwich-city\">Norwich City</option>\\n                                                    <option\\n                                class=\"page-nav__select-option\"\\n                                data-itemid=\"436\"\\n                                value=\"/preston-north-end\">Preston North End</option>\\n                                                    <option\\n                                class=\"page-nav__select-option\"\\n                                data-itemid=\"411\"\\n                                value=\"/queens-park-rangers\">Queens Park Rangers</option>\\n                                                    <option\\n                                class=\"page-nav__select-option\"\\n                                data-itemid=\"216\"\\n                                value=\"/reading\">Reading</option>\\n                                                    <option\\n                                class=\"page-nav__select-option\"\\n                                data-itemid=\"441\"\\n                                value=\"/rotherham-united\">Rotherham United</option>\\n                                                    <option\\n                                class=\"page-nav__select-option\"\\n                                data-itemid=\"444\"\\n                                value=\"/sheffield-united\">Sheffield United</option>\\n                                                    <option\\n                                class=\"page-nav__select-option\"\\n                                data-itemid=\"384\"\\n                                value=\"/stoke-city\">Stoke City</option>\\n                                                    <option\\n                                class=\"page-nav__select-option\"\\n                                data-itemid=\"415\"\\n                                value=\"/sunderland\">Sunderland</option>\\n                                                    <option\\n                                class=\"page-nav__select-option\"\\n                                data-itemid=\"375\"\\n                                value=\"/swansea-city\">Swansea City</option>\\n                                                    <option\\n                                class=\"page-nav__select-option\"\\n                                data-itemid=\"508\"\\n                                value=\"/watford\">Watford</option>\\n                                                    <option\\n                                class=\"page-nav__select-option\"\\n                                data-itemid=\"275\"\\n                                value=\"/west-bromwich-albion\">West Bromwich Albion</option>\\n                                                    <option\\n                                class=\"page-nav__select-option\"\\n                                data-itemid=\"457\"\\n                                value=\"/wigan-athletic\">Wigan Athletic</option>\\n                                            </optgroup>\\n                                                                <optgroup label=\"League One\">\\n                                                    <option\\n                                class=\"page-nav__select-option\"\\n                                data-itemid=\"579\"\\n                                value=\"/accrington-stanley\">Accrington Stanley</option>\\n                                                    <option\\n                                class=\"page-nav__select-option\"\\n                                data-itemid=\"191\"\\n                                value=\"/barnsley\">Barnsley</option>\\n                                                    <option\\n                                class=\"page-nav__select-option\"\\n                                data-itemid=\"555\"\\n                                value=\"/bolton-wanderers\">Bolton Wanderers</option>\\n                                                    <option\\n                                class=\"page-nav__select-option\"\\n                                data-itemid=\"282\"\\n                                value=\"/bristol-rovers\">Bristol Rovers</option>\\n                                                    <option\\n                                class=\"page-nav__select-option\"\\n                                data-itemid=\"294\"\\n                                value=\"/burton-albion\">Burton Albion</option>\\n                                                    <option\\n                                class=\"page-nav__select-option\"\\n                                data-itemid=\"442\"\\n                                value=\"/cambridge-united\">Cambridge United</option>\\n                                                    <option\\n                                class=\"page-nav__select-option\"\\n                                data-itemid=\"154\"\\n                                value=\"/charlton-athletic\">Charlton Athletic</option>\\n                                                    <option\\n                                class=\"page-nav__select-option\"\\n                                data-itemid=\"534\"\\n                                value=\"/cheltenham-town\">Cheltenham Town</option>\\n                                                    <option\\n                                class=\"page-nav__select-option\"\\n                                data-itemid=\"295\"\\n                                value=\"/derby-county\">Derby County</option>\\n                                                    <option\\n                                class=\"page-nav__select-option\"\\n                                data-itemid=\"185\"\\n                                value=\"/exeter-city\">Exeter City</option>\\n                                                    <option\\n                                class=\"page-nav__select-option\"\\n                                data-itemid=\"230\"\\n                                value=\"/fleetwood-town\">Fleetwood Town</option>\\n                                                    <option\\n                                class=\"page-nav__select-option\"\\n                                data-itemid=\"235\"\\n                                value=\"/forest-green-rovers\">Forest Green Rovers</option>\\n                                                    <option\\n                                class=\"page-nav__select-option\"\\n                                data-itemid=\"157\"\\n                                value=\"/ipswich-town\">Ipswich Town</option>\\n                                                    <option\\n                                class=\"page-nav__select-option\"\\n                                data-itemid=\"181\"\\n                                value=\"/lincolncity\">Lincoln City</option>\\n                                                    <option\\n                                class=\"page-nav__select-option\"\\n                                data-itemid=\"423\"\\n                                value=\"/milton-keynes-dons\">Milton Keynes Dons</option>\\n                                                    <option\\n                                class=\"page-nav__select-option\"\\n                                data-itemid=\"273\"\\n                                value=\"/morecambe\">Morecambe</option>\\n                                                    <option\\n                                class=\"page-nav__select-option\"\\n                                data-itemid=\"638\"\\n                                value=\"/oxford-united\">Oxford United</option>\\n                                                    <option\\n                                class=\"page-nav__select-option\"\\n                                data-itemid=\"630\"\\n                                value=\"/peterborough-united\">Peterborough United</option>\\n                                                    <option\\n                                class=\"page-nav__select-option\"\\n                                data-itemid=\"258\"\\n                                value=\"/plymouth-argyle\">Plymouth Argyle</option>\\n                                                    <option\\n                                class=\"page-nav__select-option\"\\n                                data-itemid=\"751\"\\n                                value=\"/port-vale\">Port Vale</option>\\n                                                    <option\\n                                class=\"page-nav__select-option\"\\n                                data-itemid=\"298\"\\n                                value=\"/portsmouth\">Portsmouth</option>\\n                                                    <option\\n                                class=\"page-nav__select-option\"\\n                                data-itemid=\"376\"\\n                                value=\"/sheffield-wednesday\">Sheffield Wednesday</option>\\n                                                    <option\\n                                class=\"page-nav__select-option\"\\n                                data-itemid=\"773\"\\n                                value=\"/shrewsbury-town\">Shrewsbury Town</option>\\n                                                    <option\\n                                class=\"page-nav__select-option\"\\n                                data-itemid=\"421\"\\n                                value=\"/wycombe-wanderers\">Wycombe Wanderers</option>\\n                                            </optgroup>\\n                                                                <optgroup label=\"League Two\">\\n                                                    <option\\n                                class=\"page-nav__select-option\"\\n                                data-itemid=\"419\"\\n                                value=\"/afc-wimbledon\">AFC Wimbledon</option>\\n                                                    <option\\n                                class=\"page-nav__select-option\"\\n                                data-itemid=\"272\"\\n                                value=\"/barrow\">Barrow</option>\\n                                                    <option\\n                                class=\"page-nav__select-option\"\\n                                data-itemid=\"448\"\\n                                value=\"/bradford-city\">Bradford City</option>\\n                                                    <option\\n                                class=\"page-nav__select-option\"\\n                                data-itemid=\"179\"\\n                                value=\"/carlisle-united\">Carlisle United</option>\\n                                                    <option\\n                                class=\"page-nav__select-option\"\\n                                data-itemid=\"293\"\\n                                value=\"/colchester-united\">Colchester United</option>\\n                                                    <option\\n                                class=\"page-nav__select-option\"\\n                                data-itemid=\"261\"\\n                                value=\"/crawley-town\">Crawley Town</option>\\n                                                    <option\\n                                class=\"page-nav__select-option\"\\n                                data-itemid=\"503\"\\n                                value=\"/crewe-alexandra\">Crewe Alexandra</option>\\n                                                    <option\\n                                class=\"page-nav__select-option\"\\n                                data-itemid=\"397\"\\n                                value=\"/doncaster-rovers\">Doncaster</option>\\n                                                    <option\\n                                class=\"page-nav__select-option\"\\n                                data-itemid=\"356\"\\n                                value=\"/gillingham\">Gillingham</option>\\n                                                    <option\\n                                class=\"page-nav__select-option\"\\n                                data-itemid=\"187\"\\n                                value=\"/grimsby-town\">Grimsby Town</option>\\n                                                    <option\\n                                class=\"page-nav__select-option\"\\n                                data-itemid=\"180\"\\n                                value=\"/harrogate-town\">Harrogate Town</option>\\n                                                    <option\\n                                class=\"page-nav__select-option\"\\n                                data-itemid=\"304\"\\n                                value=\"/hartlepool-united\">Hartlepool United</option>\\n                                                    <option\\n                                class=\"page-nav__select-option\"\\n                                data-itemid=\"537\"\\n                                value=\"/leyton-orient\">Leyton Orient</option>\\n                                                    <option\\n                                class=\"page-nav__select-option\"\\n                                data-itemid=\"570\"\\n                                value=\"/mansfield\">Mansfield</option>\\n                                                    <option\\n                                class=\"page-nav__select-option\"\\n                                data-itemid=\"778\"\\n                                value=\"/newport-county\">Newport County</option>\\n                                                    <option\\n                                class=\"page-nav__select-option\"\\n                                data-itemid=\"533\"\\n                                value=\"/northampton-town\">Northampton Town</option>\\n                                                    <option\\n                                class=\"page-nav__select-option\"\\n                                data-itemid=\"425\"\\n                                value=\"/rochdale\">Rochdale</option>\\n                                                    <option\\n                                class=\"page-nav__select-option\"\\n                                data-itemid=\"3515\"\\n                                value=\"/salford-city\">Salford City</option>\\n                                                    <option\\n                                class=\"page-nav__select-option\"\\n                                data-itemid=\"410\"\\n                                value=\"/stevenage-borough\">Stevenage</option>\\n                                                    <option\\n                                class=\"page-nav__select-option\"\\n                                data-itemid=\"438\"\\n                                value=\"/stockport-county\">Stockport County</option>\\n                                                    <option\\n                                class=\"page-nav__select-option\"\\n                                data-itemid=\"938\"\\n                                value=\"/sutton-united\">Sutton United</option>\\n                                                    <option\\n                                class=\"page-nav__select-option\"\\n                                data-itemid=\"391\"\\n                                value=\"/swindon-town\">Swindon Town</option>\\n                                                    <option\\n                                class=\"page-nav__select-option\"\\n                                data-itemid=\"196\"\\n                                value=\"/tranmere-rovers\">Tranmere Rovers</option>\\n                                                    <option\\n                                class=\"page-nav__select-option\"\\n                                data-itemid=\"521\"\\n                                value=\"/walsall\">Walsall</option>\\n                                            </optgroup>\\n                                                                <optgroup label=\"Scottish Premiership\">\\n                                                    <option\\n                                class=\"page-nav__select-option\"\\n                                data-itemid=\"209\"\\n                                value=\"/aberdeen\">Aberdeen</option>\\n                                                    <option\\n                                class=\"page-nav__select-option\"\\n                                data-itemid=\"393\"\\n                                value=\"/celtic\">Celtic</option>\\n                                                    <option\\n                                class=\"page-nav__select-option\"\\n                                data-itemid=\"251\"\\n                                value=\"/dundee-united\">Dundee United</option>\\n                                                    <option\\n                                class=\"page-nav__select-option\"\\n                                data-itemid=\"265\"\\n                                value=\"/heart-of-midlothian\">Heart of Midlothian</option>\\n                                                    <option\\n                                class=\"page-nav__select-option\"\\n                                data-itemid=\"134\"\\n                                value=\"/hibernian\">Hibernian</option>\\n                                                    <option\\n                                class=\"page-nav__select-option\"\\n                                data-itemid=\"562\"\\n                                value=\"/kilmarnock\">Kilmarnock</option>\\n                                                    <option\\n                                class=\"page-nav__select-option\"\\n                                data-itemid=\"580\"\\n                                value=\"/livingston\">Livingston</option>\\n                                                    <option\\n                                class=\"page-nav__select-option\"\\n                                data-itemid=\"327\"\\n                                value=\"/motherwell\">Motherwell</option>\\n                                                    <option\\n                                class=\"page-nav__select-option\"\\n                                data-itemid=\"245\"\\n                                value=\"/rangers\">Rangers</option>\\n                                                    <option\\n                                class=\"page-nav__select-option\"\\n                                data-itemid=\"578\"\\n                                value=\"/ross-county\">Ross County</option>\\n                                                    <option\\n                                class=\"page-nav__select-option\"\\n                                data-itemid=\"529\"\\n                                value=\"/st-johnstone\">St Johnstone</option>\\n                                                    <option\\n                                class=\"page-nav__select-option\"\\n                                data-itemid=\"501\"\\n                                value=\"/st-mirren\">St Mirren</option>\\n                                            </optgroup>\\n                                                                <optgroup label=\"La Liga\">\\n                                                    <option\\n                                class=\"page-nav__select-option\"\\n                                data-itemid=\"1195\"\\n                                value=\"/athletic-bilbao\">Athletic Bilbao</option>\\n                                                    <option\\n                                class=\"page-nav__select-option\"\\n                                data-itemid=\"872\"\\n                                value=\"/atletico-madrid\">Atletico Madrid</option>\\n                                                    <option\\n                                class=\"page-nav__select-option\"\\n                                data-itemid=\"549\"\\n                                value=\"/barcelona\">Barcelona</option>\\n                                                    <option\\n                                class=\"page-nav__select-option\"\\n                                data-itemid=\"1156\"\\n                                value=\"/cadiz\">Cadiz</option>\\n                                                    <option\\n                                class=\"page-nav__select-option\"\\n                                data-itemid=\"1164\"\\n                                value=\"/celta-vigo\">Celta Vigo</option>\\n                                                    <option\\n                                class=\"page-nav__select-option\"\\n                                data-itemid=\"1202\"\\n                                value=\"/elche\">Elche</option>\\n                                                    <option\\n                                class=\"page-nav__select-option\"\\n                                data-itemid=\"544\"\\n                                value=\"/espanyol\">Espanyol</option>\\n                                                    <option\\n                                class=\"page-nav__select-option\"\\n                                data-itemid=\"1199\"\\n                                value=\"/getafe\">Getafe</option>\\n                                                    <option\\n                                class=\"page-nav__select-option\"\\n                                data-itemid=\"1165\"\\n                                value=\"/girona\">Girona</option>\\n                                                    <option\\n                                class=\"page-nav__select-option\"\\n                                data-itemid=\"743\"\\n                                value=\"/osasuna\">Osasuna</option>\\n                                                    <option\\n                                class=\"page-nav__select-option\"\\n                                data-itemid=\"1168\"\\n                                value=\"/rayo-vallecano\">Rayo Vallecano</option>\\n                                                    <option\\n                                class=\"page-nav__select-option\"\\n                                data-itemid=\"1189\"\\n                                value=\"/real-betis\">Real Betis</option>\\n                                                    <option\\n                                class=\"page-nav__select-option\"\\n                                data-itemid=\"598\"\\n                                value=\"/real-madrid\">Real Madrid</option>\\n                                                    <option\\n                                class=\"page-nav__select-option\"\\n                                data-itemid=\"499\"\\n                                value=\"/real-mallorca\">Real Mallorca</option>\\n                                                    <option\\n                                class=\"page-nav__select-option\"\\n                                data-itemid=\"1166\"\\n                                value=\"/real-sociedad\">Real Sociedad</option>\\n                                                    <option\\n                                class=\"page-nav__select-option\"\\n                                data-itemid=\"1018\"\\n                                value=\"/valladolid\">Real Valladolid</option>\\n                                                    <option\\n                                class=\"page-nav__select-option\"\\n                                data-itemid=\"675\"\\n                                value=\"/sevilla\">Sevilla</option>\\n                                                    <option\\n                                class=\"page-nav__select-option\"\\n                                data-itemid=\"1196\"\\n                                value=\"/almeria\">UD Almeria</option>\\n                                                    <option\\n                                class=\"page-nav__select-option\"\\n                                data-itemid=\"584\"\\n                                value=\"/valencia\">Valencia</option>\\n                                                    <option\\n                                class=\"page-nav__select-option\"\\n                                data-itemid=\"666\"\\n                                value=\"/villarreal\">Villarreal</option>\\n                                            </optgroup>\\n                                                                <optgroup label=\"Serie A\">\\n                                                    <option\\n                                class=\"page-nav__select-option\"\\n                                data-itemid=\"674\"\\n                                value=\"/ac-milan\">AC Milan</option>\\n                                                    <option\\n                                class=\"page-nav__select-option\"\\n                                data-itemid=\"1091\"\\n                                value=\"/atalanta\">Atalanta</option>\\n                                                    <option\\n                                class=\"page-nav__select-option\"\\n                                data-itemid=\"1104\"\\n                                value=\"/bologna\">Bologna</option>\\n                                                    <option\\n                                class=\"page-nav__select-option\"\\n                                data-itemid=\"795\"\\n                                value=\"/cremonese\">Cremonese</option>\\n                                                    <option\\n                                class=\"page-nav__select-option\"\\n                                data-itemid=\"995\"\\n                                value=\"/football/teams/empoli\">Empoli</option>\\n                                                    <option\\n                                class=\"page-nav__select-option\"\\n                                data-itemid=\"665\"\\n                                value=\"/fiorentina\">Fiorentina</option>\\n                                                    <option\\n                                class=\"page-nav__select-option\"\\n                                data-itemid=\"1663\"\\n                                value=\"/verona\">Hellas Verona</option>\\n                                                    <option\\n                                class=\"page-nav__select-option\"\\n                                data-itemid=\"729\"\\n                                value=\"/inter-milan\">Inter Milan</option>\\n                                                    <option\\n                                class=\"page-nav__select-option\"\\n                                data-itemid=\"54\"\\n                                value=\"/juventus\">Juventus</option>\\n                                                    <option\\n                                class=\"page-nav__select-option\"\\n                                data-itemid=\"744\"\\n                                value=\"/lazio\">Lazio</option>\\n                                                    <option\\n                                class=\"page-nav__select-option\"\\n                                data-itemid=\"1093\"\\n                                value=\"/lecce\">Lecce</option>\\n                                                    <option\\n                                class=\"page-nav__select-option\"\\n                                data-itemid=\"815\"\\n                                value=\"/monza\">Monza</option>\\n                                                    <option\\n                                class=\"page-nav__select-option\"\\n                                data-itemid=\"465\"\\n                                value=\"/napoli\">Napoli</option>\\n                                                    <option\\n                                class=\"page-nav__select-option\"\\n                                data-itemid=\"844\"\\n                                value=\"/roma\">Roma</option>\\n                                                    <option\\n                                class=\"page-nav__select-option\"\\n                                data-itemid=\"1005\"\\n                                value=\"/football/teams/salernitana\">Salernitana</option>\\n                                                    <option\\n                                class=\"page-nav__select-option\"\\n                                data-itemid=\"1175\"\\n                                value=\"/sampdoria\">Sampdoria</option>\\n                                                    <option\\n                                class=\"page-nav__select-option\"\\n                                data-itemid=\"988\"\\n                                value=\"/sassuolo\">Sassuolo</option>\\n                                                    <option\\n                                class=\"page-nav__select-option\"\\n                                data-itemid=\"2367\"\\n                                value=\"/spezia\">Spezia</option>\\n                                                    <option\\n                                class=\"page-nav__select-option\"\\n                                data-itemid=\"747\"\\n                                value=\"/torino\">Torino</option>\\n                                                    <option\\n                                class=\"page-nav__select-option\"\\n                                data-itemid=\"1089\"\\n                                value=\"/udinese\">Udinese</option>\\n                                            </optgroup>\\n                                                                <optgroup label=\"Bundesliga\">\\n                                                    <option\\n                                class=\"page-nav__select-option\"\\n                                data-itemid=\"934\"\\n                                value=\"/bayer-leverkusen\">Bayer Leverkusen</option>\\n                                                    <option\\n                                class=\"page-nav__select-option\"\\n                                data-itemid=\"530\"\\n                                value=\"/bayern-munich\">Bayern Munich</option>\\n                                                    <option\\n                                class=\"page-nav__select-option\"\\n                                data-itemid=\"241\"\\n                                value=\"/borussia-dortmund\">Borussia Dortmund</option>\\n                                                    <option\\n                                class=\"page-nav__select-option\"\\n                                data-itemid=\"142\"\\n                                value=\"/borussia-monchengladbach\">Borussia Monchengladbach</option>\\n                                                    <option\\n                                class=\"page-nav__select-option\"\\n                                data-itemid=\"449\"\\n                                value=\"/cologne\">Cologne</option>\\n                                                    <option\\n                                class=\"page-nav__select-option\"\\n                                data-itemid=\"496\"\\n                                value=\"/eintracht-frankfurt\">Eintracht Frankfurt</option>\\n                                                    <option\\n                                class=\"page-nav__select-option\"\\n                                data-itemid=\"979\"\\n                                value=\"/fc-augsburg\">FC Augsburg</option>\\n                                                    <option\\n                                class=\"page-nav__select-option\"\\n                                data-itemid=\"401\"\\n                                value=\"/fc-schalke-04\">FC Schalke 04</option>\\n                                                    <option\\n                                class=\"page-nav__select-option\"\\n                                data-itemid=\"905\"\\n                                value=\"/fsv-mainz-05\">FSV Mainz 05</option>\\n                                                    <option\\n                                class=\"page-nav__select-option\"\\n                                data-itemid=\"242\"\\n                                value=\"/hertha-berlin\">Hertha Berlin</option>\\n                                                    <option\\n                                class=\"page-nav__select-option\"\\n                                data-itemid=\"4188\"\\n                                value=\"/rb-leipzig\">RB Leipzig</option>\\n                                                    <option\\n                                class=\"page-nav__select-option\"\\n                                data-itemid=\"982\"\\n                                value=\"/freiburg\">SC Freiburg</option>\\n                                                    <option\\n                                class=\"page-nav__select-option\"\\n                                data-itemid=\"480\"\\n                                value=\"/hoffenheim\">TSG Hoffenheim</option>\\n                                                    <option\\n                                class=\"page-nav__select-option\"\\n                                data-itemid=\"5394\"\\n                                value=\"/union-berlin\">Union Berlin</option>\\n                                                    <option\\n                                class=\"page-nav__select-option\"\\n                                data-itemid=\"437\"\\n                                value=\"/vfb-stuttgart\">VfB Stuttgart</option>\\n                                                    <option\\n                                class=\"page-nav__select-option\"\\n                                data-itemid=\"583\"\\n                                value=\"/vfl-bochum\">VFL Bochum</option>\\n                                                    <option\\n                                class=\"page-nav__select-option\"\\n                                data-itemid=\"933\"\\n                                value=\"/werder-bremen\">Werder Bremen</option>\\n                                                    <option\\n                                class=\"page-nav__select-option\"\\n                                data-itemid=\"925\"\\n                                value=\"/wolfsburg\">Wolfsburg</option>\\n                                            </optgroup>\\n                                                                <optgroup label=\"Ligue 1\">\\n                                                    <option\\n                                class=\"page-nav__select-option\"\\n                                data-itemid=\"819\"\\n                                value=\"/auxerre\">AJ Auxerre</option>\\n                                                    <option\\n                                class=\"page-nav__select-option\"\\n                                data-itemid=\"2544\"\\n                                value=\"/ajaccio\">Ajaccio</option>\\n                                                    <option\\n                                class=\"page-nav__select-option\"\\n                                data-itemid=\"679\"\\n                                value=\"/angers\">Angers</option>\\n                                                    <option\\n                                class=\"page-nav__select-option\"\\n                                data-itemid=\"698\"\\n                                value=\"/brest\">Brest</option>\\n                                                    <option\\n                                class=\"page-nav__select-option\"\\n                                data-itemid=\"689\"\\n                                value=\"/clermont-foot\">Clermont Foot</option>\\n                                                    <option\\n                                class=\"page-nav__select-option\"\\n                                data-itemid=\"818\"\\n                                value=\"/lille\">Lille</option>\\n                                                    <option\\n                                class=\"page-nav__select-option\"\\n                                data-itemid=\"599\"\\n                                value=\"/lorient\">Lorient</option>\\n                                                    <option\\n                                class=\"page-nav__select-option\"\\n                                data-itemid=\"525\"\\n                                value=\"/monaco\">Monaco</option>\\n                                                    <option\\n                                class=\"page-nav__select-option\"\\n                                data-itemid=\"686\"\\n                                value=\"/montpellier\">Montpellier</option>\\n                                                    <option\\n                                class=\"page-nav__select-option\"\\n                                data-itemid=\"820\"\\n                                value=\"/nantes\">Nantes</option>\\n                                                    <option\\n                                class=\"page-nav__select-option\"\\n                                data-itemid=\"828\"\\n                                value=\"/nice\">Nice</option>\\n                                                    <option\\n                                class=\"page-nav__select-option\"\\n                                data-itemid=\"851\"\\n                                value=\"/olympique-lyonnais\">Olympique Lyonnais</option>\\n                                                    <option\\n                                class=\"page-nav__select-option\"\\n                                data-itemid=\"462\"\\n                                value=\"/olympique-marseille\">Olympique Marseille</option>\\n                                                    <option\\n                                class=\"page-nav__select-option\"\\n                                data-itemid=\"823\"\\n                                value=\"/paris-st-germain\">Paris Saint-Germain</option>\\n                                                    <option\\n                                class=\"page-nav__select-option\"\\n                                data-itemid=\"691\"\\n                                value=\"/rc-lens\">RC Lens</option>\\n                                                    <option\\n                                class=\"page-nav__select-option\"\\n                                data-itemid=\"685\"\\n                                value=\"/rcstrasbourg\">RC Strasbourg</option>\\n                                                    <option\\n                                class=\"page-nav__select-option\"\\n                                data-itemid=\"680\"\\n                                value=\"/reims\">Reims</option>\\n                                                    <option\\n                                class=\"page-nav__select-option\"\\n                                data-itemid=\"460\"\\n                                value=\"/stade-rennes\">Stade Rennes</option>\\n                                                    <option\\n                                class=\"page-nav__select-option\"\\n                                data-itemid=\"526\"\\n                                value=\"/toulouse\">Toulouse</option>\\n                                                    <option\\n                                class=\"page-nav__select-option\"\\n                                data-itemid=\"683\"\\n                                value=\"/troyes\">Troyes</option>\\n                                            </optgroup>\\n                                                                <optgroup label=\"Eredivisie\">\\n                                                    <option\\n                                class=\"page-nav__select-option\"\\n                                data-itemid=\"723\"\\n                                value=\"/ajax\">Ajax</option>\\n                                                    <option\\n                                class=\"page-nav__select-option\"\\n                                data-itemid=\"1186\"\\n                                value=\"/az-alkmaar\">AZ Alkmaar</option>\\n                                                    <option\\n                                class=\"page-nav__select-option\"\\n                                data-itemid=\"172\"\\n                                value=\"/cambuur-leeuwarden\">Cambuur Leeuwarden</option>\\n                                                    <option\\n                                class=\"page-nav__select-option\"\\n                                data-itemid=\"161\"\\n                                value=\"/excelsior\">Excelsior</option>\\n                                                    <option\\n                                class=\"page-nav__select-option\"\\n                                data-itemid=\"182\"\\n                                value=\"/fc-emmen\">FC Emmen</option>\\n                                                    <option\\n                                class=\"page-nav__select-option\"\\n                                data-itemid=\"1159\"\\n                                value=\"/fc-groningen\">FC Groningen</option>\\n                                                    <option\\n                                class=\"page-nav__select-option\"\\n                                data-itemid=\"874\"\\n                                value=\"/fc-twente\">FC Twente</option>\\n                                                    <option\\n                                class=\"page-nav__select-option\"\\n                                data-itemid=\"711\"\\n                                value=\"/fc-utrecht\">FC Utrecht</option>\\n                                                    <option\\n                                class=\"page-nav__select-option\"\\n                                data-itemid=\"1183\"\\n                                value=\"/fc-volendam\">FC Volendam</option>\\n                                                    <option\\n                                class=\"page-nav__select-option\"\\n                                data-itemid=\"699\"\\n                                value=\"/feyenoord\">Feyenoord</option>\\n                                                    <option\\n                                class=\"page-nav__select-option\"\\n                                data-itemid=\"166\"\\n                                value=\"/fortuna-sittard\">Fortuna Sittard</option>\\n                                                    <option\\n                                class=\"page-nav__select-option\"\\n                                data-itemid=\"168\"\\n                                value=\"/go-ahead-eagles\">Go Ahead Eagles</option>\\n                                                    <option\\n                                class=\"page-nav__select-option\"\\n                                data-itemid=\"527\"\\n                                value=\"/heerenveen\">Heerenveen</option>\\n                                                    <option\\n                                class=\"page-nav__select-option\"\\n                                data-itemid=\"1176\"\\n                                value=\"/nec-nijmegen\">NEC Nijmegen</option>\\n                                                    <option\\n                                class=\"page-nav__select-option\"\\n                                data-itemid=\"738\"\\n                                value=\"/psv-eindhoven\">PSV Eindhoven</option>\\n                                                    <option\\n                                class=\"page-nav__select-option\"\\n                                data-itemid=\"3040\"\\n                                value=\"/rkc-waalwijk\">RKC Waalwijk</option>\\n                                                    <option\\n                                class=\"page-nav__select-option\"\\n                                data-itemid=\"1182\"\\n                                value=\"/sparta-rotterdam\">Sparta Rotterdam</option>\\n                                                    <option\\n                                class=\"page-nav__select-option\"\\n                                data-itemid=\"656\"\\n                                value=\"/vitesse-arnhem\">Vitesse Arnhem</option>\\n                                            </optgroup>\\n                                                                <optgroup label=\"Internationals\">\\n                                                    <option\\n                                class=\"page-nav__select-option\"\\n                                data-itemid=\"1073\"\\n                                value=\"/football/teams/albania\">Albania</option>\\n                                                    <option\\n                                class=\"page-nav__select-option\"\\n                                data-itemid=\"1229\"\\n                                value=\"/football/teams/algeria\">Algeria</option>\\n                                                    <option\\n                                class=\"page-nav__select-option\"\\n                                data-itemid=\"888\"\\n                                value=\"/football/teams/argentina\">Argentina</option>\\n                                                    <option\\n                                class=\"page-nav__select-option\"\\n                                data-itemid=\"887\"\\n                                value=\"/football/teams/australia\">Australia</option>\\n                                                    <option\\n                                class=\"page-nav__select-option\"\\n                                data-itemid=\"1072\"\\n                                value=\"/football/teams/austria\">Austria</option>\\n                                                    <option\\n                                class=\"page-nav__select-option\"\\n                                data-itemid=\"883\"\\n                                value=\"/football/teams/belgium\">Belgium</option>\\n                                                    <option\\n                                class=\"page-nav__select-option\"\\n                                data-itemid=\"736\"\\n                                value=\"/football/teams/bolivia\">Bolivia</option>\\n                                                    <option\\n                                class=\"page-nav__select-option\"\\n                                data-itemid=\"1059\"\\n                                value=\"/football/teams/bosnia-herzegovina\">Bosnia-Herzegovina</option>\\n                                                    <option\\n                                class=\"page-nav__select-option\"\\n                                data-itemid=\"885\"\\n                                value=\"/football/teams/brazil\">Brazil</option>\\n                                                    <option\\n                                class=\"page-nav__select-option\"\\n                                data-itemid=\"880\"\\n                                value=\"/football/teams/cameroon\">Cameroon</option>\\n                                                    <option\\n                                class=\"page-nav__select-option\"\\n                                data-itemid=\"1058\"\\n                                value=\"/football/teams/chile\">Chile</option>\\n                                                    <option\\n                                class=\"page-nav__select-option\"\\n                                data-itemid=\"1021\"\\n                                value=\"/football/teams/colombia\">Colombia</option>\\n                                                    <option\\n                                class=\"page-nav__select-option\"\\n                                data-itemid=\"1024\"\\n                                value=\"/football/teams/costa-rica\">Costa Rica</option>\\n                                                    <option\\n                                class=\"page-nav__select-option\"\\n                                data-itemid=\"1071\"\\n                                value=\"/football/teams/croatia\">Croatia</option>\\n                                                    <option\\n                                class=\"page-nav__select-option\"\\n                                data-itemid=\"1076\"\\n                                value=\"/football/teams/czech-republic\">Czech Republic</option>\\n                                                    <option\\n                                class=\"page-nav__select-option\"\\n                                data-itemid=\"1065\"\\n                                value=\"/football/teams/denmark\">Denmark</option>\\n                                                    <option\\n                                class=\"page-nav__select-option\"\\n                                data-itemid=\"1022\"\\n                                value=\"/football/teams/ecuador\">Ecuador</option>\\n                                                    <option\\n                                class=\"page-nav__select-option\"\\n                                data-itemid=\"1279\"\\n                                value=\"/football/teams/egypt\">Egypt</option>\\n                                                    <option\\n                                class=\"page-nav__select-option\"\\n                                data-itemid=\"1075\"\\n                                value=\"/football/teams/england\">England</option>\\n                                                    <option\\n                                class=\"page-nav__select-option\"\\n                                data-itemid=\"1034\"\\n                                value=\"/football/teams/estonia\">Estonia</option>\\n                                                    <option\\n                                class=\"page-nav__select-option\"\\n                                data-itemid=\"1052\"\\n                                value=\"/football/teams/russia\">Football Union of Russia</option>\\n                                                    <option\\n                                class=\"page-nav__select-option\"\\n                                data-itemid=\"1078\"\\n                                value=\"/football/teams/france\">France</option>\\n                                                    <option\\n                                class=\"page-nav__select-option\"\\n                                data-itemid=\"1081\"\\n                                value=\"/football/teams/germany\">Germany</option>\\n                                                    <option\\n                                class=\"page-nav__select-option\"\\n                                data-itemid=\"1228\"\\n                                value=\"/football/teams/ghana\">Ghana</option>\\n                                                    <option\\n                                class=\"page-nav__select-option\"\\n                                data-itemid=\"1064\"\\n                                value=\"/football/teams/greece\">Greece</option>\\n                                                    <option\\n                                class=\"page-nav__select-option\"\\n                                data-itemid=\"879\"\\n                                value=\"/football/teams/honduras\">Honduras</option>\\n                                                    <option\\n                                class=\"page-nav__select-option\"\\n                                data-itemid=\"1036\"\\n                                value=\"/football/teams/hungary\">Hungary</option>\\n                                                    <option\\n                                class=\"page-nav__select-option\"\\n                                data-itemid=\"1086\"\\n                                value=\"/football/teams/iceland\">Iceland</option>\\n                                                    <option\\n                                class=\"page-nav__select-option\"\\n                                data-itemid=\"1259\"\\n                                value=\"/football/teams/iran\">Iran</option>\\n                                                    <option\\n                                class=\"page-nav__select-option\"\\n                                data-itemid=\"881\"\\n                                value=\"/football/teams/italy\">Italy</option>\\n                                                    <option\\n                                class=\"page-nav__select-option\"\\n                                data-itemid=\"886\"\\n                                value=\"/football/teams/ivory-coast\">Ivory Coast</option>\\n                                                    <option\\n                                class=\"page-nav__select-option\"\\n                                data-itemid=\"1260\"\\n                                value=\"/football/teams/jamaica\">Jamaica</option>\\n                                                    <option\\n                                class=\"page-nav__select-option\"\\n                                data-itemid=\"739\"\\n                                value=\"/football/teams/japan\">Japan</option>\\n                                                    <option\\n                                class=\"page-nav__select-option\"\\n                                data-itemid=\"1254\"\\n                                value=\"/football/teams/korea-dpr\">Korea DPR</option>\\n                                                    <option\\n                                class=\"page-nav__select-option\"\\n                                data-itemid=\"878\"\\n                                value=\"/football/teams/south-korea\">Korea Republic</option>\\n                                                    <option\\n                                class=\"page-nav__select-option\"\\n                                data-itemid=\"1088\"\\n                                value=\"/football/teams/mexico\">Mexico</option>\\n                                                    <option\\n                                class=\"page-nav__select-option\"\\n                                data-itemid=\"1037\"\\n                                value=\"/football/teams/montenegro\">Montenegro</option>\\n                                                    <option\\n                                class=\"page-nav__select-option\"\\n                                data-itemid=\"1274\"\\n                                value=\"/football/teams/morocco\">Morocco</option>\\n                                                    <option\\n                                class=\"page-nav__select-option\"\\n                                data-itemid=\"877\"\\n                                value=\"/football/teams/netherlands\">Netherlands</option>\\n                                                    <option\\n                                class=\"page-nav__select-option\"\\n                                data-itemid=\"882\"\\n                                value=\"/football/teams/new-zealand\">New Zealand</option>\\n                                                    <option\\n                                class=\"page-nav__select-option\"\\n                                data-itemid=\"876\"\\n                                value=\"/football/teams/nigeria\">Nigeria</option>\\n                                                    <option\\n                                class=\"page-nav__select-option\"\\n                                data-itemid=\"1080\"\\n                                value=\"/football/teams/northern-ireland\">Northern Ireland</option>\\n                                                    <option\\n                                class=\"page-nav__select-option\"\\n                                data-itemid=\"1023\"\\n                                value=\"/football/teams/panama\">Panama</option>\\n                                                    <option\\n                                class=\"page-nav__select-option\"\\n                                data-itemid=\"1039\"\\n                                value=\"/football/teams/paraguay\">Paraguay</option>\\n                                                    <option\\n                                class=\"page-nav__select-option\"\\n                                data-itemid=\"1263\"\\n                                value=\"/football/teams/peru\">Peru</option>\\n                                                    <option\\n                                class=\"page-nav__select-option\"\\n                                data-itemid=\"1033\"\\n                                value=\"/football/teams/poland\">Poland</option>\\n                                                    <option\\n                                class=\"page-nav__select-option\"\\n                                data-itemid=\"1084\"\\n                                value=\"/football/teams/portugal\">Portugal</option>\\n                                                    <option\\n                                class=\"page-nav__select-option\"\\n                                data-itemid=\"1044\"\\n                                value=\"/football/teams/republic-of-ireland\">Republic of Ireland</option>\\n                                                    <option\\n                                class=\"page-nav__select-option\"\\n                                data-itemid=\"1055\"\\n                                value=\"/football/teams/romania\">Romania</option>\\n                                                    <option\\n                                class=\"page-nav__select-option\"\\n                                data-itemid=\"1038\"\\n                                value=\"/football/teams/saudi-arabia\">Saudi Arabia</option>\\n                                                    <option\\n                                class=\"page-nav__select-option\"\\n                                data-itemid=\"1079\"\\n                                value=\"/football/teams/scotland\">Scotland</option>\\n                                                    <option\\n                                class=\"page-nav__select-option\"\\n                                data-itemid=\"1230\"\\n                                value=\"/football/teams/senegal\">Senegal</option>\\n                                                    <option\\n                                class=\"page-nav__select-option\"\\n                                data-itemid=\"889\"\\n                                value=\"/football/teams/serbia\">Serbia</option>\\n                                                    <option\\n                                class=\"page-nav__select-option\"\\n                                data-itemid=\"1063\"\\n                                value=\"/football/teams/slovakia\">Slovakia</option>\\n                                                    <option\\n                                class=\"page-nav__select-option\"\\n                                data-itemid=\"1070\"\\n                                value=\"/football/teams/slovenia\">Slovenia</option>\\n                                                    <option\\n                                class=\"page-nav__select-option\"\\n                                data-itemid=\"1017\"\\n                                value=\"/football/teams/south-africa\">South Africa</option>\\n                                                    <option\\n                                class=\"page-nav__select-option\"\\n                                data-itemid=\"1066\"\\n                                value=\"/football/teams/spain\">Spain</option>\\n                                                    <option\\n                                class=\"page-nav__select-option\"\\n                                data-itemid=\"1077\"\\n                                value=\"/football/teams/sweden\">Sweden</option>\\n                                                    <option\\n                                class=\"page-nav__select-option\"\\n                                data-itemid=\"1068\"\\n                                value=\"/football/teams/switzerland\">Switzerland</option>\\n                                                    <option\\n                                class=\"page-nav__select-option\"\\n                                data-itemid=\"1050\"\\n                                value=\"/football/teams/tunisia\">Tunisia</option>\\n                                                    <option\\n                                class=\"page-nav__select-option\"\\n                                data-itemid=\"1057\"\\n                                value=\"/football/teams/turkey\">Turkey</option>\\n                                                    <option\\n                                class=\"page-nav__select-option\"\\n                                data-itemid=\"1032\"\\n                                value=\"/football/teams/ukraine\">Ukraine</option>\\n                                                    <option\\n                                class=\"page-nav__select-option\"\\n                                data-itemid=\"1025\"\\n                                value=\"/football/teams/uruguay\">Uruguay</option>\\n                                                    <option\\n                                class=\"page-nav__select-option\"\\n                                data-itemid=\"100\"\\n                                value=\"/football/teams/usa\">USA</option>\\n                                                    <option\\n                                class=\"page-nav__select-option\"\\n                                data-itemid=\"1019\"\\n                                value=\"/football/teams/venezuela\">Venezuela</option>\\n                                                    <option\\n                                class=\"page-nav__select-option\"\\n                                data-itemid=\"1082\"\\n                                value=\"/football/teams/wales\">Wales</option>\\n                                            </optgroup>\\n                                                                <optgroup label=\"European U21 Championship\">\\n                                                    <option\\n                                class=\"page-nav__select-option\"\\n                                data-itemid=\"6\"\\n                                value=\"/football/teams/england-u21\">England</option>\\n                                                    <option\\n                                class=\"page-nav__select-option\"\\n                                data-itemid=\"1030\"\\n                                value=\"/football/teams/russia-u21\">Football Union of Russia</option>\\n                                                    <option\\n                                class=\"page-nav__select-option\"\\n                                data-itemid=\"1013\"\\n                                value=\"/football/teams/germany-u21\">Germany</option>\\n                                                    <option\\n                                class=\"page-nav__select-option\"\\n                                data-itemid=\"1220\"\\n                                value=\"/football/teams/holland-u21\">Holland</option>\\n                                                    <option\\n                                class=\"page-nav__select-option\"\\n                                data-itemid=\"1222\"\\n                                value=\"/football/teams/israel-u21\">Israel</option>\\n                                                    <option\\n                                class=\"page-nav__select-option\"\\n                                data-itemid=\"7\"\\n                                value=\"/football/teams/italy-u21\">Italy</option>\\n                                                    <option\\n                                class=\"page-nav__select-option\"\\n                                data-itemid=\"1054\"\\n                                value=\"/football/teams/norway-u21\">Norway</option>\\n                                                    <option\\n                                class=\"page-nav__select-option\"\\n                                data-itemid=\"1031\"\\n                                value=\"/football/teams/spain-u21\">Spain</option>\\n                                            </optgroup>\\n                                                                <optgroup label=\"Africa Cup of Nations\">\\n                                                    <option\\n                                class=\"page-nav__select-option\"\\n                                data-itemid=\"1051\"\\n                                value=\"/football/teams/angola\">Angola</option>\\n                                                    <option\\n                                class=\"page-nav__select-option\"\\n                                data-itemid=\"1252\"\\n                                value=\"/football/teams/burkina-faso\">Burkina Faso </option>\\n                                                    <option\\n                                class=\"page-nav__select-option\"\\n                                data-itemid=\"1251\"\\n                                value=\"/football/teams/cape-verde\">Cape Verde</option>\\n                                                    <option\\n                                class=\"page-nav__select-option\"\\n                                data-itemid=\"1278\"\\n                                value=\"/football/teams/congo-dr\">Congo DR</option>\\n                                                    <option\\n                                class=\"page-nav__select-option\"\\n                                data-itemid=\"1273\"\\n                                value=\"/football/teams/ethiopia\">Ethiopia</option>\\n                                                    <option\\n                                class=\"page-nav__select-option\"\\n                                data-itemid=\"1277\"\\n                                value=\"/football/teams/mali\">Mali</option>\\n                                                    <option\\n                                class=\"page-nav__select-option\"\\n                                data-itemid=\"1281\"\\n                                value=\"/football/teams/niger\">Niger</option>\\n                                                    <option\\n                                class=\"page-nav__select-option\"\\n                                data-itemid=\"876\"\\n                                value=\"/football/teams/nigeria\">Nigeria</option>\\n                                                    <option\\n                                class=\"page-nav__select-option\"\\n                                data-itemid=\"1238\"\\n                                value=\"/football/teams/togo\">Togo</option>\\n                                                    <option\\n                                class=\"page-nav__select-option\"\\n                                data-itemid=\"1237\"\\n                                value=\"/football/teams/zambia\">Zambia</option>\\n                                            </optgroup>\\n                                </select>\\n    <a\\n        href=\"/football/teams\"        class=\"page-nav__select-mask page-nav__link\">Teams</a>\\n</li>\\n                                                                                                                                                                                                                                                            <li class=\"page-nav__item\">\\n                                        <a href=\"/football/tables\" class=\"page-nav__link\" >Tables</a>\\n                                    </li>\\n                                                                                                                                                                                                                                                                                            <li class=\"page-nav__item\">\\n                                        <a href=\"/football/competitions\" class=\"page-nav__link\" >Leagues/Cups</a>\\n                                    </li>\\n                                                                                                                                                                                                                                                                                            <li class=\"page-nav__item\">\\n                                        <a href=\"/football-fixtures\" class=\"page-nav__link\" >Fixtures</a>\\n                                    </li>\\n                                                                                                                                                                                                                                                                                            <li class=\"page-nav__item\">\\n                                        <a href=\"/football-results\" class=\"page-nav__link\" >Results</a>\\n                                    </li>\\n                                                                                                                                                                                                                                                                                            <li class=\"page-nav__item\">\\n                                        <a href=\"/transfer-centre\" class=\"page-nav__link\" >Transfers</a>\\n                                    </li>\\n                                                                                                                                                                                                                                                                                            <li class=\"page-nav__item\">\\n                                        <a href=\"/watch/video/sports/football\" class=\"page-nav__link\" >Video</a>\\n                                    </li>\\n                                                                                                                                                                                                                                                                                            <li class=\"page-nav__item\">\\n                                        <a href=\"/watch/football-on-sky\" class=\"page-nav__link\" >On Sky</a>\\n                                    </li>\\n                                                                                                                                                                                                                                                                                            <li class=\"page-nav__item\">\\n                                        <a href=\"https://www.skybet.com?aff=9757&dcmp=ss_sub_nav_FB\"  target=\"_blank\"class=\"page-nav__link\" >Sky Bet</a>\\n                                    </li>\\n                                                                                                                        </ul>\\n                \\n            </div>\\n        </div>\\n    </div><div class=\"site-layout-secondary block page-nav__offset grid \">\\n    <div class=\"grid__col site-layout-secondary__col1 \">\\n    <div class=\"page-filters callfn\" data-fn=\"page-filters\" data-lite=\"true\">\\n  <div class=\"page-filters__header\">\\n\\n      \\n    <h3 class=\"page-filters__title\">\\n        <span class=\"swap-text--bp30\" title=\"Competitions\">\\n            <span class=\"swap-text__target\">Competitions</span>\\n        </span>\\n    </h3>\\n\\n    <a class=\"page-filters__button\" href=\"#page-filters__body\">All tables</a>\\n  </div>\\n  <div class=\"page-filters__frame\">\\n    <div class=\"page-filters__body\" id=\"page-filters__body\">\\n      <div class=\"page-filters__filter\">\\n    <h4 class=\"page-filters__filter-head\">Select a competition</h4>\\n    <ul class=\"page-filters__filter-body\">\\n            <li class=\"page-filters__filter-item\">\\n            <a href=\"/premier-league-table\" class=\"page-filters__filter-link\">\\n                <span class=\"swap-text--bp30\" title=\"Premier League\">\\n                    <span class=\"swap-text__target\">Premier League</span>\\n                </span>\\n            </a>\\n        </li>\\n            <li class=\"page-filters__filter-item\">\\n            <a href=\"/championship-table\" class=\"page-filters__filter-link\">\\n                <span class=\"swap-text--bp30\" title=\"Championship\">\\n                    <span class=\"swap-text__target\">Championship</span>\\n                </span>\\n            </a>\\n        </li>\\n            <li class=\"page-filters__filter-item\">\\n            <a href=\"/league-1-table\" class=\"page-filters__filter-link\">\\n                <span class=\"swap-text--bp30\" title=\"Sky Bet League One\">\\n                    <span class=\"swap-text__target\">League One</span>\\n                </span>\\n            </a>\\n        </li>\\n            <li class=\"page-filters__filter-item\">\\n            <a href=\"/league-2-table\" class=\"page-filters__filter-link\">\\n                <span class=\"swap-text--bp30\" title=\"Sky Bet League Two\">\\n                    <span class=\"swap-text__target\">League Two</span>\\n                </span>\\n            </a>\\n        </li>\\n            <li class=\"page-filters__filter-item\">\\n            <a href=\"/scottish-premier-table\" class=\"page-filters__filter-link\">\\n                <span class=\"swap-text--bp30\" title=\"Scots Prem\">\\n                    <span class=\"swap-text__target\">Scottish Premiership</span>\\n                </span>\\n            </a>\\n        </li>\\n            <li class=\"page-filters__filter-item\">\\n            <a href=\"/scottish-championship-table\" class=\"page-filters__filter-link\">\\n                <span class=\"swap-text--bp30\" title=\"Scots Champ\">\\n                    <span class=\"swap-text__target\">Scottish Championship</span>\\n                </span>\\n            </a>\\n        </li>\\n            <li class=\"page-filters__filter-item\">\\n            <a href=\"/scottish-league-one-table\" class=\"page-filters__filter-link\">\\n                <span class=\"swap-text--bp30\" title=\"Scottish League 1\">\\n                    <span class=\"swap-text__target\">Scottish League One</span>\\n                </span>\\n            </a>\\n        </li>\\n            <li class=\"page-filters__filter-item\">\\n            <a href=\"/scottish-league-two-table\" class=\"page-filters__filter-link\">\\n                <span class=\"swap-text--bp30\" title=\"Scottish League 2\">\\n                    <span class=\"swap-text__target\">Scottish League Two</span>\\n                </span>\\n            </a>\\n        </li>\\n            <li class=\"page-filters__filter-item\">\\n            <a href=\"/womens-super-league-table\" class=\"page-filters__filter-link\">\\n                <span class=\"swap-text--bp30\" title=\"WSL\">\\n                    <span class=\"swap-text__target\">Women\\'s Super League</span>\\n                </span>\\n            </a>\\n        </li>\\n            <li class=\"page-filters__filter-item\">\\n            <a href=\"/womens-championship-table\" class=\"page-filters__filter-link\">\\n                <span class=\"swap-text--bp30\" title=\"FA Women\\'s Championship\">\\n                    <span class=\"swap-text__target\">FA Women\\'s Championship</span>\\n                </span>\\n            </a>\\n        </li>\\n            <li class=\"page-filters__filter-item\">\\n            <a href=\"/champions-league-table\" class=\"page-filters__filter-link\">\\n                <span class=\"swap-text--bp30\" title=\"Champions League\">\\n                    <span class=\"swap-text__target\">Champions League</span>\\n                </span>\\n            </a>\\n        </li>\\n            <li class=\"page-filters__filter-item\">\\n            <a href=\"/europa-league-table\" class=\"page-filters__filter-link\">\\n                <span class=\"swap-text--bp30\" title=\"Europa League\">\\n                    <span class=\"swap-text__target\">Europa League</span>\\n                </span>\\n            </a>\\n        </li>\\n            <li class=\"page-filters__filter-item\">\\n            <a href=\"/europa-conference-league-table\" class=\"page-filters__filter-link\">\\n                <span class=\"swap-text--bp30\" title=\"Europa Conference League\">\\n                    <span class=\"swap-text__target\">Europa Conference League</span>\\n                </span>\\n            </a>\\n        </li>\\n            <li class=\"page-filters__filter-item\">\\n            <a href=\"/bundesliga-table\" class=\"page-filters__filter-link\">\\n                <span class=\"swap-text--bp30\" title=\"Bundesliga\">\\n                    <span class=\"swap-text__target\">Bundesliga</span>\\n                </span>\\n            </a>\\n        </li>\\n            <li class=\"page-filters__filter-item\">\\n            <a href=\"/la-liga-table\" class=\"page-filters__filter-link\">\\n                <span class=\"swap-text--bp30\" title=\"La Liga\">\\n                    <span class=\"swap-text__target\">La Liga</span>\\n                </span>\\n            </a>\\n        </li>\\n            <li class=\"page-filters__filter-item\">\\n            <a href=\"/serie-a-table\" class=\"page-filters__filter-link\">\\n                <span class=\"swap-text--bp30\" title=\"Serie A\">\\n                    <span class=\"swap-text__target\">Serie A</span>\\n                </span>\\n            </a>\\n        </li>\\n            <li class=\"page-filters__filter-item\">\\n            <a href=\"/eredivisie-table\" class=\"page-filters__filter-link\">\\n                <span class=\"swap-text--bp30\" title=\"Eredivisie\">\\n                    <span class=\"swap-text__target\">Eredivisie</span>\\n                </span>\\n            </a>\\n        </li>\\n            <li class=\"page-filters__filter-item\">\\n            <a href=\"/ligue-1-table\" class=\"page-filters__filter-link\">\\n                <span class=\"swap-text--bp30\" title=\"Ligue 1\">\\n                    <span class=\"swap-text__target\">Ligue 1</span>\\n                </span>\\n            </a>\\n        </li>\\n            <li class=\"page-filters__filter-item\">\\n            <a href=\"/world-cup-table\" class=\"page-filters__filter-link\">\\n                <span class=\"swap-text--bp30\" title=\"World Cup\">\\n                    <span class=\"swap-text__target\">World Cup</span>\\n                </span>\\n            </a>\\n        </li>\\n            <li class=\"page-filters__filter-item\">\\n            <a href=\"/football/competitions/world-cup-qualifiers/table\" class=\"page-filters__filter-link\">\\n                <span class=\"swap-text--bp30\" title=\"World Cup Qualifiers\">\\n                    <span class=\"swap-text__target\">World Cup Qualifiers</span>\\n                </span>\\n            </a>\\n        </li>\\n            <li class=\"page-filters__filter-item\">\\n            <a href=\"/football/competitions/womens-world-cup-qualifiers/table\" class=\"page-filters__filter-link\">\\n                <span class=\"swap-text--bp30\" title=\"Women\\'s WC Qualifiers\">\\n                    <span class=\"swap-text__target\">Women\\'s WC Qualifiers</span>\\n                </span>\\n            </a>\\n        </li>\\n            <li class=\"page-filters__filter-item\">\\n            <a href=\"/euro-2020-table\" class=\"page-filters__filter-link\">\\n                <span class=\"swap-text--bp30\" title=\"European Championships\">\\n                    <span class=\"swap-text__target\">European Championships</span>\\n                </span>\\n            </a>\\n        </li>\\n            <li class=\"page-filters__filter-item\">\\n            <a href=\"/uefa-nations-league-table\" class=\"page-filters__filter-link\">\\n                <span class=\"swap-text--bp30\" title=\"Nations League\">\\n                    <span class=\"swap-text__target\">UEFA Nations League</span>\\n                </span>\\n            </a>\\n        </li>\\n            <li class=\"page-filters__filter-item\">\\n            <a href=\"/under-21s-table\" class=\"page-filters__filter-link\">\\n                <span class=\"swap-text--bp30\" title=\"European U-21 Champ\">\\n                    <span class=\"swap-text__target\">European U-21 Champ</span>\\n                </span>\\n            </a>\\n        </li>\\n            <li class=\"page-filters__filter-item\">\\n            <a href=\"/copa-america-table\" class=\"page-filters__filter-link\">\\n                <span class=\"swap-text--bp30\" title=\"Copa America\">\\n                    <span class=\"swap-text__target\">Copa America</span>\\n                </span>\\n            </a>\\n        </li>\\n            <li class=\"page-filters__filter-item\">\\n            <a href=\"/football/competitions/vanarama-national-league/table\" class=\"page-filters__filter-link\">\\n                <span class=\"swap-text--bp30\" title=\"National League\">\\n                    <span class=\"swap-text__target\">National League</span>\\n                </span>\\n            </a>\\n        </li>\\n            <li class=\"page-filters__filter-item\">\\n            <a href=\"/football/competitions/vanarama-national-league-north/table\" class=\"page-filters__filter-link\">\\n                <span class=\"swap-text--bp30\" title=\"National League North\">\\n                    <span class=\"swap-text__target\">National League North</span>\\n                </span>\\n            </a>\\n        </li>\\n            <li class=\"page-filters__filter-item\">\\n            <a href=\"/football/competitions/vanarama-national-league-south/table\" class=\"page-filters__filter-link\">\\n                <span class=\"swap-text--bp30\" title=\"National League South\">\\n                    <span class=\"swap-text__target\">National League South</span>\\n                </span>\\n            </a>\\n        </li>\\n            <li class=\"page-filters__filter-item\">\\n            <a href=\"/womens-premier-league-southern-division-table\" class=\"page-filters__filter-link\">\\n                <span class=\"swap-text--bp30\" title=\"Women\\'s Southern Premier\">\\n                    <span class=\"swap-text__target\">Women\\'s Southern Premier</span>\\n                </span>\\n            </a>\\n        </li>\\n            <li class=\"page-filters__filter-item\">\\n            <a href=\"/womens-premier-league-northern-division-table\" class=\"page-filters__filter-link\">\\n                <span class=\"swap-text--bp30\" title=\"Women\\'s Northern Premier\">\\n                    <span class=\"swap-text__target\">Women\\'s Northern Premier</span>\\n                </span>\\n            </a>\\n        </li>\\n            <li class=\"page-filters__filter-item\">\\n            <a href=\"/efl-trophy-table\" class=\"page-filters__filter-link\">\\n                <span class=\"swap-text--bp30\" title=\"Papa John\\'s Trophy\">\\n                    <span class=\"swap-text__target\">Papa John\\'s Trophy</span>\\n                </span>\\n            </a>\\n        </li>\\n            <li class=\"page-filters__filter-item\">\\n            <a href=\"/scottish-league-cup-table\" class=\"page-filters__filter-link\">\\n                <span class=\"swap-text--bp30\" title=\"Scot League Cup\">\\n                    <span class=\"swap-text__target\">Scottish League Cup</span>\\n                </span>\\n            </a>\\n        </li>\\n            <li class=\"page-filters__filter-item\">\\n            <a href=\"/football/competitions/she-believes-cup/table\" class=\"page-filters__filter-link\">\\n                <span class=\"swap-text--bp30\" title=\"SheBelieves Cup\">\\n                    <span class=\"swap-text__target\">SheBelieves Cup</span>\\n                </span>\\n            </a>\\n        </li>\\n            <li class=\"page-filters__filter-item\">\\n            <a href=\"/mls-table\" class=\"page-filters__filter-link\">\\n                <span class=\"swap-text--bp30\" title=\"MLS\">\\n                    <span class=\"swap-text__target\">American MLS League</span>\\n                </span>\\n            </a>\\n        </li>\\n            <li class=\"page-filters__filter-item\">\\n            <a href=\"/chinese-super-league-table\" class=\"page-filters__filter-link\">\\n                <span class=\"swap-text--bp30\" title=\"Chinese Super League\">\\n                    <span class=\"swap-text__target\">Chinese Super League</span>\\n                </span>\\n            </a>\\n        </li>\\n            <li class=\"page-filters__filter-item\">\\n            <a href=\"/africa-cup-of-nations-table\" class=\"page-filters__filter-link\">\\n                <span class=\"swap-text--bp30\" title=\"Africa Cup of Nations\">\\n                    <span class=\"swap-text__target\">Africa Cup of Nations</span>\\n                </span>\\n            </a>\\n        </li>\\n            <li class=\"page-filters__filter-item\">\\n            <a href=\"/womens-european-championships-table\" class=\"page-filters__filter-link\">\\n                <span class=\"swap-text--bp30\" title=\"Womens Euro Champ\">\\n                    <span class=\"swap-text__target\">Womens Euro Champ</span>\\n                </span>\\n            </a>\\n        </li>\\n            <li class=\"page-filters__filter-item\">\\n            <a href=\"/womens-champions-league-table\" class=\"page-filters__filter-link\">\\n                <span class=\"swap-text--bp30\" title=\"Women\\'s Champions League\">\\n                    <span class=\"swap-text__target\">Women\\'s Champions League</span>\\n                </span>\\n            </a>\\n        </li>\\n            <li class=\"page-filters__filter-item\">\\n            <a href=\"/womens-super-league-cup-table\" class=\"page-filters__filter-link\">\\n                <span class=\"swap-text--bp30\" title=\"Women\\'s League Cup\">\\n                    <span class=\"swap-text__target\">Women\\'s League Cup</span>\\n                </span>\\n            </a>\\n        </li>\\n        </ul>\\n</div>\\n    </div>\\n  </div>\\n\\n</div>\\n<div class=\"page-filters__offset\">\\n    <div class=\"standing-table__2col-group\">\\n    <a href=\"/premier-league-table\" class=\"standing-table block\">\\n\\n  <table class=\"standing-table__table\">\\n\\n    <caption class=\"standing-table__caption\">\\n      Premier League 2022/23    </caption>\\n\\n    <colgroup class=\"standing-table__cols\">\\n      <col class=\"standing-table__col1\">\\n      <col class=\"standing-table__col2\">\\n      <col class=\"standing-table__col3\">\\n      <col class=\"standing-table__col4\">\\n      <col class=\"standing-table__col5\">\\n    </colgroup>\\n\\n    <thead>\\n      <tr class=\"standing-table__row\">\\n        <th class=\"standing-table__cell standing-table__header-cell\" title=\"Position\" data-label=\"pos\">#</th>\\n        <th class=\"standing-table__cell standing-table__header-cell standing-table__cell--name\" title=\"Team\">Team</th>\\n        <th class=\"standing-table__cell standing-table__header-cell\" title=\"Played\" data-label=\"pld\">Pl</th>\\n        <th class=\"standing-table__cell standing-table__header-cell\" title=\"Goal Difference\" data-label=\"gd\">GD</th>\\n        <th class=\"standing-table__cell standing-table__header-cell\" title=\"Points\" data-label=\"pts\">Pts</th>\\n      </tr>\\n    </thead>\\n\\n    <tbody\\n              >\\n\\n            <tr class=\"standing-table__row\" data-item-id=\"345\">\\n        <td class=\"standing-table__cell\">1</td>\\n        <td class=\"standing-table__cell standing-table__cell--name\">Man City</td>\\n        <td class=\"standing-table__cell\">2</td>\\n        <td class=\"standing-table__cell\">6</td>\\n        <td class=\"standing-table__cell\">6</td>\\n      </tr>\\n            <tr class=\"standing-table__row\" data-item-id=\"413\">\\n        <td class=\"standing-table__cell\">2</td>\\n        <td class=\"standing-table__cell standing-table__cell--name\">Arsenal</td>\\n        <td class=\"standing-table__cell\">2</td>\\n        <td class=\"standing-table__cell\">4</td>\\n        <td class=\"standing-table__cell\">6</td>\\n      </tr>\\n            <tr class=\"standing-table__row\" data-item-id=\"194\">\\n        <td class=\"standing-table__cell\">3</td>\\n        <td class=\"standing-table__cell standing-table__cell--name\">Brentford</td>\\n        <td class=\"standing-table__cell\">2</td>\\n        <td class=\"standing-table__cell\">4</td>\\n        <td class=\"standing-table__cell\">4</td>\\n      </tr>\\n            <tr class=\"standing-table__row\" data-item-id=\"608\">\\n        <td class=\"standing-table__cell\">4</td>\\n        <td class=\"standing-table__cell standing-table__cell--name\">Tottenham</td>\\n        <td class=\"standing-table__cell\">2</td>\\n        <td class=\"standing-table__cell\">3</td>\\n        <td class=\"standing-table__cell\">4</td>\\n      </tr>\\n            <tr class=\"standing-table__row\" data-item-id=\"409\">\\n        <td class=\"standing-table__cell\">5</td>\\n        <td class=\"standing-table__cell standing-table__cell--name\">Newcastle</td>\\n        <td class=\"standing-table__cell\">2</td>\\n        <td class=\"standing-table__cell\">2</td>\\n        <td class=\"standing-table__cell\">4</td>\\n      </tr>\\n      \\n    </tbody>\\n\\n  </table>\\n\\n  \\n  <div class=\"standing-table__supplementary\">\\n\\n    \\n    <time>Last Updated 14/08/22 10:02pm</time>\\n\\n    \\n  </div>\\n\\n  \\n</a><a href=\"/womens-european-championships-table\" class=\"standing-table block\">\\n\\n  <table class=\"standing-table__table\">\\n\\n    <caption class=\"standing-table__caption\">\\n      Women\\'s European Championship - Group A 2022/23    </caption>\\n\\n    <colgroup class=\"standing-table__cols\">\\n      <col class=\"standing-table__col1\">\\n      <col class=\"standing-table__col2\">\\n      <col class=\"standing-table__col3\">\\n      <col class=\"standing-table__col4\">\\n      <col class=\"standing-table__col5\">\\n    </colgroup>\\n\\n    <thead>\\n      <tr class=\"standing-table__row\">\\n        <th class=\"standing-table__cell standing-table__header-cell\" title=\"Position\" data-label=\"pos\">#</th>\\n        <th class=\"standing-table__cell standing-table__header-cell standing-table__cell--name\" title=\"Team\">Team</th>\\n        <th class=\"standing-table__cell standing-table__header-cell\" title=\"Played\" data-label=\"pld\">Pl</th>\\n        <th class=\"standing-table__cell standing-table__header-cell\" title=\"Goal Difference\" data-label=\"gd\">GD</th>\\n        <th class=\"standing-table__cell standing-table__header-cell\" title=\"Points\" data-label=\"pts\">Pts</th>\\n      </tr>\\n    </thead>\\n\\n    <tbody\\n              >\\n\\n            <tr class=\"standing-table__row\" data-item-id=\"3824\">\\n        <td class=\"standing-table__cell\">1</td>\\n        <td class=\"standing-table__cell standing-table__cell--name\">England Women</td>\\n        <td class=\"standing-table__cell\">3</td>\\n        <td class=\"standing-table__cell\">14</td>\\n        <td class=\"standing-table__cell\">9</td>\\n      </tr>\\n            <tr class=\"standing-table__row\" data-item-id=\"6760\">\\n        <td class=\"standing-table__cell\">2</td>\\n        <td class=\"standing-table__cell standing-table__cell--name\">Austria Women</td>\\n        <td class=\"standing-table__cell\">3</td>\\n        <td class=\"standing-table__cell\">2</td>\\n        <td class=\"standing-table__cell\">6</td>\\n      </tr>\\n            <tr class=\"standing-table__row\" data-item-id=\"3832\">\\n        <td class=\"standing-table__cell\">3</td>\\n        <td class=\"standing-table__cell standing-table__cell--name\">Norway Women</td>\\n        <td class=\"standing-table__cell\">3</td>\\n        <td class=\"standing-table__cell\">-6</td>\\n        <td class=\"standing-table__cell\">3</td>\\n      </tr>\\n            <tr class=\"standing-table__row\" data-item-id=\"6839\">\\n        <td class=\"standing-table__cell\">4</td>\\n        <td class=\"standing-table__cell standing-table__cell--name\">N Ireland Women</td>\\n        <td class=\"standing-table__cell\">3</td>\\n        <td class=\"standing-table__cell\">-10</td>\\n        <td class=\"standing-table__cell\">0</td>\\n      </tr>\\n      \\n    </tbody>\\n\\n  </table>\\n\\n  \\n  <div class=\"standing-table__supplementary\">\\n\\n    \\n    <time>Last Updated 01/08/22 7:37pm</time>\\n\\n    \\n  </div>\\n\\n  \\n</a><a href=\"/championship-table\" class=\"standing-table block\">\\n\\n  <table class=\"standing-table__table\">\\n\\n    <caption class=\"standing-table__caption\">\\n      Sky Bet Championship 2022/23    </caption>\\n\\n    <colgroup class=\"standing-table__cols\">\\n      <col class=\"standing-table__col1\">\\n      <col class=\"standing-table__col2\">\\n      <col class=\"standing-table__col3\">\\n      <col class=\"standing-table__col4\">\\n      <col class=\"standing-table__col5\">\\n    </colgroup>\\n\\n    <thead>\\n      <tr class=\"standing-table__row\">\\n        <th class=\"standing-table__cell standing-table__header-cell\" title=\"Position\" data-label=\"pos\">#</th>\\n        <th class=\"standing-table__cell standing-table__header-cell standing-table__cell--name\" title=\"Team\">Team</th>\\n        <th class=\"standing-table__cell standing-table__header-cell\" title=\"Played\" data-label=\"pld\">Pl</th>\\n        <th class=\"standing-table__cell standing-table__header-cell\" title=\"Goal Difference\" data-label=\"gd\">GD</th>\\n        <th class=\"standing-table__cell standing-table__header-cell\" title=\"Points\" data-label=\"pts\">Pts</th>\\n      </tr>\\n    </thead>\\n\\n    <tbody\\n              >\\n\\n            <tr class=\"standing-table__row\" data-item-id=\"262\">\\n        <td class=\"standing-table__cell\">1</td>\\n        <td class=\"standing-table__cell standing-table__cell--name\">Blackburn</td>\\n        <td class=\"standing-table__cell\">3</td>\\n        <td class=\"standing-table__cell\">5</td>\\n        <td class=\"standing-table__cell\">9</td>\\n      </tr>\\n            <tr class=\"standing-table__row\" data-item-id=\"253\">\\n        <td class=\"standing-table__cell\">2</td>\\n        <td class=\"standing-table__cell standing-table__cell--name\">Hull City</td>\\n        <td class=\"standing-table__cell\">3</td>\\n        <td class=\"standing-table__cell\">2</td>\\n        <td class=\"standing-table__cell\">7</td>\\n      </tr>\\n            <tr class=\"standing-table__row\" data-item-id=\"508\">\\n        <td class=\"standing-table__cell\">3</td>\\n        <td class=\"standing-table__cell standing-table__cell--name\">Watford</td>\\n        <td class=\"standing-table__cell\">3</td>\\n        <td class=\"standing-table__cell\">2</td>\\n        <td class=\"standing-table__cell\">7</td>\\n      </tr>\\n            <tr class=\"standing-table__row\" data-item-id=\"704\">\\n        <td class=\"standing-table__cell\">4</td>\\n        <td class=\"standing-table__cell standing-table__cell--name\">Millwall</td>\\n        <td class=\"standing-table__cell\">3</td>\\n        <td class=\"standing-table__cell\">1</td>\\n        <td class=\"standing-table__cell\">6</td>\\n      </tr>\\n            <tr class=\"standing-table__row\" data-item-id=\"202\">\\n        <td class=\"standing-table__cell\">5</td>\\n        <td class=\"standing-table__cell standing-table__cell--name\">Cardiff</td>\\n        <td class=\"standing-table__cell\">3</td>\\n        <td class=\"standing-table__cell\">1</td>\\n        <td class=\"standing-table__cell\">6</td>\\n      </tr>\\n      \\n    </tbody>\\n\\n  </table>\\n\\n  \\n  <div class=\"standing-table__supplementary\">\\n\\n    \\n    <time>Last Updated 15/08/22 11:27am</time>\\n\\n    \\n  </div>\\n\\n  \\n</a><a href=\"/league-1-table\" class=\"standing-table block\">\\n\\n  <table class=\"standing-table__table\">\\n\\n    <caption class=\"standing-table__caption\">\\n      Sky Bet League One 2022/23    </caption>\\n\\n    <colgroup class=\"standing-table__cols\">\\n      <col class=\"standing-table__col1\">\\n      <col class=\"standing-table__col2\">\\n      <col class=\"standing-table__col3\">\\n      <col class=\"standing-table__col4\">\\n      <col class=\"standing-table__col5\">\\n    </colgroup>\\n\\n    <thead>\\n      <tr class=\"standing-table__row\">\\n        <th class=\"standing-table__cell standing-table__header-cell\" title=\"Position\" data-label=\"pos\">#</th>\\n        <th class=\"standing-table__cell standing-table__header-cell standing-table__cell--name\" title=\"Team\">Team</th>\\n        <th class=\"standing-table__cell standing-table__header-cell\" title=\"Played\" data-label=\"pld\">Pl</th>\\n        <th class=\"standing-table__cell standing-table__header-cell\" title=\"Goal Difference\" data-label=\"gd\">GD</th>\\n        <th class=\"standing-table__cell standing-table__header-cell\" title=\"Points\" data-label=\"pts\">Pts</th>\\n      </tr>\\n    </thead>\\n\\n    <tbody\\n              >\\n\\n            <tr class=\"standing-table__row\" data-item-id=\"157\">\\n        <td class=\"standing-table__cell\">1</td>\\n        <td class=\"standing-table__cell standing-table__cell--name\">Ipswich</td>\\n        <td class=\"standing-table__cell\">3</td>\\n        <td class=\"standing-table__cell\">4</td>\\n        <td class=\"standing-table__cell\">7</td>\\n      </tr>\\n            <tr class=\"standing-table__row\" data-item-id=\"376\">\\n        <td class=\"standing-table__cell\">2</td>\\n        <td class=\"standing-table__cell standing-table__cell--name\">Sheff Wed</td>\\n        <td class=\"standing-table__cell\">3</td>\\n        <td class=\"standing-table__cell\">2</td>\\n        <td class=\"standing-table__cell\">7</td>\\n      </tr>\\n            <tr class=\"standing-table__row\" data-item-id=\"282\">\\n        <td class=\"standing-table__cell\">3</td>\\n        <td class=\"standing-table__cell standing-table__cell--name\">Bristol R</td>\\n        <td class=\"standing-table__cell\">3</td>\\n        <td class=\"standing-table__cell\">4</td>\\n        <td class=\"standing-table__cell\">6</td>\\n      </tr>\\n            <tr class=\"standing-table__row\" data-item-id=\"630\">\\n        <td class=\"standing-table__cell\">4</td>\\n        <td class=\"standing-table__cell standing-table__cell--name\">Peterboro</td>\\n        <td class=\"standing-table__cell\">3</td>\\n        <td class=\"standing-table__cell\">2</td>\\n        <td class=\"standing-table__cell\">6</td>\\n      </tr>\\n            <tr class=\"standing-table__row\" data-item-id=\"258\">\\n        <td class=\"standing-table__cell\">5</td>\\n        <td class=\"standing-table__cell standing-table__cell--name\">Plymouth</td>\\n        <td class=\"standing-table__cell\">3</td>\\n        <td class=\"standing-table__cell\">2</td>\\n        <td class=\"standing-table__cell\">6</td>\\n      </tr>\\n      \\n    </tbody>\\n\\n  </table>\\n\\n  \\n  <div class=\"standing-table__supplementary\">\\n\\n    \\n    <time>Last Updated 14/08/22 11:42pm</time>\\n\\n    \\n  </div>\\n\\n  \\n</a><a href=\"/league-2-table\" class=\"standing-table block\">\\n\\n  <table class=\"standing-table__table\">\\n\\n    <caption class=\"standing-table__caption\">\\n      Sky Bet League Two 2022/23    </caption>\\n\\n    <colgroup class=\"standing-table__cols\">\\n      <col class=\"standing-table__col1\">\\n      <col class=\"standing-table__col2\">\\n      <col class=\"standing-table__col3\">\\n      <col class=\"standing-table__col4\">\\n      <col class=\"standing-table__col5\">\\n    </colgroup>\\n\\n    <thead>\\n      <tr class=\"standing-table__row\">\\n        <th class=\"standing-table__cell standing-table__header-cell\" title=\"Position\" data-label=\"pos\">#</th>\\n        <th class=\"standing-table__cell standing-table__header-cell standing-table__cell--name\" title=\"Team\">Team</th>\\n        <th class=\"standing-table__cell standing-table__header-cell\" title=\"Played\" data-label=\"pld\">Pl</th>\\n        <th class=\"standing-table__cell standing-table__header-cell\" title=\"Goal Difference\" data-label=\"gd\">GD</th>\\n        <th class=\"standing-table__cell standing-table__header-cell\" title=\"Points\" data-label=\"pts\">Pts</th>\\n      </tr>\\n    </thead>\\n\\n    <tbody\\n              >\\n\\n            <tr class=\"standing-table__row\" data-item-id=\"537\">\\n        <td class=\"standing-table__cell\">1</td>\\n        <td class=\"standing-table__cell standing-table__cell--name\">Leyton Or</td>\\n        <td class=\"standing-table__cell\">3</td>\\n        <td class=\"standing-table__cell\">4</td>\\n        <td class=\"standing-table__cell\">9</td>\\n      </tr>\\n            <tr class=\"standing-table__row\" data-item-id=\"521\">\\n        <td class=\"standing-table__cell\">2</td>\\n        <td class=\"standing-table__cell standing-table__cell--name\">Walsall</td>\\n        <td class=\"standing-table__cell\">3</td>\\n        <td class=\"standing-table__cell\">5</td>\\n        <td class=\"standing-table__cell\">7</td>\\n      </tr>\\n            <tr class=\"standing-table__row\" data-item-id=\"3515\">\\n        <td class=\"standing-table__cell\">3</td>\\n        <td class=\"standing-table__cell standing-table__cell--name\">Salford City</td>\\n        <td class=\"standing-table__cell\">3</td>\\n        <td class=\"standing-table__cell\">5</td>\\n        <td class=\"standing-table__cell\">7</td>\\n      </tr>\\n            <tr class=\"standing-table__row\" data-item-id=\"533\">\\n        <td class=\"standing-table__cell\">4</td>\\n        <td class=\"standing-table__cell standing-table__cell--name\">Northampton</td>\\n        <td class=\"standing-table__cell\">3</td>\\n        <td class=\"standing-table__cell\">2</td>\\n        <td class=\"standing-table__cell\">7</td>\\n      </tr>\\n            <tr class=\"standing-table__row\" data-item-id=\"410\">\\n        <td class=\"standing-table__cell\">5</td>\\n        <td class=\"standing-table__cell standing-table__cell--name\">Stevenage</td>\\n        <td class=\"standing-table__cell\">3</td>\\n        <td class=\"standing-table__cell\">2</td>\\n        <td class=\"standing-table__cell\">7</td>\\n      </tr>\\n      \\n    </tbody>\\n\\n  </table>\\n\\n  \\n  <div class=\"standing-table__supplementary\">\\n\\n    \\n    <time>Last Updated 15/08/22 3:15am</time>\\n\\n    \\n  </div>\\n\\n  \\n</a><a href=\"/scottish-premier-table\" class=\"standing-table block\">\\n\\n  <table class=\"standing-table__table\">\\n\\n    <caption class=\"standing-table__caption\">\\n      Scottish Premiership 2022/23    </caption>\\n\\n    <colgroup class=\"standing-table__cols\">\\n      <col class=\"standing-table__col1\">\\n      <col class=\"standing-table__col2\">\\n      <col class=\"standing-table__col3\">\\n      <col class=\"standing-table__col4\">\\n      <col class=\"standing-table__col5\">\\n    </colgroup>\\n\\n    <thead>\\n      <tr class=\"standing-table__row\">\\n        <th class=\"standing-table__cell standing-table__header-cell\" title=\"Position\" data-label=\"pos\">#</th>\\n        <th class=\"standing-table__cell standing-table__header-cell standing-table__cell--name\" title=\"Team\">Team</th>\\n        <th class=\"standing-table__cell standing-table__header-cell\" title=\"Played\" data-label=\"pld\">Pl</th>\\n        <th class=\"standing-table__cell standing-table__header-cell\" title=\"Goal Difference\" data-label=\"gd\">GD</th>\\n        <th class=\"standing-table__cell standing-table__header-cell\" title=\"Points\" data-label=\"pts\">Pts</th>\\n      </tr>\\n    </thead>\\n\\n    <tbody\\n              >\\n\\n            <tr class=\"standing-table__row\" data-item-id=\"393\">\\n        <td class=\"standing-table__cell\">1</td>\\n        <td class=\"standing-table__cell standing-table__cell--name\">Celtic</td>\\n        <td class=\"standing-table__cell\">3</td>\\n        <td class=\"standing-table__cell\">9</td>\\n        <td class=\"standing-table__cell\">9</td>\\n      </tr>\\n            <tr class=\"standing-table__row\" data-item-id=\"245\">\\n        <td class=\"standing-table__cell\">2</td>\\n        <td class=\"standing-table__cell standing-table__cell--name\">Rangers</td>\\n        <td class=\"standing-table__cell\">3</td>\\n        <td class=\"standing-table__cell\">7</td>\\n        <td class=\"standing-table__cell\">9</td>\\n      </tr>\\n            <tr class=\"standing-table__row\" data-item-id=\"265\">\\n        <td class=\"standing-table__cell\">3</td>\\n        <td class=\"standing-table__cell standing-table__cell--name\">Hearts</td>\\n        <td class=\"standing-table__cell\">3</td>\\n        <td class=\"standing-table__cell\">4</td>\\n        <td class=\"standing-table__cell\">7</td>\\n      </tr>\\n            <tr class=\"standing-table__row\" data-item-id=\"327\">\\n        <td class=\"standing-table__cell\">4</td>\\n        <td class=\"standing-table__cell standing-table__cell--name\">Motherwell</td>\\n        <td class=\"standing-table__cell\">3</td>\\n        <td class=\"standing-table__cell\">1</td>\\n        <td class=\"standing-table__cell\">6</td>\\n      </tr>\\n            <tr class=\"standing-table__row\" data-item-id=\"580\">\\n        <td class=\"standing-table__cell\">5</td>\\n        <td class=\"standing-table__cell standing-table__cell--name\">Livingston</td>\\n        <td class=\"standing-table__cell\">3</td>\\n        <td class=\"standing-table__cell\">1</td>\\n        <td class=\"standing-table__cell\">6</td>\\n      </tr>\\n      \\n    </tbody>\\n\\n  </table>\\n\\n  \\n  <div class=\"standing-table__supplementary\">\\n\\n    \\n    <time>Last Updated 15/08/22 9:00am</time>\\n\\n    \\n  </div>\\n\\n  \\n</a><a href=\"/scottish-championship-table\" class=\"standing-table block\">\\n\\n  <table class=\"standing-table__table\">\\n\\n    <caption class=\"standing-table__caption\">\\n      Scottish Championship 2022/23    </caption>\\n\\n    <colgroup class=\"standing-table__cols\">\\n      <col class=\"standing-table__col1\">\\n      <col class=\"standing-table__col2\">\\n      <col class=\"standing-table__col3\">\\n      <col class=\"standing-table__col4\">\\n      <col class=\"standing-table__col5\">\\n    </colgroup>\\n\\n    <thead>\\n      <tr class=\"standing-table__row\">\\n        <th class=\"standing-table__cell standing-table__header-cell\" title=\"Position\" data-label=\"pos\">#</th>\\n        <th class=\"standing-table__cell standing-table__header-cell standing-table__cell--name\" title=\"Team\">Team</th>\\n        <th class=\"standing-table__cell standing-table__header-cell\" title=\"Played\" data-label=\"pld\">Pl</th>\\n        <th class=\"standing-table__cell standing-table__header-cell\" title=\"Goal Difference\" data-label=\"gd\">GD</th>\\n        <th class=\"standing-table__cell standing-table__header-cell\" title=\"Points\" data-label=\"pts\">Pts</th>\\n      </tr>\\n    </thead>\\n\\n    <tbody\\n              >\\n\\n            <tr class=\"standing-table__row\" data-item-id=\"254\">\\n        <td class=\"standing-table__cell\">1</td>\\n        <td class=\"standing-table__cell standing-table__cell--name\">Dundee</td>\\n        <td class=\"standing-table__cell\">3</td>\\n        <td class=\"standing-table__cell\">2</td>\\n        <td class=\"standing-table__cell\">6</td>\\n      </tr>\\n            <tr class=\"standing-table__row\" data-item-id=\"721\">\\n        <td class=\"standing-table__cell\">2</td>\\n        <td class=\"standing-table__cell standing-table__cell--name\">Inverness</td>\\n        <td class=\"standing-table__cell\">3</td>\\n        <td class=\"standing-table__cell\">3</td>\\n        <td class=\"standing-table__cell\">5</td>\\n      </tr>\\n            <tr class=\"standing-table__row\" data-item-id=\"224\">\\n        <td class=\"standing-table__cell\">3</td>\\n        <td class=\"standing-table__cell standing-table__cell--name\">Ayr United</td>\\n        <td class=\"standing-table__cell\">3</td>\\n        <td class=\"standing-table__cell\">1</td>\\n        <td class=\"standing-table__cell\">5</td>\\n      </tr>\\n            <tr class=\"standing-table__row\" data-item-id=\"567\">\\n        <td class=\"standing-table__cell\">4</td>\\n        <td class=\"standing-table__cell standing-table__cell--name\">Queen\\'s Pk</td>\\n        <td class=\"standing-table__cell\">3</td>\\n        <td class=\"standing-table__cell\">0</td>\\n        <td class=\"standing-table__cell\">4</td>\\n      </tr>\\n            <tr class=\"standing-table__row\" data-item-id=\"214\">\\n        <td class=\"standing-table__cell\">5</td>\\n        <td class=\"standing-table__cell standing-table__cell--name\">Partick</td>\\n        <td class=\"standing-table__cell\">3</td>\\n        <td class=\"standing-table__cell\">0</td>\\n        <td class=\"standing-table__cell\">4</td>\\n      </tr>\\n      \\n    </tbody>\\n\\n  </table>\\n\\n  \\n  <div class=\"standing-table__supplementary\">\\n\\n    \\n    <time>Last Updated 13/08/22 4:58pm</time>\\n\\n    \\n  </div>\\n\\n  \\n</a><a href=\"/scottish-league-one-table\" class=\"standing-table block\">\\n\\n  <table class=\"standing-table__table\">\\n\\n    <caption class=\"standing-table__caption\">\\n      Scottish League 1 2022/23    </caption>\\n\\n    <colgroup class=\"standing-table__cols\">\\n      <col class=\"standing-table__col1\">\\n      <col class=\"standing-table__col2\">\\n      <col class=\"standing-table__col3\">\\n      <col class=\"standing-table__col4\">\\n      <col class=\"standing-table__col5\">\\n    </colgroup>\\n\\n    <thead>\\n      <tr class=\"standing-table__row\">\\n        <th class=\"standing-table__cell standing-table__header-cell\" title=\"Position\" data-label=\"pos\">#</th>\\n        <th class=\"standing-table__cell standing-table__header-cell standing-table__cell--name\" title=\"Team\">Team</th>\\n        <th class=\"standing-table__cell standing-table__header-cell\" title=\"Played\" data-label=\"pld\">Pl</th>\\n        <th class=\"standing-table__cell standing-table__header-cell\" title=\"Goal Difference\" data-label=\"gd\">GD</th>\\n        <th class=\"standing-table__cell standing-table__header-cell\" title=\"Points\" data-label=\"pts\">Pts</th>\\n      </tr>\\n    </thead>\\n\\n    <tbody\\n              >\\n\\n            <tr class=\"standing-table__row\" data-item-id=\"291\">\\n        <td class=\"standing-table__cell\">1</td>\\n        <td class=\"standing-table__cell standing-table__cell--name\">Dunf\\'mline</td>\\n        <td class=\"standing-table__cell\">3</td>\\n        <td class=\"standing-table__cell\">5</td>\\n        <td class=\"standing-table__cell\">9</td>\\n      </tr>\\n            <tr class=\"standing-table__row\" data-item-id=\"502\">\\n        <td class=\"standing-table__cell\">2</td>\\n        <td class=\"standing-table__cell standing-table__cell--name\">Clyde</td>\\n        <td class=\"standing-table__cell\">3</td>\\n        <td class=\"standing-table__cell\">6</td>\\n        <td class=\"standing-table__cell\">7</td>\\n      </tr>\\n            <tr class=\"standing-table__row\" data-item-id=\"198\">\\n        <td class=\"standing-table__cell\">3</td>\\n        <td class=\"standing-table__cell standing-table__cell--name\">Airdrie</td>\\n        <td class=\"standing-table__cell\">3</td>\\n        <td class=\"standing-table__cell\">6</td>\\n        <td class=\"standing-table__cell\">7</td>\\n      </tr>\\n            <tr class=\"standing-table__row\" data-item-id=\"1322\">\\n        <td class=\"standing-table__cell\">4</td>\\n        <td class=\"standing-table__cell standing-table__cell--name\">Edinburgh</td>\\n        <td class=\"standing-table__cell\">3</td>\\n        <td class=\"standing-table__cell\">1</td>\\n        <td class=\"standing-table__cell\">6</td>\\n      </tr>\\n            <tr class=\"standing-table__row\" data-item-id=\"303\">\\n        <td class=\"standing-table__cell\">5</td>\\n        <td class=\"standing-table__cell standing-table__cell--name\">Falkirk</td>\\n        <td class=\"standing-table__cell\">3</td>\\n        <td class=\"standing-table__cell\">-2</td>\\n        <td class=\"standing-table__cell\">4</td>\\n      </tr>\\n      \\n    </tbody>\\n\\n  </table>\\n\\n  \\n  <div class=\"standing-table__supplementary\">\\n\\n    \\n    <time>Last Updated 14/08/22 11:46pm</time>\\n\\n    \\n  </div>\\n\\n  \\n</a><a href=\"/scottish-league-two-table\" class=\"standing-table block\">\\n\\n  <table class=\"standing-table__table\">\\n\\n    <caption class=\"standing-table__caption\">\\n      Scottish League 2 2022/23    </caption>\\n\\n    <colgroup class=\"standing-table__cols\">\\n      <col class=\"standing-table__col1\">\\n      <col class=\"standing-table__col2\">\\n      <col class=\"standing-table__col3\">\\n      <col class=\"standing-table__col4\">\\n      <col class=\"standing-table__col5\">\\n    </colgroup>\\n\\n    <thead>\\n      <tr class=\"standing-table__row\">\\n        <th class=\"standing-table__cell standing-table__header-cell\" title=\"Position\" data-label=\"pos\">#</th>\\n        <th class=\"standing-table__cell standing-table__header-cell standing-table__cell--name\" title=\"Team\">Team</th>\\n        <th class=\"standing-table__cell standing-table__header-cell\" title=\"Played\" data-label=\"pld\">Pl</th>\\n        <th class=\"standing-table__cell standing-table__header-cell\" title=\"Goal Difference\" data-label=\"gd\">GD</th>\\n        <th class=\"standing-table__cell standing-table__header-cell\" title=\"Points\" data-label=\"pts\">Pts</th>\\n      </tr>\\n    </thead>\\n\\n    <tbody\\n              >\\n\\n            <tr class=\"standing-table__row\" data-item-id=\"394\">\\n        <td class=\"standing-table__cell\">1</td>\\n        <td class=\"standing-table__cell standing-table__cell--name\">Dumbarton</td>\\n        <td class=\"standing-table__cell\">3</td>\\n        <td class=\"standing-table__cell\">7</td>\\n        <td class=\"standing-table__cell\">9</td>\\n      </tr>\\n            <tr class=\"standing-table__row\" data-item-id=\"3074\">\\n        <td class=\"standing-table__cell\">2</td>\\n        <td class=\"standing-table__cell standing-table__cell--name\">Bonnyrigg Rose</td>\\n        <td class=\"standing-table__cell\">3</td>\\n        <td class=\"standing-table__cell\">5</td>\\n        <td class=\"standing-table__cell\">7</td>\\n      </tr>\\n            <tr class=\"standing-table__row\" data-item-id=\"548\">\\n        <td class=\"standing-table__cell\">3</td>\\n        <td class=\"standing-table__cell standing-table__cell--name\">East Fife</td>\\n        <td class=\"standing-table__cell\">3</td>\\n        <td class=\"standing-table__cell\">0</td>\\n        <td class=\"standing-table__cell\">6</td>\\n      </tr>\\n            <tr class=\"standing-table__row\" data-item-id=\"528\">\\n        <td class=\"standing-table__cell\">4</td>\\n        <td class=\"standing-table__cell standing-table__cell--name\">Stirling </td>\\n        <td class=\"standing-table__cell\">3</td>\\n        <td class=\"standing-table__cell\">1</td>\\n        <td class=\"standing-table__cell\">4</td>\\n      </tr>\\n            <tr class=\"standing-table__row\" data-item-id=\"207\">\\n        <td class=\"standing-table__cell\">5</td>\\n        <td class=\"standing-table__cell standing-table__cell--name\">Forfar </td>\\n        <td class=\"standing-table__cell\">3</td>\\n        <td class=\"standing-table__cell\">0</td>\\n        <td class=\"standing-table__cell\">4</td>\\n      </tr>\\n      \\n    </tbody>\\n\\n  </table>\\n\\n  \\n  <div class=\"standing-table__supplementary\">\\n\\n    \\n    <time>Last Updated 14/08/22 11:37pm</time>\\n\\n    \\n  </div>\\n\\n  \\n</a><a href=\"/womens-super-league-table\" class=\"standing-table block\">\\n\\n  <table class=\"standing-table__table\">\\n\\n    <caption class=\"standing-table__caption\">\\n      Women\\'s Super League 2022/23    </caption>\\n\\n    <colgroup class=\"standing-table__cols\">\\n      <col class=\"standing-table__col1\">\\n      <col class=\"standing-table__col2\">\\n      <col class=\"standing-table__col3\">\\n      <col class=\"standing-table__col4\">\\n      <col class=\"standing-table__col5\">\\n    </colgroup>\\n\\n    <thead>\\n      <tr class=\"standing-table__row\">\\n        <th class=\"standing-table__cell standing-table__header-cell\" title=\"Position\" data-label=\"pos\">#</th>\\n        <th class=\"standing-table__cell standing-table__header-cell standing-table__cell--name\" title=\"Team\">Team</th>\\n        <th class=\"standing-table__cell standing-table__header-cell\" title=\"Played\" data-label=\"pld\">Pl</th>\\n        <th class=\"standing-table__cell standing-table__header-cell\" title=\"Goal Difference\" data-label=\"gd\">GD</th>\\n        <th class=\"standing-table__cell standing-table__header-cell\" title=\"Points\" data-label=\"pts\">Pts</th>\\n      </tr>\\n    </thead>\\n\\n    <tbody\\n              >\\n\\n            <tr class=\"standing-table__row\" data-item-id=\"3746\">\\n        <td class=\"standing-table__cell\">1</td>\\n        <td class=\"standing-table__cell standing-table__cell--name\">Arsenal Women</td>\\n        <td class=\"standing-table__cell\">0</td>\\n        <td class=\"standing-table__cell\">0</td>\\n        <td class=\"standing-table__cell\">0</td>\\n      </tr>\\n            <tr class=\"standing-table__row\" data-item-id=\"5062\">\\n        <td class=\"standing-table__cell\">2</td>\\n        <td class=\"standing-table__cell standing-table__cell--name\">Aston Villa Women</td>\\n        <td class=\"standing-table__cell\">0</td>\\n        <td class=\"standing-table__cell\">0</td>\\n        <td class=\"standing-table__cell\">0</td>\\n      </tr>\\n            <tr class=\"standing-table__row\" data-item-id=\"6906\">\\n        <td class=\"standing-table__cell\">3</td>\\n        <td class=\"standing-table__cell standing-table__cell--name\">Brighton Women</td>\\n        <td class=\"standing-table__cell\">0</td>\\n        <td class=\"standing-table__cell\">0</td>\\n        <td class=\"standing-table__cell\">0</td>\\n      </tr>\\n            <tr class=\"standing-table__row\" data-item-id=\"3749\">\\n        <td class=\"standing-table__cell\">4</td>\\n        <td class=\"standing-table__cell standing-table__cell--name\">Chelsea Women</td>\\n        <td class=\"standing-table__cell\">0</td>\\n        <td class=\"standing-table__cell\">0</td>\\n        <td class=\"standing-table__cell\">0</td>\\n      </tr>\\n            <tr class=\"standing-table__row\" data-item-id=\"3747\">\\n        <td class=\"standing-table__cell\">5</td>\\n        <td class=\"standing-table__cell standing-table__cell--name\">Everton Women</td>\\n        <td class=\"standing-table__cell\">0</td>\\n        <td class=\"standing-table__cell\">0</td>\\n        <td class=\"standing-table__cell\">0</td>\\n      </tr>\\n      \\n    </tbody>\\n\\n  </table>\\n\\n  \\n  <div class=\"standing-table__supplementary\">\\n\\n    \\n    <time>Last Updated 12/07/22 3:01pm</time>\\n\\n    \\n  </div>\\n\\n  \\n</a><a href=\"/womens-championship-table\" class=\"standing-table block\">\\n\\n  <table class=\"standing-table__table\">\\n\\n    <caption class=\"standing-table__caption\">\\n      FA Women\\'s Championship 2022/23    </caption>\\n\\n    <colgroup class=\"standing-table__cols\">\\n      <col class=\"standing-table__col1\">\\n      <col class=\"standing-table__col2\">\\n      <col class=\"standing-table__col3\">\\n      <col class=\"standing-table__col4\">\\n      <col class=\"standing-table__col5\">\\n    </colgroup>\\n\\n    <thead>\\n      <tr class=\"standing-table__row\">\\n        <th class=\"standing-table__cell standing-table__header-cell\" title=\"Position\" data-label=\"pos\">#</th>\\n        <th class=\"standing-table__cell standing-table__header-cell standing-table__cell--name\" title=\"Team\">Team</th>\\n        <th class=\"standing-table__cell standing-table__header-cell\" title=\"Played\" data-label=\"pld\">Pl</th>\\n        <th class=\"standing-table__cell standing-table__header-cell\" title=\"Goal Difference\" data-label=\"gd\">GD</th>\\n        <th class=\"standing-table__cell standing-table__header-cell\" title=\"Points\" data-label=\"pts\">Pts</th>\\n      </tr>\\n    </thead>\\n\\n    <tbody\\n              >\\n\\n            <tr class=\"standing-table__row\" data-item-id=\"5406\">\\n        <td class=\"standing-table__cell\">1</td>\\n        <td class=\"standing-table__cell standing-table__cell--name\">Birmingham Women</td>\\n        <td class=\"standing-table__cell\">0</td>\\n        <td class=\"standing-table__cell\">0</td>\\n        <td class=\"standing-table__cell\">0</td>\\n      </tr>\\n            <tr class=\"standing-table__row\" data-item-id=\"6886\">\\n        <td class=\"standing-table__cell\">2</td>\\n        <td class=\"standing-table__cell standing-table__cell--name\">Blackburn Rovers Ladies</td>\\n        <td class=\"standing-table__cell\">0</td>\\n        <td class=\"standing-table__cell\">0</td>\\n        <td class=\"standing-table__cell\">0</td>\\n      </tr>\\n            <tr class=\"standing-table__row\" data-item-id=\"5405\">\\n        <td class=\"standing-table__cell\">3</td>\\n        <td class=\"standing-table__cell standing-table__cell--name\">Bristol City Women</td>\\n        <td class=\"standing-table__cell\">0</td>\\n        <td class=\"standing-table__cell\">0</td>\\n        <td class=\"standing-table__cell\">0</td>\\n      </tr>\\n            <tr class=\"standing-table__row\" data-item-id=\"6872\">\\n        <td class=\"standing-table__cell\">4</td>\\n        <td class=\"standing-table__cell standing-table__cell--name\">Charlton Athletic Women</td>\\n        <td class=\"standing-table__cell\">0</td>\\n        <td class=\"standing-table__cell\">0</td>\\n        <td class=\"standing-table__cell\">0</td>\\n      </tr>\\n            <tr class=\"standing-table__row\" data-item-id=\"6859\">\\n        <td class=\"standing-table__cell\">5</td>\\n        <td class=\"standing-table__cell standing-table__cell--name\">Coventry United Ladies</td>\\n        <td class=\"standing-table__cell\">0</td>\\n        <td class=\"standing-table__cell\">0</td>\\n        <td class=\"standing-table__cell\">0</td>\\n      </tr>\\n      \\n    </tbody>\\n\\n  </table>\\n\\n  \\n  <div class=\"standing-table__supplementary\">\\n\\n    \\n    <time>Last Updated 08/07/22 11:23am</time>\\n\\n    \\n  </div>\\n\\n  \\n</a><a href=\"/champions-league-table\" class=\"standing-table block\">\\n\\n  <table class=\"standing-table__table\">\\n\\n    <caption class=\"standing-table__caption\">\\n      UEFA Champions League - Group A 2021/22    </caption>\\n\\n    <colgroup class=\"standing-table__cols\">\\n      <col class=\"standing-table__col1\">\\n      <col class=\"standing-table__col2\">\\n      <col class=\"standing-table__col3\">\\n      <col class=\"standing-table__col4\">\\n      <col class=\"standing-table__col5\">\\n    </colgroup>\\n\\n    <thead>\\n      <tr class=\"standing-table__row\">\\n        <th class=\"standing-table__cell standing-table__header-cell\" title=\"Position\" data-label=\"pos\">#</th>\\n        <th class=\"standing-table__cell standing-table__header-cell standing-table__cell--name\" title=\"Team\">Team</th>\\n        <th class=\"standing-table__cell standing-table__header-cell\" title=\"Played\" data-label=\"pld\">Pl</th>\\n        <th class=\"standing-table__cell standing-table__header-cell\" title=\"Goal Difference\" data-label=\"gd\">GD</th>\\n        <th class=\"standing-table__cell standing-table__header-cell\" title=\"Points\" data-label=\"pts\">Pts</th>\\n      </tr>\\n    </thead>\\n\\n    <tbody\\n              >\\n\\n            <tr class=\"standing-table__row\" data-item-id=\"530\">\\n        <td class=\"standing-table__cell\">1</td>\\n        <td class=\"standing-table__cell standing-table__cell--name\">Bay Munich</td>\\n        <td class=\"standing-table__cell\">6</td>\\n        <td class=\"standing-table__cell\">13</td>\\n        <td class=\"standing-table__cell\">16</td>\\n      </tr>\\n            <tr class=\"standing-table__row\" data-item-id=\"872\">\\n        <td class=\"standing-table__cell\">2</td>\\n        <td class=\"standing-table__cell standing-table__cell--name\">A Madrid</td>\\n        <td class=\"standing-table__cell\">6</td>\\n        <td class=\"standing-table__cell\">-1</td>\\n        <td class=\"standing-table__cell\">9</td>\\n      </tr>\\n            <tr class=\"standing-table__row\" data-item-id=\"145\">\\n        <td class=\"standing-table__cell\">3</td>\\n        <td class=\"standing-table__cell standing-table__cell--name\">Salzburg</td>\\n        <td class=\"standing-table__cell\">6</td>\\n        <td class=\"standing-table__cell\">-7</td>\\n        <td class=\"standing-table__cell\">4</td>\\n      </tr>\\n            <tr class=\"standing-table__row\" data-item-id=\"676\">\\n        <td class=\"standing-table__cell\">4</td>\\n        <td class=\"standing-table__cell standing-table__cell--name\">Lokomotiv</td>\\n        <td class=\"standing-table__cell\">6</td>\\n        <td class=\"standing-table__cell\">-5</td>\\n        <td class=\"standing-table__cell\">3</td>\\n      </tr>\\n      \\n    </tbody>\\n\\n  </table>\\n\\n  \\n  <div class=\"standing-table__supplementary\">\\n\\n    \\n    <time>Last Updated 07/06/22 3:59pm</time>\\n\\n    \\n  </div>\\n\\n  \\n</a><a href=\"/europa-league-table\" class=\"standing-table block\">\\n\\n  <table class=\"standing-table__table\">\\n\\n    <caption class=\"standing-table__caption\">\\n      UEFA Europa League - Group A 2021/22    </caption>\\n\\n    <colgroup class=\"standing-table__cols\">\\n      <col class=\"standing-table__col1\">\\n      <col class=\"standing-table__col2\">\\n      <col class=\"standing-table__col3\">\\n      <col class=\"standing-table__col4\">\\n      <col class=\"standing-table__col5\">\\n    </colgroup>\\n\\n    <thead>\\n      <tr class=\"standing-table__row\">\\n        <th class=\"standing-table__cell standing-table__header-cell\" title=\"Position\" data-label=\"pos\">#</th>\\n        <th class=\"standing-table__cell standing-table__header-cell standing-table__cell--name\" title=\"Team\">Team</th>\\n        <th class=\"standing-table__cell standing-table__header-cell\" title=\"Played\" data-label=\"pld\">Pl</th>\\n        <th class=\"standing-table__cell standing-table__header-cell\" title=\"Goal Difference\" data-label=\"gd\">GD</th>\\n        <th class=\"standing-table__cell standing-table__header-cell\" title=\"Points\" data-label=\"pts\">Pts</th>\\n      </tr>\\n    </thead>\\n\\n    <tbody\\n              >\\n\\n            <tr class=\"standing-table__row\" data-item-id=\"851\">\\n        <td class=\"standing-table__cell\">1</td>\\n        <td class=\"standing-table__cell standing-table__cell--name\">Lyon</td>\\n        <td class=\"standing-table__cell\">6</td>\\n        <td class=\"standing-table__cell\">11</td>\\n        <td class=\"standing-table__cell\">16</td>\\n      </tr>\\n            <tr class=\"standing-table__row\" data-item-id=\"245\">\\n        <td class=\"standing-table__cell\">2</td>\\n        <td class=\"standing-table__cell standing-table__cell--name\">Rangers</td>\\n        <td class=\"standing-table__cell\">6</td>\\n        <td class=\"standing-table__cell\">1</td>\\n        <td class=\"standing-table__cell\">8</td>\\n      </tr>\\n            <tr class=\"standing-table__row\" data-item-id=\"637\">\\n        <td class=\"standing-table__cell\">3</td>\\n        <td class=\"standing-table__cell standing-table__cell--name\">Sp Prague</td>\\n        <td class=\"standing-table__cell\">6</td>\\n        <td class=\"standing-table__cell\">-3</td>\\n        <td class=\"standing-table__cell\">7</td>\\n      </tr>\\n            <tr class=\"standing-table__row\" data-item-id=\"340\">\\n        <td class=\"standing-table__cell\">4</td>\\n        <td class=\"standing-table__cell standing-table__cell--name\">Brondby</td>\\n        <td class=\"standing-table__cell\">6</td>\\n        <td class=\"standing-table__cell\">-9</td>\\n        <td class=\"standing-table__cell\">2</td>\\n      </tr>\\n      \\n    </tbody>\\n\\n  </table>\\n\\n  \\n  <div class=\"standing-table__supplementary\">\\n\\n    \\n    <time>Last Updated 19/05/22 7:59am</time>\\n\\n    \\n  </div>\\n\\n  \\n</a><a href=\"/europa-conference-league-table\" class=\"standing-table block\">\\n\\n  <table class=\"standing-table__table\">\\n\\n    <caption class=\"standing-table__caption\">\\n      UEFA Europa Conference League - Group A 2021/22    </caption>\\n\\n    <colgroup class=\"standing-table__cols\">\\n      <col class=\"standing-table__col1\">\\n      <col class=\"standing-table__col2\">\\n      <col class=\"standing-table__col3\">\\n      <col class=\"standing-table__col4\">\\n      <col class=\"standing-table__col5\">\\n    </colgroup>\\n\\n    <thead>\\n      <tr class=\"standing-table__row\">\\n        <th class=\"standing-table__cell standing-table__header-cell\" title=\"Position\" data-label=\"pos\">#</th>\\n        <th class=\"standing-table__cell standing-table__header-cell standing-table__cell--name\" title=\"Team\">Team</th>\\n        <th class=\"standing-table__cell standing-table__header-cell\" title=\"Played\" data-label=\"pld\">Pl</th>\\n        <th class=\"standing-table__cell standing-table__header-cell\" title=\"Goal Difference\" data-label=\"gd\">GD</th>\\n        <th class=\"standing-table__cell standing-table__header-cell\" title=\"Points\" data-label=\"pts\">Pts</th>\\n      </tr>\\n    </thead>\\n\\n    <tbody\\n              >\\n\\n            <tr class=\"standing-table__row\" data-item-id=\"1972\">\\n        <td class=\"standing-table__cell\">1</td>\\n        <td class=\"standing-table__cell standing-table__cell--name\">Linz ASK</td>\\n        <td class=\"standing-table__cell\">6</td>\\n        <td class=\"standing-table__cell\">11</td>\\n        <td class=\"standing-table__cell\">16</td>\\n      </tr>\\n            <tr class=\"standing-table__row\" data-item-id=\"1812\">\\n        <td class=\"standing-table__cell\">2</td>\\n        <td class=\"standing-table__cell standing-table__cell--name\">Mac Tel Avi</td>\\n        <td class=\"standing-table__cell\">6</td>\\n        <td class=\"standing-table__cell\">10</td>\\n        <td class=\"standing-table__cell\">11</td>\\n      </tr>\\n            <tr class=\"standing-table__row\" data-item-id=\"90\">\\n        <td class=\"standing-table__cell\">3</td>\\n        <td class=\"standing-table__cell standing-table__cell--name\">HJK Helsinki</td>\\n        <td class=\"standing-table__cell\">6</td>\\n        <td class=\"standing-table__cell\">-10</td>\\n        <td class=\"standing-table__cell\">6</td>\\n      </tr>\\n            <tr class=\"standing-table__row\" data-item-id=\"6381\">\\n        <td class=\"standing-table__cell\">4</td>\\n        <td class=\"standing-table__cell standing-table__cell--name\">Alashkert FC</td>\\n        <td class=\"standing-table__cell\">6</td>\\n        <td class=\"standing-table__cell\">-11</td>\\n        <td class=\"standing-table__cell\">1</td>\\n      </tr>\\n      \\n    </tbody>\\n\\n  </table>\\n\\n  \\n  <div class=\"standing-table__supplementary\">\\n\\n    \\n    <time>Last Updated 26/05/22 11:40am</time>\\n\\n    \\n  </div>\\n\\n  \\n</a><a href=\"/bundesliga-table\" class=\"standing-table block\">\\n\\n  <table class=\"standing-table__table\">\\n\\n    <caption class=\"standing-table__caption\">\\n      German Bundesliga 2022/23    </caption>\\n\\n    <colgroup class=\"standing-table__cols\">\\n      <col class=\"standing-table__col1\">\\n      <col class=\"standing-table__col2\">\\n      <col class=\"standing-table__col3\">\\n      <col class=\"standing-table__col4\">\\n      <col class=\"standing-table__col5\">\\n    </colgroup>\\n\\n    <thead>\\n      <tr class=\"standing-table__row\">\\n        <th class=\"standing-table__cell standing-table__header-cell\" title=\"Position\" data-label=\"pos\">#</th>\\n        <th class=\"standing-table__cell standing-table__header-cell standing-table__cell--name\" title=\"Team\">Team</th>\\n        <th class=\"standing-table__cell standing-table__header-cell\" title=\"Played\" data-label=\"pld\">Pl</th>\\n        <th class=\"standing-table__cell standing-table__header-cell\" title=\"Goal Difference\" data-label=\"gd\">GD</th>\\n        <th class=\"standing-table__cell standing-table__header-cell\" title=\"Points\" data-label=\"pts\">Pts</th>\\n      </tr>\\n    </thead>\\n\\n    <tbody\\n              >\\n\\n            <tr class=\"standing-table__row\" data-item-id=\"530\">\\n        <td class=\"standing-table__cell\">1</td>\\n        <td class=\"standing-table__cell standing-table__cell--name\">Bay Munich</td>\\n        <td class=\"standing-table__cell\">2</td>\\n        <td class=\"standing-table__cell\">7</td>\\n        <td class=\"standing-table__cell\">6</td>\\n      </tr>\\n            <tr class=\"standing-table__row\" data-item-id=\"241\">\\n        <td class=\"standing-table__cell\">2</td>\\n        <td class=\"standing-table__cell standing-table__cell--name\">B Dortmund</td>\\n        <td class=\"standing-table__cell\">2</td>\\n        <td class=\"standing-table__cell\">3</td>\\n        <td class=\"standing-table__cell\">6</td>\\n      </tr>\\n            <tr class=\"standing-table__row\" data-item-id=\"142\">\\n        <td class=\"standing-table__cell\">3</td>\\n        <td class=\"standing-table__cell standing-table__cell--name\">M\\'gladbach</td>\\n        <td class=\"standing-table__cell\">2</td>\\n        <td class=\"standing-table__cell\">2</td>\\n        <td class=\"standing-table__cell\">4</td>\\n      </tr>\\n            <tr class=\"standing-table__row\" data-item-id=\"449\">\\n        <td class=\"standing-table__cell\">3</td>\\n        <td class=\"standing-table__cell standing-table__cell--name\">Cologne</td>\\n        <td class=\"standing-table__cell\">2</td>\\n        <td class=\"standing-table__cell\">2</td>\\n        <td class=\"standing-table__cell\">4</td>\\n      </tr>\\n            <tr class=\"standing-table__row\" data-item-id=\"5394\">\\n        <td class=\"standing-table__cell\">5</td>\\n        <td class=\"standing-table__cell standing-table__cell--name\">1. FC Union Berlin</td>\\n        <td class=\"standing-table__cell\">2</td>\\n        <td class=\"standing-table__cell\">2</td>\\n        <td class=\"standing-table__cell\">4</td>\\n      </tr>\\n      \\n    </tbody>\\n\\n  </table>\\n\\n  \\n  <div class=\"standing-table__supplementary\">\\n\\n    \\n    <time>Last Updated 15/08/22 2:42am</time>\\n\\n    \\n  </div>\\n\\n  \\n</a><a href=\"/la-liga-table\" class=\"standing-table block\">\\n\\n  <table class=\"standing-table__table\">\\n\\n    <caption class=\"standing-table__caption\">\\n      Spanish La Liga 2022/23    </caption>\\n\\n    <colgroup class=\"standing-table__cols\">\\n      <col class=\"standing-table__col1\">\\n      <col class=\"standing-table__col2\">\\n      <col class=\"standing-table__col3\">\\n      <col class=\"standing-table__col4\">\\n      <col class=\"standing-table__col5\">\\n    </colgroup>\\n\\n    <thead>\\n      <tr class=\"standing-table__row\">\\n        <th class=\"standing-table__cell standing-table__header-cell\" title=\"Position\" data-label=\"pos\">#</th>\\n        <th class=\"standing-table__cell standing-table__header-cell standing-table__cell--name\" title=\"Team\">Team</th>\\n        <th class=\"standing-table__cell standing-table__header-cell\" title=\"Played\" data-label=\"pld\">Pl</th>\\n        <th class=\"standing-table__cell standing-table__header-cell\" title=\"Goal Difference\" data-label=\"gd\">GD</th>\\n        <th class=\"standing-table__cell standing-table__header-cell\" title=\"Points\" data-label=\"pts\">Pts</th>\\n      </tr>\\n    </thead>\\n\\n    <tbody\\n              >\\n\\n            <tr class=\"standing-table__row\" data-item-id=\"666\">\\n        <td class=\"standing-table__cell\">1</td>\\n        <td class=\"standing-table__cell standing-table__cell--name\">Villarreal</td>\\n        <td class=\"standing-table__cell\">1</td>\\n        <td class=\"standing-table__cell\">3</td>\\n        <td class=\"standing-table__cell\">3</td>\\n      </tr>\\n            <tr class=\"standing-table__row\" data-item-id=\"598\">\\n        <td class=\"standing-table__cell\">2</td>\\n        <td class=\"standing-table__cell standing-table__cell--name\">R Madrid</td>\\n        <td class=\"standing-table__cell\">1</td>\\n        <td class=\"standing-table__cell\">1</td>\\n        <td class=\"standing-table__cell\">3</td>\\n      </tr>\\n            <tr class=\"standing-table__row\" data-item-id=\"743\">\\n        <td class=\"standing-table__cell\">3</td>\\n        <td class=\"standing-table__cell standing-table__cell--name\">Osasuna</td>\\n        <td class=\"standing-table__cell\">1</td>\\n        <td class=\"standing-table__cell\">1</td>\\n        <td class=\"standing-table__cell\">3</td>\\n      </tr>\\n            <tr class=\"standing-table__row\" data-item-id=\"1166\">\\n        <td class=\"standing-table__cell\">4</td>\\n        <td class=\"standing-table__cell standing-table__cell--name\">Sociedad</td>\\n        <td class=\"standing-table__cell\">1</td>\\n        <td class=\"standing-table__cell\">1</td>\\n        <td class=\"standing-table__cell\">3</td>\\n      </tr>\\n            <tr class=\"standing-table__row\" data-item-id=\"584\">\\n        <td class=\"standing-table__cell\">5</td>\\n        <td class=\"standing-table__cell standing-table__cell--name\">Valencia</td>\\n        <td class=\"standing-table__cell\">1</td>\\n        <td class=\"standing-table__cell\">1</td>\\n        <td class=\"standing-table__cell\">3</td>\\n      </tr>\\n      \\n    </tbody>\\n\\n  </table>\\n\\n  \\n  <div class=\"standing-table__supplementary\">\\n\\n    \\n    <time>Last Updated 15/08/22 3:45am</time>\\n\\n    \\n  </div>\\n\\n  \\n</a><a href=\"/serie-a-table\" class=\"standing-table block\">\\n\\n  <table class=\"standing-table__table\">\\n\\n    <caption class=\"standing-table__caption\">\\n      Italian Serie A 2022/23    </caption>\\n\\n    <colgroup class=\"standing-table__cols\">\\n      <col class=\"standing-table__col1\">\\n      <col class=\"standing-table__col2\">\\n      <col class=\"standing-table__col3\">\\n      <col class=\"standing-table__col4\">\\n      <col class=\"standing-table__col5\">\\n    </colgroup>\\n\\n    <thead>\\n      <tr class=\"standing-table__row\">\\n        <th class=\"standing-table__cell standing-table__header-cell\" title=\"Position\" data-label=\"pos\">#</th>\\n        <th class=\"standing-table__cell standing-table__header-cell standing-table__cell--name\" title=\"Team\">Team</th>\\n        <th class=\"standing-table__cell standing-table__header-cell\" title=\"Played\" data-label=\"pld\">Pl</th>\\n        <th class=\"standing-table__cell standing-table__header-cell\" title=\"Goal Difference\" data-label=\"gd\">GD</th>\\n        <th class=\"standing-table__cell standing-table__header-cell\" title=\"Points\" data-label=\"pts\">Pts</th>\\n      </tr>\\n    </thead>\\n\\n    <tbody\\n              >\\n\\n            <tr class=\"standing-table__row\" data-item-id=\"674\">\\n        <td class=\"standing-table__cell\">1</td>\\n        <td class=\"standing-table__cell standing-table__cell--name\">AC Milan</td>\\n        <td class=\"standing-table__cell\">1</td>\\n        <td class=\"standing-table__cell\">2</td>\\n        <td class=\"standing-table__cell\">3</td>\\n      </tr>\\n            <tr class=\"standing-table__row\" data-item-id=\"1091\">\\n        <td class=\"standing-table__cell\">2</td>\\n        <td class=\"standing-table__cell standing-table__cell--name\">Atalanta</td>\\n        <td class=\"standing-table__cell\">1</td>\\n        <td class=\"standing-table__cell\">2</td>\\n        <td class=\"standing-table__cell\">3</td>\\n      </tr>\\n            <tr class=\"standing-table__row\" data-item-id=\"665\">\\n        <td class=\"standing-table__cell\">3</td>\\n        <td class=\"standing-table__cell standing-table__cell--name\">Fiorentina</td>\\n        <td class=\"standing-table__cell\">1</td>\\n        <td class=\"standing-table__cell\">1</td>\\n        <td class=\"standing-table__cell\">3</td>\\n      </tr>\\n            <tr class=\"standing-table__row\" data-item-id=\"729\">\\n        <td class=\"standing-table__cell\">4</td>\\n        <td class=\"standing-table__cell standing-table__cell--name\">Inter</td>\\n        <td class=\"standing-table__cell\">1</td>\\n        <td class=\"standing-table__cell\">1</td>\\n        <td class=\"standing-table__cell\">3</td>\\n      </tr>\\n            <tr class=\"standing-table__row\" data-item-id=\"744\">\\n        <td class=\"standing-table__cell\">5</td>\\n        <td class=\"standing-table__cell standing-table__cell--name\">Lazio</td>\\n        <td class=\"standing-table__cell\">1</td>\\n        <td class=\"standing-table__cell\">1</td>\\n        <td class=\"standing-table__cell\">3</td>\\n      </tr>\\n      \\n    </tbody>\\n\\n  </table>\\n\\n  \\n  <div class=\"standing-table__supplementary\">\\n\\n    \\n    <time>Last Updated 15/08/22 3:41am</time>\\n\\n    \\n  </div>\\n\\n  \\n</a><a href=\"/eredivisie-table\" class=\"standing-table block\">\\n\\n  <table class=\"standing-table__table\">\\n\\n    <caption class=\"standing-table__caption\">\\n      Dutch Eredivisie 2022/23    </caption>\\n\\n    <colgroup class=\"standing-table__cols\">\\n      <col class=\"standing-table__col1\">\\n      <col class=\"standing-table__col2\">\\n      <col class=\"standing-table__col3\">\\n      <col class=\"standing-table__col4\">\\n      <col class=\"standing-table__col5\">\\n    </colgroup>\\n\\n    <thead>\\n      <tr class=\"standing-table__row\">\\n        <th class=\"standing-table__cell standing-table__header-cell\" title=\"Position\" data-label=\"pos\">#</th>\\n        <th class=\"standing-table__cell standing-table__header-cell standing-table__cell--name\" title=\"Team\">Team</th>\\n        <th class=\"standing-table__cell standing-table__header-cell\" title=\"Played\" data-label=\"pld\">Pl</th>\\n        <th class=\"standing-table__cell standing-table__header-cell\" title=\"Goal Difference\" data-label=\"gd\">GD</th>\\n        <th class=\"standing-table__cell standing-table__header-cell\" title=\"Points\" data-label=\"pts\">Pts</th>\\n      </tr>\\n    </thead>\\n\\n    <tbody\\n              >\\n\\n            <tr class=\"standing-table__row\" data-item-id=\"723\">\\n        <td class=\"standing-table__cell\">1</td>\\n        <td class=\"standing-table__cell standing-table__cell--name\">Ajax</td>\\n        <td class=\"standing-table__cell\">2</td>\\n        <td class=\"standing-table__cell\">6</td>\\n        <td class=\"standing-table__cell\">6</td>\\n      </tr>\\n            <tr class=\"standing-table__row\" data-item-id=\"738\">\\n        <td class=\"standing-table__cell\">2</td>\\n        <td class=\"standing-table__cell standing-table__cell--name\">PSV</td>\\n        <td class=\"standing-table__cell\">2</td>\\n        <td class=\"standing-table__cell\">6</td>\\n        <td class=\"standing-table__cell\">6</td>\\n      </tr>\\n            <tr class=\"standing-table__row\" data-item-id=\"161\">\\n        <td class=\"standing-table__cell\">3</td>\\n        <td class=\"standing-table__cell standing-table__cell--name\">Excelsior</td>\\n        <td class=\"standing-table__cell\">2</td>\\n        <td class=\"standing-table__cell\">4</td>\\n        <td class=\"standing-table__cell\">6</td>\\n      </tr>\\n            <tr class=\"standing-table__row\" data-item-id=\"874\">\\n        <td class=\"standing-table__cell\">4</td>\\n        <td class=\"standing-table__cell standing-table__cell--name\">Twente</td>\\n        <td class=\"standing-table__cell\">2</td>\\n        <td class=\"standing-table__cell\">4</td>\\n        <td class=\"standing-table__cell\">6</td>\\n      </tr>\\n            <tr class=\"standing-table__row\" data-item-id=\"1186\">\\n        <td class=\"standing-table__cell\">5</td>\\n        <td class=\"standing-table__cell standing-table__cell--name\">AZ Alkmaar</td>\\n        <td class=\"standing-table__cell\">2</td>\\n        <td class=\"standing-table__cell\">3</td>\\n        <td class=\"standing-table__cell\">6</td>\\n      </tr>\\n      \\n    </tbody>\\n\\n  </table>\\n\\n  \\n  <div class=\"standing-table__supplementary\">\\n\\n    \\n    <time>Last Updated 15/08/22 12:49am</time>\\n\\n    \\n  </div>\\n\\n  \\n</a><a href=\"/ligue-1-table\" class=\"standing-table block\">\\n\\n  <table class=\"standing-table__table\">\\n\\n    <caption class=\"standing-table__caption\">\\n      French Ligue 1 2022/23    </caption>\\n\\n    <colgroup class=\"standing-table__cols\">\\n      <col class=\"standing-table__col1\">\\n      <col class=\"standing-table__col2\">\\n      <col class=\"standing-table__col3\">\\n      <col class=\"standing-table__col4\">\\n      <col class=\"standing-table__col5\">\\n    </colgroup>\\n\\n    <thead>\\n      <tr class=\"standing-table__row\">\\n        <th class=\"standing-table__cell standing-table__header-cell\" title=\"Position\" data-label=\"pos\">#</th>\\n        <th class=\"standing-table__cell standing-table__header-cell standing-table__cell--name\" title=\"Team\">Team</th>\\n        <th class=\"standing-table__cell standing-table__header-cell\" title=\"Played\" data-label=\"pld\">Pl</th>\\n        <th class=\"standing-table__cell standing-table__header-cell\" title=\"Goal Difference\" data-label=\"gd\">GD</th>\\n        <th class=\"standing-table__cell standing-table__header-cell\" title=\"Points\" data-label=\"pts\">Pts</th>\\n      </tr>\\n    </thead>\\n\\n    <tbody\\n              >\\n\\n            <tr class=\"standing-table__row\" data-item-id=\"823\">\\n        <td class=\"standing-table__cell\">1</td>\\n        <td class=\"standing-table__cell standing-table__cell--name\">PSG</td>\\n        <td class=\"standing-table__cell\">2</td>\\n        <td class=\"standing-table__cell\">8</td>\\n        <td class=\"standing-table__cell\">6</td>\\n      </tr>\\n            <tr class=\"standing-table__row\" data-item-id=\"462\">\\n        <td class=\"standing-table__cell\">2</td>\\n        <td class=\"standing-table__cell standing-table__cell--name\">Marseille</td>\\n        <td class=\"standing-table__cell\">2</td>\\n        <td class=\"standing-table__cell\">3</td>\\n        <td class=\"standing-table__cell\">4</td>\\n      </tr>\\n            <tr class=\"standing-table__row\" data-item-id=\"818\">\\n        <td class=\"standing-table__cell\">3</td>\\n        <td class=\"standing-table__cell standing-table__cell--name\">Lille</td>\\n        <td class=\"standing-table__cell\">2</td>\\n        <td class=\"standing-table__cell\">3</td>\\n        <td class=\"standing-table__cell\">4</td>\\n      </tr>\\n            <tr class=\"standing-table__row\" data-item-id=\"526\">\\n        <td class=\"standing-table__cell\">4</td>\\n        <td class=\"standing-table__cell standing-table__cell--name\">Toulouse</td>\\n        <td class=\"standing-table__cell\">2</td>\\n        <td class=\"standing-table__cell\">3</td>\\n        <td class=\"standing-table__cell\">4</td>\\n      </tr>\\n            <tr class=\"standing-table__row\" data-item-id=\"525\">\\n        <td class=\"standing-table__cell\">5</td>\\n        <td class=\"standing-table__cell standing-table__cell--name\">Monaco</td>\\n        <td class=\"standing-table__cell\">2</td>\\n        <td class=\"standing-table__cell\">1</td>\\n        <td class=\"standing-table__cell\">4</td>\\n      </tr>\\n      \\n    </tbody>\\n\\n  </table>\\n\\n  \\n  <div class=\"standing-table__supplementary\">\\n\\n    \\n    <time>Last Updated 15/08/22 1:49am</time>\\n\\n    \\n  </div>\\n\\n  \\n</a><a href=\"/football/competitions/world-cup-qualifiers/table\" class=\"standing-table block\">\\n\\n  <table class=\"standing-table__table\">\\n\\n    <caption class=\"standing-table__caption\">\\n      FIFA World Cup European Qualifying - Group I 2022/23    </caption>\\n\\n    <colgroup class=\"standing-table__cols\">\\n      <col class=\"standing-table__col1\">\\n      <col class=\"standing-table__col2\">\\n      <col class=\"standing-table__col3\">\\n      <col class=\"standing-table__col4\">\\n      <col class=\"standing-table__col5\">\\n    </colgroup>\\n\\n    <thead>\\n      <tr class=\"standing-table__row\">\\n        <th class=\"standing-table__cell standing-table__header-cell\" title=\"Position\" data-label=\"pos\">#</th>\\n        <th class=\"standing-table__cell standing-table__header-cell standing-table__cell--name\" title=\"Team\">Team</th>\\n        <th class=\"standing-table__cell standing-table__header-cell\" title=\"Played\" data-label=\"pld\">Pl</th>\\n        <th class=\"standing-table__cell standing-table__header-cell\" title=\"Goal Difference\" data-label=\"gd\">GD</th>\\n        <th class=\"standing-table__cell standing-table__header-cell\" title=\"Points\" data-label=\"pts\">Pts</th>\\n      </tr>\\n    </thead>\\n\\n    <tbody\\n              >\\n\\n            <tr class=\"standing-table__row\" data-item-id=\"1075\">\\n        <td class=\"standing-table__cell\">1</td>\\n        <td class=\"standing-table__cell standing-table__cell--name\">England</td>\\n        <td class=\"standing-table__cell\">10</td>\\n        <td class=\"standing-table__cell\">36</td>\\n        <td class=\"standing-table__cell\">26</td>\\n      </tr>\\n            <tr class=\"standing-table__row\" data-item-id=\"1033\">\\n        <td class=\"standing-table__cell\">2</td>\\n        <td class=\"standing-table__cell standing-table__cell--name\">Poland</td>\\n        <td class=\"standing-table__cell\">10</td>\\n        <td class=\"standing-table__cell\">19</td>\\n        <td class=\"standing-table__cell\">20</td>\\n      </tr>\\n            <tr class=\"standing-table__row\" data-item-id=\"1073\">\\n        <td class=\"standing-table__cell\">3</td>\\n        <td class=\"standing-table__cell standing-table__cell--name\">Albania</td>\\n        <td class=\"standing-table__cell\">10</td>\\n        <td class=\"standing-table__cell\">0</td>\\n        <td class=\"standing-table__cell\">18</td>\\n      </tr>\\n            <tr class=\"standing-table__row\" data-item-id=\"1036\">\\n        <td class=\"standing-table__cell\">4</td>\\n        <td class=\"standing-table__cell standing-table__cell--name\">Hungary</td>\\n        <td class=\"standing-table__cell\">10</td>\\n        <td class=\"standing-table__cell\">6</td>\\n        <td class=\"standing-table__cell\">17</td>\\n      </tr>\\n            <tr class=\"standing-table__row\" data-item-id=\"1041\">\\n        <td class=\"standing-table__cell\">5</td>\\n        <td class=\"standing-table__cell standing-table__cell--name\">Andorra</td>\\n        <td class=\"standing-table__cell\">10</td>\\n        <td class=\"standing-table__cell\">-16</td>\\n        <td class=\"standing-table__cell\">6</td>\\n      </tr>\\n      \\n    </tbody>\\n\\n  </table>\\n\\n  \\n  <div class=\"standing-table__supplementary\">\\n\\n    \\n    <time>Last Updated 30/06/22 1:41pm</time>\\n\\n    \\n  </div>\\n\\n  \\n</a><a href=\"/euro-2020-table\" class=\"standing-table block\">\\n\\n  <table class=\"standing-table__table\">\\n\\n    <caption class=\"standing-table__caption\">\\n      European Championships - Group A 2021/22    </caption>\\n\\n    <colgroup class=\"standing-table__cols\">\\n      <col class=\"standing-table__col1\">\\n      <col class=\"standing-table__col2\">\\n      <col class=\"standing-table__col3\">\\n      <col class=\"standing-table__col4\">\\n      <col class=\"standing-table__col5\">\\n    </colgroup>\\n\\n    <thead>\\n      <tr class=\"standing-table__row\">\\n        <th class=\"standing-table__cell standing-table__header-cell\" title=\"Position\" data-label=\"pos\">#</th>\\n        <th class=\"standing-table__cell standing-table__header-cell standing-table__cell--name\" title=\"Team\">Team</th>\\n        <th class=\"standing-table__cell standing-table__header-cell\" title=\"Played\" data-label=\"pld\">Pl</th>\\n        <th class=\"standing-table__cell standing-table__header-cell\" title=\"Goal Difference\" data-label=\"gd\">GD</th>\\n        <th class=\"standing-table__cell standing-table__header-cell\" title=\"Points\" data-label=\"pts\">Pts</th>\\n      </tr>\\n    </thead>\\n\\n    <tbody\\n              >\\n\\n            <tr class=\"standing-table__row\" data-item-id=\"881\">\\n        <td class=\"standing-table__cell\">1</td>\\n        <td class=\"standing-table__cell standing-table__cell--name\">Italy</td>\\n        <td class=\"standing-table__cell\">3</td>\\n        <td class=\"standing-table__cell\">7</td>\\n        <td class=\"standing-table__cell\">9</td>\\n      </tr>\\n            <tr class=\"standing-table__row\" data-item-id=\"1082\">\\n        <td class=\"standing-table__cell\">2</td>\\n        <td class=\"standing-table__cell standing-table__cell--name\">Wales</td>\\n        <td class=\"standing-table__cell\">3</td>\\n        <td class=\"standing-table__cell\">1</td>\\n        <td class=\"standing-table__cell\">4</td>\\n      </tr>\\n            <tr class=\"standing-table__row\" data-item-id=\"1068\">\\n        <td class=\"standing-table__cell\">3</td>\\n        <td class=\"standing-table__cell standing-table__cell--name\">Switzerland</td>\\n        <td class=\"standing-table__cell\">3</td>\\n        <td class=\"standing-table__cell\">-1</td>\\n        <td class=\"standing-table__cell\">4</td>\\n      </tr>\\n            <tr class=\"standing-table__row\" data-item-id=\"1057\">\\n        <td class=\"standing-table__cell\">4</td>\\n        <td class=\"standing-table__cell standing-table__cell--name\">Turkey</td>\\n        <td class=\"standing-table__cell\">3</td>\\n        <td class=\"standing-table__cell\">-7</td>\\n        <td class=\"standing-table__cell\">0</td>\\n      </tr>\\n      \\n    </tbody>\\n\\n  </table>\\n\\n  \\n  <div class=\"standing-table__supplementary\">\\n\\n    \\n    <time>Last Updated 11/10/21 8:07pm</time>\\n\\n    \\n  </div>\\n\\n  \\n</a><a href=\"/euro-2020-table\" class=\"standing-table block\">\\n\\n  <table class=\"standing-table__table\">\\n\\n    <caption class=\"standing-table__caption\">\\n      European Championships - Group B 2021/22    </caption>\\n\\n    <colgroup class=\"standing-table__cols\">\\n      <col class=\"standing-table__col1\">\\n      <col class=\"standing-table__col2\">\\n      <col class=\"standing-table__col3\">\\n      <col class=\"standing-table__col4\">\\n      <col class=\"standing-table__col5\">\\n    </colgroup>\\n\\n    <thead>\\n      <tr class=\"standing-table__row\">\\n        <th class=\"standing-table__cell standing-table__header-cell\" title=\"Position\" data-label=\"pos\">#</th>\\n        <th class=\"standing-table__cell standing-table__header-cell standing-table__cell--name\" title=\"Team\">Team</th>\\n        <th class=\"standing-table__cell standing-table__header-cell\" title=\"Played\" data-label=\"pld\">Pl</th>\\n        <th class=\"standing-table__cell standing-table__header-cell\" title=\"Goal Difference\" data-label=\"gd\">GD</th>\\n        <th class=\"standing-table__cell standing-table__header-cell\" title=\"Points\" data-label=\"pts\">Pts</th>\\n      </tr>\\n    </thead>\\n\\n    <tbody\\n              >\\n\\n            <tr class=\"standing-table__row\" data-item-id=\"883\">\\n        <td class=\"standing-table__cell\">1</td>\\n        <td class=\"standing-table__cell standing-table__cell--name\">Belgium</td>\\n        <td class=\"standing-table__cell\">3</td>\\n        <td class=\"standing-table__cell\">6</td>\\n        <td class=\"standing-table__cell\">9</td>\\n      </tr>\\n            <tr class=\"standing-table__row\" data-item-id=\"1065\">\\n        <td class=\"standing-table__cell\">2</td>\\n        <td class=\"standing-table__cell standing-table__cell--name\">Denmark</td>\\n        <td class=\"standing-table__cell\">3</td>\\n        <td class=\"standing-table__cell\">1</td>\\n        <td class=\"standing-table__cell\">3</td>\\n      </tr>\\n            <tr class=\"standing-table__row\" data-item-id=\"1042\">\\n        <td class=\"standing-table__cell\">3</td>\\n        <td class=\"standing-table__cell standing-table__cell--name\">Finland</td>\\n        <td class=\"standing-table__cell\">3</td>\\n        <td class=\"standing-table__cell\">-2</td>\\n        <td class=\"standing-table__cell\">3</td>\\n      </tr>\\n            <tr class=\"standing-table__row\" data-item-id=\"1052\">\\n        <td class=\"standing-table__cell\">4</td>\\n        <td class=\"standing-table__cell standing-table__cell--name\">FUR</td>\\n        <td class=\"standing-table__cell\">3</td>\\n        <td class=\"standing-table__cell\">-5</td>\\n        <td class=\"standing-table__cell\">3</td>\\n      </tr>\\n      \\n    </tbody>\\n\\n  </table>\\n\\n  \\n  <div class=\"standing-table__supplementary\">\\n\\n    \\n    <time>Last Updated 11/10/21 8:07pm</time>\\n\\n    \\n  </div>\\n\\n  \\n</a><a href=\"/euro-2020-table\" class=\"standing-table block\">\\n\\n  <table class=\"standing-table__table\">\\n\\n    <caption class=\"standing-table__caption\">\\n      European Championships - Group C 2021/22    </caption>\\n\\n    <colgroup class=\"standing-table__cols\">\\n      <col class=\"standing-table__col1\">\\n      <col class=\"standing-table__col2\">\\n      <col class=\"standing-table__col3\">\\n      <col class=\"standing-table__col4\">\\n      <col class=\"standing-table__col5\">\\n    </colgroup>\\n\\n    <thead>\\n      <tr class=\"standing-table__row\">\\n        <th class=\"standing-table__cell standing-table__header-cell\" title=\"Position\" data-label=\"pos\">#</th>\\n        <th class=\"standing-table__cell standing-table__header-cell standing-table__cell--name\" title=\"Team\">Team</th>\\n        <th class=\"standing-table__cell standing-table__header-cell\" title=\"Played\" data-label=\"pld\">Pl</th>\\n        <th class=\"standing-table__cell standing-table__header-cell\" title=\"Goal Difference\" data-label=\"gd\">GD</th>\\n        <th class=\"standing-table__cell standing-table__header-cell\" title=\"Points\" data-label=\"pts\">Pts</th>\\n      </tr>\\n    </thead>\\n\\n    <tbody\\n              >\\n\\n            <tr class=\"standing-table__row\" data-item-id=\"877\">\\n        <td class=\"standing-table__cell\">1</td>\\n        <td class=\"standing-table__cell standing-table__cell--name\">Netherlands</td>\\n        <td class=\"standing-table__cell\">3</td>\\n        <td class=\"standing-table__cell\">6</td>\\n        <td class=\"standing-table__cell\">9</td>\\n      </tr>\\n            <tr class=\"standing-table__row\" data-item-id=\"1072\">\\n        <td class=\"standing-table__cell\">2</td>\\n        <td class=\"standing-table__cell standing-table__cell--name\">Austria</td>\\n        <td class=\"standing-table__cell\">3</td>\\n        <td class=\"standing-table__cell\">1</td>\\n        <td class=\"standing-table__cell\">6</td>\\n      </tr>\\n            <tr class=\"standing-table__row\" data-item-id=\"1032\">\\n        <td class=\"standing-table__cell\">3</td>\\n        <td class=\"standing-table__cell standing-table__cell--name\">Ukraine</td>\\n        <td class=\"standing-table__cell\">3</td>\\n        <td class=\"standing-table__cell\">-1</td>\\n        <td class=\"standing-table__cell\">3</td>\\n      </tr>\\n            <tr class=\"standing-table__row\" data-item-id=\"1062\">\\n        <td class=\"standing-table__cell\">4</td>\\n        <td class=\"standing-table__cell standing-table__cell--name\">North Macedonia</td>\\n        <td class=\"standing-table__cell\">3</td>\\n        <td class=\"standing-table__cell\">-6</td>\\n        <td class=\"standing-table__cell\">0</td>\\n      </tr>\\n      \\n    </tbody>\\n\\n  </table>\\n\\n  \\n  <div class=\"standing-table__supplementary\">\\n\\n    \\n    <time>Last Updated 11/10/21 8:07pm</time>\\n\\n    \\n  </div>\\n\\n  \\n</a><a href=\"/euro-2020-table\" class=\"standing-table block\">\\n\\n  <table class=\"standing-table__table\">\\n\\n    <caption class=\"standing-table__caption\">\\n      European Championships - Group D 2021/22    </caption>\\n\\n    <colgroup class=\"standing-table__cols\">\\n      <col class=\"standing-table__col1\">\\n      <col class=\"standing-table__col2\">\\n      <col class=\"standing-table__col3\">\\n      <col class=\"standing-table__col4\">\\n      <col class=\"standing-table__col5\">\\n    </colgroup>\\n\\n    <thead>\\n      <tr class=\"standing-table__row\">\\n        <th class=\"standing-table__cell standing-table__header-cell\" title=\"Position\" data-label=\"pos\">#</th>\\n        <th class=\"standing-table__cell standing-table__header-cell standing-table__cell--name\" title=\"Team\">Team</th>\\n        <th class=\"standing-table__cell standing-table__header-cell\" title=\"Played\" data-label=\"pld\">Pl</th>\\n        <th class=\"standing-table__cell standing-table__header-cell\" title=\"Goal Difference\" data-label=\"gd\">GD</th>\\n        <th class=\"standing-table__cell standing-table__header-cell\" title=\"Points\" data-label=\"pts\">Pts</th>\\n      </tr>\\n    </thead>\\n\\n    <tbody\\n              >\\n\\n            <tr class=\"standing-table__row\" data-item-id=\"1075\">\\n        <td class=\"standing-table__cell\">1</td>\\n        <td class=\"standing-table__cell standing-table__cell--name\">England</td>\\n        <td class=\"standing-table__cell\">3</td>\\n        <td class=\"standing-table__cell\">2</td>\\n        <td class=\"standing-table__cell\">7</td>\\n      </tr>\\n            <tr class=\"standing-table__row\" data-item-id=\"1071\">\\n        <td class=\"standing-table__cell\">2</td>\\n        <td class=\"standing-table__cell standing-table__cell--name\">Croatia</td>\\n        <td class=\"standing-table__cell\">3</td>\\n        <td class=\"standing-table__cell\">1</td>\\n        <td class=\"standing-table__cell\">4</td>\\n      </tr>\\n            <tr class=\"standing-table__row\" data-item-id=\"1076\">\\n        <td class=\"standing-table__cell\">3</td>\\n        <td class=\"standing-table__cell standing-table__cell--name\">Czech Rep</td>\\n        <td class=\"standing-table__cell\">3</td>\\n        <td class=\"standing-table__cell\">1</td>\\n        <td class=\"standing-table__cell\">4</td>\\n      </tr>\\n            <tr class=\"standing-table__row\" data-item-id=\"1079\">\\n        <td class=\"standing-table__cell\">4</td>\\n        <td class=\"standing-table__cell standing-table__cell--name\">Scotland</td>\\n        <td class=\"standing-table__cell\">3</td>\\n        <td class=\"standing-table__cell\">-4</td>\\n        <td class=\"standing-table__cell\">1</td>\\n      </tr>\\n      \\n    </tbody>\\n\\n  </table>\\n\\n  \\n  <div class=\"standing-table__supplementary\">\\n\\n    \\n    <time>Last Updated 11/10/21 8:07pm</time>\\n\\n    \\n  </div>\\n\\n  \\n</a><a href=\"/uefa-nations-league-table\" class=\"standing-table block\">\\n\\n  <table class=\"standing-table__table\">\\n\\n    <caption class=\"standing-table__caption\">\\n      UEFA Nations League - Group A4 2022/23    </caption>\\n\\n    <colgroup class=\"standing-table__cols\">\\n      <col class=\"standing-table__col1\">\\n      <col class=\"standing-table__col2\">\\n      <col class=\"standing-table__col3\">\\n      <col class=\"standing-table__col4\">\\n      <col class=\"standing-table__col5\">\\n    </colgroup>\\n\\n    <thead>\\n      <tr class=\"standing-table__row\">\\n        <th class=\"standing-table__cell standing-table__header-cell\" title=\"Position\" data-label=\"pos\">#</th>\\n        <th class=\"standing-table__cell standing-table__header-cell standing-table__cell--name\" title=\"Team\">Team</th>\\n        <th class=\"standing-table__cell standing-table__header-cell\" title=\"Played\" data-label=\"pld\">Pl</th>\\n        <th class=\"standing-table__cell standing-table__header-cell\" title=\"Goal Difference\" data-label=\"gd\">GD</th>\\n        <th class=\"standing-table__cell standing-table__header-cell\" title=\"Points\" data-label=\"pts\">Pts</th>\\n      </tr>\\n    </thead>\\n\\n    <tbody\\n              >\\n\\n            <tr class=\"standing-table__row\" data-item-id=\"877\">\\n        <td class=\"standing-table__cell\">1</td>\\n        <td class=\"standing-table__cell standing-table__cell--name\">Netherlands</td>\\n        <td class=\"standing-table__cell\">4</td>\\n        <td class=\"standing-table__cell\">5</td>\\n        <td class=\"standing-table__cell\">10</td>\\n      </tr>\\n            <tr class=\"standing-table__row\" data-item-id=\"883\">\\n        <td class=\"standing-table__cell\">2</td>\\n        <td class=\"standing-table__cell standing-table__cell--name\">Belgium</td>\\n        <td class=\"standing-table__cell\">4</td>\\n        <td class=\"standing-table__cell\">3</td>\\n        <td class=\"standing-table__cell\">7</td>\\n      </tr>\\n            <tr class=\"standing-table__row\" data-item-id=\"1033\">\\n        <td class=\"standing-table__cell\">3</td>\\n        <td class=\"standing-table__cell standing-table__cell--name\">Poland</td>\\n        <td class=\"standing-table__cell\">4</td>\\n        <td class=\"standing-table__cell\">-5</td>\\n        <td class=\"standing-table__cell\">4</td>\\n      </tr>\\n            <tr class=\"standing-table__row\" data-item-id=\"1082\">\\n        <td class=\"standing-table__cell\">4</td>\\n        <td class=\"standing-table__cell standing-table__cell--name\">Wales</td>\\n        <td class=\"standing-table__cell\">4</td>\\n        <td class=\"standing-table__cell\">-3</td>\\n        <td class=\"standing-table__cell\">1</td>\\n      </tr>\\n      \\n    </tbody>\\n\\n  </table>\\n\\n  \\n  <div class=\"standing-table__supplementary\">\\n\\n    \\n    <time>Last Updated 15/07/22 9:58am</time>\\n\\n    \\n  </div>\\n\\n  \\n</a>  <div class=\"standing-table block\">\\n\\n  <table class=\"standing-table__table\">\\n\\n    <caption class=\"standing-table__caption\">\\n      National League 2022/23    </caption>\\n\\n    <colgroup class=\"standing-table__cols\">\\n      <col class=\"standing-table__col1\">\\n      <col class=\"standing-table__col2\">\\n      <col class=\"standing-table__col3\">\\n      <col class=\"standing-table__col4\">\\n      <col class=\"standing-table__col5\">\\n    </colgroup>\\n\\n    <thead>\\n      <tr class=\"standing-table__row\">\\n        <th class=\"standing-table__cell standing-table__header-cell\" title=\"Position\" data-label=\"pos\">#</th>\\n        <th class=\"standing-table__cell standing-table__header-cell standing-table__cell--name\" title=\"Team\">Team</th>\\n        <th class=\"standing-table__cell standing-table__header-cell\" title=\"Played\" data-label=\"pld\">Pl</th>\\n        <th class=\"standing-table__cell standing-table__header-cell\" title=\"Goal Difference\" data-label=\"gd\">GD</th>\\n        <th class=\"standing-table__cell standing-table__header-cell\" title=\"Points\" data-label=\"pts\">Pts</th>\\n      </tr>\\n    </thead>\\n\\n    <tbody\\n              >\\n\\n            <tr class=\"standing-table__row\" data-item-id=\"623\">\\n        <td class=\"standing-table__cell\">1</td>\\n        <td class=\"standing-table__cell standing-table__cell--name\">Notts Co</td>\\n        <td class=\"standing-table__cell\">2</td>\\n        <td class=\"standing-table__cell\">3</td>\\n        <td class=\"standing-table__cell\">4</td>\\n      </tr>\\n            <tr class=\"standing-table__row\" data-item-id=\"386\">\\n        <td class=\"standing-table__cell\">2</td>\\n        <td class=\"standing-table__cell standing-table__cell--name\">Solihull Moors</td>\\n        <td class=\"standing-table__cell\">2</td>\\n        <td class=\"standing-table__cell\">3</td>\\n        <td class=\"standing-table__cell\">4</td>\\n      </tr>\\n            <tr class=\"standing-table__row\" data-item-id=\"412\">\\n        <td class=\"standing-table__cell\">3</td>\\n        <td class=\"standing-table__cell standing-table__cell--name\">Barnet</td>\\n        <td class=\"standing-table__cell\">2</td>\\n        <td class=\"standing-table__cell\">2</td>\\n        <td class=\"standing-table__cell\">4</td>\\n      </tr>\\n            <tr class=\"standing-table__row\" data-item-id=\"225\">\\n        <td class=\"standing-table__cell\">4</td>\\n        <td class=\"standing-table__cell standing-table__cell--name\">Boreham Wd</td>\\n        <td class=\"standing-table__cell\">2</td>\\n        <td class=\"standing-table__cell\">1</td>\\n        <td class=\"standing-table__cell\">4</td>\\n      </tr>\\n            <tr class=\"standing-table__row\" data-item-id=\"447\">\\n        <td class=\"standing-table__cell\">5</td>\\n        <td class=\"standing-table__cell standing-table__cell--name\">Chesterfld</td>\\n        <td class=\"standing-table__cell\">2</td>\\n        <td class=\"standing-table__cell\">1</td>\\n        <td class=\"standing-table__cell\">4</td>\\n      </tr>\\n      \\n    </tbody>\\n\\n  </table>\\n\\n  \\n  <div class=\"standing-table__supplementary\">\\n\\n    \\n    <time>Last Updated 15/08/22 8:47am</time>\\n\\n    \\n  </div>\\n\\n  \\n</div>\\n  <div class=\"standing-table block\">\\n\\n  <table class=\"standing-table__table\">\\n\\n    <caption class=\"standing-table__caption\">\\n      National League North 2022/23    </caption>\\n\\n    <colgroup class=\"standing-table__cols\">\\n      <col class=\"standing-table__col1\">\\n      <col class=\"standing-table__col2\">\\n      <col class=\"standing-table__col3\">\\n      <col class=\"standing-table__col4\">\\n      <col class=\"standing-table__col5\">\\n    </colgroup>\\n\\n    <thead>\\n      <tr class=\"standing-table__row\">\\n        <th class=\"standing-table__cell standing-table__header-cell\" title=\"Position\" data-label=\"pos\">#</th>\\n        <th class=\"standing-table__cell standing-table__header-cell standing-table__cell--name\" title=\"Team\">Team</th>\\n        <th class=\"standing-table__cell standing-table__header-cell\" title=\"Played\" data-label=\"pld\">Pl</th>\\n        <th class=\"standing-table__cell standing-table__header-cell\" title=\"Goal Difference\" data-label=\"gd\">GD</th>\\n        <th class=\"standing-table__cell standing-table__header-cell\" title=\"Points\" data-label=\"pts\">Pts</th>\\n      </tr>\\n    </thead>\\n\\n    <tbody\\n              >\\n\\n            <tr class=\"standing-table__row\" data-item-id=\"966\">\\n        <td class=\"standing-table__cell\">1</td>\\n        <td class=\"standing-table__cell standing-table__cell--name\">Banbury</td>\\n        <td class=\"standing-table__cell\">2</td>\\n        <td class=\"standing-table__cell\">3</td>\\n        <td class=\"standing-table__cell\">6</td>\\n      </tr>\\n            <tr class=\"standing-table__row\" data-item-id=\"4355\">\\n        <td class=\"standing-table__cell\">2</td>\\n        <td class=\"standing-table__cell standing-table__cell--name\">Kings Lynn Town</td>\\n        <td class=\"standing-table__cell\">2</td>\\n        <td class=\"standing-table__cell\">3</td>\\n        <td class=\"standing-table__cell\">6</td>\\n      </tr>\\n            <tr class=\"standing-table__row\" data-item-id=\"2661\">\\n        <td class=\"standing-table__cell\">3</td>\\n        <td class=\"standing-table__cell standing-table__cell--name\">Leamington</td>\\n        <td class=\"standing-table__cell\">2</td>\\n        <td class=\"standing-table__cell\">4</td>\\n        <td class=\"standing-table__cell\">4</td>\\n      </tr>\\n            <tr class=\"standing-table__row\" data-item-id=\"5969\">\\n        <td class=\"standing-table__cell\">4</td>\\n        <td class=\"standing-table__cell standing-table__cell--name\">Peterborough Sports</td>\\n        <td class=\"standing-table__cell\">2</td>\\n        <td class=\"standing-table__cell\">3</td>\\n        <td class=\"standing-table__cell\">4</td>\\n      </tr>\\n            <tr class=\"standing-table__row\" data-item-id=\"510\">\\n        <td class=\"standing-table__cell\">5</td>\\n        <td class=\"standing-table__cell standing-table__cell--name\">Chester</td>\\n        <td class=\"standing-table__cell\">2</td>\\n        <td class=\"standing-table__cell\">2</td>\\n        <td class=\"standing-table__cell\">4</td>\\n      </tr>\\n      \\n    </tbody>\\n\\n  </table>\\n\\n  \\n  <div class=\"standing-table__supplementary\">\\n\\n    \\n    <time>Last Updated 15/08/22 8:57am</time>\\n\\n    \\n  </div>\\n\\n  \\n</div>\\n  <div class=\"standing-table block\">\\n\\n  <table class=\"standing-table__table\">\\n\\n    <caption class=\"standing-table__caption\">\\n      National League South 2022/23    </caption>\\n\\n    <colgroup class=\"standing-table__cols\">\\n      <col class=\"standing-table__col1\">\\n      <col class=\"standing-table__col2\">\\n      <col class=\"standing-table__col3\">\\n      <col class=\"standing-table__col4\">\\n      <col class=\"standing-table__col5\">\\n    </colgroup>\\n\\n    <thead>\\n      <tr class=\"standing-table__row\">\\n        <th class=\"standing-table__cell standing-table__header-cell\" title=\"Position\" data-label=\"pos\">#</th>\\n        <th class=\"standing-table__cell standing-table__header-cell standing-table__cell--name\" title=\"Team\">Team</th>\\n        <th class=\"standing-table__cell standing-table__header-cell\" title=\"Played\" data-label=\"pld\">Pl</th>\\n        <th class=\"standing-table__cell standing-table__header-cell\" title=\"Goal Difference\" data-label=\"gd\">GD</th>\\n        <th class=\"standing-table__cell standing-table__header-cell\" title=\"Points\" data-label=\"pts\">Pts</th>\\n      </tr>\\n    </thead>\\n\\n    <tbody\\n              >\\n\\n            <tr class=\"standing-table__row\" data-item-id=\"232\">\\n        <td class=\"standing-table__cell\">1</td>\\n        <td class=\"standing-table__cell standing-table__cell--name\">Ebbsfleet</td>\\n        <td class=\"standing-table__cell\">2</td>\\n        <td class=\"standing-table__cell\">4</td>\\n        <td class=\"standing-table__cell\">6</td>\\n      </tr>\\n            <tr class=\"standing-table__row\" data-item-id=\"971\">\\n        <td class=\"standing-table__cell\">2</td>\\n        <td class=\"standing-table__cell standing-table__cell--name\">Dartford</td>\\n        <td class=\"standing-table__cell\">2</td>\\n        <td class=\"standing-table__cell\">3</td>\\n        <td class=\"standing-table__cell\">6</td>\\n      </tr>\\n            <tr class=\"standing-table__row\" data-item-id=\"3490\">\\n        <td class=\"standing-table__cell\">3</td>\\n        <td class=\"standing-table__cell standing-table__cell--name\">Concord Rangers</td>\\n        <td class=\"standing-table__cell\">2</td>\\n        <td class=\"standing-table__cell\">2</td>\\n        <td class=\"standing-table__cell\">6</td>\\n      </tr>\\n            <tr class=\"standing-table__row\" data-item-id=\"211\">\\n        <td class=\"standing-table__cell\">4</td>\\n        <td class=\"standing-table__cell standing-table__cell--name\">Worthing</td>\\n        <td class=\"standing-table__cell\">2</td>\\n        <td class=\"standing-table__cell\">2</td>\\n        <td class=\"standing-table__cell\">4</td>\\n      </tr>\\n            <tr class=\"standing-table__row\" data-item-id=\"255\">\\n        <td class=\"standing-table__cell\">5</td>\\n        <td class=\"standing-table__cell standing-table__cell--name\">Havant and W</td>\\n        <td class=\"standing-table__cell\">2</td>\\n        <td class=\"standing-table__cell\">2</td>\\n        <td class=\"standing-table__cell\">4</td>\\n      </tr>\\n      \\n    </tbody>\\n\\n  </table>\\n\\n  \\n  <div class=\"standing-table__supplementary\">\\n\\n    \\n    <time>Last Updated 13/08/22 6:57pm</time>\\n\\n    \\n  </div>\\n\\n  \\n</div>\\n<a href=\"/efl-trophy-table\" class=\"standing-table block\">\\n\\n  <table class=\"standing-table__table\">\\n\\n    <caption class=\"standing-table__caption\">\\n      Papa John\\'s Trophy - Northern Group A 2022/23    </caption>\\n\\n    <colgroup class=\"standing-table__cols\">\\n      <col class=\"standing-table__col1\">\\n      <col class=\"standing-table__col2\">\\n      <col class=\"standing-table__col3\">\\n      <col class=\"standing-table__col4\">\\n      <col class=\"standing-table__col5\">\\n    </colgroup>\\n\\n    <thead>\\n      <tr class=\"standing-table__row\">\\n        <th class=\"standing-table__cell standing-table__header-cell\" title=\"Position\" data-label=\"pos\">#</th>\\n        <th class=\"standing-table__cell standing-table__header-cell standing-table__cell--name\" title=\"Team\">Team</th>\\n        <th class=\"standing-table__cell standing-table__header-cell\" title=\"Played\" data-label=\"pld\">Pl</th>\\n        <th class=\"standing-table__cell standing-table__header-cell\" title=\"Goal Difference\" data-label=\"gd\">GD</th>\\n        <th class=\"standing-table__cell standing-table__header-cell\" title=\"Points\" data-label=\"pts\">Pts</th>\\n      </tr>\\n    </thead>\\n\\n    <tbody\\n              >\\n\\n            <tr class=\"standing-table__row\" data-item-id=\"6629\">\\n        <td class=\"standing-table__cell\">1</td>\\n        <td class=\"standing-table__cell standing-table__cell--name\">Everton U21</td>\\n        <td class=\"standing-table__cell\">0</td>\\n        <td class=\"standing-table__cell\">0</td>\\n        <td class=\"standing-table__cell\">0</td>\\n      </tr>\\n            <tr class=\"standing-table__row\" data-item-id=\"180\">\\n        <td class=\"standing-table__cell\">2</td>\\n        <td class=\"standing-table__cell standing-table__cell--name\">Harrogate T</td>\\n        <td class=\"standing-table__cell\">0</td>\\n        <td class=\"standing-table__cell\">0</td>\\n        <td class=\"standing-table__cell\">0</td>\\n      </tr>\\n            <tr class=\"standing-table__row\" data-item-id=\"304\">\\n        <td class=\"standing-table__cell\">3</td>\\n        <td class=\"standing-table__cell standing-table__cell--name\">Hartlepool</td>\\n        <td class=\"standing-table__cell\">0</td>\\n        <td class=\"standing-table__cell\">0</td>\\n        <td class=\"standing-table__cell\">0</td>\\n      </tr>\\n            <tr class=\"standing-table__row\" data-item-id=\"273\">\\n        <td class=\"standing-table__cell\">4</td>\\n        <td class=\"standing-table__cell standing-table__cell--name\">Morecambe</td>\\n        <td class=\"standing-table__cell\">0</td>\\n        <td class=\"standing-table__cell\">0</td>\\n        <td class=\"standing-table__cell\">0</td>\\n      </tr>\\n      \\n    </tbody>\\n\\n  </table>\\n\\n  \\n  <div class=\"standing-table__supplementary\">\\n\\n    \\n    <time>Last Updated 05/07/22 12:52am</time>\\n\\n    \\n  </div>\\n\\n  \\n</a><a href=\"/mls-table\" class=\"standing-table block\">\\n\\n  <table class=\"standing-table__table\">\\n\\n    <caption class=\"standing-table__caption\">\\n      American MLS League - Eastern Conference 2022/23    </caption>\\n\\n    <colgroup class=\"standing-table__cols\">\\n      <col class=\"standing-table__col1\">\\n      <col class=\"standing-table__col2\">\\n      <col class=\"standing-table__col3\">\\n      <col class=\"standing-table__col4\">\\n      <col class=\"standing-table__col5\">\\n    </colgroup>\\n\\n    <thead>\\n      <tr class=\"standing-table__row\">\\n        <th class=\"standing-table__cell standing-table__header-cell\" title=\"Position\" data-label=\"pos\">#</th>\\n        <th class=\"standing-table__cell standing-table__header-cell standing-table__cell--name\" title=\"Team\">Team</th>\\n        <th class=\"standing-table__cell standing-table__header-cell\" title=\"Played\" data-label=\"pld\">Pl</th>\\n        <th class=\"standing-table__cell standing-table__header-cell\" title=\"Goal Difference\" data-label=\"gd\">GD</th>\\n        <th class=\"standing-table__cell standing-table__header-cell\" title=\"Points\" data-label=\"pts\">Pts</th>\\n      </tr>\\n    </thead>\\n\\n    <tbody\\n              >\\n\\n            <tr class=\"standing-table__row\" data-item-id=\"3295\">\\n        <td class=\"standing-table__cell\">1</td>\\n        <td class=\"standing-table__cell standing-table__cell--name\">Philadelphia</td>\\n        <td class=\"standing-table__cell\">25</td>\\n        <td class=\"standing-table__cell\">26</td>\\n        <td class=\"standing-table__cell\">48</td>\\n      </tr>\\n            <tr class=\"standing-table__row\" data-item-id=\"4170\">\\n        <td class=\"standing-table__cell\">2</td>\\n        <td class=\"standing-table__cell standing-table__cell--name\">Montreal</td>\\n        <td class=\"standing-table__cell\">25</td>\\n        <td class=\"standing-table__cell\">2</td>\\n        <td class=\"standing-table__cell\">43</td>\\n      </tr>\\n            <tr class=\"standing-table__row\" data-item-id=\"5453\">\\n        <td class=\"standing-table__cell\">3</td>\\n        <td class=\"standing-table__cell standing-table__cell--name\">New York City</td>\\n        <td class=\"standing-table__cell\">24</td>\\n        <td class=\"standing-table__cell\">18</td>\\n        <td class=\"standing-table__cell\">42</td>\\n      </tr>\\n            <tr class=\"standing-table__row\" data-item-id=\"737\">\\n        <td class=\"standing-table__cell\">4</td>\\n        <td class=\"standing-table__cell standing-table__cell--name\">NY Red Bulls</td>\\n        <td class=\"standing-table__cell\">25</td>\\n        <td class=\"standing-table__cell\">7</td>\\n        <td class=\"standing-table__cell\">37</td>\\n      </tr>\\n            <tr class=\"standing-table__row\" data-item-id=\"475\">\\n        <td class=\"standing-table__cell\">5</td>\\n        <td class=\"standing-table__cell standing-table__cell--name\">Columbus</td>\\n        <td class=\"standing-table__cell\">24</td>\\n        <td class=\"standing-table__cell\">5</td>\\n        <td class=\"standing-table__cell\">34</td>\\n      </tr>\\n      \\n    </tbody>\\n\\n  </table>\\n\\n  \\n  <div class=\"standing-table__supplementary\">\\n\\n    \\n    <time>Last Updated 15/08/22 5:10am</time>\\n\\n    \\n  </div>\\n\\n  \\n</a><a href=\"/mls-table\" class=\"standing-table block\">\\n\\n  <table class=\"standing-table__table\">\\n\\n    <caption class=\"standing-table__caption\">\\n      American MLS League - Western Conference 2022/23    </caption>\\n\\n    <colgroup class=\"standing-table__cols\">\\n      <col class=\"standing-table__col1\">\\n      <col class=\"standing-table__col2\">\\n      <col class=\"standing-table__col3\">\\n      <col class=\"standing-table__col4\">\\n      <col class=\"standing-table__col5\">\\n    </colgroup>\\n\\n    <thead>\\n      <tr class=\"standing-table__row\">\\n        <th class=\"standing-table__cell standing-table__header-cell\" title=\"Position\" data-label=\"pos\">#</th>\\n        <th class=\"standing-table__cell standing-table__header-cell standing-table__cell--name\" title=\"Team\">Team</th>\\n        <th class=\"standing-table__cell standing-table__header-cell\" title=\"Played\" data-label=\"pld\">Pl</th>\\n        <th class=\"standing-table__cell standing-table__header-cell\" title=\"Goal Difference\" data-label=\"gd\">GD</th>\\n        <th class=\"standing-table__cell standing-table__header-cell\" title=\"Points\" data-label=\"pts\">Pts</th>\\n      </tr>\\n    </thead>\\n\\n    <tbody\\n              >\\n\\n            <tr class=\"standing-table__row\" data-item-id=\"7036\">\\n        <td class=\"standing-table__cell\">1</td>\\n        <td class=\"standing-table__cell standing-table__cell--name\">Los Angeles Football Club</td>\\n        <td class=\"standing-table__cell\">24</td>\\n        <td class=\"standing-table__cell\">29</td>\\n        <td class=\"standing-table__cell\">54</td>\\n      </tr>\\n            <tr class=\"standing-table__row\" data-item-id=\"7698\">\\n        <td class=\"standing-table__cell\">2</td>\\n        <td class=\"standing-table__cell standing-table__cell--name\">Austin FC</td>\\n        <td class=\"standing-table__cell\">25</td>\\n        <td class=\"standing-table__cell\">20</td>\\n        <td class=\"standing-table__cell\">48</td>\\n      </tr>\\n            <tr class=\"standing-table__row\" data-item-id=\"1766\">\\n        <td class=\"standing-table__cell\">3</td>\\n        <td class=\"standing-table__cell standing-table__cell--name\">FC Dallas</td>\\n        <td class=\"standing-table__cell\">26</td>\\n        <td class=\"standing-table__cell\">10</td>\\n        <td class=\"standing-table__cell\">39</td>\\n      </tr>\\n            <tr class=\"standing-table__row\" data-item-id=\"6662\">\\n        <td class=\"standing-table__cell\">4</td>\\n        <td class=\"standing-table__cell standing-table__cell--name\">Minnesota</td>\\n        <td class=\"standing-table__cell\">25</td>\\n        <td class=\"standing-table__cell\">5</td>\\n        <td class=\"standing-table__cell\">38</td>\\n      </tr>\\n            <tr class=\"standing-table__row\" data-item-id=\"3582\">\\n        <td class=\"standing-table__cell\">5</td>\\n        <td class=\"standing-table__cell standing-table__cell--name\">R Salt Lake</td>\\n        <td class=\"standing-table__cell\">25</td>\\n        <td class=\"standing-table__cell\">-1</td>\\n        <td class=\"standing-table__cell\">37</td>\\n      </tr>\\n      \\n    </tbody>\\n\\n  </table>\\n\\n  \\n  <div class=\"standing-table__supplementary\">\\n\\n    \\n    <time>Last Updated 15/08/22 5:10am</time>\\n\\n    \\n  </div>\\n\\n  \\n</a><a href=\"/chinese-super-league-table\" class=\"standing-table block\">\\n\\n  <table class=\"standing-table__table\">\\n\\n    <caption class=\"standing-table__caption\">\\n      Chinese Super League 2022/23    </caption>\\n\\n    <colgroup class=\"standing-table__cols\">\\n      <col class=\"standing-table__col1\">\\n      <col class=\"standing-table__col2\">\\n      <col class=\"standing-table__col3\">\\n      <col class=\"standing-table__col4\">\\n      <col class=\"standing-table__col5\">\\n    </colgroup>\\n\\n    <thead>\\n      <tr class=\"standing-table__row\">\\n        <th class=\"standing-table__cell standing-table__header-cell\" title=\"Position\" data-label=\"pos\">#</th>\\n        <th class=\"standing-table__cell standing-table__header-cell standing-table__cell--name\" title=\"Team\">Team</th>\\n        <th class=\"standing-table__cell standing-table__header-cell\" title=\"Played\" data-label=\"pld\">Pl</th>\\n        <th class=\"standing-table__cell standing-table__header-cell\" title=\"Goal Difference\" data-label=\"gd\">GD</th>\\n        <th class=\"standing-table__cell standing-table__header-cell\" title=\"Points\" data-label=\"pts\">Pts</th>\\n      </tr>\\n    </thead>\\n\\n    <tbody\\n              >\\n\\n            <tr class=\"standing-table__row\" data-item-id=\"7968\">\\n        <td class=\"standing-table__cell\">1</td>\\n        <td class=\"standing-table__cell standing-table__cell--name\">Wuhan Three Towns</td>\\n        <td class=\"standing-table__cell\">12</td>\\n        <td class=\"standing-table__cell\">34</td>\\n        <td class=\"standing-table__cell\">34</td>\\n      </tr>\\n            <tr class=\"standing-table__row\" data-item-id=\"6613\">\\n        <td class=\"standing-table__cell\">2</td>\\n        <td class=\"standing-table__cell standing-table__cell--name\">Shandong Luneng</td>\\n        <td class=\"standing-table__cell\">12</td>\\n        <td class=\"standing-table__cell\">14</td>\\n        <td class=\"standing-table__cell\">30</td>\\n      </tr>\\n            <tr class=\"standing-table__row\" data-item-id=\"6612\">\\n        <td class=\"standing-table__cell\">3</td>\\n        <td class=\"standing-table__cell standing-table__cell--name\">Henan Jianye</td>\\n        <td class=\"standing-table__cell\">12</td>\\n        <td class=\"standing-table__cell\">16</td>\\n        <td class=\"standing-table__cell\">26</td>\\n      </tr>\\n            <tr class=\"standing-table__row\" data-item-id=\"2759\">\\n        <td class=\"standing-table__cell\">4</td>\\n        <td class=\"standing-table__cell standing-table__cell--name\">Shanghai Sh</td>\\n        <td class=\"standing-table__cell\">11</td>\\n        <td class=\"standing-table__cell\">7</td>\\n        <td class=\"standing-table__cell\">22</td>\\n      </tr>\\n            <tr class=\"standing-table__row\" data-item-id=\"7969\">\\n        <td class=\"standing-table__cell\">5</td>\\n        <td class=\"standing-table__cell standing-table__cell--name\">Meizhou Hakka</td>\\n        <td class=\"standing-table__cell\">12</td>\\n        <td class=\"standing-table__cell\">5</td>\\n        <td class=\"standing-table__cell\">20</td>\\n      </tr>\\n      \\n    </tbody>\\n\\n  </table>\\n\\n  \\n  <div class=\"standing-table__supplementary\">\\n\\n    \\n    <time>Last Updated 13/08/22 10:14pm</time>\\n\\n    \\n  </div>\\n\\n  \\n</a></div></div>        <div class=\"block advert--mpu is-hidden--bp10\">\\n            <div class=\"advert__container\" id=\"mpu-2\">\\n            </div>\\n        </div>\\n</div><div class=\"grid__col site-layout-secondary__col2  callfn adaptive-content\" data-fn=\"adaptive-content\" data-lite=\"true\">\\n    <script type=\"text/template\">\\n\\n             <div class=\"block advert advert--mpu advert--mpu--rhs advert--mpu-standard-height\">\\n            <div class=\"advert__container\" id=\"mpu-1\">\\n            </div>\\n        </div>\\n\\n    </script>\\n</div>\\n</div>\\n<div class=\"site-layout-secondary block page-nav__offset  \">\\n    </div>\\n</div>\\n<div class=\"grid__col site-layout-primary__col2\">\\n    <!-- mobile nav -->\\n\\n<noscript>\\n    <!-- // provide an anchor for the no javascript fallback menu -->\\n    <span id=\"no-js-nav\"></span>\\n</noscript>\\n\\n<div class=\"site-nav-mobile\">\\n\\n        <div class=\"site-login site-login--mobile callfn\" data-fn=\"skyid-login\" data-lite=\"true\">\\n        <script type=\"text/template\" class=\"login-text\" data-role=\"default\">\\n            <!--default-->\\n            <ul class=\"site-login__links\">\\n                <li class=\"site-login__item site-login__item--promo\">\\n                    <a href=\"https://www.skysports.com/watch/get-sky\" class=\"site-login__link\">Get Sky Sports</a>\\n                </li>\\n                <li class=\"site-login__item\">\\n                <a class=\"site-login__link site-login__link--user callfn\" href=\"https://skyid.sky.com/signin/sports?successUrl=https%3A%2F%2Fwww.skysports.com%2Ffootball%2Ftables\" data-mobile-url=\"/sso/signin/mobile\" data-desktop-url=\"/sso/signin/desktop\" data-lite=\"true\" >Log In</a>                </li>\\n            </ul>\\n        </script>\\n        <script type=\"text/template\" class=\"login-text\" data-role=\"isSkySports\">\\n            <!-- sky sports user logged in -->\\n            <ul class=\"site-login__links\">\\n                <li class=\"site-login__item\">\\n                    <span class=\"site-login__link site-login__link--user\">#{name}</span>\\n                </li>\\n                <li class=\"site-login__item\">\\n                    <a href=\"https://www.skysports.com/signout?url=https://www.skysports.com%2Ffootball%2Ftables\" class=\"site-login__link site-login__link--signout\">Log Out</a>\\n                </li>\\n            </ul>\\n        </script>\\n        <script type=\"text/template\" class=\"login-text\" data-role=\"isSky\">\\n            <!-- sky sports user logged in -->\\n            <ul class=\"site-login__links\">\\n                <li class=\"site-login__item site-login__item--promo\">\\n                    <a href=\"/watch/get-sky\" class=\"site-login__link\">Upgrade</a>\\n                </li>\\n                <li class=\"site-login__item\">\\n                    <span class=\"site-login__link site-login__link--user\">#{name}</span>\\n                </li>\\n                <li class=\"site-login__item\">\\n                    <a href=\"https://www.skysports.com/signout?url=https://www.skysports.com%2Ffootball%2Ftables\" class=\"site-login__link site-login__link--signout\">Log Out</a>\\n                </li>\\n            </ul>\\n        </script>\\n        <script type=\"text/template\" class=\"login-text\" data-role=\"isNowTv\">\\n            <!-- now tv customer -->\\n            <ul class=\"site-login__links\">\\n                <li class=\"site-login__item site-login__item--promo\">\\n                    <a href=\"https://www.skysports.com/watch/get-sky\" class=\"site-login__link\">Get Sky Sports</a>\\n                </li>\\n                <li class=\"site-login__item\">\\n                    <span class=\"site-login__link site-login__link--user\">#{name}</span>\\n                </li>\\n                <li class=\"site-login__item\">\\n                    <a href=\"https://www.skysports.com/signout?url=https://www.skysports.com%2Ffootball%2Ftables\" class=\"site-login__link site-login__link--signout\">Log Out</a>\\n                </li>\\n            </ul>\\n        </script>\\n        <script type=\"text/template\" class=\"login-text\" data-role=\"isLoggedIn\">\\n            <!-- just a sky id login -->\\n            <ul class=\"site-login__links\">\\n                <li class=\"site-login__item site-login__item--promo\">\\n                    <a href=\"https://www.skysports.com/watch/get-sky\" class=\"site-login__link\">Get Sky Sports</a>\\n                </li>\\n                <li class=\"site-login__item\">\\n                    <span class=\"site-login__link site-login__link--user\">#{name}</span>\\n                </li>\\n                <li class=\"site-login__item\">\\n                    <a href=\"https://www.skysports.com/signout?url=https://www.skysports.com%2Ffootball%2Ftables\" class=\"site-login__link site-login__link--signout\">Log Out</a>\\n                </li>\\n            </ul>\\n        </script>\\n        <script type=\"text/template\" class=\"login-text\" data-role=\"isWholesale\">\\n            <!-- now tv customer -->\\n            <ul class=\"site-login__links\">\\n                <li class=\"site-login__item\">\\n                    <span class=\"site-login__link site-login__link--user\"></span>\\n                </li>\\n                <li class=\"site-login__item\">\\n                    <a href=\"https://www.skysports.com/signout?url=https://www.skysports.com%2Ffootball%2Ftables\" class=\"site-login__link site-login__link--signout\">Log Out</a>\\n                </li>\\n            </ul>\\n        </script>\\n    </div>\\n\\n    <ul class=\"accordian site-nav-mobile__nav-group callfn\" data-fn=\"accordian\" data-lite=\"true\">\\n\\n                    <li class=\"accordian__item\">\\n            \\n                                    <a tabindex=\"100\" href=\"/\" class=\"accordian__item-head site-nav-mobile__link\">\\n                        Home                    </a>\\n\\n                            </li>\\n                    <li class=\"accordian__item\">\\n            \\n                            <a href=\"#site-nav-mobile-sports-more-nav\" class=\"accordian__item-head site-nav-mobile__link site-nav-mobile__link-more\" aria-controls=\"site-nav-mobile-sports-more-nav\" id=\"site-nav-mobile-sports-more\">\\n                    Sports                </a>\\n\\n                <div class=\"accordian__item-content-frame\">\\n                    <ul class=\"accordian__item-content site-nav-mobile__sub-links\" aria-labelledby=\"site-nav-mobile-sports-more\" id=\" site-nav-mobile-sports-more-nav\">\\n                                                                    <li>\\n                            <a class=\"site-nav-mobile__sub-link\" tabindex=\"100\" href=\"/football\">\\n                                Football                            </a>\\n                        </li>\\n                                                                    <li>\\n                            <a class=\"site-nav-mobile__sub-link\" tabindex=\"100\" href=\"/f1\">\\n                                F1                            </a>\\n                        </li>\\n                                                                    <li>\\n                            <a class=\"site-nav-mobile__sub-link\" tabindex=\"100\" href=\"/cricket\">\\n                                Cricket                            </a>\\n                        </li>\\n                                                                    <li>\\n                            <a class=\"site-nav-mobile__sub-link\" tabindex=\"100\" href=\"/rugby-union\">\\n                                Rugby Union                            </a>\\n                        </li>\\n                                                                    <li>\\n                            <a class=\"site-nav-mobile__sub-link\" tabindex=\"100\" href=\"/rugby-league\">\\n                                Rugby League                            </a>\\n                        </li>\\n                                                                    <li>\\n                            <a class=\"site-nav-mobile__sub-link\" tabindex=\"100\" href=\"/golf\">\\n                                Golf                            </a>\\n                        </li>\\n                                                                    <li>\\n                            <a class=\"site-nav-mobile__sub-link\" tabindex=\"100\" href=\"/boxing\">\\n                                Boxing                            </a>\\n                        </li>\\n                                                                    <li>\\n                            <a class=\"site-nav-mobile__sub-link\" tabindex=\"100\" href=\"/nfl\">\\n                                NFL                            </a>\\n                        </li>\\n                                                                    <li>\\n                            <a class=\"site-nav-mobile__sub-link\" tabindex=\"100\" href=\"/tennis\">\\n                                Tennis                            </a>\\n                        </li>\\n                                                                    <li>\\n                            <a class=\"site-nav-mobile__sub-link\" tabindex=\"100\" href=\"/racing\">\\n                                Racing                            </a>\\n                        </li>\\n                                                                    <li>\\n                            <a class=\"site-nav-mobile__sub-link\" tabindex=\"100\" href=\"/darts\">\\n                                Darts                            </a>\\n                        </li>\\n                                                                    <li>\\n                            <a class=\"site-nav-mobile__sub-link\" tabindex=\"100\" href=\"/nba\">\\n                                NBA                            </a>\\n                        </li>\\n                                                                    <li>\\n                            <a class=\"site-nav-mobile__sub-link\" tabindex=\"100\" href=\"/netball\">\\n                                Netball                            </a>\\n                        </li>\\n                                                                    <li>\\n                            <a class=\"site-nav-mobile__sub-link\" tabindex=\"100\" href=\"/gaa\">\\n                                GAA                            </a>\\n                        </li>\\n                                                                    <li>\\n                            <a class=\"site-nav-mobile__sub-link\" tabindex=\"100\" href=\"/mma\">\\n                                MMA                            </a>\\n                        </li>\\n                                                                    <li>\\n                            <a class=\"site-nav-mobile__sub-link\" tabindex=\"100\" href=\"/more-sports\">\\n                                More Sports                            </a>\\n                        </li>\\n                                        </ul>\\n                </div>\\n\\n                            </li>\\n                    <li class=\"accordian__item\">\\n            \\n                                    <a tabindex=\"100\" href=\"/live-scores\" class=\"accordian__item-head site-nav-mobile__link\">\\n                        Scores                    </a>\\n\\n                            </li>\\n                    <li class=\"accordian__item\">\\n            \\n                                    <a tabindex=\"100\" href=\"/watch/video\" class=\"accordian__item-head site-nav-mobile__link\">\\n                        Video                    </a>\\n\\n                            </li>\\n                    <li class=\"accordian__item\">\\n            \\n                                    <a tabindex=\"100\" href=\"/watch\" class=\"accordian__item-head site-nav-mobile__link\">\\n                        TV                    </a>\\n\\n                            </li>\\n                    <li class=\"accordian__item\">\\n            \\n                                    <a tabindex=\"100\" href=\"https://www.skybet.com?aff=9749&dcmp=ss_main_nav\" class=\"accordian__item-head site-nav-mobile__link\" target=\"_blank\">\\n                        Sky Bet                    </a>\\n\\n                            </li>\\n                    <li class=\"accordian__item\">\\n            \\n                                    <a tabindex=\"100\" href=\"/games\" class=\"accordian__item-head site-nav-mobile__link\">\\n                        Games                    </a>\\n\\n                            </li>\\n                    <li class=\"accordian__item\">\\n            \\n                            <a href=\"#site-nav-mobile-more-more-nav\" class=\"accordian__item-head site-nav-mobile__link site-nav-mobile__link-more\" aria-controls=\"site-nav-mobile-more-more-nav\" id=\"site-nav-mobile-more-more\">\\n                    More                </a>\\n\\n                <div class=\"accordian__item-content-frame\">\\n                    <ul class=\"accordian__item-content site-nav-mobile__sub-links\" aria-labelledby=\"site-nav-mobile-more-more\" id=\" site-nav-mobile-more-more-nav\">\\n                                                                    <li>\\n                            <a class=\"site-nav-mobile__sub-link\" tabindex=\"100\" href=\"/transfer-centre\">\\n                                Transfer Centre                            </a>\\n                        </li>\\n                                                                    <li>\\n                            <a class=\"site-nav-mobile__sub-link\" tabindex=\"100\" href=\"/watch/sport-on-sky\">\\n                                Live on Sky                            </a>\\n                        </li>\\n                                                                    <li>\\n                            <a class=\"site-nav-mobile__sub-link\" tabindex=\"100\" href=\"/get-sky?dcmp=gss_more_dropdown\">\\n                                Get Sky Sports                            </a>\\n                        </li>\\n                                                                    <li>\\n                            <a class=\"site-nav-mobile__sub-link\" tabindex=\"100\" href=\"/watch/tv-shows\">\\n                                TV Shows                            </a>\\n                        </li>\\n                                                                    <li>\\n                            <a class=\"site-nav-mobile__sub-link\" tabindex=\"100\" href=\"/watch/tv-guide\">\\n                                TV Guide                            </a>\\n                        </li>\\n                                                                    <li>\\n                            <a class=\"site-nav-mobile__sub-link\" tabindex=\"100\" href=\"https://www.sky.com/shop/tv/sky-go/?dcmp=skygo_ss.com_more\" target=\"_blank\">\\n                                Sky Go                            </a>\\n                        </li>\\n                                                                    <li>\\n                            <a class=\"site-nav-mobile__sub-link\" tabindex=\"100\" href=\"http://www.nowtv.com/promo/sky-sports?dcmp=ilc_SSNTV_skysports_hardcode_moredropdownlink\" target=\"_blank\">\\n                                Now TV                            </a>\\n                        </li>\\n                                                                    <li>\\n                            <a class=\"site-nav-mobile__sub-link\" tabindex=\"100\" href=\"https://www.kickitout.org/forms/online-reporting-form\" target=\"_blank\">\\n                                Kick It Out                            </a>\\n                        </li>\\n                                                                    <li>\\n                            <a class=\"site-nav-mobile__sub-link\" tabindex=\"100\" href=\"/football/news/topic/8724/black-lives-matter\">\\n                                Black Lives Matter                            </a>\\n                        </li>\\n                                                                    <li>\\n                            <a class=\"site-nav-mobile__sub-link\" tabindex=\"100\" href=\"/sky-zero\">\\n                                Sky Zero                            </a>\\n                        </li>\\n                                                                    <li>\\n                            <a class=\"site-nav-mobile__sub-link\" tabindex=\"100\" href=\"/podcasts\">\\n                                Podcasts                            </a>\\n                        </li>\\n                                                                    <li>\\n                            <a class=\"site-nav-mobile__sub-link\" tabindex=\"100\" href=\"/mobile\">\\n                                Mobile                            </a>\\n                        </li>\\n                                                                    <li>\\n                            <a class=\"site-nav-mobile__sub-link\" tabindex=\"100\" href=\"https://twitter.com/SkySports\" target=\"_blank\">\\n                                Twitter                            </a>\\n                        </li>\\n                                                                    <li>\\n                            <a class=\"site-nav-mobile__sub-link\" tabindex=\"100\" href=\"https://www.facebook.com/SkySports\" target=\"_blank\">\\n                                Facebook                            </a>\\n                        </li>\\n                                                                    <li>\\n                            <a class=\"site-nav-mobile__sub-link\" tabindex=\"100\" href=\"/contact-us\">\\n                                Contact Us                            </a>\\n                        </li>\\n                                                                    <li>\\n                            <a class=\"site-nav-mobile__sub-link\" tabindex=\"100\" href=\"/workatskysports\">\\n                                Work @ Sky Sports                            </a>\\n                        </li>\\n                                                                    <li>\\n                            <a class=\"site-nav-mobile__sub-link\" tabindex=\"100\" href=\"https://www.sky.com/help/articles/skycom-terms-and-conditions\" target=\"_blank\">\\n                                Terms &amp; Conditions                            </a>\\n                        </li>\\n                                        </ul>\\n                </div>\\n\\n                            </li>\\n        \\n    </ul>\\n</div>\\n</div>\\n    </div>\\n</div>\\n    <script type=\"text/javascript\" id=\"google-tag-manager-init\" data-consent=\"false\" data-vendor-name=\"google-tag-manager\">\\n        //<![CDATA[\\n        var init = function () {\\n            var googleAdsJs = document.createElement(\\'script\\');\\n            googleAdsJs.type = \\'text/javascript\\';\\n            googleAdsJs.async = true;\\n            googleAdsJs.charset = \\'utf-8\\';\\n            googleAdsJs.src = \\'/common/scripts/google-plugin.min.js\\';\\n            googleAdsJs.onload = function(){\\n                var adsInit = document.getElementById(\\'gpt-ads-init\\');\\n                if(adsInit) {\\n                    adsInit.dataset.consent = true;\\n                }\\n            }\\n            var s = document.getElementsByTagName(\\'script\\')[0];\\n            s.parentNode.insertBefore(googleAdsJs, s);\\n        };\\n        (function () {\\n            if (!window.sdc || !window.sdc.checkConsent) {\\n                init();\\n                return;\\n            }\\n            window.sdc.checkConsent(document.currentScript, init);\\n        })();\\n        //]]>\\n    </script>\\n<script id=\"gpt-ads-init\" data-consent=\"false\">\\n    var init = function () {\\n        \\n  googletag.cmd.push(function() {\\n    window.googletag.pubads().setCentering(false);\\n        \\n if (window.segQS)\\n   googletag.pubads().setTargeting(\"key\", window.segQS);\\n    googletag.pubads().setTargeting(\"platform\", \"live\");\\n\\n  });\\n\\n    googleAdsWrapper.add({\\n      id: \"leaderboard\",\\n      tag: \"/20346936/skysports/football/tables\",\\n      sticky: true,\\n      size: {\\n        \"mobile\": [[320, 50], [300, 50]],\\n        \"tablet\": [[728, 90]],\\n        \"desktop\": [[728, 90], [970, 250]]\\n      }\\n    });\\n\\n    googleAdsWrapper.add({\\n      id: \"mpu-1\",\\n      tag: \"/20346936/skysports/football/tables\",\\n      size: {\\n        \"mobile\": [[300, 250]],\\n        \"tablet\": [[300, 250]],\\n        \"desktop\": [[300, 250], [300, 600]]\\n      }\\n    });\\n\\n    googleAdsWrapper.add({\\n      id: \"mpu-2\",\\n      tag: \"/20346936/skysports/football/tables\",\\n\\n      lazyLoadCallback: function(slot){slot.setTargeting(\"btf\", \"true\")} ,\\n      size: {\\n        \"mobile\": [[300, 250]],\\n        \"tablet\": [[300, 250]],\\n        \"desktop\": [[300, 250], [300, 600]]\\n      }\\n    });\\n\\n    googleAdsWrapper.add({\\n      id: \"in-article-video\",\\n      tag: \"/20346936/skysports/football/tables\",\\n\\n      lazyLoadCallback: function(slot){slot.setTargeting(\"btf\", \"true\")} ,\\n      size: {\\n        \"mobile\": [[300, 250]]\\n      }\\n    });\\n\\n    googleAdsWrapper.add({\\n      id: \"mpu-single-height\",\\n      tag: \"/20346936/skysports/football/tables\",\\n      size: {\\n        \"default\": [[300, 250]]\\n      }\\n    });\\n\\n    googleAdsWrapper.add({\\n      id: \"sponsor-position\",\\n      tag: \"/20346936/skysports/football/tables\",\\n      size: {\\n        \"mobile\": [[88, 31]],\\n        \"tablet\": [[88, 31]],\\n        \"desktop\": [[120, 60]]\\n      }\\n    });\\n\\n    googleAdsWrapper.add({\\n      id: \"sponsor-position-mobile\",\\n      tag: \"/20346936/skysports/football/tables\",\\n      size: {\\n        \"mobile\": [[88, 31]],\\n        \"tablet\": [[88, 31]]\\n      }\\n    });\\n\\n    googleAdsWrapper.add({\\n      id: \"native-ad\",\\n      tag: \"/20346936/skysports/football/tables\",\\n      size: {\\n        \"mobile\": [[3, 3]],\\n        \"tablet\": [[3, 3]],\\n        \"desktop\": [[3, 3]]\\n      }\\n    });\\n\\n    googleAdsWrapper.add({\\n      id: \"skyscraper\",\\n      tag: \"/20346936/skysports/football/tables\",\\n      size: {\\n        \"mobile\": [[160, 600]],\\n        \"tablet\": [[160, 600]],\\n        \"desktop\": [[160, 600]]\\n      }\\n    });\\n\\n    googleAdsWrapper.add({\\n      id: \"in-article-desktop\",\\n      tag: \"/20346936/skysports/football/tables\",\\n      size: {\\n        \"mobile\": [[4, 4]],\\n        \"tablet\": [[4, 4]],\\n        \"desktop\": [[4, 4]]\\n      }\\n    });\\n\\n    };\\n    (function () {\\n        if (!window.sdc || !window.sdc.checkConsent) {\\n            init();\\n            return;\\n        }\\n        window.sdc.checkConsent(document.currentScript, init);\\n    })();\\n</script>\\n<!-- SITE FOOTER -->\\n<div class=\"site-footer callfn\" data-fn=\"vm-suppression\" data-lite=\"true\">\\n  <div class=\"site-footer__body\">\\n    <ul class=\"site-footer__nav social-nav\">\\n      <li class=\"social-nav__item\">\\n        <a href=\"https://twitter.com/SkySports\" target=\"_blank\" class=\"social-nav__link social-nav__link--twitter icon\" data-icon=\"&#xe008;\">Twitter</a>\\n      </li>\\n      <li class=\"social-nav__item\">\\n        <a href=\"https://www.facebook.com/SkySports\" target=\"_blank\" class=\"social-nav__link social-nav__link--facebook icon\" data-icon=\"&#xe03e;\">Facebook</a>\\n      </li>\\n    </ul>\\n\\n    <!-- LINKS GRID -->\\n    <ul class=\"site-footer__links accordian callfn\" data-fn=\"accordian\" data-toggle=\"true\" data-lite=\"true\">\\n\\n          <li class=\"site-footer__col accordian__item\" id=\"site-footer-sky-sports-more-group>\">\\n        <a href=\"#\" class=\"site-footer__head accordian__item-head\" aria-controls=\"site-footer-sky-sports-more\" id=\"site-footer-sky-sports-more\">Sky Sports</a>\\n\\n        <div class=\"accordian__item-content-frame\" aria-labelledby=\"site-footer-sky-sports-more\" id=\"site-footer-sky-sports-more-nav\">\\n          <ul class=\"site-footer__nav site-footer__nav--vertical accordian__item-content\">\\n                      <li class=\"site-footer__item\">\\n              <a href=\"/watch/get-sky\" class=\"site-footer__link\">Get Sky Sports</a>\\n            </li>\\n                      <li class=\"site-footer__item\">\\n              <a href=\"/mobile\" class=\"site-footer__link\">Sky Sports Apps</a>\\n            </li>\\n                      <li class=\"site-footer__item\">\\n              <a href=\"http://www.sportinglife.com/\" class=\"site-footer__link\" target=\"_blank\">Sportinglife.com</a>\\n            </li>\\n                      <li class=\"site-footer__item\">\\n              <a href=\"http://www.teamtalk.com/\" class=\"site-footer__link\" target=\"_blank\">TEAMtalk.com</a>\\n            </li>\\n                      <li class=\"site-footer__item\">\\n              <a href=\"http://www.football365.com/\" class=\"site-footer__link\" target=\"_blank\">Football365.com</a>\\n            </li>\\n                    </ul>\\n        </div>\\n      </li>\\n          <li class=\"site-footer__col accordian__item\" id=\"site-footer-partners-group>\">\\n        <a href=\"#\" class=\"site-footer__head accordian__item-head\" aria-controls=\"site-footer-partners\" id=\"site-footer-partners\">Partners</a>\\n\\n        <div class=\"accordian__item-content-frame\" aria-labelledby=\"site-footer-partners\" id=\"site-footer-partners-nav\">\\n          <ul class=\"site-footer__nav site-footer__nav--vertical accordian__item-content\">\\n                      <li class=\"site-footer__item\">\\n              <a href=\"https://www.skybet.com?aff=9749&dcmp=ss_main_footer\" class=\"site-footer__link\" target=\"_blank\">Sky Bet</a>\\n            </li>\\n                      <li class=\"site-footer__item\">\\n              <a href=\"https://fantasyfootball.skysports.com/\" class=\"site-footer__link\" target=\"_blank\">Fantasy Football</a>\\n            </li>\\n                      <li class=\"site-footer__item\">\\n              <a href=\"https://super6.skysports.com\" class=\"site-footer__link\" target=\"_blank\">Super 6</a>\\n            </li>\\n                      <li class=\"site-footer__item\">\\n              <a href=\"http://www.planetrugby.com/\" class=\"site-footer__link\" target=\"_blank\">Planet Rugby</a>\\n            </li>\\n                      <li class=\"site-footer__item\">\\n              <a href=\"http://www.golf365.com\" class=\"site-footer__link\" target=\"_blank\">Golf365</a>\\n            </li>\\n                      <li class=\"site-footer__item\">\\n              <a href=\"http://www.planetf1.com\" class=\"site-footer__link\" target=\"_blank\">Planet F1</a>\\n            </li>\\n                      <li class=\"site-footer__item\">\\n              <a href=\"http://www.cricket365.com/\" class=\"site-footer__link\" target=\"_blank\">Cricket365</a>\\n            </li>\\n                    </ul>\\n        </div>\\n      </li>\\n          <li class=\"site-footer__col accordian__item\" id=\"site-footer-channels-group>\">\\n        <a href=\"#\" class=\"site-footer__head accordian__item-head\" aria-controls=\"site-footer-channels\" id=\"site-footer-channels\">Sky Sports Channels</a>\\n\\n        <div class=\"accordian__item-content-frame\" aria-labelledby=\"site-footer-channels\" id=\"site-footer-channels-nav\">\\n          <ul class=\"site-footer__nav site-footer__nav--vertical accordian__item-content\">\\n                      <li class=\"site-footer__item\">\\n              <a href=\"/watch/sky-sports-main-event\" class=\"site-footer__link\">Sky Sports Main Event</a>\\n            </li>\\n                      <li class=\"site-footer__item\">\\n              <a href=\"/watch/sky-sports-premier-league\" class=\"site-footer__link\">Sky Sports Premier League</a>\\n            </li>\\n                      <li class=\"site-footer__item\">\\n              <a href=\"/watch/sky-sports-football\" class=\"site-footer__link\">Sky Sports Football</a>\\n            </li>\\n                      <li class=\"site-footer__item\">\\n              <a href=\"/watch/sky-sports-cricket\" class=\"site-footer__link\">Sky Sports Cricket</a>\\n            </li>\\n                      <li class=\"site-footer__item\">\\n              <a href=\"/watch/sky-sports-golf\" class=\"site-footer__link\">Sky Sports Golf</a>\\n            </li>\\n                      <li class=\"site-footer__item\">\\n              <a href=\"/watch/sky-sports-racing\" class=\"site-footer__link\">Sky Sports Racing</a>\\n            </li>\\n                      <li class=\"site-footer__item\">\\n              <a href=\"/watch/sky-sports-f1\" class=\"site-footer__link\">Sky Sports F1 </a>\\n            </li>\\n                      <li class=\"site-footer__item\">\\n              <a href=\"/watch/sky-sports-action\" class=\"site-footer__link\">Sky Sports Action</a>\\n            </li>\\n                      <li class=\"site-footer__item\">\\n              <a href=\"/watch/sky-sports-arena\" class=\"site-footer__link\">Sky Sports Arena </a>\\n            </li>\\n                      <li class=\"site-footer__item\">\\n              <a href=\"/watch/sky-sports-news\" class=\"site-footer__link\">Sky Sports News</a>\\n            </li>\\n                      <li class=\"site-footer__item\">\\n              <a href=\"/watch/sky-sports-mix\" class=\"site-footer__link\">Sky Sports Mix</a>\\n            </li>\\n                    </ul>\\n        </div>\\n      </li>\\n          <li class=\"site-footer__col accordian__item\" id=\"site-footer-sky-sites-group>\">\\n        <a href=\"#\" class=\"site-footer__head accordian__item-head\" aria-controls=\"site-footer-sky-sites\" id=\"site-footer-sky-sites\">More Sky Sites</a>\\n\\n        <div class=\"accordian__item-content-frame\" aria-labelledby=\"site-footer-sky-sites\" id=\"site-footer-sky-sites-nav\">\\n          <ul class=\"site-footer__nav site-footer__nav--vertical accordian__item-content\">\\n                      <li class=\"site-footer__item\">\\n              <a href=\"https://www.sky.com/\" class=\"site-footer__link\" target=\"_blank\">Sky.com</a>\\n            </li>\\n                      <li class=\"site-footer__item\">\\n              <a href=\"http://news.sky.com/\" class=\"site-footer__link\" target=\"_blank\">Sky News</a>\\n            </li>\\n                      <li class=\"site-footer__item\">\\n              <a href=\"https://www.skygroup.sky\" class=\"site-footer__link\" target=\"_blank\">Sky Group</a>\\n            </li>\\n                      <li class=\"site-footer__item\">\\n              <a href=\"https://business.sky.com/\" class=\"site-footer__link\" target=\"_blank\">Sky For Businesses</a>\\n            </li>\\n                      <li class=\"site-footer__item\">\\n              <a href=\"/workatskysports\" class=\"site-footer__link\">Work @ Sky Sports</a>\\n            </li>\\n                      <li class=\"site-footer__item\">\\n              <a href=\"http://www.nowtv.com/promo/sky-sports?dcmp=ilc_SSNTV_skysports_hardcode_footer\" class=\"site-footer__link\" target=\"_blank\">NOW TV</a>\\n            </li>\\n                      <li class=\"site-footer__item\">\\n              <a href=\"https://communaltv.sky.com/\" class=\"site-footer__link\" target=\"_blank\">Sky Communal TV</a>\\n            </li>\\n                      <li class=\"site-footer__item\">\\n              <a href=\"https://www.skygroup.sky/corporate/bigger-picture\" class=\"site-footer__link\" target=\"_blank\">Bigger Picture</a>\\n            </li>\\n                      <li class=\"site-footer__item\">\\n              <a href=\"http://www.sky.com/shop/store-locator/\" class=\"site-footer__link\" target=\"_blank\">Store Locator</a>\\n            </li>\\n                      <li class=\"site-footer__item\">\\n              <a href=\"https://www.skymedia.co.uk/?utm_source=Sky_Sports&utm_medium=Web_page&utm_content=Sky_Sports_web_page&utm_campaign=Sky_Sports_web_page\" class=\"site-footer__link\" target=\"_blank\">Advertise With Us</a>\\n            </li>\\n                      <li class=\"site-footer__item\">\\n              <a href=\"https://accessories.sky.com/\" class=\"site-footer__link\" target=\"_blank\">Sky TV Accessories</a>\\n            </li>\\n                    </ul>\\n        </div>\\n      </li>\\n    \\n    </ul>\\n    <!-- / LINKS GRID -->\\n\\n    <ul class=\"site-footer__nav site-footer__nav--horizontal-nav\">\\n          <li class=\"site-footer__item site-footer__item--inline\">\\n        <a href=\"https://www.sky.com/help/articles/skycom-terms-and-conditions\" class=\"site-footer__link\" target=\"_blank\">Terms &amp; Conditions</a>\\n      </li>\\n          <li class=\"site-footer__item site-footer__item--inline\">\\n        <a href=\"https://www.sky.com/help/articles/sky-privacy-and-cookies-notice\" class=\"site-footer__link\" target=\"_blank\">Privacy &amp; Cookies Notice</a>\\n      </li>\\n          <li class=\"site-footer__item site-footer__item--inline\">\\n        <a href=\"#privacy-options\" class=\"site-footer__link\">Privacy Options</a>\\n      </li>\\n          <li class=\"site-footer__item site-footer__item--inline\">\\n        <a href=\"https://www.skyaccessibility.sky/\" class=\"site-footer__link\" target=\"_blank\">Accessibility Information</a>\\n      </li>\\n          <li class=\"site-footer__item site-footer__item--inline\">\\n        <a href=\"/contact-us\" class=\"site-footer__link\">Contact Us</a>\\n      </li>\\n        </ul>\\n\\n    <p class=\"site-footer__copyright\">\\n      <a href=\"https://www.skysports.com\" class=\"svg-logo site-footer__site-logo\">\\n        <img class=\"svg-logo__image\" src=\"https://e1.365dm.com/tvlogos/channels/Sky-Sports-Logo.svg\" onerror=\"this.onerror=null;this.src=\\'https://e1.365dm.com/tvlogos/channels/Sky-Sports-Logo.png\\'\" alt=\"Sky Sports Channel Logo\">\\n      </a>\\n      &copy;2022 Sky UK\\n    </p>\\n  </div>\\n</div>\\n<div class=\"callfn\"\\n     data-fn=\"sdc-site-consent-management\"\\n     data-lite=\"true\"\\n     data-spv2=\"true\"\\n     data-component-name=\"sdc-site-consent-management\"\\n     data-campaign-id=\"2370\"\\n     data-privacy-manager-id=\"617780\"\\n     data-selector=\"a[href=\\'#privacy-options\\']\"\\n        >\\n</div>\\n<!-- / SITE FOOTER -->\\n<link rel=\"stylesheet\" href=\"/common/styles/project-base-vars.css\" type=\"text/css\">\\n    <script src=\"/core/js/vendor/require-2.1.0.js\"></script>\\n    <script src=\"/ui-components/include/include-5c6f833b7edbaac3adf7005ae521f0b0.js\"></script>\\n    <script>\\n\\n        require.config({\"shim\":{\"facebook-sdk\":{\"exports\":\"FB\"}},\"baseUrl\":\"/\",\"paths\":{\"skysports_com\":\"core/js/apps/skysports_com\",\"skysports_digrev\":\"core/js/apps/skysports_digrev\",\"skysports_legacy\":\"core/js/apps/skysports_legacy\",\"skysports_ipad_components\":\"core/js/apps/skysports_ipad_components\",\"skysports_sap\":\"core/js/../static/js/skysports_sap\",\"requireLib\":\"core/js/vendor/require-2.1.0\",\"class\":\"core/js/modules/vendor/class\",\"countdown\":\"core/js/modules/vendor/countdown\",\"energize\":\"core/js/modules/vendor/energize-bac53226fb\",\"hammer\":\"core/js/modules/vendor/hammer-a592776ebb\",\"marker-clusterer\":\"core/js/modules/vendor/marker-clusterer\",\"moment\":\"core/js/modules/vendor/moment-1.7.2\",\"reqwest\":\"core/js/modules/vendor/reqwest-a845dfd832\",\"scroll-pane\":\"core/js/modules/vendor/ftscroller-280c6900bc\",\"underscore\":\"core/js/modules/vendor/lodash.custom\",\"adaptive-content\":\"core/js/modules/core2/adaptive-content\",\"article-widget-betting\":\"core/js/modules/core2/article-widget-betting\",\"app-bridge\":\"core/js/modules/app-bridge\",\"article-advert\":\"core/js/modules/article-advert\",\"article-outbrain\":\"core/js/modules/article-outbrain\",\"autocomplete\":\"core/js/modules/autocomplete\",\"autocomplete-lite\":\"core/js/modules/core2/autocomplete-lite\",\"accordian\":\"core/js/modules/core2/accordian\",\"betting-lines\":\"core/js/modules/betting-lines\",\"bskyb-omniture\":\"core/js/modules/bskyb-omniture\",\"bskyb-omniture-1-2\":\"core/js/modules/bskyb-omniture-1.2\",\"calendar-url-builder\":\"core/js/modules/calendar-url-builder\",\"carousel\":\"core/js/modules/carousel\",\"carousel-lite\":\"core/js/modules/carousel-lite\",\"close-me\":\"core/js/modules/close-me\",\"content-stream\":\"core/js/modules/content-stream\",\"content-swap\":\"core/js/modules/content-swap\",\"countdown-widget\":\"core/js/modules/countdown-widget\",\"comments-reply\":\"core/js/modules/comments-reply\",\"cookie\":\"core/js/modules/cookie\",\"android-notice\":\"core/js/modules/android-notice\",\"create-audio\":\"core/js/modules/create-audio\",\"dataset\":\"core/js/modules/dataset\",\"datepicker\":\"core/js/modules/datepicker\",\"datepicker2\":\"core/js/modules/core2/datepicker2\",\"dom\":\"core/js/modules/dom\",\"dropdown\":\"core/js/modules/dropdown\",\"dropdown-select\":\"core/js/modules/core2/dropdown-select\",\"element-listener\":\"core/js/modules/core2/element-listener\",\"environment\":\"core/js/modules/environment\",\"events\":\"core/js/modules/events\",\"facebook-sdk\":\"//connect.facebook.net/en_US/all\",\"form\":\"core/js/modules/form\",\"form-chart\":\"core/js/modules/form-chart\",\"form-validation\":\"core/js/modules/core2/form-validation\",\"html-poller\":\"core/js/modules/html-poller\",\"implicit-personalisation-display\":\"core/js/modules/core2/implicit-personalisation-display\",\"implicit-personalisation-storage\":\"core/js/modules/core2/implicit-personalisation-storage\",\"implicit-personalisation-removal\":\"core/js/modules/core2/implicit-personalisation-removal\",\"inverted-listener\":\"core/js/modules/inverted-listener\",\"iscroll-lite\":\"core/js/modules/vendor/iscroll-lite\",\"keyboard-listener\":\"core/js/modules/keyboard-listener\",\"keyboard-view\":\"core/js/modules/keyboard-view\",\"lazy-images\":\"core/js/modules/lazy-images\",\"live-article\":\"core/js/modules/live-article\",\"live-cricket\":\"core/js/modules/live-cricket\",\"live-sport\":\"core/js/modules/live-sport\",\"live-update\":\"core/js/modules/live-update\",\"live-refresh\":\"core/js/modules/core2/live-refresh\",\"live-refresh-darts-table-controller\":\"core/js/modules/core2/live-refresh-darts-table-controller\",\"live-refresh-darts-table-view\":\"core/js/modules/core2/live-refresh-darts-table-view\",\"live-refresh-football-controller\":\"core/js/modules/core2/live-refresh-football-controller\",\"live-refresh-football-view\":\"core/js/modules/core2/live-refresh-football-view\",\"live-refresh-fixture-update-controller\":\"core/js/modules/core2/live-refresh-fixture-update-controller\",\"live-refresh-fixture-update-view\":\"core/js/modules/core2/live-refresh-fixture-update-view\",\"live-refresh-live-golf-leaderboard-controller\":\"core/js/modules/core2/live-refresh-live-golf-leaderboard-controller\",\"live-refresh-golf-matchplay-controller\":\"core/js/modules/core2/live-refresh-golf-matchplay-controller\",\"live-refresh-golf-matchplay-view\":\"core/js/modules/core2/live-refresh-golf-matchplay-view\",\"live-refresh-match-header-controller\":\"core/js/modules/core2/live-refresh-match-header-controller\",\"live-refresh-match-header-football-view\":\"core/js/modules/core2/live-refresh-match-header-football-view\",\"live-refresh-match-header-rugby-league-view\":\"core/js/modules/core2/live-refresh-match-header-rugby-league-view\",\"live-refresh-match-header-rugby-union-view\":\"core/js/modules/core2/live-refresh-match-header-rugby-union-view\",\"live-refresh-match-stats-controller\":\"core/js/modules/core2/live-refresh-match-stats-controller\",\"live-refresh-match-stats-view\":\"core/js/modules/core2/live-refresh-match-stats-view\",\"live-refresh-gp-standings-controller\":\"core/js/modules/core2/live-refresh-gp-standings-controller\",\"live-refresh-gp-standings-view\":\"core/js/modules/core2/live-refresh-gp-standings-view\",\"live-refresh-tennis-controller\":\"core/js/modules/core2/live-refresh-tennis-controller\",\"live-refresh-tennis-view\":\"core/js/modules/core2/live-refresh-tennis-view\",\"live-refresh-news-list-controller\":\"core/js/modules/core2/live-refresh-news-list-controller\",\"live-refresh-news-list-view\":\"core/js/modules/core2/live-refresh-news-list-view\",\"live-refresh-livefyre-pinned-controller\":\"core/js/modules/core2/live-refresh-livefyre-pinned-controller\",\"live-refresh-livefyre-pinned-view\":\"core/js/modules/core2/live-refresh-livefyre-pinned-view\",\"live-refresh-live-table-controller\":\"core/js/modules/core2/live-refresh-live-table-controller\",\"live-refresh-live-table-view\":\"core/js/modules/core2/live-refresh-live-table-view\",\"live-refresh-live-table-static-view\":\"core/js/modules/core2/live-refresh-live-table-static-view\",\"live-refresh-masters-live-panel-controller\":\"core/js/modules/core2/live-refresh-masters-live-panel-controller\",\"live-refresh-matchplay-table-controller\":\"core/js/modules/core2/live-refresh-matchplay-table-controller\",\"live-refresh-matchplay-table-view\":\"core/js/modules/core2/live-refresh-matchplay-table-view\",\"live-refresh-ryder-cup-controller\":\"core/js/modules/core2/live-refresh-ryder-cup-controller\",\"live-refresh-ryder-cup-view\":\"core/js/modules/core2/live-refresh-ryder-cup-view\",\"live-refresh-status-lookup\":\"core/js/modules/core2/live-refresh-status-lookup\",\"live-refresh-switch\":\"core/js/modules/core2/live-refresh-switch\",\"live-refresh-team-events-controller\":\"core/js/modules/core2/live-refresh-team-events-controller\",\"live-refresh-team-events-view\":\"core/js/modules/core2/live-refresh-team-events-view\",\"live-text\":\"core/js/modules/core2/live-text\",\"live-refresh-swingometer-controller\":\"core/js/modules/core2/live-refresh-swingometer-controller\",\"live-refresh-swingometer-view\":\"core/js/modules/core2/live-refresh-swingometer-view\",\"livefyre-auth\":\"core/js/modules/livefyre-auth\",\"livefyre-social\":\"core/js/modules/livefyre-social\",\"load-into\":\"core/js/modules/load-into\",\"load-more\":\"core/js/modules/load-more\",\"load-more2\":\"core/js/modules/core2/load-more\",\"match-head-switch\":\"core/js/modules/core2/match-head-switch\",\"load-more-inline\":\"core/js/modules/core2/load-more-inline\",\"load-more-once\":\"core/js/modules/core2/load-more-once\",\"map\":\"core/js/modules/map\",\"media-query\":\"core/js/modules/media-query\",\"now-tv\":\"core/js/modules/now-tv\",\"most-popular\":\"core/js/modules/core2/most-popular\",\"observable\":\"core/js/modules/observable\",\"open-top\":\"core/js/modules/core2/open-top\",\"overlay\":\"core/js/modules/overlay\",\"overlay-widget\":\"core/js/modules/overlay-widget\",\"page-nav\":\"core/js/modules/core2/page-nav\",\"parse-date\":\"core/js/modules/core2/parse-date\",\"page-filters\":\"core/js/modules/core2/page-filters\",\"persistent-autocomplete\":\"core/js/modules/persistent-autocomplete\",\"polaris-glint\":\"core/js/modules/core2/polaris-glint\",\"pikaday\":\"core/js/modules/vendor/pikaday\",\"pl-clip-promo\":\"core/js/modules/core2/pl-clip-promo\",\"poller\":\"core/js/modules/poller\",\"polls\":\"core/js/modules/polls\",\"poll-ig\":\"core/js/modules/core2/poll-ig\",\"media-playlist\":\"core/js/modules/core2/media-playlist\",\"postpone-load\":\"core/js/modules/core2/postpone-load\",\"postpone-load2\":\"core/js/modules/core2/postpone-load2\",\"postscribe\":\"core/js/vendor/postscribe-3737e3c2f9\",\"pub-sub\":\"core/js/modules/pub-sub\",\"roadblock\":\"core/js/modules/core2/roadblock\",\"update-content\":\"core/js/modules/core2/update-content\",\"script\":\"core/js/modules/script\",\"scroll-to\":\"core/js/modules/scroll-to\",\"scribble-article\":\"core/js/modules/scribble-article\",\"section-nav\":\"core/js/modules/core2/section-nav\",\"selectable\":\"core/js/modules/selectable\",\"selectable-list-view\":\"core/js/modules/selectable-list-view\",\"share-button\":\"core/js/modules/share-button\",\"site-layout-primary\":\"core/js/modules/core2/site-layout-primary\",\"site-nav-desktop\":\"core/js/modules/core2/site-nav-desktop\",\"sky-go\":\"core/js/modules/sky-go\",\"skyid-login\":\"core/js/modules/skyid-login\",\"is-loggedin\":\"core/js/modules/is-loggedin\",\"sky-sports-date\":\"core/js/modules/core2/sky-sports-date\",\"squad-selector\":\"core/js/modules/core2/squad-selector\",\"social-map\":\"core/js/modules/core2/social-map\",\"sp-player\":\"core/js/modules/core2/sp-player\",\"sticky-scroll\":\"core/js/modules/sticky-scroll\",\"string\":\"core/js/modules/string\",\"swipe-nav\":\"core/js/modules/core2/swipe-nav\",\"subscriber-video\":\"core/js/modules/subscriber-video\",\"table-sorter\":\"core/js/modules/table-sorter\",\"table-sorter-lite\":\"core/js/modules/core2/table-sorter\",\"tabs\":\"core/js/modules/tabs\",\"tabs-lite\":\"core/js/modules/core2/tabs-lite\",\"tabs-filter\":\"core/js/modules/core2/tabs-filter\",\"tab-navigation\":\"core/js/modules/core2/tab-navigation\",\"team-formations\":\"core/js/modules/core2/team-formations\",\"thumbs\":\"core/js/modules/thumbs\",\"toggle-class\":\"core/js/modules/toggle-class\",\"toggle-switch\":\"core/js/modules/core2/toggle-switch\",\"trending\":\"core/js/modules/core2/trending\",\"trigger-event\":\"core/js/modules/trigger-event\",\"tv-guide\":\"core/js/modules/tv-guide\",\"update-html\":\"core/js/modules/update-html\",\"update-text\":\"core/js/modules/core2/update-text\",\"user\":\"core/js/modules/user\",\"util\":\"core/js/modules/core2/util\",\"validator\":\"core/js/modules/validator\",\"vidiprinter\":\"core/js/modules/core2/vidiprinter\",\"vm-suppression\":\"core/js/modules/vm-suppression\",\"web-notifications\":\"core/js/modules/core2/web-notifications\",\"widget\":\"core/js/modules/widget\",\"widget-lite\":\"core/js/modules/core2/widget-lite\",\"widget-loader\":\"core/js/modules/widget-loader\",\"window-observer\":\"core/js/modules/window-observer\",\"your-say\":\"core/js/modules/core2/your-say\"}});\\n\\n        require([\\'skysports_digrev\\', \\'sdc-site-pub-sub\\'], function (appController, pubsub) {\\n            window.sdc = window.sdc || {};\\n            pubsub.init(window.sdc);\\n\\n            appController.init();\\n        });\\n\\n    </script>\\n        <script src=\"/core/js/vendor/require-2.1.0.js\" type=\"text/javascript\"></script>\\n    <script type=\"text/javascript\" data-consent=\"false\" data-vendor-name=\"oddschecker\">\\n    var init = function () {\\n        var oddscheckerJs = document.createElement(\\'script\\');\\n        oddscheckerJs.type = \\'text/javascript\\';\\n        oddscheckerJs.async = true;\\n        oddscheckerJs.charset = \\'utf-8\\';\\n        oddscheckerJs.src = \\'//cloud-static.storage.googleapis.com/production/widgets/mk2/js/common/generator.min.js\\';\\n        var s = document.getElementsByTagName(\\'script\\')[0];\\n        s.parentNode.insertBefore(oddscheckerJs, s);\\n    };\\n    (function () {\\n        if (!window.sdc || !window.sdc.checkConsent) {\\n            init();\\n            return;\\n        }\\n        window.sdc.checkConsent(document.currentScript, init);\\n    })();\\n</script><script type=\"text/javascript\">window.ocEnv={url:window.location.href,};</script><script>\\n    SKY_SPORTS.deferred(function(){\\n        require([\\'bskyb-omniture\\'], function (bskybOmniture) {\\n\\n            var aamGetCookie =  function (c_name)\\n            {\\n                var i, x, y, c = document.cookie.split(\";\");\\n                for (i = 0; i < c.length; i++)\\n                {\\n                    x = c[i].substr(0, c[i].indexOf(\"=\"));\\n                    y = c[i].substr(c[i].indexOf(\"=\") + 1);\\n                    x = x.replace(/^\\\\s+|\\\\s+$/g, \"\");\\n                    if (x == c_name)\\n                    {\\n                        return unescape(y);\\n                    }\\n                }\\n            };\\n\\n            var tracking = \\'\\';\\n            var cookie = aamGetCookie(\"interactive\");\\n            var interactive = (cookie) ? JSON.parse(cookie) : {};\\n            if( \\'undefined\\' !== typeof interactive.tid ) {\\n                tracking = interactive.tid;\\n            }\\n\\n            var omnitureInitiated = false;\\n\\n            var initAnalytics = function(targetData) {\\n\\n                if(omnitureInitiated) {\\n                    return;\\n                }\\n\\n                omnitureInitiated = true;\\n\\n                var omnitureData = {\\n                    trackingId: tracking,\\n                    site: \"sky/portal/sports\",\\n                    section: \"football\",\\n                    contentType: \"table\",\\n                                        contentId: \"\",\\n                    sport: \"Football\",                    account: \"bskybsports\"\\n                };\\n\\n\\n                if(typeof targetData !== \"undefined\" && targetData.tntVal) {\\n                    omnitureData.tnt = targetData.tntVal;\\n                }\\n\\n                // site-wide analytics\\n                bskybOmniture.init(omnitureData);\\n            };\\n\\n            if(window.sdc && window.sdc.pubSub) {\\n                window.sdc.pubSub.subscribe(\\'dynamic-tile.events.adobe-target-fetched\\', function(data) {\\n                    initAnalytics(data);\\n                });\\n            }\\n\\n            setTimeout(initAnalytics, 2000);\\n\\n        });\\n    });\\n\\n    var s_account = \"bskybsports\";\\n</script>\\n\\n    \\n  <script type=\"text/javascript\">_satellite.pageBottom();</script>\\n\\n          <script data-consent=\"false\" data-vendor-name=\"chartbeat\">\\n      var _sf_async_config = _sf_async_config || {};\\n      _sf_async_config.sections = \\'type:table,football\\';\\n      \\n\\n    var additionalSection = \"\";\\n\\n    if (additionalSection) {\\n      var formattedAdditionalSection = additionalSection.replace(/-/g,\"_\");\\n      window._sf_async_config.sections = window._sf_async_config.sections + \\',\\' + formattedAdditionalSection;\\n    }\\n\\n    window._sf_endpt = new Date().getTime();\\n\\n    var init = function () {\\n         var script = document.createElement(\\'script\\');\\n         script.src = document.location.protocol + \\'//static.chartbeat.com/js/chartbeat.js\\';\\n         document.body.appendChild(script);\\n    };\\n\\n    (function(){\\n        if (!window.sdc || !window.sdc.checkConsent){\\n            init();\\n            return;\\n        }\\n\\n        window.sdc.checkConsent(document.currentScript, init);\\n    })();\\n\\n  </script>\\n\\n        <script>\\n        if (window.MSInputMethodContext && document.documentMode) {\\n            var ie11bannerHtml = \\'<div class=\"ui-goodb-ie\" role=\"banner\"><div class=\"ui-goodb-ie__content\"><span class=\"ui-goodb-ie__title\">We no longer support Internet Explorer</span><p class=\"ui-goodb-ie__message\"><strong>If you use Internet Explorer, you may find that our website does not work correctly.</strong> For a secure and optimal experience, please take a minute to download a modern alternative for free:</p><ul class=\"ui-goodb-ie__links\"><li class=\"ui-goodb-ie__link-item\"><a class=\"ui-goodb-ie__button\" href=\"https://www.google.com/chrome/\" target=\"_blank\">Google Chrome</a></li><li class=\"ui-goodb-ie__link-item\"><a class=\"ui-goodb-ie__button\" href=\"https://www.mozilla.org/en-US/firefox/\" target=\"_blank\">Mozilla Firefox</a></li><li class=\"ui-goodb-ie__link-item\"><a class=\"ui-goodb-ie__button\" href=\"https://www.microsoft.com/edge\" target=\"_blank\">Microsoft Edge</a></li></ul></div></div>\\';\\n            var ie11bannerCss = \\'<style>.ui-goodb-ie{font-family:\"SkyText\",sans-serif;background:#4a4a4a;color:#fff;position:relative;z-index:9999999;font-size:18px}.ui-goodb-ie[class]{display:block;}.ui-goodb-ie__content{max-width:1024px;margin:0 auto;padding:40px 24px}.ui-goodb-ie__title{font-size:36px;font-weight:500;color:#fde000}.ui-goodb-ie__message{font-size:20px;margin:20px 0;max-width:60ch;line-height:1.3}.ui-goodb-ie__message strong{font-family:\"SkyTextMed\",sans-serif;font-weight:500}.ui-goodb-ie__links{padding:.5em 0}.ui-goodb-ie__link-item{display:inline-block}.ui-goodb-ie__button{display:block;vertical-align:middle;padding:.64em 1em;line-height:1;background:0 0;color:#fff;font-weight:500;border:2px solid #fff;border-radius:3px;margin:0 3px 3px 0}.ui-goodb-ie__button:focus,.ui-goodb-ie__button:hover{text-decoration:none;background:#fff !important;color:#4a4a4a}</style>\\';\\n            document.body.insertAdjacentHTML(\\'afterbegin\\', ie11bannerCss);\\n            document.body.insertAdjacentHTML(\\'afterbegin\\', ie11bannerHtml);\\n        }\\n    </script>\\n<script type=\"text/javascript\">window.NREUM||(NREUM={});NREUM.info={\"beacon\":\"bam.nr-data.net\",\"licenseKey\":\"517f0b291f\",\"applicationID\":\"545304393\",\"transactionName\":\"blcEMUpZCxdYV0MIXVcdJRBLTAoJFlJYDkZbUwoJF1sKCk1GWA1eXEAVSnFWAQFBd1gPRktdCgldSksUUUQ=\",\"queueTime\":0,\"applicationTime\":876,\"atts\":\"QhATRwJDGEgbVRVbSURP\",\"errorBeacon\":\"bam.nr-data.net\",\"agent\":\"\"}</script></body>\\n</html>\\n'"
            ],
            "application/vnd.google.colaboratory.intrinsic+json": {
              "type": "string"
            }
          },
          "metadata": {},
          "execution_count": 152
        }
      ],
      "source": [
        "data  = requests.get(url).text \n",
        "data"
      ]
    },
    {
      "cell_type": "markdown",
      "metadata": {
        "id": "NQ7h0wJV-4mE"
      },
      "source": [
        "We create a <code>BeautifulSoup</code> object using the <code>BeautifulSoup</code> constructor\n"
      ]
    },
    {
      "cell_type": "code",
      "execution_count": 153,
      "metadata": {
        "id": "nww4ecE0-4mE"
      },
      "outputs": [],
      "source": [
        "soup = BeautifulSoup(data,\"html.parser\")  # create a soup object using the variable 'data'"
      ]
    },
    {
      "cell_type": "markdown",
      "metadata": {
        "id": "sOId09Fp-4mE"
      },
      "source": [
        "Scrape all links\n"
      ]
    },
    {
      "cell_type": "code",
      "execution_count": 154,
      "metadata": {
        "colab": {
          "base_uri": "https://localhost:8080/"
        },
        "id": "sWQDboM1-4mE",
        "outputId": "5c5a31a6-8877-4d8a-a856-baaae52d92c3"
      },
      "outputs": [
        {
          "output_type": "stream",
          "name": "stdout",
          "text": [
            "https://www.skysports.com\n",
            "#no-js-nav\n",
            "http://www.skysports.com/football/news/11095/12370963/subscribe-to-the-essential-football-podcast-from-sky-sports\n",
            "/football\n",
            "#page-nav\n",
            "/football/news\n",
            "/football/teams\n",
            "/football/tables\n",
            "/football/competitions\n",
            "/football-fixtures\n",
            "/football-results\n",
            "/transfer-centre\n",
            "/watch/video/sports/football\n",
            "/watch/football-on-sky\n",
            "https://www.skybet.com?aff=9757&dcmp=ss_sub_nav_FB\n",
            "#page-filters__body\n",
            "/premier-league-table\n",
            "/championship-table\n",
            "/league-1-table\n",
            "/league-2-table\n",
            "/scottish-premier-table\n",
            "/scottish-championship-table\n",
            "/scottish-league-one-table\n",
            "/scottish-league-two-table\n",
            "/womens-super-league-table\n",
            "/womens-championship-table\n",
            "/champions-league-table\n",
            "/europa-league-table\n",
            "/europa-conference-league-table\n",
            "/bundesliga-table\n",
            "/la-liga-table\n",
            "/serie-a-table\n",
            "/eredivisie-table\n",
            "/ligue-1-table\n",
            "/world-cup-table\n",
            "/football/competitions/world-cup-qualifiers/table\n",
            "/football/competitions/womens-world-cup-qualifiers/table\n",
            "/euro-2020-table\n",
            "/uefa-nations-league-table\n",
            "/under-21s-table\n",
            "/copa-america-table\n",
            "/football/competitions/vanarama-national-league/table\n",
            "/football/competitions/vanarama-national-league-north/table\n",
            "/football/competitions/vanarama-national-league-south/table\n",
            "/womens-premier-league-southern-division-table\n",
            "/womens-premier-league-northern-division-table\n",
            "/efl-trophy-table\n",
            "/scottish-league-cup-table\n",
            "/football/competitions/she-believes-cup/table\n",
            "/mls-table\n",
            "/chinese-super-league-table\n",
            "/africa-cup-of-nations-table\n",
            "/womens-european-championships-table\n",
            "/womens-champions-league-table\n",
            "/womens-super-league-cup-table\n",
            "/premier-league-table\n",
            "/womens-european-championships-table\n",
            "/championship-table\n",
            "/league-1-table\n",
            "/league-2-table\n",
            "/scottish-premier-table\n",
            "/scottish-championship-table\n",
            "/scottish-league-one-table\n",
            "/scottish-league-two-table\n",
            "/womens-super-league-table\n",
            "/womens-championship-table\n",
            "/champions-league-table\n",
            "/europa-league-table\n",
            "/europa-conference-league-table\n",
            "/bundesliga-table\n",
            "/la-liga-table\n",
            "/serie-a-table\n",
            "/eredivisie-table\n",
            "/ligue-1-table\n",
            "/football/competitions/world-cup-qualifiers/table\n",
            "/euro-2020-table\n",
            "/euro-2020-table\n",
            "/euro-2020-table\n",
            "/euro-2020-table\n",
            "/uefa-nations-league-table\n",
            "/efl-trophy-table\n",
            "/mls-table\n",
            "/mls-table\n",
            "/chinese-super-league-table\n",
            "/\n",
            "#site-nav-mobile-sports-more-nav\n",
            "/football\n",
            "/f1\n",
            "/cricket\n",
            "/rugby-union\n",
            "/rugby-league\n",
            "/golf\n",
            "/boxing\n",
            "/nfl\n",
            "/tennis\n",
            "/racing\n",
            "/darts\n",
            "/nba\n",
            "/netball\n",
            "/gaa\n",
            "/mma\n",
            "/more-sports\n",
            "/live-scores\n",
            "/watch/video\n",
            "/watch\n",
            "https://www.skybet.com?aff=9749&dcmp=ss_main_nav\n",
            "/games\n",
            "#site-nav-mobile-more-more-nav\n",
            "/transfer-centre\n",
            "/watch/sport-on-sky\n",
            "/get-sky?dcmp=gss_more_dropdown\n",
            "/watch/tv-shows\n",
            "/watch/tv-guide\n",
            "https://www.sky.com/shop/tv/sky-go/?dcmp=skygo_ss.com_more\n",
            "http://www.nowtv.com/promo/sky-sports?dcmp=ilc_SSNTV_skysports_hardcode_moredropdownlink\n",
            "https://www.kickitout.org/forms/online-reporting-form\n",
            "/football/news/topic/8724/black-lives-matter\n",
            "/sky-zero\n",
            "/podcasts\n",
            "/mobile\n",
            "https://twitter.com/SkySports\n",
            "https://www.facebook.com/SkySports\n",
            "/contact-us\n",
            "/workatskysports\n",
            "https://www.sky.com/help/articles/skycom-terms-and-conditions\n",
            "https://twitter.com/SkySports\n",
            "https://www.facebook.com/SkySports\n",
            "#\n",
            "/watch/get-sky\n",
            "/mobile\n",
            "http://www.sportinglife.com/\n",
            "http://www.teamtalk.com/\n",
            "http://www.football365.com/\n",
            "#\n",
            "https://www.skybet.com?aff=9749&dcmp=ss_main_footer\n",
            "https://fantasyfootball.skysports.com/\n",
            "https://super6.skysports.com\n",
            "http://www.planetrugby.com/\n",
            "http://www.golf365.com\n",
            "http://www.planetf1.com\n",
            "http://www.cricket365.com/\n",
            "#\n",
            "/watch/sky-sports-main-event\n",
            "/watch/sky-sports-premier-league\n",
            "/watch/sky-sports-football\n",
            "/watch/sky-sports-cricket\n",
            "/watch/sky-sports-golf\n",
            "/watch/sky-sports-racing\n",
            "/watch/sky-sports-f1\n",
            "/watch/sky-sports-action\n",
            "/watch/sky-sports-arena\n",
            "/watch/sky-sports-news\n",
            "/watch/sky-sports-mix\n",
            "#\n",
            "https://www.sky.com/\n",
            "http://news.sky.com/\n",
            "https://www.skygroup.sky\n",
            "https://business.sky.com/\n",
            "/workatskysports\n",
            "http://www.nowtv.com/promo/sky-sports?dcmp=ilc_SSNTV_skysports_hardcode_footer\n",
            "https://communaltv.sky.com/\n",
            "https://www.skygroup.sky/corporate/bigger-picture\n",
            "http://www.sky.com/shop/store-locator/\n",
            "https://www.skymedia.co.uk/?utm_source=Sky_Sports&utm_medium=Web_page&utm_content=Sky_Sports_web_page&utm_campaign=Sky_Sports_web_page\n",
            "https://accessories.sky.com/\n",
            "https://www.sky.com/help/articles/skycom-terms-and-conditions\n",
            "https://www.sky.com/help/articles/sky-privacy-and-cookies-notice\n",
            "#privacy-options\n",
            "https://www.skyaccessibility.sky/\n",
            "/contact-us\n",
            "https://www.skysports.com\n"
          ]
        }
      ],
      "source": [
        "for link in soup.find_all('a',href=True):  # in html anchor/link is represented by the tag <a>\n",
        "    print(link.get('href'))\n"
      ]
    },
    {
      "cell_type": "markdown",
      "metadata": {
        "id": "phveO1B7-4mE"
      },
      "source": [
        "## Scrape  all images  Tags\n"
      ]
    },
    {
      "cell_type": "code",
      "execution_count": 156,
      "metadata": {
        "colab": {
          "base_uri": "https://localhost:8080/"
        },
        "id": "DB9bKlmy-4mE",
        "outputId": "a42b9d8c-7f75-425e-f4ef-1ac4d840d4f6"
      },
      "outputs": [
        {
          "output_type": "stream",
          "name": "stdout",
          "text": [
            "<img alt=\"Sky Sports Channel Logo\" class=\"svg-logo__image\" onerror=\"this.onerror=null;this.src='/core/img/channels/Sky-Sports-Logo.png'\" src=\"/core/img/channels/Sky-Sports-Logo-transparent.svg\"/>\n",
            "/core/img/channels/Sky-Sports-Logo-transparent.svg\n",
            "<img alt=\"Essential Football: Man Utd's malaise and chaos at the Bridge\" class=\"promotion-panel__image\" src=\"https://e3.365dm.com/22/08/1024x768/skysports-jesus-ronaldo-graphic_5865099.jpg?20220815082422\"/>\n",
            "https://e3.365dm.com/22/08/1024x768/skysports-jesus-ronaldo-graphic_5865099.jpg?20220815082422\n",
            "<img alt=\"Sky Sports Channel Logo\" class=\"svg-logo__image\" onerror=\"this.onerror=null;this.src='https://e1.365dm.com/tvlogos/channels/Sky-Sports-Logo.png'\" src=\"https://e1.365dm.com/tvlogos/channels/Sky-Sports-Logo.svg\"/>\n",
            "https://e1.365dm.com/tvlogos/channels/Sky-Sports-Logo.svg\n"
          ]
        }
      ],
      "source": [
        "for link in soup.find_all('img'):# in html image is represented by the tag <img>\n",
        "    print(link)\n",
        "    print(link.get('src'))"
      ]
    },
    {
      "cell_type": "markdown",
      "metadata": {
        "id": "cwLQPsV--4mE"
      },
      "source": [
        "## Scrape data from HTML tables\n"
      ]
    },
    {
      "cell_type": "code",
      "execution_count": 157,
      "metadata": {
        "id": "LWoMhEpQ-4mE"
      },
      "outputs": [],
      "source": [
        "#The below url contains an html table with data about colors and color codes.\n",
        "url = \"https://cf-courses-data.s3.us.cloud-object-storage.appdomain.cloud/IBM-DA0321EN-SkillsNetwork/labs/datasets/HTMLColorCodes.html\""
      ]
    },
    {
      "cell_type": "markdown",
      "metadata": {
        "id": "yP3GI9vO-4mF"
      },
      "source": [
        "Before proceeding to scrape a web site, you need to examine the contents, and the way data is organized on the website. Open the above url in your browser and check how many rows and columns are there in the color table.\n"
      ]
    },
    {
      "cell_type": "code",
      "execution_count": 158,
      "metadata": {
        "id": "C7Wu5jDt-4mF"
      },
      "outputs": [],
      "source": [
        "# get the contents of the webpage in text format and store in a variable called data\n",
        "data  = requests.get(url).text"
      ]
    },
    {
      "cell_type": "code",
      "execution_count": 159,
      "metadata": {
        "id": "XsIMTI2o-4mF"
      },
      "outputs": [],
      "source": [
        "soup = BeautifulSoup(data,\"html.parser\")"
      ]
    },
    {
      "cell_type": "code",
      "execution_count": 160,
      "metadata": {
        "id": "EaddLnHc-4mF"
      },
      "outputs": [],
      "source": [
        "#find a html table in the web page\n",
        "table = soup.find('table') # in html table is represented by the tag <table>"
      ]
    },
    {
      "cell_type": "code",
      "execution_count": 162,
      "metadata": {
        "colab": {
          "base_uri": "https://localhost:8080/"
        },
        "id": "73bU2KPb-4mF",
        "outputId": "b1a5e58c-4cbd-4cab-bd40-47a208f6d86a"
      },
      "outputs": [
        {
          "output_type": "stream",
          "name": "stdout",
          "text": [
            "Color Name--->None\n",
            "lightsalmon--->#FFA07A\n",
            "salmon--->#FA8072\n",
            "darksalmon--->#E9967A\n",
            "lightcoral--->#F08080\n",
            "coral--->#FF7F50\n",
            "tomato--->#FF6347\n",
            "orangered--->#FF4500\n",
            "gold--->#FFD700\n",
            "orange--->#FFA500\n",
            "darkorange--->#FF8C00\n",
            "lightyellow--->#FFFFE0\n",
            "lemonchiffon--->#FFFACD\n",
            "papayawhip--->#FFEFD5\n",
            "moccasin--->#FFE4B5\n",
            "peachpuff--->#FFDAB9\n",
            "palegoldenrod--->#EEE8AA\n",
            "khaki--->#F0E68C\n",
            "darkkhaki--->#BDB76B\n",
            "yellow--->#FFFF00\n",
            "lawngreen--->#7CFC00\n",
            "chartreuse--->#7FFF00\n",
            "limegreen--->#32CD32\n",
            "lime--->#00FF00\n",
            "forestgreen--->#228B22\n",
            "green--->#008000\n",
            "powderblue--->#B0E0E6\n",
            "lightblue--->#ADD8E6\n",
            "lightskyblue--->#87CEFA\n",
            "skyblue--->#87CEEB\n",
            "deepskyblue--->#00BFFF\n",
            "lightsteelblue--->#B0C4DE\n",
            "dodgerblue--->#1E90FF\n"
          ]
        }
      ],
      "source": [
        "#Get all rows from the table\n",
        "for row in table.find_all('tr'): # in html table row is represented by the tag <tr>\n",
        "    # Get all columns in each row.\n",
        "    cols = row.find_all('td') # in html a column is represented by the tag <td>\n",
        "    color_name = cols[2].string # store the value in column 3 as color_name\n",
        "    color_code = cols[3].string # store the value in column 4 as color_code\n",
        "    print(\"{}--->{}\".format(color_name,color_code))"
      ]
    },
    {
      "cell_type": "markdown",
      "metadata": {
        "id": "JbkV7iEA-4mF"
      },
      "source": [
        "## Scrape data from HTML tables into a DataFrame using BeautifulSoup and Pandas\n"
      ]
    },
    {
      "cell_type": "code",
      "execution_count": 163,
      "metadata": {
        "id": "V3jmkdM9-4mF"
      },
      "outputs": [],
      "source": [
        "import pandas as pd"
      ]
    },
    {
      "cell_type": "code",
      "execution_count": 170,
      "metadata": {
        "id": "Cm6yFtyH-4mF"
      },
      "outputs": [],
      "source": [
        "#The below url contains html tables with data about world population.\n",
        "#url = \"https://en.wikipedia.org/wiki/World_population\"\n",
        "url=\"https://www.skysports.com/football/tables\""
      ]
    },
    {
      "cell_type": "markdown",
      "metadata": {
        "id": "hKjQD4LB-4mF"
      },
      "source": [
        "Before proceeding to scrape a web site, you need to examine the contents, and the way data is organized on the website. Open the above url in your browser and check the tables on the webpage.\n"
      ]
    },
    {
      "cell_type": "code",
      "execution_count": 171,
      "metadata": {
        "id": "0Y1YT0gv-4mF"
      },
      "outputs": [],
      "source": [
        "# get the contents of the webpage in text format and store in a variable called data\n",
        "data  = requests.get(url).text"
      ]
    },
    {
      "cell_type": "code",
      "execution_count": 172,
      "metadata": {
        "id": "RIoSPX2N-4mG"
      },
      "outputs": [],
      "source": [
        "soup = BeautifulSoup(data,\"html.parser\")"
      ]
    },
    {
      "cell_type": "code",
      "execution_count": 173,
      "metadata": {
        "id": "Z0VmHb95-4mG"
      },
      "outputs": [],
      "source": [
        "#find all html tables in the web page\n",
        "tables = soup.find_all('table') # in html table is represented by the tag <table>"
      ]
    },
    {
      "cell_type": "code",
      "execution_count": 174,
      "metadata": {
        "colab": {
          "base_uri": "https://localhost:8080/"
        },
        "id": "gh-kjL3j-4mG",
        "outputId": "2ff2ee23-d3c3-4ad9-cd4b-7083a8ae5add"
      },
      "outputs": [
        {
          "output_type": "execute_result",
          "data": {
            "text/plain": [
              "32"
            ]
          },
          "metadata": {},
          "execution_count": 174
        }
      ],
      "source": [
        "# we can see how many tables were found by checking the length of the tables list\n",
        "len(tables)"
      ]
    },
    {
      "cell_type": "markdown",
      "metadata": {
        "id": "ND84ENKs-4mG"
      },
      "source": [
        "Assume that we are looking for the `10 most densly populated countries` table, we can look through the tables list and find the right one we are look for based on the data in each table or we can search for the table name if it is in the table but this option might not always work.\n"
      ]
    },
    {
      "cell_type": "code",
      "execution_count": 175,
      "metadata": {
        "colab": {
          "base_uri": "https://localhost:8080/"
        },
        "id": "oJK_Imq5-4mG",
        "outputId": "f1810c37-5d05-489e-b93e-7bba58709995"
      },
      "outputs": [
        {
          "output_type": "stream",
          "name": "stdout",
          "text": [
            "5\n"
          ]
        }
      ],
      "source": [
        "for index,table in enumerate(tables):\n",
        "    if (\"10 most densely populated countries\" in str(table)):\n",
        "        table_index = index\n",
        "print(table_index)"
      ]
    },
    {
      "cell_type": "markdown",
      "metadata": {
        "id": "2sdtnT1R-4mG"
      },
      "source": [
        "See if you can locate the table name of the table, `10 most densly populated countries`, below.\n"
      ]
    },
    {
      "cell_type": "code",
      "execution_count": 176,
      "metadata": {
        "colab": {
          "base_uri": "https://localhost:8080/"
        },
        "id": "gY7KbBPT-4mG",
        "outputId": "cb5c8478-8191-4c9f-a5a3-3ba758de9a43"
      },
      "outputs": [
        {
          "output_type": "stream",
          "name": "stdout",
          "text": [
            "<table class=\"standing-table__table\">\n",
            " <caption class=\"standing-table__caption\">\n",
            "  Scottish Premiership 2022/23\n",
            " </caption>\n",
            " <colgroup class=\"standing-table__cols\">\n",
            "  <col class=\"standing-table__col1\"/>\n",
            "  <col class=\"standing-table__col2\"/>\n",
            "  <col class=\"standing-table__col3\"/>\n",
            "  <col class=\"standing-table__col4\"/>\n",
            "  <col class=\"standing-table__col5\"/>\n",
            " </colgroup>\n",
            " <thead>\n",
            "  <tr class=\"standing-table__row\">\n",
            "   <th class=\"standing-table__cell standing-table__header-cell\" data-label=\"pos\" title=\"Position\">\n",
            "    #\n",
            "   </th>\n",
            "   <th class=\"standing-table__cell standing-table__header-cell standing-table__cell--name\" title=\"Team\">\n",
            "    Team\n",
            "   </th>\n",
            "   <th class=\"standing-table__cell standing-table__header-cell\" data-label=\"pld\" title=\"Played\">\n",
            "    Pl\n",
            "   </th>\n",
            "   <th class=\"standing-table__cell standing-table__header-cell\" data-label=\"gd\" title=\"Goal Difference\">\n",
            "    GD\n",
            "   </th>\n",
            "   <th class=\"standing-table__cell standing-table__header-cell\" data-label=\"pts\" title=\"Points\">\n",
            "    Pts\n",
            "   </th>\n",
            "  </tr>\n",
            " </thead>\n",
            " <tbody>\n",
            "  <tr class=\"standing-table__row\" data-item-id=\"393\">\n",
            "   <td class=\"standing-table__cell\">\n",
            "    1\n",
            "   </td>\n",
            "   <td class=\"standing-table__cell standing-table__cell--name\">\n",
            "    Celtic\n",
            "   </td>\n",
            "   <td class=\"standing-table__cell\">\n",
            "    3\n",
            "   </td>\n",
            "   <td class=\"standing-table__cell\">\n",
            "    9\n",
            "   </td>\n",
            "   <td class=\"standing-table__cell\">\n",
            "    9\n",
            "   </td>\n",
            "  </tr>\n",
            "  <tr class=\"standing-table__row\" data-item-id=\"245\">\n",
            "   <td class=\"standing-table__cell\">\n",
            "    2\n",
            "   </td>\n",
            "   <td class=\"standing-table__cell standing-table__cell--name\">\n",
            "    Rangers\n",
            "   </td>\n",
            "   <td class=\"standing-table__cell\">\n",
            "    3\n",
            "   </td>\n",
            "   <td class=\"standing-table__cell\">\n",
            "    7\n",
            "   </td>\n",
            "   <td class=\"standing-table__cell\">\n",
            "    9\n",
            "   </td>\n",
            "  </tr>\n",
            "  <tr class=\"standing-table__row\" data-item-id=\"265\">\n",
            "   <td class=\"standing-table__cell\">\n",
            "    3\n",
            "   </td>\n",
            "   <td class=\"standing-table__cell standing-table__cell--name\">\n",
            "    Hearts\n",
            "   </td>\n",
            "   <td class=\"standing-table__cell\">\n",
            "    3\n",
            "   </td>\n",
            "   <td class=\"standing-table__cell\">\n",
            "    4\n",
            "   </td>\n",
            "   <td class=\"standing-table__cell\">\n",
            "    7\n",
            "   </td>\n",
            "  </tr>\n",
            "  <tr class=\"standing-table__row\" data-item-id=\"327\">\n",
            "   <td class=\"standing-table__cell\">\n",
            "    4\n",
            "   </td>\n",
            "   <td class=\"standing-table__cell standing-table__cell--name\">\n",
            "    Motherwell\n",
            "   </td>\n",
            "   <td class=\"standing-table__cell\">\n",
            "    3\n",
            "   </td>\n",
            "   <td class=\"standing-table__cell\">\n",
            "    1\n",
            "   </td>\n",
            "   <td class=\"standing-table__cell\">\n",
            "    6\n",
            "   </td>\n",
            "  </tr>\n",
            "  <tr class=\"standing-table__row\" data-item-id=\"580\">\n",
            "   <td class=\"standing-table__cell\">\n",
            "    5\n",
            "   </td>\n",
            "   <td class=\"standing-table__cell standing-table__cell--name\">\n",
            "    Livingston\n",
            "   </td>\n",
            "   <td class=\"standing-table__cell\">\n",
            "    3\n",
            "   </td>\n",
            "   <td class=\"standing-table__cell\">\n",
            "    1\n",
            "   </td>\n",
            "   <td class=\"standing-table__cell\">\n",
            "    6\n",
            "   </td>\n",
            "  </tr>\n",
            " </tbody>\n",
            "</table>\n",
            "\n"
          ]
        }
      ],
      "source": [
        "print(tables[table_index].prettify())"
      ]
    },
    {
      "cell_type": "code",
      "source": [
        "for index,table in enumerate(tables):\n",
        "    if (\"10 most densely populated countries\" in str(table)):\n",
        "        table_index = index\n",
        "print(table_index)"
      ],
      "metadata": {
        "colab": {
          "base_uri": "https://localhost:8080/"
        },
        "id": "_r_XysHsNxAM",
        "outputId": "758fc6e3-86fd-4932-f699-9a495c988b2a"
      },
      "execution_count": 177,
      "outputs": [
        {
          "output_type": "stream",
          "name": "stdout",
          "text": [
            "5\n"
          ]
        }
      ]
    },
    {
      "cell_type": "code",
      "execution_count": 179,
      "metadata": {
        "colab": {
          "base_uri": "https://localhost:8080/",
          "height": 206
        },
        "id": "SO2UxLZh-4mG",
        "outputId": "bc465998-5853-4185-d58c-fb599ebe2da5"
      },
      "outputs": [
        {
          "output_type": "execute_result",
          "data": {
            "text/plain": [
              "  Rank     Country Population Area Density USTA HASAN HUSEYIN\n",
              "0    1      Celtic          3    9       9  NaN   NaN     NaN\n",
              "1    2     Rangers          3    7       9  NaN   NaN     NaN\n",
              "2    3      Hearts          3    4       7  NaN   NaN     NaN\n",
              "3    4  Motherwell          3    1       6  NaN   NaN     NaN\n",
              "4    5  Livingston          3    1       6  NaN   NaN     NaN"
            ],
            "text/html": [
              "\n",
              "  <div id=\"df-4d9c93c2-a15f-4615-8447-6f2e33538e0e\">\n",
              "    <div class=\"colab-df-container\">\n",
              "      <div>\n",
              "<style scoped>\n",
              "    .dataframe tbody tr th:only-of-type {\n",
              "        vertical-align: middle;\n",
              "    }\n",
              "\n",
              "    .dataframe tbody tr th {\n",
              "        vertical-align: top;\n",
              "    }\n",
              "\n",
              "    .dataframe thead th {\n",
              "        text-align: right;\n",
              "    }\n",
              "</style>\n",
              "<table border=\"1\" class=\"dataframe\">\n",
              "  <thead>\n",
              "    <tr style=\"text-align: right;\">\n",
              "      <th></th>\n",
              "      <th>Rank</th>\n",
              "      <th>Country</th>\n",
              "      <th>Population</th>\n",
              "      <th>Area</th>\n",
              "      <th>Density</th>\n",
              "      <th>USTA</th>\n",
              "      <th>HASAN</th>\n",
              "      <th>HUSEYIN</th>\n",
              "    </tr>\n",
              "  </thead>\n",
              "  <tbody>\n",
              "    <tr>\n",
              "      <th>0</th>\n",
              "      <td>1</td>\n",
              "      <td>Celtic</td>\n",
              "      <td>3</td>\n",
              "      <td>9</td>\n",
              "      <td>9</td>\n",
              "      <td>NaN</td>\n",
              "      <td>NaN</td>\n",
              "      <td>NaN</td>\n",
              "    </tr>\n",
              "    <tr>\n",
              "      <th>1</th>\n",
              "      <td>2</td>\n",
              "      <td>Rangers</td>\n",
              "      <td>3</td>\n",
              "      <td>7</td>\n",
              "      <td>9</td>\n",
              "      <td>NaN</td>\n",
              "      <td>NaN</td>\n",
              "      <td>NaN</td>\n",
              "    </tr>\n",
              "    <tr>\n",
              "      <th>2</th>\n",
              "      <td>3</td>\n",
              "      <td>Hearts</td>\n",
              "      <td>3</td>\n",
              "      <td>4</td>\n",
              "      <td>7</td>\n",
              "      <td>NaN</td>\n",
              "      <td>NaN</td>\n",
              "      <td>NaN</td>\n",
              "    </tr>\n",
              "    <tr>\n",
              "      <th>3</th>\n",
              "      <td>4</td>\n",
              "      <td>Motherwell</td>\n",
              "      <td>3</td>\n",
              "      <td>1</td>\n",
              "      <td>6</td>\n",
              "      <td>NaN</td>\n",
              "      <td>NaN</td>\n",
              "      <td>NaN</td>\n",
              "    </tr>\n",
              "    <tr>\n",
              "      <th>4</th>\n",
              "      <td>5</td>\n",
              "      <td>Livingston</td>\n",
              "      <td>3</td>\n",
              "      <td>1</td>\n",
              "      <td>6</td>\n",
              "      <td>NaN</td>\n",
              "      <td>NaN</td>\n",
              "      <td>NaN</td>\n",
              "    </tr>\n",
              "  </tbody>\n",
              "</table>\n",
              "</div>\n",
              "      <button class=\"colab-df-convert\" onclick=\"convertToInteractive('df-4d9c93c2-a15f-4615-8447-6f2e33538e0e')\"\n",
              "              title=\"Convert this dataframe to an interactive table.\"\n",
              "              style=\"display:none;\">\n",
              "        \n",
              "  <svg xmlns=\"http://www.w3.org/2000/svg\" height=\"24px\"viewBox=\"0 0 24 24\"\n",
              "       width=\"24px\">\n",
              "    <path d=\"M0 0h24v24H0V0z\" fill=\"none\"/>\n",
              "    <path d=\"M18.56 5.44l.94 2.06.94-2.06 2.06-.94-2.06-.94-.94-2.06-.94 2.06-2.06.94zm-11 1L8.5 8.5l.94-2.06 2.06-.94-2.06-.94L8.5 2.5l-.94 2.06-2.06.94zm10 10l.94 2.06.94-2.06 2.06-.94-2.06-.94-.94-2.06-.94 2.06-2.06.94z\"/><path d=\"M17.41 7.96l-1.37-1.37c-.4-.4-.92-.59-1.43-.59-.52 0-1.04.2-1.43.59L10.3 9.45l-7.72 7.72c-.78.78-.78 2.05 0 2.83L4 21.41c.39.39.9.59 1.41.59.51 0 1.02-.2 1.41-.59l7.78-7.78 2.81-2.81c.8-.78.8-2.07 0-2.86zM5.41 20L4 18.59l7.72-7.72 1.47 1.35L5.41 20z\"/>\n",
              "  </svg>\n",
              "      </button>\n",
              "      \n",
              "  <style>\n",
              "    .colab-df-container {\n",
              "      display:flex;\n",
              "      flex-wrap:wrap;\n",
              "      gap: 12px;\n",
              "    }\n",
              "\n",
              "    .colab-df-convert {\n",
              "      background-color: #E8F0FE;\n",
              "      border: none;\n",
              "      border-radius: 50%;\n",
              "      cursor: pointer;\n",
              "      display: none;\n",
              "      fill: #1967D2;\n",
              "      height: 32px;\n",
              "      padding: 0 0 0 0;\n",
              "      width: 32px;\n",
              "    }\n",
              "\n",
              "    .colab-df-convert:hover {\n",
              "      background-color: #E2EBFA;\n",
              "      box-shadow: 0px 1px 2px rgba(60, 64, 67, 0.3), 0px 1px 3px 1px rgba(60, 64, 67, 0.15);\n",
              "      fill: #174EA6;\n",
              "    }\n",
              "\n",
              "    [theme=dark] .colab-df-convert {\n",
              "      background-color: #3B4455;\n",
              "      fill: #D2E3FC;\n",
              "    }\n",
              "\n",
              "    [theme=dark] .colab-df-convert:hover {\n",
              "      background-color: #434B5C;\n",
              "      box-shadow: 0px 1px 3px 1px rgba(0, 0, 0, 0.15);\n",
              "      filter: drop-shadow(0px 1px 2px rgba(0, 0, 0, 0.3));\n",
              "      fill: #FFFFFF;\n",
              "    }\n",
              "  </style>\n",
              "\n",
              "      <script>\n",
              "        const buttonEl =\n",
              "          document.querySelector('#df-4d9c93c2-a15f-4615-8447-6f2e33538e0e button.colab-df-convert');\n",
              "        buttonEl.style.display =\n",
              "          google.colab.kernel.accessAllowed ? 'block' : 'none';\n",
              "\n",
              "        async function convertToInteractive(key) {\n",
              "          const element = document.querySelector('#df-4d9c93c2-a15f-4615-8447-6f2e33538e0e');\n",
              "          const dataTable =\n",
              "            await google.colab.kernel.invokeFunction('convertToInteractive',\n",
              "                                                     [key], {});\n",
              "          if (!dataTable) return;\n",
              "\n",
              "          const docLinkHtml = 'Like what you see? Visit the ' +\n",
              "            '<a target=\"_blank\" href=https://colab.research.google.com/notebooks/data_table.ipynb>data table notebook</a>'\n",
              "            + ' to learn more about interactive tables.';\n",
              "          element.innerHTML = '';\n",
              "          dataTable['output_type'] = 'display_data';\n",
              "          await google.colab.output.renderOutput(dataTable, element);\n",
              "          const docLink = document.createElement('div');\n",
              "          docLink.innerHTML = docLinkHtml;\n",
              "          element.appendChild(docLink);\n",
              "        }\n",
              "      </script>\n",
              "    </div>\n",
              "  </div>\n",
              "  "
            ]
          },
          "metadata": {},
          "execution_count": 179
        }
      ],
      "source": [
        "population_data = pd.DataFrame(columns=[\"Rank\", \"Country\", \"Population\", \"Area\", \"Density\",\"USTA\",\"HASAN\",\"HUSEYIN\"])\n",
        "\n",
        "for row in tables[table_index].tbody.find_all(\"tr\"):\n",
        "    col = row.find_all(\"td\")\n",
        "    if (col != []):\n",
        "        rank = col[0].text\n",
        "        country = col[1].text\n",
        "        population = col[2].text.strip()\n",
        "        area = col[3].text.strip()\n",
        "        density = col[4].text.strip()\n",
        "        population_data = population_data.append({\"Rank\":rank, \"Country\":country, \"Population\":population, \"Area\":area, \"Density\":density}, ignore_index=True)\n",
        "\n",
        "population_data"
      ]
    },
    {
      "cell_type": "markdown",
      "metadata": {
        "id": "U699EBSu-4mG"
      },
      "source": [
        "## Scrape data from HTML tables into a DataFrame using BeautifulSoup and read_html\n"
      ]
    },
    {
      "cell_type": "markdown",
      "metadata": {
        "id": "9dps0Eid-4mG"
      },
      "source": [
        "Using the same `url`, `data`, `soup`, and `tables` object as in the last section we can use the `read_html` function to create a DataFrame.\n",
        "\n",
        "Remember the table we need is located in `tables[table_index]`\n",
        "\n",
        "We can now use the `pandas` function `read_html` and give it the string version of the table as well as the `flavor` which is the parsing engine `bs4`.\n"
      ]
    },
    {
      "cell_type": "code",
      "execution_count": 180,
      "metadata": {
        "colab": {
          "base_uri": "https://localhost:8080/"
        },
        "id": "xu_Lv4mp-4mG",
        "outputId": "db653e9f-c7db-4b11-bceb-a73cfaf6f512"
      },
      "outputs": [
        {
          "output_type": "execute_result",
          "data": {
            "text/plain": [
              "[   #        Team  Pl  GD  Pts\n",
              " 0  1      Celtic   3   9    9\n",
              " 1  2     Rangers   3   7    9\n",
              " 2  3      Hearts   3   4    7\n",
              " 3  4  Motherwell   3   1    6\n",
              " 4  5  Livingston   3   1    6]"
            ]
          },
          "metadata": {},
          "execution_count": 180
        }
      ],
      "source": [
        "pd.read_html(str(tables[5]), flavor='bs4')"
      ]
    },
    {
      "cell_type": "markdown",
      "metadata": {
        "id": "l4KfGBD2-4mG"
      },
      "source": [
        "The function `read_html` always returns a list of DataFrames so we must pick the one we want out of the list.\n"
      ]
    },
    {
      "cell_type": "code",
      "execution_count": 181,
      "metadata": {
        "colab": {
          "base_uri": "https://localhost:8080/",
          "height": 206
        },
        "id": "r9GK1gR4-4mG",
        "outputId": "6f5475b8-42a5-4945-9812-720612a3bed4"
      },
      "outputs": [
        {
          "output_type": "execute_result",
          "data": {
            "text/plain": [
              "   #        Team  Pl  GD  Pts\n",
              "0  1      Celtic   3   9    9\n",
              "1  2     Rangers   3   7    9\n",
              "2  3      Hearts   3   4    7\n",
              "3  4  Motherwell   3   1    6\n",
              "4  5  Livingston   3   1    6"
            ],
            "text/html": [
              "\n",
              "  <div id=\"df-51243189-1201-4599-920e-898d19a35dca\">\n",
              "    <div class=\"colab-df-container\">\n",
              "      <div>\n",
              "<style scoped>\n",
              "    .dataframe tbody tr th:only-of-type {\n",
              "        vertical-align: middle;\n",
              "    }\n",
              "\n",
              "    .dataframe tbody tr th {\n",
              "        vertical-align: top;\n",
              "    }\n",
              "\n",
              "    .dataframe thead th {\n",
              "        text-align: right;\n",
              "    }\n",
              "</style>\n",
              "<table border=\"1\" class=\"dataframe\">\n",
              "  <thead>\n",
              "    <tr style=\"text-align: right;\">\n",
              "      <th></th>\n",
              "      <th>#</th>\n",
              "      <th>Team</th>\n",
              "      <th>Pl</th>\n",
              "      <th>GD</th>\n",
              "      <th>Pts</th>\n",
              "    </tr>\n",
              "  </thead>\n",
              "  <tbody>\n",
              "    <tr>\n",
              "      <th>0</th>\n",
              "      <td>1</td>\n",
              "      <td>Celtic</td>\n",
              "      <td>3</td>\n",
              "      <td>9</td>\n",
              "      <td>9</td>\n",
              "    </tr>\n",
              "    <tr>\n",
              "      <th>1</th>\n",
              "      <td>2</td>\n",
              "      <td>Rangers</td>\n",
              "      <td>3</td>\n",
              "      <td>7</td>\n",
              "      <td>9</td>\n",
              "    </tr>\n",
              "    <tr>\n",
              "      <th>2</th>\n",
              "      <td>3</td>\n",
              "      <td>Hearts</td>\n",
              "      <td>3</td>\n",
              "      <td>4</td>\n",
              "      <td>7</td>\n",
              "    </tr>\n",
              "    <tr>\n",
              "      <th>3</th>\n",
              "      <td>4</td>\n",
              "      <td>Motherwell</td>\n",
              "      <td>3</td>\n",
              "      <td>1</td>\n",
              "      <td>6</td>\n",
              "    </tr>\n",
              "    <tr>\n",
              "      <th>4</th>\n",
              "      <td>5</td>\n",
              "      <td>Livingston</td>\n",
              "      <td>3</td>\n",
              "      <td>1</td>\n",
              "      <td>6</td>\n",
              "    </tr>\n",
              "  </tbody>\n",
              "</table>\n",
              "</div>\n",
              "      <button class=\"colab-df-convert\" onclick=\"convertToInteractive('df-51243189-1201-4599-920e-898d19a35dca')\"\n",
              "              title=\"Convert this dataframe to an interactive table.\"\n",
              "              style=\"display:none;\">\n",
              "        \n",
              "  <svg xmlns=\"http://www.w3.org/2000/svg\" height=\"24px\"viewBox=\"0 0 24 24\"\n",
              "       width=\"24px\">\n",
              "    <path d=\"M0 0h24v24H0V0z\" fill=\"none\"/>\n",
              "    <path d=\"M18.56 5.44l.94 2.06.94-2.06 2.06-.94-2.06-.94-.94-2.06-.94 2.06-2.06.94zm-11 1L8.5 8.5l.94-2.06 2.06-.94-2.06-.94L8.5 2.5l-.94 2.06-2.06.94zm10 10l.94 2.06.94-2.06 2.06-.94-2.06-.94-.94-2.06-.94 2.06-2.06.94z\"/><path d=\"M17.41 7.96l-1.37-1.37c-.4-.4-.92-.59-1.43-.59-.52 0-1.04.2-1.43.59L10.3 9.45l-7.72 7.72c-.78.78-.78 2.05 0 2.83L4 21.41c.39.39.9.59 1.41.59.51 0 1.02-.2 1.41-.59l7.78-7.78 2.81-2.81c.8-.78.8-2.07 0-2.86zM5.41 20L4 18.59l7.72-7.72 1.47 1.35L5.41 20z\"/>\n",
              "  </svg>\n",
              "      </button>\n",
              "      \n",
              "  <style>\n",
              "    .colab-df-container {\n",
              "      display:flex;\n",
              "      flex-wrap:wrap;\n",
              "      gap: 12px;\n",
              "    }\n",
              "\n",
              "    .colab-df-convert {\n",
              "      background-color: #E8F0FE;\n",
              "      border: none;\n",
              "      border-radius: 50%;\n",
              "      cursor: pointer;\n",
              "      display: none;\n",
              "      fill: #1967D2;\n",
              "      height: 32px;\n",
              "      padding: 0 0 0 0;\n",
              "      width: 32px;\n",
              "    }\n",
              "\n",
              "    .colab-df-convert:hover {\n",
              "      background-color: #E2EBFA;\n",
              "      box-shadow: 0px 1px 2px rgba(60, 64, 67, 0.3), 0px 1px 3px 1px rgba(60, 64, 67, 0.15);\n",
              "      fill: #174EA6;\n",
              "    }\n",
              "\n",
              "    [theme=dark] .colab-df-convert {\n",
              "      background-color: #3B4455;\n",
              "      fill: #D2E3FC;\n",
              "    }\n",
              "\n",
              "    [theme=dark] .colab-df-convert:hover {\n",
              "      background-color: #434B5C;\n",
              "      box-shadow: 0px 1px 3px 1px rgba(0, 0, 0, 0.15);\n",
              "      filter: drop-shadow(0px 1px 2px rgba(0, 0, 0, 0.3));\n",
              "      fill: #FFFFFF;\n",
              "    }\n",
              "  </style>\n",
              "\n",
              "      <script>\n",
              "        const buttonEl =\n",
              "          document.querySelector('#df-51243189-1201-4599-920e-898d19a35dca button.colab-df-convert');\n",
              "        buttonEl.style.display =\n",
              "          google.colab.kernel.accessAllowed ? 'block' : 'none';\n",
              "\n",
              "        async function convertToInteractive(key) {\n",
              "          const element = document.querySelector('#df-51243189-1201-4599-920e-898d19a35dca');\n",
              "          const dataTable =\n",
              "            await google.colab.kernel.invokeFunction('convertToInteractive',\n",
              "                                                     [key], {});\n",
              "          if (!dataTable) return;\n",
              "\n",
              "          const docLinkHtml = 'Like what you see? Visit the ' +\n",
              "            '<a target=\"_blank\" href=https://colab.research.google.com/notebooks/data_table.ipynb>data table notebook</a>'\n",
              "            + ' to learn more about interactive tables.';\n",
              "          element.innerHTML = '';\n",
              "          dataTable['output_type'] = 'display_data';\n",
              "          await google.colab.output.renderOutput(dataTable, element);\n",
              "          const docLink = document.createElement('div');\n",
              "          docLink.innerHTML = docLinkHtml;\n",
              "          element.appendChild(docLink);\n",
              "        }\n",
              "      </script>\n",
              "    </div>\n",
              "  </div>\n",
              "  "
            ]
          },
          "metadata": {},
          "execution_count": 181
        }
      ],
      "source": [
        "population_data_read_html = pd.read_html(str(tables[5]), flavor='bs4')[0]\n",
        "\n",
        "population_data_read_html"
      ]
    },
    {
      "cell_type": "markdown",
      "metadata": {
        "id": "bbmkxcF_-4mH"
      },
      "source": [
        "## Scrape data from HTML tables into a DataFrame using read_html\n"
      ]
    },
    {
      "cell_type": "markdown",
      "metadata": {
        "id": "0Yu6zEXw-4mH"
      },
      "source": [
        "We can also use the `read_html` function to directly get DataFrames from a `url`.\n"
      ]
    },
    {
      "cell_type": "markdown",
      "metadata": {
        "id": "mt6WAjfB-4mH"
      },
      "source": [
        "We can see there are 25 DataFrames just like when we used `find_all` on the `soup` object.\n"
      ]
    },
    {
      "cell_type": "code",
      "source": [
        ""
      ],
      "metadata": {
        "id": "E1BUK0gJUC1R"
      },
      "execution_count": 181,
      "outputs": []
    },
    {
      "cell_type": "code",
      "execution_count": 182,
      "metadata": {
        "colab": {
          "base_uri": "https://localhost:8080/",
          "height": 171
        },
        "id": "gVgbw29a-4mH",
        "outputId": "ae1c4c7a-eea3-4720-9a0a-15c50b99c835"
      },
      "outputs": [
        {
          "output_type": "error",
          "ename": "NameError",
          "evalue": "ignored",
          "traceback": [
            "\u001b[0;31m---------------------------------------------------------------------------\u001b[0m",
            "\u001b[0;31mNameError\u001b[0m                                 Traceback (most recent call last)",
            "\u001b[0;32m<ipython-input-182-d1ccdd4eda74>\u001b[0m in \u001b[0;36m<module>\u001b[0;34m()\u001b[0m\n\u001b[0;32m----> 1\u001b[0;31m \u001b[0mlen\u001b[0m\u001b[0;34m(\u001b[0m\u001b[0mdataframe_list\u001b[0m\u001b[0;34m)\u001b[0m\u001b[0;34m\u001b[0m\u001b[0;34m\u001b[0m\u001b[0m\n\u001b[0m",
            "\u001b[0;31mNameError\u001b[0m: name 'dataframe_list' is not defined"
          ]
        }
      ],
      "source": [
        "len(dataframe_list)"
      ]
    },
    {
      "cell_type": "markdown",
      "metadata": {
        "id": "sFqN2hbE-4mH"
      },
      "source": [
        "Finally we can pick the DataFrame we need out of the list.\n"
      ]
    },
    {
      "cell_type": "code",
      "execution_count": 183,
      "metadata": {
        "colab": {
          "base_uri": "https://localhost:8080/",
          "height": 171
        },
        "id": "veGkR8ia-4mH",
        "outputId": "edded5f6-0b7d-4074-d46d-04840308c12c"
      },
      "outputs": [
        {
          "output_type": "error",
          "ename": "NameError",
          "evalue": "ignored",
          "traceback": [
            "\u001b[0;31m---------------------------------------------------------------------------\u001b[0m",
            "\u001b[0;31mNameError\u001b[0m                                 Traceback (most recent call last)",
            "\u001b[0;32m<ipython-input-183-e48a8d43f59b>\u001b[0m in \u001b[0;36m<module>\u001b[0;34m()\u001b[0m\n\u001b[0;32m----> 1\u001b[0;31m \u001b[0mdataframe_list\u001b[0m\u001b[0;34m[\u001b[0m\u001b[0;36m5\u001b[0m\u001b[0;34m]\u001b[0m\u001b[0;34m\u001b[0m\u001b[0;34m\u001b[0m\u001b[0m\n\u001b[0m",
            "\u001b[0;31mNameError\u001b[0m: name 'dataframe_list' is not defined"
          ]
        }
      ],
      "source": [
        "dataframe_list[5]"
      ]
    },
    {
      "cell_type": "markdown",
      "metadata": {
        "id": "Y7Et6e91-4mH"
      },
      "source": [
        "We can also use the `match` parameter to select the specific table we want. If the table contains a string matching the text it will be read.\n"
      ]
    },
    {
      "cell_type": "code",
      "execution_count": 184,
      "metadata": {
        "colab": {
          "base_uri": "https://localhost:8080/",
          "height": 323
        },
        "id": "_Vp7cknZ-4mH",
        "outputId": "6acaf6ea-548a-4d08-ac24-058c01add26f"
      },
      "outputs": [
        {
          "output_type": "error",
          "ename": "ValueError",
          "evalue": "ignored",
          "traceback": [
            "\u001b[0;31m---------------------------------------------------------------------------\u001b[0m",
            "\u001b[0;31mValueError\u001b[0m                                Traceback (most recent call last)",
            "\u001b[0;32m<ipython-input-184-130c1e1a6ce9>\u001b[0m in \u001b[0;36m<module>\u001b[0;34m()\u001b[0m\n\u001b[0;32m----> 1\u001b[0;31m \u001b[0mpd\u001b[0m\u001b[0;34m.\u001b[0m\u001b[0mread_html\u001b[0m\u001b[0;34m(\u001b[0m\u001b[0murl\u001b[0m\u001b[0;34m,\u001b[0m \u001b[0mmatch\u001b[0m\u001b[0;34m=\u001b[0m\u001b[0;34m\"10 most densely populated countries\"\u001b[0m\u001b[0;34m,\u001b[0m \u001b[0mflavor\u001b[0m\u001b[0;34m=\u001b[0m\u001b[0;34m'bs4'\u001b[0m\u001b[0;34m)\u001b[0m\u001b[0;34m[\u001b[0m\u001b[0;36m0\u001b[0m\u001b[0;34m]\u001b[0m\u001b[0;34m\u001b[0m\u001b[0;34m\u001b[0m\u001b[0m\n\u001b[0m",
            "\u001b[0;32m/usr/local/lib/python3.7/dist-packages/pandas/util/_decorators.py\u001b[0m in \u001b[0;36mwrapper\u001b[0;34m(*args, **kwargs)\u001b[0m\n\u001b[1;32m    309\u001b[0m                     \u001b[0mstacklevel\u001b[0m\u001b[0;34m=\u001b[0m\u001b[0mstacklevel\u001b[0m\u001b[0;34m,\u001b[0m\u001b[0;34m\u001b[0m\u001b[0;34m\u001b[0m\u001b[0m\n\u001b[1;32m    310\u001b[0m                 )\n\u001b[0;32m--> 311\u001b[0;31m             \u001b[0;32mreturn\u001b[0m \u001b[0mfunc\u001b[0m\u001b[0;34m(\u001b[0m\u001b[0;34m*\u001b[0m\u001b[0margs\u001b[0m\u001b[0;34m,\u001b[0m \u001b[0;34m**\u001b[0m\u001b[0mkwargs\u001b[0m\u001b[0;34m)\u001b[0m\u001b[0;34m\u001b[0m\u001b[0;34m\u001b[0m\u001b[0m\n\u001b[0m\u001b[1;32m    312\u001b[0m \u001b[0;34m\u001b[0m\u001b[0m\n\u001b[1;32m    313\u001b[0m         \u001b[0;32mreturn\u001b[0m \u001b[0mwrapper\u001b[0m\u001b[0;34m\u001b[0m\u001b[0;34m\u001b[0m\u001b[0m\n",
            "\u001b[0;32m/usr/local/lib/python3.7/dist-packages/pandas/io/html.py\u001b[0m in \u001b[0;36mread_html\u001b[0;34m(io, match, flavor, header, index_col, skiprows, attrs, parse_dates, thousands, encoding, decimal, converters, na_values, keep_default_na, displayed_only)\u001b[0m\n\u001b[1;32m   1111\u001b[0m         \u001b[0mna_values\u001b[0m\u001b[0;34m=\u001b[0m\u001b[0mna_values\u001b[0m\u001b[0;34m,\u001b[0m\u001b[0;34m\u001b[0m\u001b[0;34m\u001b[0m\u001b[0m\n\u001b[1;32m   1112\u001b[0m         \u001b[0mkeep_default_na\u001b[0m\u001b[0;34m=\u001b[0m\u001b[0mkeep_default_na\u001b[0m\u001b[0;34m,\u001b[0m\u001b[0;34m\u001b[0m\u001b[0;34m\u001b[0m\u001b[0m\n\u001b[0;32m-> 1113\u001b[0;31m         \u001b[0mdisplayed_only\u001b[0m\u001b[0;34m=\u001b[0m\u001b[0mdisplayed_only\u001b[0m\u001b[0;34m,\u001b[0m\u001b[0;34m\u001b[0m\u001b[0;34m\u001b[0m\u001b[0m\n\u001b[0m\u001b[1;32m   1114\u001b[0m     )\n",
            "\u001b[0;32m/usr/local/lib/python3.7/dist-packages/pandas/io/html.py\u001b[0m in \u001b[0;36m_parse\u001b[0;34m(flavor, io, match, attrs, encoding, displayed_only, **kwargs)\u001b[0m\n\u001b[1;32m    924\u001b[0m     \u001b[0;32melse\u001b[0m\u001b[0;34m:\u001b[0m\u001b[0;34m\u001b[0m\u001b[0;34m\u001b[0m\u001b[0m\n\u001b[1;32m    925\u001b[0m         \u001b[0;32massert\u001b[0m \u001b[0mretained\u001b[0m \u001b[0;32mis\u001b[0m \u001b[0;32mnot\u001b[0m \u001b[0;32mNone\u001b[0m  \u001b[0;31m# for mypy\u001b[0m\u001b[0;34m\u001b[0m\u001b[0;34m\u001b[0m\u001b[0m\n\u001b[0;32m--> 926\u001b[0;31m         \u001b[0;32mraise\u001b[0m \u001b[0mretained\u001b[0m\u001b[0;34m\u001b[0m\u001b[0;34m\u001b[0m\u001b[0m\n\u001b[0m\u001b[1;32m    927\u001b[0m \u001b[0;34m\u001b[0m\u001b[0m\n\u001b[1;32m    928\u001b[0m     \u001b[0mret\u001b[0m \u001b[0;34m=\u001b[0m \u001b[0;34m[\u001b[0m\u001b[0;34m]\u001b[0m\u001b[0;34m\u001b[0m\u001b[0;34m\u001b[0m\u001b[0m\n",
            "\u001b[0;32m/usr/local/lib/python3.7/dist-packages/pandas/io/html.py\u001b[0m in \u001b[0;36m_parse\u001b[0;34m(flavor, io, match, attrs, encoding, displayed_only, **kwargs)\u001b[0m\n\u001b[1;32m    904\u001b[0m \u001b[0;34m\u001b[0m\u001b[0m\n\u001b[1;32m    905\u001b[0m         \u001b[0;32mtry\u001b[0m\u001b[0;34m:\u001b[0m\u001b[0;34m\u001b[0m\u001b[0;34m\u001b[0m\u001b[0m\n\u001b[0;32m--> 906\u001b[0;31m             \u001b[0mtables\u001b[0m \u001b[0;34m=\u001b[0m \u001b[0mp\u001b[0m\u001b[0;34m.\u001b[0m\u001b[0mparse_tables\u001b[0m\u001b[0;34m(\u001b[0m\u001b[0;34m)\u001b[0m\u001b[0;34m\u001b[0m\u001b[0;34m\u001b[0m\u001b[0m\n\u001b[0m\u001b[1;32m    907\u001b[0m         \u001b[0;32mexcept\u001b[0m \u001b[0mValueError\u001b[0m \u001b[0;32mas\u001b[0m \u001b[0mcaught\u001b[0m\u001b[0;34m:\u001b[0m\u001b[0;34m\u001b[0m\u001b[0;34m\u001b[0m\u001b[0m\n\u001b[1;32m    908\u001b[0m             \u001b[0;31m# if `io` is an io-like object, check if it's seekable\u001b[0m\u001b[0;34m\u001b[0m\u001b[0;34m\u001b[0m\u001b[0;34m\u001b[0m\u001b[0m\n",
            "\u001b[0;32m/usr/local/lib/python3.7/dist-packages/pandas/io/html.py\u001b[0m in \u001b[0;36mparse_tables\u001b[0;34m(self)\u001b[0m\n\u001b[1;32m    220\u001b[0m         \u001b[0mlist\u001b[0m \u001b[0mof\u001b[0m \u001b[0mparsed\u001b[0m \u001b[0;34m(\u001b[0m\u001b[0mheader\u001b[0m\u001b[0;34m,\u001b[0m \u001b[0mbody\u001b[0m\u001b[0;34m,\u001b[0m \u001b[0mfooter\u001b[0m\u001b[0;34m)\u001b[0m \u001b[0mtuples\u001b[0m \u001b[0;32mfrom\u001b[0m \u001b[0mtables\u001b[0m\u001b[0;34m.\u001b[0m\u001b[0;34m\u001b[0m\u001b[0;34m\u001b[0m\u001b[0m\n\u001b[1;32m    221\u001b[0m         \"\"\"\n\u001b[0;32m--> 222\u001b[0;31m         \u001b[0mtables\u001b[0m \u001b[0;34m=\u001b[0m \u001b[0mself\u001b[0m\u001b[0;34m.\u001b[0m\u001b[0m_parse_tables\u001b[0m\u001b[0;34m(\u001b[0m\u001b[0mself\u001b[0m\u001b[0;34m.\u001b[0m\u001b[0m_build_doc\u001b[0m\u001b[0;34m(\u001b[0m\u001b[0;34m)\u001b[0m\u001b[0;34m,\u001b[0m \u001b[0mself\u001b[0m\u001b[0;34m.\u001b[0m\u001b[0mmatch\u001b[0m\u001b[0;34m,\u001b[0m \u001b[0mself\u001b[0m\u001b[0;34m.\u001b[0m\u001b[0mattrs\u001b[0m\u001b[0;34m)\u001b[0m\u001b[0;34m\u001b[0m\u001b[0;34m\u001b[0m\u001b[0m\n\u001b[0m\u001b[1;32m    223\u001b[0m         \u001b[0;32mreturn\u001b[0m \u001b[0;34m(\u001b[0m\u001b[0mself\u001b[0m\u001b[0;34m.\u001b[0m\u001b[0m_parse_thead_tbody_tfoot\u001b[0m\u001b[0;34m(\u001b[0m\u001b[0mtable\u001b[0m\u001b[0;34m)\u001b[0m \u001b[0;32mfor\u001b[0m \u001b[0mtable\u001b[0m \u001b[0;32min\u001b[0m \u001b[0mtables\u001b[0m\u001b[0;34m)\u001b[0m\u001b[0;34m\u001b[0m\u001b[0;34m\u001b[0m\u001b[0m\n\u001b[1;32m    224\u001b[0m \u001b[0;34m\u001b[0m\u001b[0m\n",
            "\u001b[0;32m/usr/local/lib/python3.7/dist-packages/pandas/io/html.py\u001b[0m in \u001b[0;36m_parse_tables\u001b[0;34m(self, doc, match, attrs)\u001b[0m\n\u001b[1;32m    566\u001b[0m \u001b[0;34m\u001b[0m\u001b[0m\n\u001b[1;32m    567\u001b[0m         \u001b[0;32mif\u001b[0m \u001b[0;32mnot\u001b[0m \u001b[0mresult\u001b[0m\u001b[0;34m:\u001b[0m\u001b[0;34m\u001b[0m\u001b[0;34m\u001b[0m\u001b[0m\n\u001b[0;32m--> 568\u001b[0;31m             \u001b[0;32mraise\u001b[0m \u001b[0mValueError\u001b[0m\u001b[0;34m(\u001b[0m\u001b[0;34mf\"No tables found matching pattern {repr(match.pattern)}\"\u001b[0m\u001b[0;34m)\u001b[0m\u001b[0;34m\u001b[0m\u001b[0;34m\u001b[0m\u001b[0m\n\u001b[0m\u001b[1;32m    569\u001b[0m         \u001b[0;32mreturn\u001b[0m \u001b[0mresult\u001b[0m\u001b[0;34m\u001b[0m\u001b[0;34m\u001b[0m\u001b[0m\n\u001b[1;32m    570\u001b[0m \u001b[0;34m\u001b[0m\u001b[0m\n",
            "\u001b[0;31mValueError\u001b[0m: No tables found matching pattern '10 most densely populated countries'"
          ]
        }
      ],
      "source": [
        "pd.read_html(url, match=\"10 most densely populated countries\", flavor='bs4')[0]"
      ]
    },
    {
      "cell_type": "markdown",
      "metadata": {
        "id": "I54BjDqD-4mH"
      },
      "source": [
        "## Authors\n"
      ]
    },
    {
      "cell_type": "markdown",
      "metadata": {
        "id": "IpcbUQkp-4mH"
      },
      "source": [
        "Ramesh Sannareddy\n"
      ]
    },
    {
      "cell_type": "markdown",
      "metadata": {
        "id": "F1Bj_nOT-4mI"
      },
      "source": [
        "### Other Contributors\n"
      ]
    },
    {
      "cell_type": "markdown",
      "metadata": {
        "id": "NSZE9DVV-4mI"
      },
      "source": [
        "Rav Ahuja\n"
      ]
    },
    {
      "cell_type": "markdown",
      "metadata": {
        "id": "rwXeYT40-4mI"
      },
      "source": [
        "## Change Log\n"
      ]
    },
    {
      "cell_type": "markdown",
      "metadata": {
        "id": "shMQifrr-4mI"
      },
      "source": [
        "| Date (YYYY-MM-DD) | Version | Changed By                                               | Change Description |\n",
        "| ----------------- | ------- | -------------------------------------------------------- | ------------------ |\n",
        "| 2021-08-04        | 0.2     | Made changes to markdown of nextsibling                  |                    |\n",
        "| 2020-10-17        | 0.1     | Joseph Santarcangelo  Created initial version of the lab |                    |\n"
      ]
    },
    {
      "cell_type": "markdown",
      "metadata": {
        "id": "3Jys0Ga5-4mI"
      },
      "source": [
        "Copyright © 2020 IBM Corporation. This notebook and its source code are released under the terms of the [MIT License](https://cognitiveclass.ai/mit-license?utm_medium=Exinfluencer&utm_source=Exinfluencer&utm_content=000026UJ&utm_term=10006555&utm_id=NA-SkillsNetwork-Channel-SkillsNetworkCoursesIBMDeveloperSkillsNetworkPY0220ENSkillsNetwork23455606-2021-01-01&cm_mmc=Email_Newsletter-\\_-Developer_Ed%2BTech-\\_-WW_WW-\\_-SkillsNetwork-Courses-IBMDeveloperSkillsNetwork-PY0101EN-SkillsNetwork-19487395&cm_mmca1=000026UJ&cm_mmca2=10006555&cm_mmca3=M12345678&cvosrc=email.Newsletter.M12345678&cvo_campaign=000026UJ).\n"
      ]
    },
    {
      "cell_type": "code",
      "execution_count": 184,
      "metadata": {
        "id": "rruXXTMi-4mI"
      },
      "outputs": [],
      "source": [
        ""
      ]
    },
    {
      "cell_type": "code",
      "execution_count": 184,
      "metadata": {
        "id": "WtEaPEit-4mI"
      },
      "outputs": [],
      "source": [
        ""
      ]
    }
  ],
  "metadata": {
    "kernelspec": {
      "display_name": "Python",
      "language": "python",
      "name": "conda-env-python-py"
    },
    "language_info": {
      "codemirror_mode": {
        "name": "ipython",
        "version": 3
      },
      "file_extension": ".py",
      "mimetype": "text/x-python",
      "name": "python",
      "nbconvert_exporter": "python",
      "pygments_lexer": "ipython3",
      "version": "3.7.10"
    },
    "colab": {
      "name": "WebScraping_Review_Lab.ipynb",
      "provenance": []
    }
  },
  "nbformat": 4,
  "nbformat_minor": 0
}