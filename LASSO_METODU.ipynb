{
  "nbformat": 4,
  "nbformat_minor": 0,
  "metadata": {
    "colab": {
      "name": "LASSO METODU.ipynb",
      "private_outputs": true,
      "provenance": [],
      "authorship_tag": "ABX9TyM/zndrmhkLldvqEjH8UInL",
      "include_colab_link": true
    },
    "kernelspec": {
      "name": "python3",
      "display_name": "Python 3"
    },
    "language_info": {
      "name": "python"
    }
  },
  "cells": [
    {
      "cell_type": "markdown",
      "metadata": {
        "id": "view-in-github",
        "colab_type": "text"
      },
      "source": [
        "<a href=\"https://colab.research.google.com/github/ustab/GUIDED_PROJECTS_STUDIES/blob/main/LASSO_METODU.ipynb\" target=\"_parent\"><img src=\"https://colab.research.google.com/assets/colab-badge.svg\" alt=\"Open In Colab\"/></a>"
      ]
    },
    {
      "cell_type": "code",
      "source": [
        "!pip install mglearn"
      ],
      "metadata": {
        "id": "6OWk3Jvc6OWp"
      },
      "execution_count": null,
      "outputs": []
    },
    {
      "cell_type": "code",
      "execution_count": null,
      "metadata": {
        "id": "6WUOqFZy5vUv"
      },
      "outputs": [],
      "source": [
        "from sklearn.linear_model import Lasso "
      ]
    },
    {
      "cell_type": "code",
      "source": [
        "lasso=Lasso().fit(X_train, y_train)"
      ],
      "metadata": {
        "id": "zR0P_l4xFSZ-"
      },
      "execution_count": null,
      "outputs": []
    },
    {
      "cell_type": "code",
      "source": [
        "print(lasso.score(X_train, y_train))\n",
        "print(lasso.score(X_test, y_test))"
      ],
      "metadata": {
        "id": "KZGbe1R76E2D"
      },
      "execution_count": null,
      "outputs": []
    },
    {
      "cell_type": "code",
      "source": [
        "import numpy as np"
      ],
      "metadata": {
        "id": "42nzT2xHGURz"
      },
      "execution_count": null,
      "outputs": []
    },
    {
      "cell_type": "code",
      "source": [
        "np.sum(lasso.coef_!=0)# 0 a esit olmayan katsayilar toplami"
      ],
      "metadata": {
        "id": "hnKjndF9GdL0"
      },
      "execution_count": null,
      "outputs": []
    },
    {
      "cell_type": "code",
      "source": [
        "lasso001=Lasso(alpha=0.01, max_iter=100000).fit(X_train, y_train)\n",
        "print(lasso001.score(X_train, y_train))\n",
        "print(lasso001.score(X_test, y_test))"
      ],
      "metadata": {
        "id": "TCVV7HJTGa_i"
      },
      "execution_count": null,
      "outputs": []
    },
    {
      "cell_type": "code",
      "source": [
        "lasso00001=Lasso(alpha=0.0001, max_iter=100000).fit(X_train, y_train)\n",
        "print(lasso00001.score(X_train, y_train))\n",
        "print(lasso00001.score(X_test, y_test))"
      ],
      "metadata": {
        "id": "ws0pjasyHvhS"
      },
      "execution_count": null,
      "outputs": []
    }
  ]
}