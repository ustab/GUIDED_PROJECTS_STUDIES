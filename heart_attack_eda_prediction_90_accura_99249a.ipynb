{
  "metadata": {
    "kernelspec": {
      "language": "python",
      "display_name": "Python 3",
      "name": "python3"
    },
    "language_info": {
      "name": "python",
      "version": "3.7.9",
      "mimetype": "text/x-python",
      "codemirror_mode": {
        "name": "ipython",
        "version": 3
      },
      "pygments_lexer": "ipython3",
      "nbconvert_exporter": "python",
      "file_extension": ".py"
    },
    "colab": {
      "name": "heart-attack-eda-prediction-90-accura-99249a.ipynb",
      "provenance": [],
      "collapsed_sections": [
        "iKwuja0upvkw",
        "O4Axs17Ypvkx"
      ],
      "include_colab_link": true
    }
  },
  "nbformat_minor": 0,
  "nbformat": 4,
  "cells": [
    {
      "cell_type": "markdown",
      "metadata": {
        "id": "view-in-github",
        "colab_type": "text"
      },
      "source": [
        "<a href=\"https://colab.research.google.com/github/ustab/GUIDED_PROJECTS_STUDIES/blob/main/heart_attack_eda_prediction_90_accura_99249a.ipynb\" target=\"_parent\"><img src=\"https://colab.research.google.com/assets/colab-badge.svg\" alt=\"Open In Colab\"/></a>"
      ]
    },
    {
      "cell_type": "code",
      "source": [
        "<h1 align=\"center\">Heart Attack - EDA</h1>"
      ],
      "metadata": {
        "execution": {
          "iopub.status.busy": "2022-08-19T13:48:45.508237Z",
          "iopub.execute_input": "2022-08-19T13:48:45.508600Z",
          "iopub.status.idle": "2022-08-19T13:48:45.519489Z",
          "shell.execute_reply.started": "2022-08-19T13:48:45.508566Z",
          "shell.execute_reply": "2022-08-19T13:48:45.515073Z"
        },
        "trusted": true,
        "id": "jbxtquaGpvkn"
      },
      "execution_count": null,
      "outputs": []
    },
    {
      "cell_type": "markdown",
      "source": [
        "1. [Introduction](#1) <a id=18></a>\n",
        "    - 1.1 [Data Dictionary](#2)\n",
        "    - 1.2 [Task](#3)\n",
        "2. [Preparation](#4)\n",
        "    - 2.1 [Packages](#5)\n",
        "    - 2.2 [Data](#6)\n",
        "    - 2.3 [Understanding Data](#7)\n",
        "3. [Exploratory Data Analysis](#8)\n",
        "    - 3.1 [Univariate Analysis](#9)\n",
        "    - 3.2 [Bivariate Analysis](#10)\n",
        "4. [Data Preprocessing](#11)\n",
        "    - 4.1 [Conclusions from the EDA](#12)\n",
        "    - 4.2 [Packages](#13)\n",
        "    - 4.3 [Making features model ready](#14)\n",
        "5. [Modeling](#15)\n",
        "    - 5.1 [Linear Classifiers](#16)\n",
        "    - 5.2 [Tree Models](#17)"
      ],
      "metadata": {
        "_kg_hide-input": false,
        "id": "k8kl9uZHpvko"
      }
    },
    {
      "cell_type": "markdown",
      "source": [
        "### 1. Introduction <a id=1></a>\n",
        "[back to top](#18)"
      ],
      "metadata": {
        "id": "nj7Ixkjvpvkp"
      }
    },
    {
      "cell_type": "markdown",
      "source": [
        "#### 1.1 Data Dictionary <a id=2></a>\n",
        "`age` - Age of the patient\n",
        "\n",
        "`sex` - Sex of the patient\n",
        "\n",
        "`cp` - Chest pain type ~ 0 = Typical Angina, 1 = Atypical Angina, 2 = Non-anginal Pain, 3 = Asymptomatic\n",
        "\n",
        "`trtbps` - Resting blood pressure (in mm Hg)\n",
        "\n",
        "`chol` - Cholestoral in mg/dl fetched via BMI sensor\n",
        "\n",
        "`fbs` - (fasting blood sugar > 120 mg/dl) ~ 1 = True, 0 = False\n",
        "\n",
        "`restecg` - Resting electrocardiographic results ~ 0 = Normal, 1 = ST-T wave normality, 2 = Left ventricular hypertrophy\n",
        "\n",
        "`thalachh`  - Maximum heart rate achieved\n",
        "\n",
        "`oldpeak` - Previous peak\n",
        "\n",
        "`slp` - Slope\n",
        "\n",
        "`caa` - Number of major vessels \n",
        "\n",
        "`thall` - Thalium Stress Test result ~ (0,3)\n",
        "\n",
        "`exng` - Exercise induced angina ~ 1 = Yes, 0 = No\n",
        "\n",
        "`output` - Target variable"
      ],
      "metadata": {
        "id": "vsGpD0h5pvkp"
      }
    },
    {
      "cell_type": "markdown",
      "source": [
        "#### 1.2 Task <a id=3></a>\n",
        "To perform EDA and predict if a person is prone to a heart attack or not."
      ],
      "metadata": {
        "id": "J_sQ3Znfpvkq"
      }
    },
    {
      "cell_type": "markdown",
      "source": [
        "### 2. Preparation <a id=4></a>\n",
        "[back to top](#18)"
      ],
      "metadata": {
        "id": "XXqKOJPCpvkq"
      }
    },
    {
      "cell_type": "markdown",
      "source": [
        "#### 2.1 Packages <a id=5></a>"
      ],
      "metadata": {
        "id": "-1dL-omGpvkq"
      }
    },
    {
      "cell_type": "code",
      "source": [
        "import pandas as pd\n",
        "import numpy as np\n",
        "import matplotlib.pyplot as plt\n",
        "import seaborn as sns\n",
        "\n",
        "import warnings\n",
        "warnings.filterwarnings(\"ignore\")"
      ],
      "metadata": {
        "_kg_hide-input": true,
        "execution": {
          "iopub.status.busy": "2022-08-19T13:48:44.437953Z",
          "iopub.execute_input": "2022-08-19T13:48:44.438623Z",
          "iopub.status.idle": "2022-08-19T13:48:45.504995Z",
          "shell.execute_reply.started": "2022-08-19T13:48:44.438501Z",
          "shell.execute_reply": "2022-08-19T13:48:45.503907Z"
        },
        "trusted": true,
        "id": "hnVRCwu1pvkr"
      },
      "execution_count": 1,
      "outputs": []
    },
    {
      "cell_type": "markdown",
      "source": [
        "#### 2.2 Data <a id=6></a>"
      ],
      "metadata": {
        "id": "JtqM_3czpvkr"
      }
    },
    {
      "cell_type": "code",
      "source": [
        "df = pd.read_csv(\"/kaggle/input/heart-attack-analysis-prediction-dataset/heart.csv\")"
      ],
      "metadata": {
        "_kg_hide-input": true,
        "execution": {
          "iopub.status.busy": "2022-08-19T13:49:17.140902Z",
          "iopub.execute_input": "2022-08-19T13:49:17.141543Z",
          "iopub.status.idle": "2022-08-19T13:49:17.151522Z",
          "shell.execute_reply.started": "2022-08-19T13:49:17.141495Z",
          "shell.execute_reply": "2022-08-19T13:49:17.150505Z"
        },
        "trusted": true,
        "id": "aXQDY6Sypvkr"
      },
      "execution_count": null,
      "outputs": []
    },
    {
      "cell_type": "code",
      "source": [
        ""
      ],
      "metadata": {
        "id": "v51yDbkFpvks"
      },
      "execution_count": null,
      "outputs": []
    },
    {
      "cell_type": "markdown",
      "source": [
        "#### 2.3 Understanding Data <a id=7></a>"
      ],
      "metadata": {
        "id": "0YH4Q4xBpvks"
      }
    },
    {
      "cell_type": "markdown",
      "source": [
        "##### 2.3.1 The shape of the data"
      ],
      "metadata": {
        "id": "NZDjuKFOpvks"
      }
    },
    {
      "cell_type": "code",
      "source": [
        "print(\"The shape of the dataset is : \", df.shape)"
      ],
      "metadata": {
        "_kg_hide-input": true,
        "execution": {
          "iopub.status.busy": "2022-08-19T13:49:22.768776Z",
          "iopub.execute_input": "2022-08-19T13:49:22.769511Z",
          "iopub.status.idle": "2022-08-19T13:49:22.776452Z",
          "shell.execute_reply.started": "2022-08-19T13:49:22.769470Z",
          "shell.execute_reply": "2022-08-19T13:49:22.774803Z"
        },
        "trusted": true,
        "id": "wtAiEpwqpvks"
      },
      "execution_count": null,
      "outputs": []
    },
    {
      "cell_type": "markdown",
      "source": [
        "##### 2.3.2 Preview of the first 5 rows of the data"
      ],
      "metadata": {
        "id": "UJBKUjSipvks"
      }
    },
    {
      "cell_type": "code",
      "source": [
        "df.head()"
      ],
      "metadata": {
        "_kg_hide-input": true,
        "execution": {
          "iopub.status.busy": "2022-08-19T13:49:28.787333Z",
          "iopub.execute_input": "2022-08-19T13:49:28.787742Z",
          "iopub.status.idle": "2022-08-19T13:49:28.823182Z",
          "shell.execute_reply.started": "2022-08-19T13:49:28.787706Z",
          "shell.execute_reply": "2022-08-19T13:49:28.822382Z"
        },
        "trusted": true,
        "id": "C0HZYjvfpvks"
      },
      "execution_count": null,
      "outputs": []
    },
    {
      "cell_type": "markdown",
      "source": [
        "##### 2.3.3 Checking the number of unique values in each column"
      ],
      "metadata": {
        "id": "r6_XjOD6pvkt"
      }
    },
    {
      "cell_type": "code",
      "source": [
        "dict = {}\n",
        "for i in list(df.columns):\n",
        "    dict[i] = df[i].value_counts().shape[0]\n",
        "\n",
        "pd.DataFrame(dict,index=[\"unique count\"]).transpose()"
      ],
      "metadata": {
        "_kg_hide-input": true,
        "execution": {
          "iopub.status.busy": "2022-08-19T13:49:33.948412Z",
          "iopub.execute_input": "2022-08-19T13:49:33.949037Z",
          "iopub.status.idle": "2022-08-19T13:49:33.977056Z",
          "shell.execute_reply.started": "2022-08-19T13:49:33.948993Z",
          "shell.execute_reply": "2022-08-19T13:49:33.975868Z"
        },
        "trusted": true,
        "id": "3BKUWQzapvkt"
      },
      "execution_count": null,
      "outputs": []
    },
    {
      "cell_type": "markdown",
      "source": [
        "##### 2.3.4 Separating the columns in categorical and continuous"
      ],
      "metadata": {
        "id": "pnaOtnYtpvkt"
      }
    },
    {
      "cell_type": "code",
      "source": [
        "cat_cols = ['sex','exng','caa','cp','fbs','restecg','slp','thall']\n",
        "con_cols = [\"age\",\"trtbps\",\"chol\",\"thalachh\",\"oldpeak\"]\n",
        "target_col = [\"output\"]\n",
        "print(\"The categorial cols are : \", cat_cols)\n",
        "print(\"The continuous cols are : \", con_cols)\n",
        "print(\"The target variable is :  \", target_col)"
      ],
      "metadata": {
        "_kg_hide-input": true,
        "execution": {
          "iopub.status.busy": "2022-08-19T13:49:55.247877Z",
          "iopub.execute_input": "2022-08-19T13:49:55.248371Z",
          "iopub.status.idle": "2022-08-19T13:49:55.256444Z",
          "shell.execute_reply.started": "2022-08-19T13:49:55.248338Z",
          "shell.execute_reply": "2022-08-19T13:49:55.255556Z"
        },
        "trusted": true,
        "id": "y0nQhfp7pvkt"
      },
      "execution_count": null,
      "outputs": []
    },
    {
      "cell_type": "markdown",
      "source": [
        "##### 2.3.5 Summary statistics"
      ],
      "metadata": {
        "id": "G4d-OVQrpvkt"
      }
    },
    {
      "cell_type": "code",
      "source": [
        "df[con_cols].describe().transpose()"
      ],
      "metadata": {
        "_kg_hide-input": true,
        "execution": {
          "iopub.status.busy": "2022-08-19T13:50:01.359666Z",
          "iopub.execute_input": "2022-08-19T13:50:01.361208Z",
          "iopub.status.idle": "2022-08-19T13:50:01.396138Z",
          "shell.execute_reply.started": "2022-08-19T13:50:01.361130Z",
          "shell.execute_reply": "2022-08-19T13:50:01.395073Z"
        },
        "trusted": true,
        "id": "Rablnt6kpvkt"
      },
      "execution_count": null,
      "outputs": []
    },
    {
      "cell_type": "markdown",
      "source": [
        "##### 2.3.6 Missing values"
      ],
      "metadata": {
        "id": "F_9Z_oQzpvku"
      }
    },
    {
      "cell_type": "code",
      "source": [
        "df.isnull().sum()"
      ],
      "metadata": {
        "_kg_hide-input": true,
        "execution": {
          "iopub.status.busy": "2022-08-19T13:50:10.920480Z",
          "iopub.execute_input": "2022-08-19T13:50:10.920860Z",
          "iopub.status.idle": "2022-08-19T13:50:10.930630Z",
          "shell.execute_reply.started": "2022-08-19T13:50:10.920827Z",
          "shell.execute_reply": "2022-08-19T13:50:10.929766Z"
        },
        "trusted": true,
        "id": "VKsYxLYzpvku"
      },
      "execution_count": null,
      "outputs": []
    },
    {
      "cell_type": "markdown",
      "source": [
        "### 3. Exploratory Data Analysis <a id=8></a>\n",
        "[back to top](#18)"
      ],
      "metadata": {
        "id": "BHag20S4pvku"
      }
    },
    {
      "cell_type": "markdown",
      "source": [
        "#### 3.1 Univariate Analysis <a id=9></a>"
      ],
      "metadata": {
        "id": "Glgb2C8spvku"
      }
    },
    {
      "cell_type": "markdown",
      "source": [
        "##### 3.1.1 Count plot of categorical features"
      ],
      "metadata": {
        "id": "Rqew1JkYpvku"
      }
    },
    {
      "cell_type": "code",
      "source": [
        "fig = plt.figure(figsize=(18,15))\n",
        "gs = fig.add_gridspec(3,3)\n",
        "gs.update(wspace=0.5, hspace=0.25)\n",
        "ax0 = fig.add_subplot(gs[0,0])\n",
        "ax1 = fig.add_subplot(gs[0,1])\n",
        "ax2 = fig.add_subplot(gs[0,2])\n",
        "ax3 = fig.add_subplot(gs[1,0])\n",
        "ax4 = fig.add_subplot(gs[1,1])\n",
        "ax5 = fig.add_subplot(gs[1,2])\n",
        "ax6 = fig.add_subplot(gs[2,0])\n",
        "ax7 = fig.add_subplot(gs[2,1])\n",
        "ax8 = fig.add_subplot(gs[2,2])\n",
        "\n",
        "background_color = \"#ffe6e6\"\n",
        "color_palette = [\"#800000\",\"#8000ff\",\"#6aac90\",\"#5833ff\",\"#da8829\"]\n",
        "fig.patch.set_facecolor(background_color) \n",
        "ax0.set_facecolor(background_color) \n",
        "ax1.set_facecolor(background_color) \n",
        "ax2.set_facecolor(background_color) \n",
        "ax3.set_facecolor(background_color) \n",
        "ax4.set_facecolor(background_color) \n",
        "ax5.set_facecolor(background_color) \n",
        "ax6.set_facecolor(background_color) \n",
        "ax7.set_facecolor(background_color) \n",
        "ax8.set_facecolor(background_color) \n",
        "\n",
        "# Title of the plot\n",
        "ax0.spines[\"bottom\"].set_visible(False)\n",
        "ax0.spines[\"left\"].set_visible(False)\n",
        "ax0.spines[\"top\"].set_visible(False)\n",
        "ax0.spines[\"right\"].set_visible(False)\n",
        "ax0.tick_params(left=False, bottom=False)\n",
        "ax0.set_xticklabels([])\n",
        "ax0.set_yticklabels([])\n",
        "ax0.text(0.5,0.5,\n",
        "         'Count plot for various\\n categorical features\\n_________________',\n",
        "         horizontalalignment='center',\n",
        "         verticalalignment='center',\n",
        "         fontsize=18, fontweight='bold',\n",
        "         fontfamily='serif',\n",
        "         color=\"#000000\")\n",
        "\n",
        "# Sex count\n",
        "ax1.text(0.3, 220, 'Sex', fontsize=14, fontweight='bold', fontfamily='serif', color=\"#000000\")\n",
        "ax1.grid(color='#000000', linestyle=':', axis='y', zorder=0,  dashes=(1,5))\n",
        "sns.countplot(ax=ax1,data=df,x='sex',palette=color_palette)\n",
        "ax1.set_xlabel(\"\")\n",
        "ax1.set_ylabel(\"\")\n",
        "\n",
        "# Exng count\n",
        "ax2.text(0.3, 220, 'Exng', fontsize=14, fontweight='bold', fontfamily='serif', color=\"#000000\")\n",
        "ax2.grid(color='#000000', linestyle=':', axis='y', zorder=0,  dashes=(1,5))\n",
        "sns.countplot(ax=ax2,data=df,x='exng',palette=color_palette)\n",
        "ax2.set_xlabel(\"\")\n",
        "ax2.set_ylabel(\"\")\n",
        "\n",
        "# Caa count\n",
        "ax3.text(1.5, 200, 'Caa', fontsize=14, fontweight='bold', fontfamily='serif', color=\"#000000\")\n",
        "ax3.grid(color='#000000', linestyle=':', axis='y', zorder=0,  dashes=(1,5))\n",
        "sns.countplot(ax=ax3,data=df,x='caa',palette=color_palette)\n",
        "ax3.set_xlabel(\"\")\n",
        "ax3.set_ylabel(\"\")\n",
        "\n",
        "# Cp count\n",
        "ax4.text(1.5, 162, 'Cp', fontsize=14, fontweight='bold', fontfamily='serif', color=\"#000000\")\n",
        "ax4.grid(color='#000000', linestyle=':', axis='y', zorder=0,  dashes=(1,5))\n",
        "sns.countplot(ax=ax4,data=df,x='cp',palette=color_palette)\n",
        "ax4.set_xlabel(\"\")\n",
        "ax4.set_ylabel(\"\")\n",
        "\n",
        "# Fbs count\n",
        "ax5.text(0.5, 290, 'Fbs', fontsize=14, fontweight='bold', fontfamily='serif', color=\"#000000\")\n",
        "ax5.grid(color='#000000', linestyle=':', axis='y', zorder=0,  dashes=(1,5))\n",
        "sns.countplot(ax=ax5,data=df,x='fbs',palette=color_palette)\n",
        "ax5.set_xlabel(\"\")\n",
        "ax5.set_ylabel(\"\")\n",
        "\n",
        "# Restecg count\n",
        "ax6.text(0.75, 165, 'Restecg', fontsize=14, fontweight='bold', fontfamily='serif', color=\"#000000\")\n",
        "ax6.grid(color='#000000', linestyle=':', axis='y', zorder=0,  dashes=(1,5))\n",
        "sns.countplot(ax=ax6,data=df,x='restecg',palette=color_palette)\n",
        "ax6.set_xlabel(\"\")\n",
        "ax6.set_ylabel(\"\")\n",
        "\n",
        "# Slp count\n",
        "ax7.text(0.85, 155, 'Slp', fontsize=14, fontweight='bold', fontfamily='serif', color=\"#000000\")\n",
        "ax7.grid(color='#000000', linestyle=':', axis='y', zorder=0,  dashes=(1,5))\n",
        "sns.countplot(ax=ax7,data=df,x='slp',palette=color_palette)\n",
        "ax7.set_xlabel(\"\")\n",
        "ax7.set_ylabel(\"\")\n",
        "\n",
        "# Thall count\n",
        "ax8.text(1.2, 180, 'Thall', fontsize=14, fontweight='bold', fontfamily='serif', color=\"#000000\")\n",
        "ax8.grid(color='#000000', linestyle=':', axis='y', zorder=0,  dashes=(1,5))\n",
        "sns.countplot(ax=ax8,data=df,x='thall',palette=color_palette)\n",
        "ax8.set_xlabel(\"\")\n",
        "ax8.set_ylabel(\"\")\n",
        "\n",
        "for s in [\"top\",\"right\",\"left\"]:\n",
        "    ax1.spines[s].set_visible(False)\n",
        "    ax2.spines[s].set_visible(False)\n",
        "    ax3.spines[s].set_visible(False)\n",
        "    ax4.spines[s].set_visible(False)\n",
        "    ax5.spines[s].set_visible(False)\n",
        "    ax6.spines[s].set_visible(False)\n",
        "    ax7.spines[s].set_visible(False)\n",
        "    ax8.spines[s].set_visible(False)"
      ],
      "metadata": {
        "_kg_hide-input": true,
        "execution": {
          "iopub.status.busy": "2022-08-19T13:51:28.653786Z",
          "iopub.execute_input": "2022-08-19T13:51:28.654178Z",
          "iopub.status.idle": "2022-08-19T13:51:29.687263Z",
          "shell.execute_reply.started": "2022-08-19T13:51:28.654147Z",
          "shell.execute_reply": "2022-08-19T13:51:29.685980Z"
        },
        "trusted": true,
        "id": "TBv-sH17pvku"
      },
      "execution_count": null,
      "outputs": []
    },
    {
      "cell_type": "markdown",
      "source": [
        "##### 3.1.2 Boxen plot of continuous features"
      ],
      "metadata": {
        "id": "jR6RsjqRpvkv"
      }
    },
    {
      "cell_type": "code",
      "source": [
        "fig = plt.figure(figsize=(18,16))\n",
        "gs = fig.add_gridspec(2,3)\n",
        "gs.update(wspace=0.3, hspace=0.15)\n",
        "ax0 = fig.add_subplot(gs[0,0])\n",
        "ax1 = fig.add_subplot(gs[0,1])\n",
        "ax2 = fig.add_subplot(gs[0,2])\n",
        "ax3 = fig.add_subplot(gs[1,0])\n",
        "ax4 = fig.add_subplot(gs[1,1])\n",
        "ax5 = fig.add_subplot(gs[1,2])\n",
        "\n",
        "background_color = \"#ffe6e6\"\n",
        "color_palette = [\"#800000\",\"#8000ff\",\"#6aac90\",\"#5833ff\",\"#da8829\"]\n",
        "fig.patch.set_facecolor(background_color) \n",
        "ax0.set_facecolor(background_color) \n",
        "ax1.set_facecolor(background_color) \n",
        "ax2.set_facecolor(background_color) \n",
        "ax3.set_facecolor(background_color) \n",
        "ax4.set_facecolor(background_color) \n",
        "ax5.set_facecolor(background_color) \n",
        "\n",
        "# Title of the plot\n",
        "ax0.spines[\"bottom\"].set_visible(False)\n",
        "ax0.spines[\"left\"].set_visible(False)\n",
        "ax0.spines[\"top\"].set_visible(False)\n",
        "ax0.spines[\"right\"].set_visible(False)\n",
        "ax0.tick_params(left=False, bottom=False)\n",
        "ax0.set_xticklabels([])\n",
        "ax0.set_yticklabels([])\n",
        "ax0.text(0.5,0.5,\n",
        "         'Boxen plot for various\\n continuous features\\n_________________',\n",
        "         horizontalalignment='center',\n",
        "         verticalalignment='center',\n",
        "         fontsize=18, fontweight='bold',\n",
        "         fontfamily='serif',\n",
        "         color=\"#000000\")\n",
        "\n",
        "# Age \n",
        "ax1.text(-0.05, 81, 'Age', fontsize=14, fontweight='bold', fontfamily='serif', color=\"#000000\")\n",
        "ax1.grid(color='#000000', linestyle=':', axis='y', zorder=0,  dashes=(1,5))\n",
        "sns.boxenplot(ax=ax1,y=df['age'],palette=[\"#800000\"],width=0.6)\n",
        "ax1.set_xlabel(\"\")\n",
        "ax1.set_ylabel(\"\")\n",
        "\n",
        "# Trtbps \n",
        "ax2.text(-0.05, 208, 'Trtbps', fontsize=14, fontweight='bold', fontfamily='serif', color=\"#000000\")\n",
        "ax2.grid(color='#000000', linestyle=':', axis='y', zorder=0,  dashes=(1,5))\n",
        "sns.boxenplot(ax=ax2,y=df['trtbps'],palette=[\"#8000ff\"],width=0.6)\n",
        "ax2.set_xlabel(\"\")\n",
        "ax2.set_ylabel(\"\")\n",
        "\n",
        "# Chol \n",
        "ax3.text(-0.05, 600, 'Chol', fontsize=14, fontweight='bold', fontfamily='serif', color=\"#000000\")\n",
        "ax3.grid(color='#000000', linestyle=':', axis='y', zorder=0,  dashes=(1,5))\n",
        "sns.boxenplot(ax=ax3,y=df['chol'],palette=[\"#6aac90\"],width=0.6)\n",
        "ax3.set_xlabel(\"\")\n",
        "ax3.set_ylabel(\"\")\n",
        "\n",
        "# Thalachh \n",
        "ax4.text(-0.09, 210, 'Thalachh', fontsize=14, fontweight='bold', fontfamily='serif', color=\"#000000\")\n",
        "ax4.grid(color='#000000', linestyle=':', axis='y', zorder=0,  dashes=(1,5))\n",
        "sns.boxenplot(ax=ax4,y=df['thalachh'],palette=[\"#5833ff\"],width=0.6)\n",
        "ax4.set_xlabel(\"\")\n",
        "ax4.set_ylabel(\"\")\n",
        "\n",
        "# oldpeak \n",
        "ax5.text(-0.1, 6.6, 'Oldpeak', fontsize=14, fontweight='bold', fontfamily='serif', color=\"#000000\")\n",
        "ax5.grid(color='#000000', linestyle=':', axis='y', zorder=0,  dashes=(1,5))\n",
        "sns.boxenplot(ax=ax5,y=df['oldpeak'],palette=[\"#da8829\"],width=0.6)\n",
        "ax5.set_xlabel(\"\")\n",
        "ax5.set_ylabel(\"\")\n",
        "\n",
        "for s in [\"top\",\"right\",\"left\"]:\n",
        "    ax1.spines[s].set_visible(False)\n",
        "    ax2.spines[s].set_visible(False)\n",
        "    ax3.spines[s].set_visible(False)\n",
        "    ax4.spines[s].set_visible(False)\n",
        "    ax5.spines[s].set_visible(False)"
      ],
      "metadata": {
        "_kg_hide-input": true,
        "trusted": true,
        "id": "ibTIakfOpvkv"
      },
      "execution_count": null,
      "outputs": []
    },
    {
      "cell_type": "markdown",
      "source": [
        "##### 3.1.2 Count plot of target"
      ],
      "metadata": {
        "id": "5_3wdhaZpvkv"
      }
    },
    {
      "cell_type": "code",
      "source": [
        "fig = plt.figure(figsize=(18,7))\n",
        "gs = fig.add_gridspec(1,2)\n",
        "gs.update(wspace=0.3, hspace=0.15)\n",
        "ax0 = fig.add_subplot(gs[0,0])\n",
        "ax1 = fig.add_subplot(gs[0,1])\n",
        "\n",
        "background_color = \"#ffe6e6\"\n",
        "color_palette = [\"#800000\",\"#8000ff\",\"#6aac90\",\"#5833ff\",\"#da8829\"]\n",
        "fig.patch.set_facecolor(background_color) \n",
        "ax0.set_facecolor(background_color) \n",
        "ax1.set_facecolor(background_color) \n",
        "\n",
        "# Title of the plot\n",
        "ax0.text(0.5,0.5,\"Count of the target\\n___________\",\n",
        "        horizontalalignment = 'center',\n",
        "        verticalalignment = 'center',\n",
        "        fontsize = 18,\n",
        "        fontweight='bold',\n",
        "        fontfamily='serif',\n",
        "        color='#000000')\n",
        "\n",
        "ax0.set_xticklabels([])\n",
        "ax0.set_yticklabels([])\n",
        "ax0.tick_params(left=False, bottom=False)\n",
        "\n",
        "# Target Count\n",
        "ax1.text(0.35,177,\"Output\",fontsize=14, fontweight='bold', fontfamily='serif', color=\"#000000\")\n",
        "ax1.grid(color='#000000', linestyle=':', axis='y', zorder=0,  dashes=(1,5))\n",
        "sns.countplot(ax=ax1, data=df, x = 'output',palette = color_palette)\n",
        "ax1.set_xlabel(\"\")\n",
        "ax1.set_ylabel(\"\")\n",
        "ax1.set_xticklabels([\"Low chances of attack(0)\",\"High chances of attack(1)\"])\n",
        "\n",
        "ax0.spines[\"top\"].set_visible(False)\n",
        "ax0.spines[\"left\"].set_visible(False)\n",
        "ax0.spines[\"bottom\"].set_visible(False)\n",
        "ax0.spines[\"right\"].set_visible(False)\n",
        "ax1.spines[\"top\"].set_visible(False)\n",
        "ax1.spines[\"left\"].set_visible(False)\n",
        "ax1.spines[\"right\"].set_visible(False)"
      ],
      "metadata": {
        "_kg_hide-input": true,
        "execution": {
          "iopub.status.busy": "2022-08-19T14:00:06.924231Z",
          "iopub.execute_input": "2022-08-19T14:00:06.924791Z",
          "iopub.status.idle": "2022-08-19T14:00:07.227320Z",
          "shell.execute_reply.started": "2022-08-19T14:00:06.924748Z",
          "shell.execute_reply": "2022-08-19T14:00:07.226003Z"
        },
        "trusted": true,
        "id": "261mn97Ipvkv"
      },
      "execution_count": null,
      "outputs": []
    },
    {
      "cell_type": "markdown",
      "source": [
        "#### 3.2 Bivariate Analysis <a id=10></a>"
      ],
      "metadata": {
        "id": "iKwuja0upvkw"
      }
    },
    {
      "cell_type": "markdown",
      "source": [
        "##### 3.2.1 Correlation matrix of continuous features"
      ],
      "metadata": {
        "id": "YYhsO2u7pvkw"
      }
    },
    {
      "cell_type": "code",
      "source": [
        "df_corr = df[con_cols].corr().transpose()\n",
        "df_corr"
      ],
      "metadata": {
        "_kg_hide-input": true,
        "execution": {
          "iopub.status.busy": "2022-08-19T14:02:33.239727Z",
          "iopub.execute_input": "2022-08-19T14:02:33.240203Z",
          "iopub.status.idle": "2022-08-19T14:02:33.260281Z",
          "shell.execute_reply.started": "2022-08-19T14:02:33.240163Z",
          "shell.execute_reply": "2022-08-19T14:02:33.259077Z"
        },
        "trusted": true,
        "id": "e41z006Lpvkw"
      },
      "execution_count": null,
      "outputs": []
    },
    {
      "cell_type": "code",
      "source": [
        "fig = plt.figure(figsize=(10,10))\n",
        "gs = fig.add_gridspec(1,1)\n",
        "gs.update(wspace=0.3, hspace=0.15)\n",
        "ax0 = fig.add_subplot(gs[0,0])\n",
        "\n",
        "color_palette = [\"#5833ff\",\"#da8829\"]\n",
        "mask = np.triu(np.ones_like(df_corr))\n",
        "ax0.text(1.5,-0.1,\"Correlation Matrix\",fontsize=22, fontweight='bold', fontfamily='serif', color=\"#000000\")\n",
        "df_corr = df[con_cols].corr().transpose()\n",
        "sns.heatmap(df_corr,mask=mask,fmt=\".1f\",annot=True,cmap='YlGnBu')\n",
        "plt.show()"
      ],
      "metadata": {
        "_kg_hide-input": true,
        "execution": {
          "iopub.status.busy": "2022-08-19T14:02:48.040553Z",
          "iopub.execute_input": "2022-08-19T14:02:48.041273Z",
          "iopub.status.idle": "2022-08-19T14:02:48.425170Z",
          "shell.execute_reply.started": "2022-08-19T14:02:48.041220Z",
          "shell.execute_reply": "2022-08-19T14:02:48.424082Z"
        },
        "trusted": true,
        "id": "-99woFvtpvkw"
      },
      "execution_count": null,
      "outputs": []
    },
    {
      "cell_type": "markdown",
      "source": [
        "##### 3.2.2 Scatterplot heatmap of dataframe"
      ],
      "metadata": {
        "id": "xu9QYkJupvkw"
      }
    },
    {
      "cell_type": "code",
      "source": [
        "fig = plt.figure(figsize=(12,12))\n",
        "corr_mat = df.corr().stack().reset_index(name=\"correlation\")\n",
        "g = sns.relplot(\n",
        "    data=corr_mat,\n",
        "    x=\"level_0\", y=\"level_1\", hue=\"correlation\", size=\"correlation\",\n",
        "    palette=\"YlGnBu\", hue_norm=(-1, 1), edgecolor=\".7\",\n",
        "    height=10, sizes=(50, 250), size_norm=(-.2, .8),\n",
        ")\n",
        "g.set(xlabel=\"features on X\", ylabel=\"featurs on Y\", aspect=\"equal\")\n",
        "g.fig.suptitle('Scatterplot heatmap',fontsize=22, fontweight='bold', fontfamily='serif', color=\"#000000\")\n",
        "g.despine(left=True, bottom=True)\n",
        "g.ax.margins(.02)\n",
        "for label in g.ax.get_xticklabels():\n",
        "    label.set_rotation(90)\n",
        "for artist in g.legend.legendHandles:\n",
        "    artist.set_edgecolor(\".7\")\n",
        "plt.show()"
      ],
      "metadata": {
        "_kg_hide-input": true,
        "execution": {
          "iopub.status.busy": "2022-08-19T13:48:45.546094Z",
          "iopub.status.idle": "2022-08-19T13:48:45.546584Z"
        },
        "trusted": true,
        "id": "jVdHzNdmpvkw"
      },
      "execution_count": null,
      "outputs": []
    },
    {
      "cell_type": "markdown",
      "source": [
        "##### 3.2.3 Distribution of continuous features according to target variable"
      ],
      "metadata": {
        "id": "Ts03nmDNpvkw"
      }
    },
    {
      "cell_type": "code",
      "source": [
        "fig = plt.figure(figsize=(18,18))\n",
        "gs = fig.add_gridspec(5,2)\n",
        "gs.update(wspace=0.5, hspace=0.5)\n",
        "ax0 = fig.add_subplot(gs[0,0])\n",
        "ax1 = fig.add_subplot(gs[0,1])\n",
        "ax2 = fig.add_subplot(gs[1,0])\n",
        "ax3 = fig.add_subplot(gs[1,1])\n",
        "ax4 = fig.add_subplot(gs[2,0])\n",
        "ax5 = fig.add_subplot(gs[2,1])\n",
        "ax6 = fig.add_subplot(gs[3,0])\n",
        "ax7 = fig.add_subplot(gs[3,1])\n",
        "ax8 = fig.add_subplot(gs[4,0])\n",
        "ax9 = fig.add_subplot(gs[4,1])\n",
        "\n",
        "background_color = \"#ffe6e6\"\n",
        "color_palette = [\"#800000\",\"#8000ff\",\"#6aac90\",\"#5833ff\",\"#da8829\"]\n",
        "fig.patch.set_facecolor(background_color) \n",
        "ax0.set_facecolor(background_color) \n",
        "ax1.set_facecolor(background_color) \n",
        "ax2.set_facecolor(background_color)\n",
        "ax3.set_facecolor(background_color)\n",
        "ax4.set_facecolor(background_color)\n",
        "ax5.set_facecolor(background_color) \n",
        "ax6.set_facecolor(background_color) \n",
        "ax7.set_facecolor(background_color)\n",
        "ax8.set_facecolor(background_color)\n",
        "ax9.set_facecolor(background_color)\n",
        "\n",
        "# Age title\n",
        "ax0.text(0.5,0.5,\"Distribution of age\\naccording to\\n target variable\\n___________\",\n",
        "        horizontalalignment = 'center',\n",
        "        verticalalignment = 'center',\n",
        "        fontsize = 18,\n",
        "        fontweight='bold',\n",
        "        fontfamily='serif',\n",
        "        color='#000000')\n",
        "ax0.spines[\"bottom\"].set_visible(False)\n",
        "ax0.set_xticklabels([])\n",
        "ax0.set_yticklabels([])\n",
        "ax0.tick_params(left=False, bottom=False)\n",
        "\n",
        "# Age\n",
        "ax1.grid(color='#000000', linestyle=':', axis='y', zorder=0,  dashes=(1,5))\n",
        "sns.kdeplot(ax=ax1, data=df, x='age',hue=\"output\", fill=True,palette=[\"#8000ff\",\"#da8829\"], alpha=.5, linewidth=0)\n",
        "ax1.set_xlabel(\"\")\n",
        "ax1.set_ylabel(\"\")\n",
        "\n",
        "# TrTbps title\n",
        "ax2.text(0.5,0.5,\"Distribution of trtbps\\naccording to\\n target variable\\n___________\",\n",
        "        horizontalalignment = 'center',\n",
        "        verticalalignment = 'center',\n",
        "        fontsize = 18,\n",
        "        fontweight='bold',\n",
        "        fontfamily='serif',\n",
        "        color='#000000')\n",
        "ax2.spines[\"bottom\"].set_visible(False)\n",
        "ax2.set_xticklabels([])\n",
        "ax2.set_yticklabels([])\n",
        "ax2.tick_params(left=False, bottom=False)\n",
        "\n",
        "# TrTbps\n",
        "ax3.grid(color='#000000', linestyle=':', axis='y', zorder=0,  dashes=(1,5))\n",
        "sns.kdeplot(ax=ax3, data=df, x='trtbps',hue=\"output\", fill=True,palette=[\"#8000ff\",\"#da8829\"], alpha=.5, linewidth=0)\n",
        "ax3.set_xlabel(\"\")\n",
        "ax3.set_ylabel(\"\")\n",
        "\n",
        "# Chol title\n",
        "ax4.text(0.5,0.5,\"Distribution of chol\\naccording to\\n target variable\\n___________\",\n",
        "        horizontalalignment = 'center',\n",
        "        verticalalignment = 'center',\n",
        "        fontsize = 18,\n",
        "        fontweight='bold',\n",
        "        fontfamily='serif',\n",
        "        color='#000000')\n",
        "ax4.spines[\"bottom\"].set_visible(False)\n",
        "ax4.set_xticklabels([])\n",
        "ax4.set_yticklabels([])\n",
        "ax4.tick_params(left=False, bottom=False)\n",
        "\n",
        "# Chol\n",
        "ax5.grid(color='#000000', linestyle=':', axis='y', zorder=0,  dashes=(1,5))\n",
        "sns.kdeplot(ax=ax5, data=df, x='chol',hue=\"output\", fill=True,palette=[\"#8000ff\",\"#da8829\"], alpha=.5, linewidth=0)\n",
        "ax5.set_xlabel(\"\")\n",
        "ax5.set_ylabel(\"\")\n",
        "\n",
        "# Thalachh title\n",
        "ax6.text(0.5,0.5,\"Distribution of thalachh\\naccording to\\n target variable\\n___________\",\n",
        "        horizontalalignment = 'center',\n",
        "        verticalalignment = 'center',\n",
        "        fontsize = 18,\n",
        "        fontweight='bold',\n",
        "        fontfamily='serif',\n",
        "        color='#000000')\n",
        "ax6.spines[\"bottom\"].set_visible(False)\n",
        "ax6.set_xticklabels([])\n",
        "ax6.set_yticklabels([])\n",
        "ax6.tick_params(left=False, bottom=False)\n",
        "\n",
        "# Thalachh\n",
        "ax7.grid(color='#000000', linestyle=':', axis='y', zorder=0,  dashes=(1,5))\n",
        "sns.kdeplot(ax=ax7, data=df, x='thalachh',hue=\"output\", fill=True,palette=[\"#8000ff\",\"#da8829\"], alpha=.5, linewidth=0)\n",
        "ax7.set_xlabel(\"\")\n",
        "ax7.set_ylabel(\"\")\n",
        "\n",
        "# Oldpeak title\n",
        "ax8.text(0.5,0.5,\"Distribution of oldpeak\\naccording to\\n target variable\\n___________\",\n",
        "        horizontalalignment = 'center',\n",
        "        verticalalignment = 'center',\n",
        "        fontsize = 18,\n",
        "        fontweight='bold',\n",
        "        fontfamily='serif',\n",
        "        color='#000000')\n",
        "ax8.spines[\"bottom\"].set_visible(False)\n",
        "ax8.set_xticklabels([])\n",
        "ax8.set_yticklabels([])\n",
        "ax8.tick_params(left=False, bottom=False)\n",
        "\n",
        "# Oldpeak\n",
        "ax9.grid(color='#000000', linestyle=':', axis='y', zorder=0,  dashes=(1,5))\n",
        "sns.kdeplot(ax=ax9, data=df, x='oldpeak',hue=\"output\", fill=True,palette=[\"#8000ff\",\"#da8829\"], alpha=.5, linewidth=0)\n",
        "ax9.set_xlabel(\"\")\n",
        "ax9.set_ylabel(\"\")\n",
        "\n",
        "for i in [\"top\",\"left\",\"right\"]:\n",
        "    ax0.spines[i].set_visible(False)\n",
        "    ax1.spines[i].set_visible(False)\n",
        "    ax2.spines[i].set_visible(False)\n",
        "    ax3.spines[i].set_visible(False)\n",
        "    ax4.spines[i].set_visible(False)\n",
        "    ax5.spines[i].set_visible(False)\n",
        "    ax6.spines[i].set_visible(False)\n",
        "    ax7.spines[i].set_visible(False)\n",
        "    ax8.spines[i].set_visible(False)\n",
        "    ax9.spines[i].set_visible(False)"
      ],
      "metadata": {
        "_kg_hide-input": true,
        "execution": {
          "iopub.status.busy": "2022-08-19T14:14:25.313069Z",
          "iopub.execute_input": "2022-08-19T14:14:25.313510Z",
          "iopub.status.idle": "2022-08-19T14:14:27.086111Z",
          "shell.execute_reply.started": "2022-08-19T14:14:25.313472Z",
          "shell.execute_reply": "2022-08-19T14:14:27.084930Z"
        },
        "trusted": true,
        "id": "079oOAYUpvkw"
      },
      "execution_count": null,
      "outputs": []
    },
    {
      "cell_type": "markdown",
      "source": [
        "##### 3.2.4 Some other relations that seemed intuitive"
      ],
      "metadata": {
        "id": "km7fzX5Opvkx"
      }
    },
    {
      "cell_type": "code",
      "source": [
        "fig = plt.figure(figsize=(18,20))\n",
        "gs = fig.add_gridspec(6,2)\n",
        "gs.update(wspace=0.5, hspace=0.5)\n",
        "ax0 = fig.add_subplot(gs[0,0])\n",
        "ax1 = fig.add_subplot(gs[0,1])\n",
        "ax2 = fig.add_subplot(gs[1,0])\n",
        "ax3 = fig.add_subplot(gs[1,1])\n",
        "ax4 = fig.add_subplot(gs[2,0])\n",
        "ax5 = fig.add_subplot(gs[2,1])\n",
        "ax6 = fig.add_subplot(gs[3,0])\n",
        "ax7 = fig.add_subplot(gs[3,1])\n",
        "ax8 = fig.add_subplot(gs[4,0])\n",
        "ax9 = fig.add_subplot(gs[4,1])\n",
        "ax10 = fig.add_subplot(gs[5,0])\n",
        "ax11 = fig.add_subplot(gs[5,1])\n",
        "\n",
        "background_color = \"#ffe6e6\"\n",
        "color_palette = [\"#800000\",\"#8000ff\",\"#6aac90\",\"#5833ff\",\"#da8829\"]\n",
        "fig.patch.set_facecolor(background_color) \n",
        "ax0.set_facecolor(background_color) \n",
        "ax1.set_facecolor(background_color) \n",
        "ax2.set_facecolor(background_color)\n",
        "ax3.set_facecolor(background_color)\n",
        "ax4.set_facecolor(background_color)\n",
        "ax5.set_facecolor(background_color) \n",
        "ax6.set_facecolor(background_color) \n",
        "ax7.set_facecolor(background_color)\n",
        "ax8.set_facecolor(background_color)\n",
        "ax9.set_facecolor(background_color)\n",
        "ax10.set_facecolor(background_color)\n",
        "ax11.set_facecolor(background_color)\n",
        "\n",
        "# Cp title\n",
        "# 0 = Typical Angina, 1 = Atypical Angina, 2 = Non-anginal Pain, 3 = Asymptomatic\n",
        "ax0.text(0.5,0.5,\"Chest pain\\ndistribution\\n__________\",\n",
        "        horizontalalignment = 'center',\n",
        "        verticalalignment = 'center',\n",
        "        fontsize = 18,\n",
        "        fontweight='bold',\n",
        "        fontfamily='serif',\n",
        "        color='#000000')\n",
        "ax0.spines[\"bottom\"].set_visible(False)\n",
        "ax0.set_xticklabels([])\n",
        "ax0.set_yticklabels([])\n",
        "ax0.tick_params(left=False, bottom=False)\n",
        "ax0.text(1,.5,\"0 - Typical Angina\\n1 - Atypical Angina\\n2 - Non-anginal Pain\\n3 - Asymptomatic\",\n",
        "        horizontalalignment = 'center',\n",
        "         verticalalignment = 'center',\n",
        "        fontsize = 14\n",
        "        )\n",
        "\n",
        "# Cp\n",
        "ax1.grid(color='#000000', linestyle=':', axis='y', zorder=0,  dashes=(1,5))\n",
        "sns.kdeplot(ax=ax1, data=df, x='cp',hue=\"output\", fill=True,palette=[\"#8000ff\",\"#da8829\"], alpha=.5, linewidth=0)\n",
        "ax1.set_xlabel(\"\")\n",
        "ax1.set_ylabel(\"\")\n",
        "\n",
        "# Caa title\n",
        "ax2.text(0.5,0.5,\"Number of\\nmajor vessels\\n___________\",\n",
        "        horizontalalignment = 'center',\n",
        "        verticalalignment = 'center',\n",
        "        fontsize = 18,\n",
        "        fontweight='bold',\n",
        "        fontfamily='serif',\n",
        "        color='#000000')\n",
        "ax2.text(1,.5,\"0 vessels\\n1 vessel\\n2 vessels\\n3 vessels\\n4vessels\",\n",
        "        horizontalalignment = 'center',\n",
        "         verticalalignment = 'center',\n",
        "        fontsize = 14\n",
        "        )\n",
        "\n",
        "ax2.spines[\"bottom\"].set_visible(False)\n",
        "ax2.set_xticklabels([])\n",
        "ax2.set_yticklabels([])\n",
        "ax2.tick_params(left=False, bottom=False)\n",
        "\n",
        "# Caa\n",
        "ax3.grid(color='#000000', linestyle=':', axis='y', zorder=0,  dashes=(1,5))\n",
        "sns.kdeplot(ax=ax3, data=df, x='caa',hue=\"output\", fill=True,palette=[\"#8000ff\",\"#da8829\"], alpha=.5, linewidth=0)\n",
        "ax3.set_xlabel(\"\")\n",
        "ax3.set_ylabel(\"\")\n",
        "\n",
        "# Sex title\n",
        "ax4.text(0.5,0.5,\"Heart Attack\\naccording to\\nsex\\n______\",\n",
        "        horizontalalignment = 'center',\n",
        "        verticalalignment = 'center',\n",
        "        fontsize = 18,\n",
        "        fontweight='bold',\n",
        "        fontfamily='serif',\n",
        "        color='#000000')\n",
        "ax4.text(1,.5,\"0 - Female\\n1 - Male\",\n",
        "        horizontalalignment = 'center',\n",
        "         verticalalignment = 'center',\n",
        "        fontsize = 14\n",
        "        )\n",
        "ax4.spines[\"bottom\"].set_visible(False)\n",
        "ax4.set_xticklabels([])\n",
        "ax4.set_yticklabels([])\n",
        "ax4.tick_params(left=False, bottom=False)\n",
        "\n",
        "# Sex\n",
        "ax5.grid(color='#000000', linestyle=':', axis='y', zorder=0,  dashes=(1,5))\n",
        "sns.countplot(ax=ax5,data=df,x='sex',palette=[\"#8000ff\",\"#da8829\"], hue='output')\n",
        "ax5.set_xlabel(\"\")\n",
        "ax5.set_ylabel(\"\")\n",
        "\n",
        "# Thall title\n",
        "ax6.text(0.5,0.5,\"Distribution of thall\\naccording to\\n target variable\\n___________\",\n",
        "        horizontalalignment = 'center',\n",
        "        verticalalignment = 'center',\n",
        "        fontsize = 18,\n",
        "        fontweight='bold',\n",
        "        fontfamily='serif',\n",
        "        color='#000000')\n",
        "ax6.text(1,.5,\"Thalium Stress\\nTest Result\\n0, 1, 2, 3\",\n",
        "        horizontalalignment = 'center',\n",
        "         verticalalignment = 'center',\n",
        "        fontsize = 14\n",
        "        )\n",
        "ax6.spines[\"bottom\"].set_visible(False)\n",
        "ax6.set_xticklabels([])\n",
        "ax6.set_yticklabels([])\n",
        "ax6.tick_params(left=False, bottom=False)\n",
        "\n",
        "# Thall\n",
        "ax7.grid(color='#000000', linestyle=':', axis='y', zorder=0,  dashes=(1,5))\n",
        "sns.kdeplot(ax=ax7, data=df, x='thall',hue=\"output\", fill=True,palette=[\"#8000ff\",\"#da8829\"], alpha=.5, linewidth=0)\n",
        "ax7.set_xlabel(\"\")\n",
        "ax7.set_ylabel(\"\")\n",
        "\n",
        "# Thalachh title\n",
        "ax8.text(0.5,0.5,\"Boxen plot of\\nthalachh wrt\\noutcome\\n_______\",\n",
        "        horizontalalignment = 'center',\n",
        "        verticalalignment = 'center',\n",
        "        fontsize = 18,\n",
        "        fontweight='bold',\n",
        "        fontfamily='serif',\n",
        "        color='#000000')\n",
        "ax8.text(1,.5,\"Maximum heart\\nrate achieved\",\n",
        "        horizontalalignment = 'center',\n",
        "         verticalalignment = 'center',\n",
        "        fontsize = 14\n",
        "        )\n",
        "\n",
        "ax8.spines[\"bottom\"].set_visible(False)\n",
        "ax8.set_xticklabels([])\n",
        "ax8.set_yticklabels([])\n",
        "ax8.tick_params(left=False, bottom=False)\n",
        "\n",
        "# Thalachh\n",
        "ax9.grid(color='#000000', linestyle=':', axis='y', zorder=0,  dashes=(1,5))\n",
        "sns.boxenplot(ax=ax9, data=df,x='output',y='thalachh',palette=[\"#8000ff\",\"#da8829\"])\n",
        "ax9.set_xlabel(\"\")\n",
        "ax9.set_ylabel(\"\")\n",
        "\n",
        "\n",
        "\n",
        "# Exng title\n",
        "ax10.text(0.5,0.5,\"Strip Plot of\\nexng vs age\\n______\",\n",
        "        horizontalalignment = 'center',\n",
        "        verticalalignment = 'center',\n",
        "        fontsize = 18,\n",
        "        fontweight='bold',\n",
        "        fontfamily='serif',\n",
        "        color='#000000')\n",
        "ax10.text(1,.5,\"Exercise induced\\nangina\\n0 - No\\n1 - Yes\",\n",
        "        horizontalalignment = 'center',\n",
        "         verticalalignment = 'center',\n",
        "        fontsize = 14\n",
        "        )\n",
        "ax10.spines[\"bottom\"].set_visible(False)\n",
        "ax10.set_xticklabels([])\n",
        "ax10.set_yticklabels([])\n",
        "ax10.tick_params(left=False, bottom=False)\n",
        "\n",
        "\n",
        "# Exng\n",
        "ax11.grid(color='#000000', linestyle=':', axis='y', zorder=0,  dashes=(1,5))\n",
        "sns.stripplot(ax=ax11, data=df,x='exng',y='age',hue='output',palette=[\"#8000ff\",\"#da8829\"])\n",
        "ax9.set_xlabel(\"\")\n",
        "ax9.set_ylabel(\"\")\n",
        "\n",
        "for i in [\"top\",\"left\",\"right\"]:\n",
        "    ax0.spines[i].set_visible(False)\n",
        "    ax1.spines[i].set_visible(False)\n",
        "    ax2.spines[i].set_visible(False)\n",
        "    ax3.spines[i].set_visible(False)\n",
        "    ax4.spines[i].set_visible(False)\n",
        "    ax5.spines[i].set_visible(False)\n",
        "    ax6.spines[i].set_visible(False)\n",
        "    ax7.spines[i].set_visible(False)\n",
        "    ax8.spines[i].set_visible(False)\n",
        "    ax9.spines[i].set_visible(False)\n",
        "    ax10.spines[i].set_visible(False)\n",
        "    ax11.spines[i].set_visible(False)"
      ],
      "metadata": {
        "_kg_hide-input": true,
        "_kg_hide-output": false,
        "execution": {
          "iopub.status.busy": "2022-08-19T13:48:45.550752Z",
          "iopub.status.idle": "2022-08-19T13:48:45.551428Z"
        },
        "trusted": true,
        "id": "DZwn-mzWpvkx"
      },
      "execution_count": null,
      "outputs": []
    },
    {
      "cell_type": "markdown",
      "source": [
        "##### 3.2.5 Pairplot according to target variable - one plot to rule them all"
      ],
      "metadata": {
        "id": "e5bM7PEFpvkx"
      }
    },
    {
      "cell_type": "code",
      "source": [
        "sns.pairplot(df,hue='output',palette = [\"#8000ff\",\"#da8829\"])\n",
        "plt.show()"
      ],
      "metadata": {
        "_kg_hide-input": true,
        "execution": {
          "iopub.status.busy": "2022-08-19T14:31:48.270934Z",
          "iopub.execute_input": "2022-08-19T14:31:48.271360Z",
          "iopub.status.idle": "2022-08-19T14:32:36.103923Z",
          "shell.execute_reply.started": "2022-08-19T14:31:48.271311Z",
          "shell.execute_reply": "2022-08-19T14:32:36.102653Z"
        },
        "trusted": true,
        "id": "D84lmdNSpvkx"
      },
      "execution_count": null,
      "outputs": []
    },
    {
      "cell_type": "markdown",
      "source": [
        "### 4. Data Preprocessing <a id=11></a>\n",
        "[back to top](#18)"
      ],
      "metadata": {
        "id": "-1YvWXrHpvkx"
      }
    },
    {
      "cell_type": "markdown",
      "source": [
        "#### 4.1 Conclusions from the EDA <a id=12></a>\n",
        "\n",
        "1. There are no NaN values in the data.\n",
        "2. There are certain outliers in all the continuous features.\n",
        "3. The data consists of more than twice the number of people with `sex` = 1 than `sex` = 0.\n",
        "4. There is no apparent linear correlation between continuous variable according to the heatmap.\n",
        "5. The scatterplot heatmap matrix suggests that there might be some correlation between `output` and `cp`, `thalachh` and `slp`.\n",
        "6. It is intuitive that elder people might have higher chances of heart attack but according to the distribution plot of `age` wrt `output`, it is evident that this isn't the case.\n",
        "7. According to the distribution plot of `thalachh` wrt `output`, people with higher maximum heart rate achieved have higher chances of heart attack.\n",
        "8. According to the distribution plot of `oldpeak` wrt `output`, people with lower pevious peak achieved have higher chances of heart attack.\n",
        "9. The plot *3.2.4* tells about the following -\n",
        "    - People with Non-Anginal chest pain, that is with `cp` = 2 have higher chances of heart attack.\n",
        "    - People with 0 major vessels, that is with `caa` = 0 have high chance of heart attack.\n",
        "    - People with `sex` = 1 have higher chance of heart attack.\n",
        "    - People with `thall` = 2 have much higher chance of heart attack.\n",
        "    - People with no exercise induced angina, that is with `exng` = 0 have higher chance of heart attack."
      ],
      "metadata": {
        "id": "O4Axs17Ypvkx"
      }
    },
    {
      "cell_type": "markdown",
      "source": [
        "#### 4.2 Packages <a id=13></a>"
      ],
      "metadata": {
        "id": "D96HJAa4pvkx"
      }
    },
    {
      "cell_type": "code",
      "source": [
        "# Scaling\n",
        "from sklearn.preprocessing import RobustScaler\n",
        "\n",
        "# Train Test Split\n",
        "from sklearn.model_selection import train_test_split\n",
        "\n",
        "# Models\n",
        "import torch\n",
        "import torch.nn as nn\n",
        "from sklearn.svm import SVC\n",
        "from sklearn.linear_model import LogisticRegression\n",
        "from sklearn.ensemble import RandomForestClassifier\n",
        "from sklearn.tree import DecisionTreeClassifier\n",
        "from sklearn.ensemble import GradientBoostingClassifier\n",
        "\n",
        "# Metrics\n",
        "from sklearn.metrics import accuracy_score, classification_report, roc_curve\n",
        "\n",
        "# Cross Validation\n",
        "from sklearn.model_selection import cross_val_score\n",
        "from sklearn.model_selection import GridSearchCV\n",
        "\n",
        "print('Packages imported...')"
      ],
      "metadata": {
        "_kg_hide-input": true,
        "execution": {
          "iopub.status.busy": "2022-08-19T14:37:48.281853Z",
          "iopub.execute_input": "2022-08-19T14:37:48.282214Z",
          "iopub.status.idle": "2022-08-19T14:37:50.360910Z",
          "shell.execute_reply.started": "2022-08-19T14:37:48.282184Z",
          "shell.execute_reply": "2022-08-19T14:37:50.358934Z"
        },
        "trusted": true,
        "id": "K3GwmE3Gpvky"
      },
      "execution_count": null,
      "outputs": []
    },
    {
      "cell_type": "markdown",
      "source": [
        "\n",
        "#### 4.3 Making features model ready <a id=14></a>"
      ],
      "metadata": {
        "id": "W6g49Hhkpvky"
      }
    },
    {
      "cell_type": "markdown",
      "source": [
        "##### 4.3.1 Scaling and Encoding features"
      ],
      "metadata": {
        "id": "pjoXd73lpvky"
      }
    },
    {
      "cell_type": "code",
      "source": [
        "# creating a copy of df\n",
        "df1 = df\n",
        "\n",
        "# define the columns to be encoded and scaled\n",
        "cat_cols = ['sex','exng','caa','cp','fbs','restecg','slp','thall']\n",
        "con_cols = [\"age\",\"trtbps\",\"chol\",\"thalachh\",\"oldpeak\"]\n",
        "\n",
        "# encoding the categorical columns\n",
        "df1 = pd.get_dummies(df1, columns = cat_cols, drop_first = True)\n",
        "\n",
        "# defining the features and target\n",
        "X = df1.drop(['output'],axis=1)\n",
        "y = df1[['output']]\n",
        "\n",
        "# instantiating the scaler\n",
        "scaler = RobustScaler()\n",
        "\n",
        "# scaling the continuous featuree\n",
        "X[con_cols] = scaler.fit_transform(X[con_cols])\n",
        "print(\"The first 5 rows of X are\")\n",
        "X.head()"
      ],
      "metadata": {
        "_kg_hide-input": true,
        "execution": {
          "iopub.status.busy": "2022-08-19T13:48:45.556100Z",
          "iopub.status.idle": "2022-08-19T13:48:45.556584Z"
        },
        "trusted": true,
        "id": "1Om0DciPpvky"
      },
      "execution_count": null,
      "outputs": []
    },
    {
      "cell_type": "markdown",
      "source": [
        "##### 4.3.2 Train and test split"
      ],
      "metadata": {
        "id": "GvivzthNpvky"
      }
    },
    {
      "cell_type": "code",
      "source": [
        "X_train, X_test, y_train, y_test = train_test_split(X,y, test_size = 0.2, random_state = 42)\n",
        "print(\"The shape of X_train is      \", X_train.shape)\n",
        "print(\"The shape of X_test is       \",X_test.shape)\n",
        "print(\"The shape of y_train is      \",y_train.shape)\n",
        "print(\"The shape of y_test is       \",y_test.shape)"
      ],
      "metadata": {
        "_kg_hide-input": true,
        "execution": {
          "iopub.status.busy": "2022-08-19T13:48:45.557554Z",
          "iopub.status.idle": "2022-08-19T13:48:45.558071Z"
        },
        "trusted": true,
        "id": "YwRTE9-2pvky"
      },
      "execution_count": null,
      "outputs": []
    },
    {
      "cell_type": "markdown",
      "source": [
        "### 5. Modeling <a id=15></a>\n",
        "[back to top](#18)"
      ],
      "metadata": {
        "id": "Nhxrmlkfpvky"
      }
    },
    {
      "cell_type": "markdown",
      "source": [
        "#### 5.1 Linear Classifiers <a id=16></a>"
      ],
      "metadata": {
        "id": "9l1jAGhSpvky"
      }
    },
    {
      "cell_type": "markdown",
      "source": [
        "##### 5.1.1 Support Vector Machines"
      ],
      "metadata": {
        "id": "V06g1chcpvky"
      }
    },
    {
      "cell_type": "code",
      "source": [
        "# instantiating the object and fitting\n",
        "clf = SVC(kernel='linear', C=1, random_state=42).fit(X_train,y_train)\n",
        "\n",
        "# predicting the values\n",
        "y_pred = clf.predict(X_test)\n",
        "\n",
        "# printing the test accuracy\n",
        "print(\"The test accuracy score of SVM is \", accuracy_score(y_test, y_pred))"
      ],
      "metadata": {
        "_kg_hide-input": true,
        "execution": {
          "iopub.status.busy": "2022-08-19T13:48:45.559204Z",
          "iopub.status.idle": "2022-08-19T13:48:45.559676Z"
        },
        "trusted": true,
        "id": "uTJxRrc3pvky"
      },
      "execution_count": null,
      "outputs": []
    },
    {
      "cell_type": "markdown",
      "source": [
        "##### 5.1.2 Hyperparameter tuning of SVC"
      ],
      "metadata": {
        "id": "sMoe_kLUpvky"
      }
    },
    {
      "cell_type": "code",
      "source": [
        "# instantiating the object\n",
        "svm = SVC()\n",
        "\n",
        "# setting a grid - not so extensive\n",
        "parameters = {\"C\":np.arange(1,10,1),'gamma':[0.00001,0.00005, 0.0001,0.0005,0.001,0.005,0.01,0.05,0.1,0.5,1,5]}\n",
        "\n",
        "# instantiating the GridSearchCV object\n",
        "searcher = GridSearchCV(svm, parameters)\n",
        "\n",
        "# fitting the object\n",
        "searcher.fit(X_train, y_train)\n",
        "\n",
        "# the scores\n",
        "print(\"The best params are :\", searcher.best_params_)\n",
        "print(\"The best score is   :\", searcher.best_score_)\n",
        "\n",
        "# predicting the values\n",
        "y_pred = searcher.predict(X_test)\n",
        "\n",
        "# printing the test accuracy\n",
        "print(\"The test accuracy score of SVM after hyper-parameter tuning is \", accuracy_score(y_test, y_pred))"
      ],
      "metadata": {
        "_kg_hide-input": true,
        "execution": {
          "iopub.status.busy": "2022-08-19T13:48:45.561053Z",
          "iopub.status.idle": "2022-08-19T13:48:45.561528Z"
        },
        "trusted": true,
        "id": "4DM1bVRNpvky"
      },
      "execution_count": null,
      "outputs": []
    },
    {
      "cell_type": "markdown",
      "source": [
        "##### 5.1.3 Logistic Regression"
      ],
      "metadata": {
        "id": "TAoMpu4cpvky"
      }
    },
    {
      "cell_type": "code",
      "source": [
        "# instantiating the object\n",
        "logreg = LogisticRegression()\n",
        "\n",
        "# fitting the object\n",
        "logreg.fit(X_train, y_train)\n",
        "\n",
        "# calculating the probabilities\n",
        "y_pred_proba = logreg.predict_proba(X_test)\n",
        "\n",
        "# finding the predicted valued\n",
        "y_pred = np.argmax(y_pred_proba,axis=1)\n",
        "\n",
        "# printing the test accuracy\n",
        "print(\"The test accuracy score of Logistric Regression is \", accuracy_score(y_test, y_pred))"
      ],
      "metadata": {
        "_kg_hide-input": true,
        "execution": {
          "iopub.status.busy": "2022-08-19T13:48:45.562925Z",
          "iopub.status.idle": "2022-08-19T13:48:45.563408Z"
        },
        "trusted": true,
        "id": "k25kx31spvkz"
      },
      "execution_count": null,
      "outputs": []
    },
    {
      "cell_type": "markdown",
      "source": [
        "##### 5.1.4 ROC Curve"
      ],
      "metadata": {
        "id": "9vjEJCP8pvkz"
      }
    },
    {
      "cell_type": "code",
      "source": [
        "# calculating the probabilities\n",
        "y_pred_prob = logreg.predict_proba(X_test)[:,1]\n",
        "\n",
        "# instantiating the roc_cruve\n",
        "fpr,tpr,threshols=roc_curve(y_test,y_pred_prob)\n",
        "\n",
        "# plotting the curve\n",
        "plt.plot([0,1],[0,1],\"k--\",'r+')\n",
        "plt.plot(fpr,tpr,label='Logistic Regression')\n",
        "plt.xlabel(\"False Positive Rate\")\n",
        "plt.ylabel(\"True Positive Rate\")\n",
        "plt.title(\"Logistric Regression ROC Curve\")\n",
        "plt.show()"
      ],
      "metadata": {
        "_kg_hide-input": true,
        "execution": {
          "iopub.status.busy": "2022-08-19T13:48:45.564443Z",
          "iopub.status.idle": "2022-08-19T13:48:45.564962Z"
        },
        "trusted": true,
        "id": "ZwsqphqGpvkz"
      },
      "execution_count": null,
      "outputs": []
    },
    {
      "cell_type": "markdown",
      "source": [
        "#### 5.2 Tree Models <a id=17></a>"
      ],
      "metadata": {
        "id": "jCOBmPYPpvkz"
      }
    },
    {
      "cell_type": "markdown",
      "source": [
        "##### 5.2.1 Decision Tree"
      ],
      "metadata": {
        "id": "ZVL5J6_ypvkz"
      }
    },
    {
      "cell_type": "code",
      "source": [
        "# instantiating the object\n",
        "dt = DecisionTreeClassifier(random_state = 42)\n",
        "\n",
        "# fitting the model\n",
        "dt.fit(X_train, y_train)\n",
        "\n",
        "# calculating the predictions\n",
        "y_pred = dt.predict(X_test)\n",
        "\n",
        "# printing the test accuracy\n",
        "print(\"The test accuracy score of Decision Tree is \", accuracy_score(y_test, y_pred))"
      ],
      "metadata": {
        "_kg_hide-input": true,
        "execution": {
          "iopub.status.busy": "2022-08-19T13:48:45.566106Z",
          "iopub.status.idle": "2022-08-19T13:48:45.566582Z"
        },
        "trusted": true,
        "id": "p_JP190bpvkz"
      },
      "execution_count": null,
      "outputs": []
    },
    {
      "cell_type": "markdown",
      "source": [
        "##### 5.2.2 Random Forest"
      ],
      "metadata": {
        "id": "2SGTFbGWpvkz"
      }
    },
    {
      "cell_type": "code",
      "source": [
        "# instantiating the object\n",
        "rf = RandomForestClassifier()\n",
        "\n",
        "# fitting the model\n",
        "rf.fit(X_train, y_train)\n",
        "\n",
        "# calculating the predictions\n",
        "y_pred = dt.predict(X_test)\n",
        "\n",
        "# printing the test accuracy\n",
        "print(\"The test accuracy score of Random Forest is \", accuracy_score(y_test, y_pred))"
      ],
      "metadata": {
        "_kg_hide-input": true,
        "execution": {
          "iopub.status.busy": "2022-08-19T13:48:45.567792Z",
          "iopub.status.idle": "2022-08-19T13:48:45.568289Z"
        },
        "trusted": true,
        "id": "Rn5fwHHypvkz"
      },
      "execution_count": null,
      "outputs": []
    },
    {
      "cell_type": "markdown",
      "source": [
        "##### 5.2.3 Gradient Boosting Classifier - without tuning"
      ],
      "metadata": {
        "id": "DLlXM13fpvkz"
      }
    },
    {
      "cell_type": "code",
      "source": [
        "# instantiate the classifier\n",
        "gbt = GradientBoostingClassifier(n_estimators = 300,max_depth=1,subsample=0.8,max_features=0.2,random_state=42)\n",
        "\n",
        "# fitting the model\n",
        "gbt.fit(X_train,y_train)\n",
        "\n",
        "# predicting values\n",
        "y_pred = gbt.predict(X_test)\n",
        "print(\"The test accuracy score of Gradient Boosting Classifier is \", accuracy_score(y_test, y_pred))"
      ],
      "metadata": {
        "_kg_hide-input": true,
        "execution": {
          "iopub.status.busy": "2022-08-19T13:48:45.569255Z",
          "iopub.status.idle": "2022-08-19T13:48:45.569743Z"
        },
        "trusted": true,
        "id": "cwmI_kqgpvkz"
      },
      "execution_count": null,
      "outputs": []
    },
    {
      "cell_type": "markdown",
      "source": [
        "[back to top](#18)"
      ],
      "metadata": {
        "id": "uaUX-ENppvkz"
      }
    },
    {
      "cell_type": "markdown",
      "source": [
        "### If you like the notebook, consider giving an upvote.\n",
        "Check my other notebooks \n",
        "\n",
        "1. https://www.kaggle.com/namanmanchanda/cat-vs-dog-classifier-10-lines-of-code-fast-ai\n",
        "2. https://www.kaggle.com/namanmanchanda/star-wars-classifier\n",
        "3. https://www.kaggle.com/namanmanchanda/pima-indian-diabetes-eda-and-prediction\n",
        "4. https://www.kaggle.com/namanmanchanda/asl-detection-99-accuracy\n",
        "5. https://www.kaggle.com/namanmanchanda/pytorch-101"
      ],
      "metadata": {
        "_kg_hide-input": false,
        "id": "b2kzHWDQpvkz"
      }
    },
    {
      "cell_type": "code",
      "source": [
        ""
      ],
      "metadata": {
        "id": "i_n6Z01Ypvk0"
      },
      "execution_count": null,
      "outputs": []
    }
  ]
}