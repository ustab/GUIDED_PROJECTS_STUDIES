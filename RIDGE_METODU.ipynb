{
  "nbformat": 4,
  "nbformat_minor": 0,
  "metadata": {
    "colab": {
      "name": "RIDGE METODU.ipynb",
      "private_outputs": true,
      "provenance": [],
      "authorship_tag": "ABX9TyMEErLtGGQmfLf58ty9WG6L",
      "include_colab_link": true
    },
    "kernelspec": {
      "name": "python3",
      "display_name": "Python 3"
    },
    "language_info": {
      "name": "python"
    }
  },
  "cells": [
    {
      "cell_type": "markdown",
      "metadata": {
        "id": "view-in-github",
        "colab_type": "text"
      },
      "source": [
        "<a href=\"https://colab.research.google.com/github/ustab/GUIDED_PROJECTS_STUDIES/blob/main/RIDGE_METODU.ipynb\" target=\"_parent\"><img src=\"https://colab.research.google.com/assets/colab-badge.svg\" alt=\"Open In Colab\"/></a>"
      ]
    },
    {
      "cell_type": "code",
      "source": [
        "!pip install mglearn"
      ],
      "metadata": {
        "id": "6OWk3Jvc6OWp"
      },
      "execution_count": null,
      "outputs": []
    },
    {
      "cell_type": "code",
      "execution_count": null,
      "metadata": {
        "id": "6WUOqFZy5vUv"
      },
      "outputs": [],
      "source": [
        "from sklearn.datasets import load_boston "
      ]
    },
    {
      "cell_type": "code",
      "source": [
        "boston=load_boston()"
      ],
      "metadata": {
        "id": "KZGbe1R76E2D"
      },
      "execution_count": null,
      "outputs": []
    },
    {
      "cell_type": "code",
      "source": [
        "import mglearn"
      ],
      "metadata": {
        "id": "gwNPkaKy8BKR"
      },
      "execution_count": null,
      "outputs": []
    },
    {
      "cell_type": "code",
      "source": [
        "from sklearn.model_selection import train_test_split"
      ],
      "metadata": {
        "id": "i6npyNxR8gbY"
      },
      "execution_count": null,
      "outputs": []
    },
    {
      "cell_type": "code",
      "source": [
        "X.shape"
      ],
      "metadata": {
        "id": "J1MZrLU8-32n"
      },
      "execution_count": null,
      "outputs": []
    },
    {
      "cell_type": "code",
      "source": [
        "X,y=mglearn.datasets.load_extended_boston()"
      ],
      "metadata": {
        "id": "8sYDQdnd-LYV"
      },
      "execution_count": null,
      "outputs": []
    },
    {
      "cell_type": "code",
      "source": [
        "X_train, X_test, y_train, y_test = train_test_split(X, y, random_state=0)"
      ],
      "metadata": {
        "id": "mZxbq2jD9-Sm"
      },
      "execution_count": null,
      "outputs": []
    },
    {
      "cell_type": "code",
      "source": [
        "from sklearn.model_selection import train_test_split"
      ],
      "metadata": {
        "id": "Q68l0PaT-t79"
      },
      "execution_count": null,
      "outputs": []
    },
    {
      "cell_type": "code",
      "source": [
        "from sklearn.linear_model import Ridge"
      ],
      "metadata": {
        "id": "WEX_gVTw-8Ew"
      },
      "execution_count": null,
      "outputs": []
    },
    {
      "cell_type": "code",
      "source": [
        "ridge=Ridge().fit(X_train, y_train)\n",
        "ridge"
      ],
      "metadata": {
        "id": "qxGmZ-Nu_Ddz"
      },
      "execution_count": null,
      "outputs": []
    },
    {
      "cell_type": "code",
      "source": [
        "print(ridge.score(X_train, y_train))\n",
        "print(ridge.score(X_test, y_test))"
      ],
      "metadata": {
        "id": "ipjq5lzf_KIU"
      },
      "execution_count": null,
      "outputs": []
    },
    {
      "cell_type": "code",
      "source": [
        "ridge10=Ridge(alpha=10).fit(X_train, y_train)"
      ],
      "metadata": {
        "id": "WbWlOuPbCC0N"
      },
      "execution_count": null,
      "outputs": []
    },
    {
      "cell_type": "code",
      "source": [
        "print(ridge10.score(X_train, y_train))\n",
        "print(ridge10.score(X_test, y_test))"
      ],
      "metadata": {
        "id": "He8gMZxWCUuW"
      },
      "execution_count": null,
      "outputs": []
    },
    {
      "cell_type": "code",
      "source": [
        "ridge01=Ridge(alpha=0.1).fit(X_train, y_train)"
      ],
      "metadata": {
        "id": "chhkqpAbC6_V"
      },
      "execution_count": null,
      "outputs": []
    },
    {
      "cell_type": "code",
      "source": [
        "print(ridge01.score(X_train, y_train))\n",
        "print(ridge01.score(X_test, y_test))"
      ],
      "metadata": {
        "id": "FEhESCffC15x"
      },
      "execution_count": null,
      "outputs": []
    }
  ]
}