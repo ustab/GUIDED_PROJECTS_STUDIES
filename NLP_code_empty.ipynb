{
  "cells": [
    {
      "cell_type": "markdown",
      "metadata": {
        "id": "view-in-github",
        "colab_type": "text"
      },
      "source": [
        "<a href=\"https://colab.research.google.com/github/ustab/MY-GUIDED_PROJECTS_STUDIES/blob/main/NLP_code_empty.ipynb\" target=\"_parent\"><img src=\"https://colab.research.google.com/assets/colab-badge.svg\" alt=\"Open In Colab\"/></a>"
      ]
    },
    {
      "cell_type": "code",
      "execution_count": 1,
      "metadata": {
        "colab": {
          "base_uri": "https://localhost:8080/"
        },
        "id": "_YgzRt0oKVhR",
        "outputId": "85d31bc1-0432-4d7e-85f7-615529838ceb"
      },
      "outputs": [
        {
          "output_type": "stream",
          "name": "stderr",
          "text": [
            "[nltk_data] Downloading package stopwords to /root/nltk_data...\n",
            "[nltk_data]   Unzipping corpora/stopwords.zip.\n",
            "[nltk_data] Downloading package wordnet to /root/nltk_data...\n"
          ]
        }
      ],
      "source": [
        "import matplotlib.pyplot as plt\n",
        "import pandas as pd\n",
        "import re\n",
        "from sklearn.feature_extraction.text import TfidfVectorizer\n",
        "from nltk import download\n",
        "download('stopwords')\n",
        "download('wordnet')\n",
        "from nltk.corpus import stopwords\n",
        "from wordcloud import WordCloud\n",
        "import json\n",
        "from nltk.stem import WordNetLemmatizer"
      ]
    },
    {
      "cell_type": "code",
      "execution_count": 2,
      "metadata": {
        "id": "D2T92NslKVhV"
      },
      "outputs": [],
      "source": [
        "# task 1 - loading\n",
        "data=pd.read_json('/content/recipes.json', lines=True)"
      ]
    },
    {
      "cell_type": "code",
      "execution_count": 3,
      "metadata": {
        "colab": {
          "base_uri": "https://localhost:8080/",
          "height": 1000
        },
        "id": "uNM2WS-6KVhW",
        "outputId": "ec5199a9-84f2-451f-fb82-408bf82fcd5f"
      },
      "outputs": [
        {
          "output_type": "execute_result",
          "data": {
            "text/plain": [
              "                              Name  \\\n",
              "0                    Christmas pie   \n",
              "1     Simmer-&-stir Christmas cake   \n",
              "2               Christmas cupcakes   \n",
              "3                   Christmas buns   \n",
              "4               Christmas cupcakes   \n",
              "...                            ...   \n",
              "1612             Flavoured butters   \n",
              "1613             Crispy Roast Duck   \n",
              "1614        Smoked salmon kedgeree   \n",
              "1615             Spicy potted crab   \n",
              "1616          Sage and Onion Sauce   \n",
              "\n",
              "                                                    url  \\\n",
              "0     https://www.bbcgoodfood.com/recipes/2793/chris...   \n",
              "1     https://www.bbcgoodfood.com/recipes/1160/simme...   \n",
              "2     https://www.bbcgoodfood.com/recipes/72622/chri...   \n",
              "3     https://www.bbcgoodfood.com/recipes/1803633/ch...   \n",
              "4     https://www.bbcgoodfood.com/recipes/981634/chr...   \n",
              "...                                                 ...   \n",
              "1612  https://www.bbcgoodfood.com/recipes/1911/flavo...   \n",
              "1613  https://www.bbcgoodfood.com/recipes/3248/crisp...   \n",
              "1614  https://www.bbcgoodfood.com/recipes/3047/smoke...   \n",
              "1615  https://www.bbcgoodfood.com/recipes/1797/spicy...   \n",
              "1616  https://www.bbcgoodfood.com/recipes/3250/sage-...   \n",
              "\n",
              "                                            Description            Author  \\\n",
              "0     Combine a few key Christmas flavours here to m...      Mary Cadogan   \n",
              "1     An easy-to-make alternative to traditional Chr...      Mary Cadogan   \n",
              "2     These beautiful and classy little cakes make l...     Sara Buenfeld   \n",
              "3     Paul Hollywood's fruit rolls can be made ahead...    Paul Hollywood   \n",
              "4     Made these for the second time today, and I ha...  Barney Desmazery   \n",
              "...                                                 ...               ...   \n",
              "1612  Try these different flavoured butters melted o...      Maxine Clark   \n",
              "1613  Duck basted to perfection, ideal for a Sunday ...       Ruth Watson   \n",
              "1614  This kedgeree is totally delicious. Treat ever...  Barney Desmazery   \n",
              "1615             An ideal elegant starter for a wedding  Merrilees Parker   \n",
              "1616  A great accompaniment to roast duck that can b...       Ruth Watson   \n",
              "\n",
              "                                            Ingredients  \\\n",
              "0     [2 tbsp olive oil, knob butter, 1 onion, finel...   \n",
              "1     [175g butter, chopped, 200g dark muscovado sug...   \n",
              "2     [200g dark muscovado sugar, 175g butter, chopp...   \n",
              "3     [500g strong white flour, plus extra for dusti...   \n",
              "4     [280g self-raising flour, 175g golden caster s...   \n",
              "...                                                 ...   \n",
              "1612  [100g softened butter, 2-3 tbsp chopped fresh ...   \n",
              "1613  [3 medium-sized duckss (each about 2¼kg/5lb), ...   \n",
              "1614  [300g basmati rice, 8 eggs, 400g pack sliced s...   \n",
              "1615  [6 x 250g pkts unsalted butter, 2 tsp hot chil...   \n",
              "1616  [all the innards, wings and bones from the duc...   \n",
              "\n",
              "                                                 Method  \n",
              "0     [Heat oven to 190C/fan 170C/gas 5. Heat 1 tbsp...  \n",
              "1     [Put the butter, sugar, fruit, zests, juice an...  \n",
              "2     [Tip the sugar, butter, dried fruit, whole che...  \n",
              "3     [Put the flour and 1 tsp salt into a large bow...  \n",
              "4     [Heat oven to 190C/170 fan/gas 5 and line a 12...  \n",
              "...                                                 ...  \n",
              "1612  [Take100g/4oz softened butter and beat until c...  \n",
              "1613  [Remove the duck’s giblets and wash them. Cut ...  \n",
              "1614  [To make the sauce, heat the butter in a large...  \n",
              "1615  [ Heat the butter in a pan until melted. Turn ...  \n",
              "1616  [Preheat the oven to 230C/Gas 8/fan oven 210C....  \n",
              "\n",
              "[1617 rows x 6 columns]"
            ],
            "text/html": [
              "\n",
              "  <div id=\"df-bbe7a192-98e3-40eb-a014-758e2237c094\">\n",
              "    <div class=\"colab-df-container\">\n",
              "      <div>\n",
              "<style scoped>\n",
              "    .dataframe tbody tr th:only-of-type {\n",
              "        vertical-align: middle;\n",
              "    }\n",
              "\n",
              "    .dataframe tbody tr th {\n",
              "        vertical-align: top;\n",
              "    }\n",
              "\n",
              "    .dataframe thead th {\n",
              "        text-align: right;\n",
              "    }\n",
              "</style>\n",
              "<table border=\"1\" class=\"dataframe\">\n",
              "  <thead>\n",
              "    <tr style=\"text-align: right;\">\n",
              "      <th></th>\n",
              "      <th>Name</th>\n",
              "      <th>url</th>\n",
              "      <th>Description</th>\n",
              "      <th>Author</th>\n",
              "      <th>Ingredients</th>\n",
              "      <th>Method</th>\n",
              "    </tr>\n",
              "  </thead>\n",
              "  <tbody>\n",
              "    <tr>\n",
              "      <th>0</th>\n",
              "      <td>Christmas pie</td>\n",
              "      <td>https://www.bbcgoodfood.com/recipes/2793/chris...</td>\n",
              "      <td>Combine a few key Christmas flavours here to m...</td>\n",
              "      <td>Mary Cadogan</td>\n",
              "      <td>[2 tbsp olive oil, knob butter, 1 onion, finel...</td>\n",
              "      <td>[Heat oven to 190C/fan 170C/gas 5. Heat 1 tbsp...</td>\n",
              "    </tr>\n",
              "    <tr>\n",
              "      <th>1</th>\n",
              "      <td>Simmer-&amp;-stir Christmas cake</td>\n",
              "      <td>https://www.bbcgoodfood.com/recipes/1160/simme...</td>\n",
              "      <td>An easy-to-make alternative to traditional Chr...</td>\n",
              "      <td>Mary Cadogan</td>\n",
              "      <td>[175g butter, chopped, 200g dark muscovado sug...</td>\n",
              "      <td>[Put the butter, sugar, fruit, zests, juice an...</td>\n",
              "    </tr>\n",
              "    <tr>\n",
              "      <th>2</th>\n",
              "      <td>Christmas cupcakes</td>\n",
              "      <td>https://www.bbcgoodfood.com/recipes/72622/chri...</td>\n",
              "      <td>These beautiful and classy little cakes make l...</td>\n",
              "      <td>Sara Buenfeld</td>\n",
              "      <td>[200g dark muscovado sugar, 175g butter, chopp...</td>\n",
              "      <td>[Tip the sugar, butter, dried fruit, whole che...</td>\n",
              "    </tr>\n",
              "    <tr>\n",
              "      <th>3</th>\n",
              "      <td>Christmas buns</td>\n",
              "      <td>https://www.bbcgoodfood.com/recipes/1803633/ch...</td>\n",
              "      <td>Paul Hollywood's fruit rolls can be made ahead...</td>\n",
              "      <td>Paul Hollywood</td>\n",
              "      <td>[500g strong white flour, plus extra for dusti...</td>\n",
              "      <td>[Put the flour and 1 tsp salt into a large bow...</td>\n",
              "    </tr>\n",
              "    <tr>\n",
              "      <th>4</th>\n",
              "      <td>Christmas cupcakes</td>\n",
              "      <td>https://www.bbcgoodfood.com/recipes/981634/chr...</td>\n",
              "      <td>Made these for the second time today, and I ha...</td>\n",
              "      <td>Barney Desmazery</td>\n",
              "      <td>[280g self-raising flour, 175g golden caster s...</td>\n",
              "      <td>[Heat oven to 190C/170 fan/gas 5 and line a 12...</td>\n",
              "    </tr>\n",
              "    <tr>\n",
              "      <th>...</th>\n",
              "      <td>...</td>\n",
              "      <td>...</td>\n",
              "      <td>...</td>\n",
              "      <td>...</td>\n",
              "      <td>...</td>\n",
              "      <td>...</td>\n",
              "    </tr>\n",
              "    <tr>\n",
              "      <th>1612</th>\n",
              "      <td>Flavoured butters</td>\n",
              "      <td>https://www.bbcgoodfood.com/recipes/1911/flavo...</td>\n",
              "      <td>Try these different flavoured butters melted o...</td>\n",
              "      <td>Maxine Clark</td>\n",
              "      <td>[100g softened butter, 2-3 tbsp chopped fresh ...</td>\n",
              "      <td>[Take100g/4oz softened butter and beat until c...</td>\n",
              "    </tr>\n",
              "    <tr>\n",
              "      <th>1613</th>\n",
              "      <td>Crispy Roast Duck</td>\n",
              "      <td>https://www.bbcgoodfood.com/recipes/3248/crisp...</td>\n",
              "      <td>Duck basted to perfection, ideal for a Sunday ...</td>\n",
              "      <td>Ruth Watson</td>\n",
              "      <td>[3 medium-sized duckss (each about 2¼kg/5lb), ...</td>\n",
              "      <td>[Remove the duck’s giblets and wash them. Cut ...</td>\n",
              "    </tr>\n",
              "    <tr>\n",
              "      <th>1614</th>\n",
              "      <td>Smoked salmon kedgeree</td>\n",
              "      <td>https://www.bbcgoodfood.com/recipes/3047/smoke...</td>\n",
              "      <td>This kedgeree is totally delicious. Treat ever...</td>\n",
              "      <td>Barney Desmazery</td>\n",
              "      <td>[300g basmati rice, 8 eggs, 400g pack sliced s...</td>\n",
              "      <td>[To make the sauce, heat the butter in a large...</td>\n",
              "    </tr>\n",
              "    <tr>\n",
              "      <th>1615</th>\n",
              "      <td>Spicy potted crab</td>\n",
              "      <td>https://www.bbcgoodfood.com/recipes/1797/spicy...</td>\n",
              "      <td>An ideal elegant starter for a wedding</td>\n",
              "      <td>Merrilees Parker</td>\n",
              "      <td>[6 x 250g pkts unsalted butter, 2 tsp hot chil...</td>\n",
              "      <td>[ Heat the butter in a pan until melted. Turn ...</td>\n",
              "    </tr>\n",
              "    <tr>\n",
              "      <th>1616</th>\n",
              "      <td>Sage and Onion Sauce</td>\n",
              "      <td>https://www.bbcgoodfood.com/recipes/3250/sage-...</td>\n",
              "      <td>A great accompaniment to roast duck that can b...</td>\n",
              "      <td>Ruth Watson</td>\n",
              "      <td>[all the innards, wings and bones from the duc...</td>\n",
              "      <td>[Preheat the oven to 230C/Gas 8/fan oven 210C....</td>\n",
              "    </tr>\n",
              "  </tbody>\n",
              "</table>\n",
              "<p>1617 rows × 6 columns</p>\n",
              "</div>\n",
              "      <button class=\"colab-df-convert\" onclick=\"convertToInteractive('df-bbe7a192-98e3-40eb-a014-758e2237c094')\"\n",
              "              title=\"Convert this dataframe to an interactive table.\"\n",
              "              style=\"display:none;\">\n",
              "        \n",
              "  <svg xmlns=\"http://www.w3.org/2000/svg\" height=\"24px\"viewBox=\"0 0 24 24\"\n",
              "       width=\"24px\">\n",
              "    <path d=\"M0 0h24v24H0V0z\" fill=\"none\"/>\n",
              "    <path d=\"M18.56 5.44l.94 2.06.94-2.06 2.06-.94-2.06-.94-.94-2.06-.94 2.06-2.06.94zm-11 1L8.5 8.5l.94-2.06 2.06-.94-2.06-.94L8.5 2.5l-.94 2.06-2.06.94zm10 10l.94 2.06.94-2.06 2.06-.94-2.06-.94-.94-2.06-.94 2.06-2.06.94z\"/><path d=\"M17.41 7.96l-1.37-1.37c-.4-.4-.92-.59-1.43-.59-.52 0-1.04.2-1.43.59L10.3 9.45l-7.72 7.72c-.78.78-.78 2.05 0 2.83L4 21.41c.39.39.9.59 1.41.59.51 0 1.02-.2 1.41-.59l7.78-7.78 2.81-2.81c.8-.78.8-2.07 0-2.86zM5.41 20L4 18.59l7.72-7.72 1.47 1.35L5.41 20z\"/>\n",
              "  </svg>\n",
              "      </button>\n",
              "      \n",
              "  <style>\n",
              "    .colab-df-container {\n",
              "      display:flex;\n",
              "      flex-wrap:wrap;\n",
              "      gap: 12px;\n",
              "    }\n",
              "\n",
              "    .colab-df-convert {\n",
              "      background-color: #E8F0FE;\n",
              "      border: none;\n",
              "      border-radius: 50%;\n",
              "      cursor: pointer;\n",
              "      display: none;\n",
              "      fill: #1967D2;\n",
              "      height: 32px;\n",
              "      padding: 0 0 0 0;\n",
              "      width: 32px;\n",
              "    }\n",
              "\n",
              "    .colab-df-convert:hover {\n",
              "      background-color: #E2EBFA;\n",
              "      box-shadow: 0px 1px 2px rgba(60, 64, 67, 0.3), 0px 1px 3px 1px rgba(60, 64, 67, 0.15);\n",
              "      fill: #174EA6;\n",
              "    }\n",
              "\n",
              "    [theme=dark] .colab-df-convert {\n",
              "      background-color: #3B4455;\n",
              "      fill: #D2E3FC;\n",
              "    }\n",
              "\n",
              "    [theme=dark] .colab-df-convert:hover {\n",
              "      background-color: #434B5C;\n",
              "      box-shadow: 0px 1px 3px 1px rgba(0, 0, 0, 0.15);\n",
              "      filter: drop-shadow(0px 1px 2px rgba(0, 0, 0, 0.3));\n",
              "      fill: #FFFFFF;\n",
              "    }\n",
              "  </style>\n",
              "\n",
              "      <script>\n",
              "        const buttonEl =\n",
              "          document.querySelector('#df-bbe7a192-98e3-40eb-a014-758e2237c094 button.colab-df-convert');\n",
              "        buttonEl.style.display =\n",
              "          google.colab.kernel.accessAllowed ? 'block' : 'none';\n",
              "\n",
              "        async function convertToInteractive(key) {\n",
              "          const element = document.querySelector('#df-bbe7a192-98e3-40eb-a014-758e2237c094');\n",
              "          const dataTable =\n",
              "            await google.colab.kernel.invokeFunction('convertToInteractive',\n",
              "                                                     [key], {});\n",
              "          if (!dataTable) return;\n",
              "\n",
              "          const docLinkHtml = 'Like what you see? Visit the ' +\n",
              "            '<a target=\"_blank\" href=https://colab.research.google.com/notebooks/data_table.ipynb>data table notebook</a>'\n",
              "            + ' to learn more about interactive tables.';\n",
              "          element.innerHTML = '';\n",
              "          dataTable['output_type'] = 'display_data';\n",
              "          await google.colab.output.renderOutput(dataTable, element);\n",
              "          const docLink = document.createElement('div');\n",
              "          docLink.innerHTML = docLinkHtml;\n",
              "          element.appendChild(docLink);\n",
              "        }\n",
              "      </script>\n",
              "    </div>\n",
              "  </div>\n",
              "  "
            ]
          },
          "metadata": {},
          "execution_count": 3
        }
      ],
      "source": [
        "data"
      ]
    },
    {
      "cell_type": "code",
      "execution_count": 4,
      "metadata": {
        "colab": {
          "base_uri": "https://localhost:8080/"
        },
        "id": "KNcSZ8NCKVhW",
        "outputId": "e1215bd8-4c22-4c05-a4b7-1a7c671f5be8"
      },
      "outputs": [
        {
          "output_type": "stream",
          "name": "stdout",
          "text": [
            "<class 'pandas.core.frame.DataFrame'>\n",
            "RangeIndex: 1617 entries, 0 to 1616\n",
            "Data columns (total 6 columns):\n",
            " #   Column       Non-Null Count  Dtype \n",
            "---  ------       --------------  ----- \n",
            " 0   Name         1617 non-null   object\n",
            " 1   url          1617 non-null   object\n",
            " 2   Description  1429 non-null   object\n",
            " 3   Author       1611 non-null   object\n",
            " 4   Ingredients  1617 non-null   object\n",
            " 5   Method       1617 non-null   object\n",
            "dtypes: object(6)\n",
            "memory usage: 75.9+ KB\n"
          ]
        }
      ],
      "source": [
        "data.info()"
      ]
    },
    {
      "cell_type": "code",
      "execution_count": 5,
      "metadata": {
        "colab": {
          "base_uri": "https://localhost:8080/"
        },
        "id": "tN0xL2HzKVhW",
        "outputId": "00420c05-2140-4efb-bf2b-e0650bfba606"
      },
      "outputs": [
        {
          "output_type": "execute_result",
          "data": {
            "text/plain": [
              "0    [2 tbsp olive oil, knob butter, 1 onion, finel...\n",
              "1    [175g butter, chopped, 200g dark muscovado sug...\n",
              "2    [200g dark muscovado sugar, 175g butter, chopp...\n",
              "3    [500g strong white flour, plus extra for dusti...\n",
              "4    [280g self-raising flour, 175g golden caster s...\n",
              "Name: Ingredients, dtype: object"
            ]
          },
          "metadata": {},
          "execution_count": 5
        }
      ],
      "source": [
        "data['Ingredients'].head(5)"
      ]
    },
    {
      "cell_type": "code",
      "execution_count": 14,
      "metadata": {
        "id": "HrNIskiAKVhW"
      },
      "outputs": [],
      "source": [
        "# task 2 - cleaning\n",
        "data['Ingredients']=data['Ingredients'].map(lambda x: re.sub(r'[ˆa-zA-Z ]', ' ', str(x)))"
      ]
    },
    {
      "cell_type": "code",
      "execution_count": 15,
      "metadata": {
        "id": "D-SvNCp9KVhX"
      },
      "outputs": [],
      "source": [
        "data=data.dropna(subset=['Ingredients'])"
      ]
    },
    {
      "cell_type": "code",
      "source": [
        "stop=stopwords.words('english') + ['tsp', 'tbsp', 'finely', 'extra', 'chopped']"
      ],
      "metadata": {
        "id": "ZXMG9i5STp_l"
      },
      "execution_count": 18,
      "outputs": []
    },
    {
      "cell_type": "code",
      "source": [
        "stop"
      ],
      "metadata": {
        "colab": {
          "base_uri": "https://localhost:8080/"
        },
        "id": "nfElWc0QUaYr",
        "outputId": "e88f1c4c-f92d-4a5a-c658-6b9b7298d697"
      },
      "execution_count": 19,
      "outputs": [
        {
          "output_type": "execute_result",
          "data": {
            "text/plain": [
              "['i',\n",
              " 'me',\n",
              " 'my',\n",
              " 'myself',\n",
              " 'we',\n",
              " 'our',\n",
              " 'ours',\n",
              " 'ourselves',\n",
              " 'you',\n",
              " \"you're\",\n",
              " \"you've\",\n",
              " \"you'll\",\n",
              " \"you'd\",\n",
              " 'your',\n",
              " 'yours',\n",
              " 'yourself',\n",
              " 'yourselves',\n",
              " 'he',\n",
              " 'him',\n",
              " 'his',\n",
              " 'himself',\n",
              " 'she',\n",
              " \"she's\",\n",
              " 'her',\n",
              " 'hers',\n",
              " 'herself',\n",
              " 'it',\n",
              " \"it's\",\n",
              " 'its',\n",
              " 'itself',\n",
              " 'they',\n",
              " 'them',\n",
              " 'their',\n",
              " 'theirs',\n",
              " 'themselves',\n",
              " 'what',\n",
              " 'which',\n",
              " 'who',\n",
              " 'whom',\n",
              " 'this',\n",
              " 'that',\n",
              " \"that'll\",\n",
              " 'these',\n",
              " 'those',\n",
              " 'am',\n",
              " 'is',\n",
              " 'are',\n",
              " 'was',\n",
              " 'were',\n",
              " 'be',\n",
              " 'been',\n",
              " 'being',\n",
              " 'have',\n",
              " 'has',\n",
              " 'had',\n",
              " 'having',\n",
              " 'do',\n",
              " 'does',\n",
              " 'did',\n",
              " 'doing',\n",
              " 'a',\n",
              " 'an',\n",
              " 'the',\n",
              " 'and',\n",
              " 'but',\n",
              " 'if',\n",
              " 'or',\n",
              " 'because',\n",
              " 'as',\n",
              " 'until',\n",
              " 'while',\n",
              " 'of',\n",
              " 'at',\n",
              " 'by',\n",
              " 'for',\n",
              " 'with',\n",
              " 'about',\n",
              " 'against',\n",
              " 'between',\n",
              " 'into',\n",
              " 'through',\n",
              " 'during',\n",
              " 'before',\n",
              " 'after',\n",
              " 'above',\n",
              " 'below',\n",
              " 'to',\n",
              " 'from',\n",
              " 'up',\n",
              " 'down',\n",
              " 'in',\n",
              " 'out',\n",
              " 'on',\n",
              " 'off',\n",
              " 'over',\n",
              " 'under',\n",
              " 'again',\n",
              " 'further',\n",
              " 'then',\n",
              " 'once',\n",
              " 'here',\n",
              " 'there',\n",
              " 'when',\n",
              " 'where',\n",
              " 'why',\n",
              " 'how',\n",
              " 'all',\n",
              " 'any',\n",
              " 'both',\n",
              " 'each',\n",
              " 'few',\n",
              " 'more',\n",
              " 'most',\n",
              " 'other',\n",
              " 'some',\n",
              " 'such',\n",
              " 'no',\n",
              " 'nor',\n",
              " 'not',\n",
              " 'only',\n",
              " 'own',\n",
              " 'same',\n",
              " 'so',\n",
              " 'than',\n",
              " 'too',\n",
              " 'very',\n",
              " 's',\n",
              " 't',\n",
              " 'can',\n",
              " 'will',\n",
              " 'just',\n",
              " 'don',\n",
              " \"don't\",\n",
              " 'should',\n",
              " \"should've\",\n",
              " 'now',\n",
              " 'd',\n",
              " 'll',\n",
              " 'm',\n",
              " 'o',\n",
              " 're',\n",
              " 've',\n",
              " 'y',\n",
              " 'ain',\n",
              " 'aren',\n",
              " \"aren't\",\n",
              " 'couldn',\n",
              " \"couldn't\",\n",
              " 'didn',\n",
              " \"didn't\",\n",
              " 'doesn',\n",
              " \"doesn't\",\n",
              " 'hadn',\n",
              " \"hadn't\",\n",
              " 'hasn',\n",
              " \"hasn't\",\n",
              " 'haven',\n",
              " \"haven't\",\n",
              " 'isn',\n",
              " \"isn't\",\n",
              " 'ma',\n",
              " 'mightn',\n",
              " \"mightn't\",\n",
              " 'mustn',\n",
              " \"mustn't\",\n",
              " 'needn',\n",
              " \"needn't\",\n",
              " 'shan',\n",
              " \"shan't\",\n",
              " 'shouldn',\n",
              " \"shouldn't\",\n",
              " 'wasn',\n",
              " \"wasn't\",\n",
              " 'weren',\n",
              " \"weren't\",\n",
              " 'won',\n",
              " \"won't\",\n",
              " 'wouldn',\n",
              " \"wouldn't\",\n",
              " 'tsp',\n",
              " 'tbsp',\n",
              " 'finely',\n",
              " 'extra',\n",
              " 'chopped']"
            ]
          },
          "metadata": {},
          "execution_count": 19
        }
      ]
    },
    {
      "cell_type": "code",
      "source": [
        "data.head(1)"
      ],
      "metadata": {
        "colab": {
          "base_uri": "https://localhost:8080/",
          "height": 231
        },
        "id": "EZPEauWQSBbW",
        "outputId": "87a2d230-6b33-46fd-9921-60abcb12ea2b"
      },
      "execution_count": 21,
      "outputs": [
        {
          "output_type": "execute_result",
          "data": {
            "text/plain": [
              "            Name                                                url  \\\n",
              "0  Christmas pie  https://www.bbcgoodfood.com/recipes/2793/chris...   \n",
              "\n",
              "                                         Description        Author  \\\n",
              "0  Combine a few key Christmas flavours here to m...  Mary Cadogan   \n",
              "\n",
              "                                         Ingredients  \\\n",
              "0  ['2               ', '           ', '1      , ...   \n",
              "\n",
              "                                              Method  \n",
              "0  [Heat oven to 190C/fan 170C/gas 5. Heat 1 tbsp...  "
            ],
            "text/html": [
              "\n",
              "  <div id=\"df-cbb67628-7391-49f2-ab4d-bfdf6f248c07\">\n",
              "    <div class=\"colab-df-container\">\n",
              "      <div>\n",
              "<style scoped>\n",
              "    .dataframe tbody tr th:only-of-type {\n",
              "        vertical-align: middle;\n",
              "    }\n",
              "\n",
              "    .dataframe tbody tr th {\n",
              "        vertical-align: top;\n",
              "    }\n",
              "\n",
              "    .dataframe thead th {\n",
              "        text-align: right;\n",
              "    }\n",
              "</style>\n",
              "<table border=\"1\" class=\"dataframe\">\n",
              "  <thead>\n",
              "    <tr style=\"text-align: right;\">\n",
              "      <th></th>\n",
              "      <th>Name</th>\n",
              "      <th>url</th>\n",
              "      <th>Description</th>\n",
              "      <th>Author</th>\n",
              "      <th>Ingredients</th>\n",
              "      <th>Method</th>\n",
              "    </tr>\n",
              "  </thead>\n",
              "  <tbody>\n",
              "    <tr>\n",
              "      <th>0</th>\n",
              "      <td>Christmas pie</td>\n",
              "      <td>https://www.bbcgoodfood.com/recipes/2793/chris...</td>\n",
              "      <td>Combine a few key Christmas flavours here to m...</td>\n",
              "      <td>Mary Cadogan</td>\n",
              "      <td>['2               ', '           ', '1      , ...</td>\n",
              "      <td>[Heat oven to 190C/fan 170C/gas 5. Heat 1 tbsp...</td>\n",
              "    </tr>\n",
              "  </tbody>\n",
              "</table>\n",
              "</div>\n",
              "      <button class=\"colab-df-convert\" onclick=\"convertToInteractive('df-cbb67628-7391-49f2-ab4d-bfdf6f248c07')\"\n",
              "              title=\"Convert this dataframe to an interactive table.\"\n",
              "              style=\"display:none;\">\n",
              "        \n",
              "  <svg xmlns=\"http://www.w3.org/2000/svg\" height=\"24px\"viewBox=\"0 0 24 24\"\n",
              "       width=\"24px\">\n",
              "    <path d=\"M0 0h24v24H0V0z\" fill=\"none\"/>\n",
              "    <path d=\"M18.56 5.44l.94 2.06.94-2.06 2.06-.94-2.06-.94-.94-2.06-.94 2.06-2.06.94zm-11 1L8.5 8.5l.94-2.06 2.06-.94-2.06-.94L8.5 2.5l-.94 2.06-2.06.94zm10 10l.94 2.06.94-2.06 2.06-.94-2.06-.94-.94-2.06-.94 2.06-2.06.94z\"/><path d=\"M17.41 7.96l-1.37-1.37c-.4-.4-.92-.59-1.43-.59-.52 0-1.04.2-1.43.59L10.3 9.45l-7.72 7.72c-.78.78-.78 2.05 0 2.83L4 21.41c.39.39.9.59 1.41.59.51 0 1.02-.2 1.41-.59l7.78-7.78 2.81-2.81c.8-.78.8-2.07 0-2.86zM5.41 20L4 18.59l7.72-7.72 1.47 1.35L5.41 20z\"/>\n",
              "  </svg>\n",
              "      </button>\n",
              "      \n",
              "  <style>\n",
              "    .colab-df-container {\n",
              "      display:flex;\n",
              "      flex-wrap:wrap;\n",
              "      gap: 12px;\n",
              "    }\n",
              "\n",
              "    .colab-df-convert {\n",
              "      background-color: #E8F0FE;\n",
              "      border: none;\n",
              "      border-radius: 50%;\n",
              "      cursor: pointer;\n",
              "      display: none;\n",
              "      fill: #1967D2;\n",
              "      height: 32px;\n",
              "      padding: 0 0 0 0;\n",
              "      width: 32px;\n",
              "    }\n",
              "\n",
              "    .colab-df-convert:hover {\n",
              "      background-color: #E2EBFA;\n",
              "      box-shadow: 0px 1px 2px rgba(60, 64, 67, 0.3), 0px 1px 3px 1px rgba(60, 64, 67, 0.15);\n",
              "      fill: #174EA6;\n",
              "    }\n",
              "\n",
              "    [theme=dark] .colab-df-convert {\n",
              "      background-color: #3B4455;\n",
              "      fill: #D2E3FC;\n",
              "    }\n",
              "\n",
              "    [theme=dark] .colab-df-convert:hover {\n",
              "      background-color: #434B5C;\n",
              "      box-shadow: 0px 1px 3px 1px rgba(0, 0, 0, 0.15);\n",
              "      filter: drop-shadow(0px 1px 2px rgba(0, 0, 0, 0.3));\n",
              "      fill: #FFFFFF;\n",
              "    }\n",
              "  </style>\n",
              "\n",
              "      <script>\n",
              "        const buttonEl =\n",
              "          document.querySelector('#df-cbb67628-7391-49f2-ab4d-bfdf6f248c07 button.colab-df-convert');\n",
              "        buttonEl.style.display =\n",
              "          google.colab.kernel.accessAllowed ? 'block' : 'none';\n",
              "\n",
              "        async function convertToInteractive(key) {\n",
              "          const element = document.querySelector('#df-cbb67628-7391-49f2-ab4d-bfdf6f248c07');\n",
              "          const dataTable =\n",
              "            await google.colab.kernel.invokeFunction('convertToInteractive',\n",
              "                                                     [key], {});\n",
              "          if (!dataTable) return;\n",
              "\n",
              "          const docLinkHtml = 'Like what you see? Visit the ' +\n",
              "            '<a target=\"_blank\" href=https://colab.research.google.com/notebooks/data_table.ipynb>data table notebook</a>'\n",
              "            + ' to learn more about interactive tables.';\n",
              "          element.innerHTML = '';\n",
              "          dataTable['output_type'] = 'display_data';\n",
              "          await google.colab.output.renderOutput(dataTable, element);\n",
              "          const docLink = document.createElement('div');\n",
              "          docLink.innerHTML = docLinkHtml;\n",
              "          element.appendChild(docLink);\n",
              "        }\n",
              "      </script>\n",
              "    </div>\n",
              "  </div>\n",
              "  "
            ]
          },
          "metadata": {},
          "execution_count": 21
        }
      ]
    },
    {
      "cell_type": "markdown",
      "source": [],
      "metadata": {
        "id": "dq0MtPRyOb0A"
      }
    },
    {
      "cell_type": "code",
      "execution_count": 36,
      "metadata": {
        "id": "14rilj5uKVhY"
      },
      "outputs": [],
      "source": [
        "#task3-remove encoding\n",
        "def remove_encoding_word(word):\n",
        "  word=str(word)\n",
        "  word=word.encode('ASCII', 'Ignore').decode('ASCII')\n",
        "  return word"
      ]
    },
    {
      "cell_type": "code",
      "source": [
        "def remove_encoding_text(text):\n",
        "  text=str(text)\n",
        "  text= ' '.join(remove_encoding_word(word) for word in text.split() if word not in stop)\n",
        "  return text"
      ],
      "metadata": {
        "id": "CmXSUKQRam5M"
      },
      "execution_count": 43,
      "outputs": []
    },
    {
      "cell_type": "code",
      "execution_count": null,
      "metadata": {
        "id": "KyEmOrl-KVhY"
      },
      "outputs": [],
      "source": [
        "# task 4 - define lemmatizing\n",
        "data['Ingredients'] = data['Ingredients'].apply(remove_encoding_text)\n",
        "\n",
        "text= ' '.join(words for words in data['Ingredients'])\n",
        "len(text)\n"
      ]
    },
    {
      "cell_type": "code",
      "execution_count": 45,
      "metadata": {
        "id": "kom67rIvKVhZ"
      },
      "outputs": [],
      "source": [
        "lemma=WordNetLemmatizer().lemmatize"
      ]
    },
    {
      "cell_type": "code",
      "execution_count": null,
      "metadata": {
        "id": "LQoZrut8KVhZ"
      },
      "outputs": [],
      "source": [
        "lemma('leaves')"
      ]
    },
    {
      "cell_type": "code",
      "execution_count": 47,
      "metadata": {
        "colab": {
          "base_uri": "https://localhost:8080/",
          "height": 36
        },
        "id": "8frkR-CmKVhZ",
        "outputId": "ff720793-f592-46a3-8e83-dd2c3e9dceac"
      },
      "outputs": [
        {
          "output_type": "execute_result",
          "data": {
            "text/plain": [
              "'leaf'"
            ],
            "application/vnd.google.colaboratory.intrinsic+json": {
              "type": "string"
            }
          },
          "metadata": {},
          "execution_count": 47
        }
      ],
      "source": [
        "'leaf'"
      ]
    },
    {
      "cell_type": "code",
      "execution_count": 48,
      "metadata": {
        "id": "mfK1tLiQKVhZ"
      },
      "outputs": [],
      "source": [
        "# task 5 - fit and transform text, with or without lemmatizing\n",
        "def tokenize(document):\n",
        "  tokens=[lemma(w) for w in document.split() if len(w)>3 and w.isalpha()]\n",
        "  return tokens"
      ]
    },
    {
      "cell_type": "code",
      "execution_count": 55,
      "metadata": {
        "id": "51dn9Z94KVha"
      },
      "outputs": [],
      "source": [
        "vectorizer = TfidfVectorizer(tokenizer=tokenize, ngram_range=((2,2)),\n",
        "                            stop_words = stop, strip_accents = 'unicode')"
      ]
    },
    {
      "cell_type": "code",
      "execution_count": null,
      "metadata": {
        "id": "3YYdySKhKVha"
      },
      "outputs": [],
      "source": [
        "tdm= vectorizer.fit_transform(data['Ingredients'])"
      ]
    },
    {
      "cell_type": "code",
      "source": [
        "vectorizer.vocabulary_.items()"
      ],
      "metadata": {
        "id": "kofI_xVvnBNr"
      },
      "execution_count": null,
      "outputs": []
    },
    {
      "cell_type": "code",
      "execution_count": null,
      "metadata": {
        "id": "Hd3Aqqg8KVha"
      },
      "outputs": [],
      "source": [
        "# task 6 -  get word frequencies and create wordcloud\n",
        "tfidf_weights=[(word, tdm.getcol(idx).sum*()) for word, idx in vectorizer.vocabulary_.items()]"
      ]
    },
    {
      "cell_type": "code",
      "execution_count": null,
      "metadata": {
        "id": "8pdlsbqIKVha"
      },
      "outputs": [],
      "source": [
        "tfidf_weights[0:10]"
      ]
    },
    {
      "cell_type": "code",
      "execution_count": null,
      "metadata": {
        "id": "OvnXSpSgKVha"
      },
      "outputs": [],
      "source": [
        "w=WordCloud(width=1500, height=1200, mode='RGBA', background_color='white',\n",
        "            max_words=2000).fit_words(dict(tfidf_weights))"
      ]
    },
    {
      "cell_type": "code",
      "source": [
        "plt.figure(figsize=(20,15))\n",
        "plt.imshow(w)\n",
        "plt.axis('off')\n",
        "plt.savefig('recipes_wordcloud.png')"
      ],
      "metadata": {
        "id": "v6Jb4a1vrhol"
      },
      "execution_count": null,
      "outputs": []
    }
  ],
  "metadata": {
    "kernelspec": {
      "display_name": "Python 3",
      "language": "python",
      "name": "python3"
    },
    "language_info": {
      "codemirror_mode": {
        "name": "ipython",
        "version": 3
      },
      "file_extension": ".py",
      "mimetype": "text/x-python",
      "name": "python",
      "nbconvert_exporter": "python",
      "pygments_lexer": "ipython3",
      "version": "3.6.9"
    },
    "colab": {
      "provenance": [],
      "collapsed_sections": [],
      "include_colab_link": true
    }
  },
  "nbformat": 4,
  "nbformat_minor": 0
}